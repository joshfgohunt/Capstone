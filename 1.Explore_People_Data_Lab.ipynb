{
 "cells": [
  {
   "cell_type": "code",
   "execution_count": 1,
   "id": "9cf3251d-f614-4f61-b58b-d1415aea9736",
   "metadata": {},
   "outputs": [],
   "source": [
    "import pandas as pd"
   ]
  },
  {
   "cell_type": "code",
   "execution_count": 6,
   "id": "3e98547c-b5c2-495f-bb36-73f9aef6bd7d",
   "metadata": {},
   "outputs": [],
   "source": [
    "pb_df = pd.read_csv('Datasets/PeopleDataLabs/free_company_dataset.csv',usecols =[\"industry\"])"
   ]
  },
  {
   "cell_type": "code",
   "execution_count": 10,
   "id": "5f148ef8-5466-4dfb-9f3f-b54fa7e590d4",
   "metadata": {},
   "outputs": [],
   "source": [
    "global_industry_counts = pb_df.value_counts()"
   ]
  },
  {
   "cell_type": "code",
   "execution_count": 12,
   "id": "653a66d7-58ff-4349-95c8-bf1ea47f377a",
   "metadata": {},
   "outputs": [],
   "source": [
    "global_industry_counts.to_csv('global_industry_counts.csv')"
   ]
  }
 ],
 "metadata": {
  "kernelspec": {
   "display_name": "Python 3 (ipykernel)",
   "language": "python",
   "name": "python3"
  },
  "language_info": {
   "codemirror_mode": {
    "name": "ipython",
    "version": 3
   },
   "file_extension": ".py",
   "mimetype": "text/x-python",
   "name": "python",
   "nbconvert_exporter": "python",
   "pygments_lexer": "ipython3",
   "version": "3.9.7"
  }
 },
 "nbformat": 4,
 "nbformat_minor": 5
}
