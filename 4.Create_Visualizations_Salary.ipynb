{
 "cells": [
  {
   "cell_type": "code",
   "execution_count": 1,
   "id": "6c4a36e2-82da-4c37-b6b4-9505667d0f45",
   "metadata": {},
   "outputs": [],
   "source": [
    "import pandas as pd\n",
    "import matplotlib.pyplot as plt\n",
    "import seaborn as sns\n",
    "import numpy as np"
   ]
  },
  {
   "cell_type": "code",
   "execution_count": 2,
   "id": "ec4e3181-23b4-4332-a312-467bfeaed80f",
   "metadata": {},
   "outputs": [],
   "source": [
    "df1 = pd.read_csv('Final_Data/Baseline_Degree_payback_grouped_mean.csv')\n",
    "df2 = pd.read_csv('Final_Data/Full_Weighted_States.csv')\n",
    "df3 = pd.read_csv('Datasets/Education Salaries/MinimumWage.csv')\n",
    "df4 = pd.read_csv('Datasets/Education Salaries/salaries-by-region.csv')"
   ]
  },
  {
   "cell_type": "code",
   "execution_count": 3,
   "id": "3117f965-df46-4736-949c-234bb9b8d7d1",
   "metadata": {},
   "outputs": [],
   "source": [
    "df1 = df1.groupby('field').mean()"
   ]
  },
  {
   "cell_type": "code",
   "execution_count": 4,
   "id": "10cca851-e3a3-498e-a4ab-f9c0c14c2694",
   "metadata": {},
   "outputs": [
    {
     "data": {
      "text/html": [
       "<div>\n",
       "<style scoped>\n",
       "    .dataframe tbody tr th:only-of-type {\n",
       "        vertical-align: middle;\n",
       "    }\n",
       "\n",
       "    .dataframe tbody tr th {\n",
       "        vertical-align: top;\n",
       "    }\n",
       "\n",
       "    .dataframe thead th {\n",
       "        text-align: right;\n",
       "    }\n",
       "</style>\n",
       "<table border=\"1\" class=\"dataframe\">\n",
       "  <thead>\n",
       "    <tr style=\"text-align: right;\">\n",
       "      <th></th>\n",
       "      <th>Starting Median Salary</th>\n",
       "      <th>Mid-Career Median Salary</th>\n",
       "      <th>Percent change from Starting to Mid-Career Salary</th>\n",
       "    </tr>\n",
       "    <tr>\n",
       "      <th>field</th>\n",
       "      <th></th>\n",
       "      <th></th>\n",
       "      <th></th>\n",
       "    </tr>\n",
       "  </thead>\n",
       "  <tbody>\n",
       "    <tr>\n",
       "      <th>Architecture, Design</th>\n",
       "      <td>41775.000000</td>\n",
       "      <td>69675.000000</td>\n",
       "      <td>0.662500</td>\n",
       "    </tr>\n",
       "    <tr>\n",
       "      <th>Business, Admin, PR</th>\n",
       "      <td>43828.571429</td>\n",
       "      <td>80942.857143</td>\n",
       "      <td>0.847143</td>\n",
       "    </tr>\n",
       "    <tr>\n",
       "      <th>Consumer, Retail, Arts, Humanities</th>\n",
       "      <td>36420.000000</td>\n",
       "      <td>61030.000000</td>\n",
       "      <td>0.673300</td>\n",
       "    </tr>\n",
       "    <tr>\n",
       "      <th>Health, Education, Government, Civil</th>\n",
       "      <td>40740.000000</td>\n",
       "      <td>62820.000000</td>\n",
       "      <td>0.562800</td>\n",
       "    </tr>\n",
       "    <tr>\n",
       "      <th>Science, Technology, Engineering</th>\n",
       "      <td>48904.166667</td>\n",
       "      <td>82066.666667</td>\n",
       "      <td>0.687917</td>\n",
       "    </tr>\n",
       "  </tbody>\n",
       "</table>\n",
       "</div>"
      ],
      "text/plain": [
       "                                      Starting Median Salary  \\\n",
       "field                                                          \n",
       "Architecture, Design                            41775.000000   \n",
       "Business, Admin, PR                             43828.571429   \n",
       "Consumer, Retail, Arts, Humanities              36420.000000   \n",
       "Health, Education, Government, Civil            40740.000000   \n",
       "Science, Technology, Engineering                48904.166667   \n",
       "\n",
       "                                      Mid-Career Median Salary  \\\n",
       "field                                                            \n",
       "Architecture, Design                              69675.000000   \n",
       "Business, Admin, PR                               80942.857143   \n",
       "Consumer, Retail, Arts, Humanities                61030.000000   \n",
       "Health, Education, Government, Civil              62820.000000   \n",
       "Science, Technology, Engineering                  82066.666667   \n",
       "\n",
       "                                      Percent change from Starting to Mid-Career Salary  \n",
       "field                                                                                    \n",
       "Architecture, Design                                                           0.662500  \n",
       "Business, Admin, PR                                                            0.847143  \n",
       "Consumer, Retail, Arts, Humanities                                             0.673300  \n",
       "Health, Education, Government, Civil                                           0.562800  \n",
       "Science, Technology, Engineering                                               0.687917  "
      ]
     },
     "execution_count": 4,
     "metadata": {},
     "output_type": "execute_result"
    }
   ],
   "source": [
    "df1"
   ]
  },
  {
   "cell_type": "code",
   "execution_count": 5,
   "id": "7c10fda6-9ebf-4aff-bd17-c094aca084d2",
   "metadata": {},
   "outputs": [],
   "source": [
    "df2 = df2[['StateAbbreviation', 'State', 'Region', 'debt', 'Mean_Rental_Value',\n",
    "       'hs_degree', 'rent_gt_10', 'rent_gt_50', 'Top_10_Mean_Pop', 'hi_mean']]"
   ]
  },
  {
   "cell_type": "code",
   "execution_count": 6,
   "id": "639f86e8-22f6-411d-8855-7ba265d95d29",
   "metadata": {},
   "outputs": [
    {
     "data": {
      "text/html": [
       "<div>\n",
       "<style scoped>\n",
       "    .dataframe tbody tr th:only-of-type {\n",
       "        vertical-align: middle;\n",
       "    }\n",
       "\n",
       "    .dataframe tbody tr th {\n",
       "        vertical-align: top;\n",
       "    }\n",
       "\n",
       "    .dataframe thead th {\n",
       "        text-align: right;\n",
       "    }\n",
       "</style>\n",
       "<table border=\"1\" class=\"dataframe\">\n",
       "  <thead>\n",
       "    <tr style=\"text-align: right;\">\n",
       "      <th></th>\n",
       "      <th>Year</th>\n",
       "      <th>FederalMinimumWage</th>\n",
       "      <th>MeanAnnualInflation</th>\n",
       "      <th>MinWageIndexedLastRaiseYear</th>\n",
       "      <th>UnemploymentRateDecember</th>\n",
       "      <th>GDP_AnnualGrowth</th>\n",
       "    </tr>\n",
       "  </thead>\n",
       "  <tbody>\n",
       "    <tr>\n",
       "      <th>88</th>\n",
       "      <td>2018</td>\n",
       "      <td>7.25</td>\n",
       "      <td>0.02</td>\n",
       "      <td>6.17</td>\n",
       "      <td>0.04</td>\n",
       "      <td>0.03</td>\n",
       "    </tr>\n",
       "    <tr>\n",
       "      <th>89</th>\n",
       "      <td>2019</td>\n",
       "      <td>7.25</td>\n",
       "      <td>0.02</td>\n",
       "      <td>6.06</td>\n",
       "      <td>0.04</td>\n",
       "      <td>0.02</td>\n",
       "    </tr>\n",
       "    <tr>\n",
       "      <th>90</th>\n",
       "      <td>2020</td>\n",
       "      <td>7.25</td>\n",
       "      <td>0.01</td>\n",
       "      <td>5.99</td>\n",
       "      <td>0.07</td>\n",
       "      <td>-0.03</td>\n",
       "    </tr>\n",
       "  </tbody>\n",
       "</table>\n",
       "</div>"
      ],
      "text/plain": [
       "    Year  FederalMinimumWage  MeanAnnualInflation  \\\n",
       "88  2018                7.25                 0.02   \n",
       "89  2019                7.25                 0.02   \n",
       "90  2020                7.25                 0.01   \n",
       "\n",
       "    MinWageIndexedLastRaiseYear  UnemploymentRateDecember  GDP_AnnualGrowth  \n",
       "88                         6.17                      0.04              0.03  \n",
       "89                         6.06                      0.04              0.02  \n",
       "90                         5.99                      0.07             -0.03  "
      ]
     },
     "execution_count": 6,
     "metadata": {},
     "output_type": "execute_result"
    }
   ],
   "source": [
    "\n",
    "df3.tail(3)"
   ]
  },
  {
   "cell_type": "code",
   "execution_count": 7,
   "id": "1643e83d-6ba5-4f10-b39d-f0ab5d4be15f",
   "metadata": {},
   "outputs": [
    {
     "data": {
      "text/html": [
       "<div>\n",
       "<style scoped>\n",
       "    .dataframe tbody tr th:only-of-type {\n",
       "        vertical-align: middle;\n",
       "    }\n",
       "\n",
       "    .dataframe tbody tr th {\n",
       "        vertical-align: top;\n",
       "    }\n",
       "\n",
       "    .dataframe thead th {\n",
       "        text-align: right;\n",
       "    }\n",
       "</style>\n",
       "<table border=\"1\" class=\"dataframe\">\n",
       "  <thead>\n",
       "    <tr style=\"text-align: right;\">\n",
       "      <th></th>\n",
       "      <th>School Name</th>\n",
       "      <th>Region</th>\n",
       "      <th>Starting Median Salary</th>\n",
       "      <th>Mid-Career Median Salary</th>\n",
       "      <th>Mid-Career 10th Percentile Salary</th>\n",
       "      <th>Mid-Career 25th Percentile Salary</th>\n",
       "      <th>Mid-Career 75th Percentile Salary</th>\n",
       "      <th>Mid-Career 90th Percentile Salary</th>\n",
       "    </tr>\n",
       "  </thead>\n",
       "  <tbody>\n",
       "    <tr>\n",
       "      <th>0</th>\n",
       "      <td>Stanford University</td>\n",
       "      <td>California</td>\n",
       "      <td>70400.0</td>\n",
       "      <td>129000.0</td>\n",
       "      <td>68400.0</td>\n",
       "      <td>93100.0</td>\n",
       "      <td>184000.0</td>\n",
       "      <td>257000.0</td>\n",
       "    </tr>\n",
       "    <tr>\n",
       "      <th>1</th>\n",
       "      <td>California Institute of Technology (CIT)</td>\n",
       "      <td>California</td>\n",
       "      <td>75500.0</td>\n",
       "      <td>123000.0</td>\n",
       "      <td>NaN</td>\n",
       "      <td>104000.0</td>\n",
       "      <td>161000.0</td>\n",
       "      <td>NaN</td>\n",
       "    </tr>\n",
       "    <tr>\n",
       "      <th>2</th>\n",
       "      <td>Harvey Mudd College</td>\n",
       "      <td>California</td>\n",
       "      <td>71800.0</td>\n",
       "      <td>122000.0</td>\n",
       "      <td>NaN</td>\n",
       "      <td>96000.0</td>\n",
       "      <td>180000.0</td>\n",
       "      <td>NaN</td>\n",
       "    </tr>\n",
       "  </tbody>\n",
       "</table>\n",
       "</div>"
      ],
      "text/plain": [
       "                                School Name      Region  \\\n",
       "0                       Stanford University  California   \n",
       "1  California Institute of Technology (CIT)  California   \n",
       "2                       Harvey Mudd College  California   \n",
       "\n",
       "   Starting Median Salary  Mid-Career Median Salary  \\\n",
       "0                 70400.0                  129000.0   \n",
       "1                 75500.0                  123000.0   \n",
       "2                 71800.0                  122000.0   \n",
       "\n",
       "   Mid-Career 10th Percentile Salary  Mid-Career 25th Percentile Salary  \\\n",
       "0                            68400.0                            93100.0   \n",
       "1                                NaN                           104000.0   \n",
       "2                                NaN                            96000.0   \n",
       "\n",
       "   Mid-Career 75th Percentile Salary  Mid-Career 90th Percentile Salary  \n",
       "0                           184000.0                           257000.0  \n",
       "1                           161000.0                                NaN  \n",
       "2                           180000.0                                NaN  "
      ]
     },
     "execution_count": 7,
     "metadata": {},
     "output_type": "execute_result"
    }
   ],
   "source": [
    "df4.head(3)"
   ]
  },
  {
   "cell_type": "code",
   "execution_count": 8,
   "id": "df59bbb7-efaf-4bbe-a0c6-9e91520586d3",
   "metadata": {},
   "outputs": [],
   "source": [
    "df4 = df4[['Region', 'Starting Median Salary', 'Mid-Career Median Salary']]\n",
    "df4 = df4.groupby('Region').mean()"
   ]
  },
  {
   "cell_type": "code",
   "execution_count": 9,
   "id": "f8d57a7b-48de-4e54-b273-0027cd0d3002",
   "metadata": {},
   "outputs": [
    {
     "data": {
      "text/html": [
       "<div>\n",
       "<style scoped>\n",
       "    .dataframe tbody tr th:only-of-type {\n",
       "        vertical-align: middle;\n",
       "    }\n",
       "\n",
       "    .dataframe tbody tr th {\n",
       "        vertical-align: top;\n",
       "    }\n",
       "\n",
       "    .dataframe thead th {\n",
       "        text-align: right;\n",
       "    }\n",
       "</style>\n",
       "<table border=\"1\" class=\"dataframe\">\n",
       "  <thead>\n",
       "    <tr style=\"text-align: right;\">\n",
       "      <th></th>\n",
       "      <th>Starting Median Salary</th>\n",
       "      <th>Mid-Career Median Salary</th>\n",
       "    </tr>\n",
       "    <tr>\n",
       "      <th>Region</th>\n",
       "      <th></th>\n",
       "      <th></th>\n",
       "    </tr>\n",
       "  </thead>\n",
       "  <tbody>\n",
       "    <tr>\n",
       "      <th>California</th>\n",
       "      <td>51032.142857</td>\n",
       "      <td>93132.142857</td>\n",
       "    </tr>\n",
       "    <tr>\n",
       "      <th>Midwestern</th>\n",
       "      <td>44225.352113</td>\n",
       "      <td>78180.281690</td>\n",
       "    </tr>\n",
       "    <tr>\n",
       "      <th>Northeastern</th>\n",
       "      <td>48496.000000</td>\n",
       "      <td>91352.000000</td>\n",
       "    </tr>\n",
       "    <tr>\n",
       "      <th>Southern</th>\n",
       "      <td>44521.518987</td>\n",
       "      <td>79505.063291</td>\n",
       "    </tr>\n",
       "    <tr>\n",
       "      <th>Western</th>\n",
       "      <td>44414.285714</td>\n",
       "      <td>78200.000000</td>\n",
       "    </tr>\n",
       "  </tbody>\n",
       "</table>\n",
       "</div>"
      ],
      "text/plain": [
       "              Starting Median Salary  Mid-Career Median Salary\n",
       "Region                                                        \n",
       "California              51032.142857              93132.142857\n",
       "Midwestern              44225.352113              78180.281690\n",
       "Northeastern            48496.000000              91352.000000\n",
       "Southern                44521.518987              79505.063291\n",
       "Western                 44414.285714              78200.000000"
      ]
     },
     "execution_count": 9,
     "metadata": {},
     "output_type": "execute_result"
    }
   ],
   "source": [
    "df4"
   ]
  },
  {
   "cell_type": "markdown",
   "id": "3417fadd-9044-4682-8761-9e42aeae981e",
   "metadata": {},
   "source": [
    "#### Phase 2"
   ]
  },
  {
   "cell_type": "code",
   "execution_count": 10,
   "id": "c917fc4e-d7eb-48e3-8051-92caaaaf7b94",
   "metadata": {},
   "outputs": [],
   "source": [
    "minwage = 7.25\n",
    "fulltime_annual = 2080 * minwage"
   ]
  },
  {
   "cell_type": "code",
   "execution_count": 11,
   "id": "4a45c9b0-c407-4543-9197-c10231fa7f7a",
   "metadata": {},
   "outputs": [
    {
     "data": {
      "text/plain": [
       "15080.0"
      ]
     },
     "execution_count": 11,
     "metadata": {},
     "output_type": "execute_result"
    }
   ],
   "source": [
    "fulltime_annual"
   ]
  },
  {
   "cell_type": "code",
   "execution_count": 12,
   "id": "6d31d999-6ec9-484c-9df0-ec4a6a496ac6",
   "metadata": {},
   "outputs": [],
   "source": [
    "df = df4"
   ]
  },
  {
   "cell_type": "code",
   "execution_count": 13,
   "id": "73632709-c1ba-40cf-b04e-ff3bac30ee4d",
   "metadata": {},
   "outputs": [],
   "source": [
    "df['start_over_min_w'] = df['Starting Median Salary'] / fulltime_annual\n",
    "df['mid_over_min_w'] = df['Mid-Career Median Salary'] / fulltime_annual"
   ]
  },
  {
   "cell_type": "code",
   "execution_count": 14,
   "id": "3b81b70c-d818-4397-9c09-bd03cf31f54c",
   "metadata": {},
   "outputs": [
    {
     "data": {
      "text/plain": [
       "Index(['Starting Median Salary', 'Mid-Career Median Salary',\n",
       "       'start_over_min_w', 'mid_over_min_w'],\n",
       "      dtype='object')"
      ]
     },
     "execution_count": 14,
     "metadata": {},
     "output_type": "execute_result"
    }
   ],
   "source": [
    "df.columns"
   ]
  },
  {
   "cell_type": "code",
   "execution_count": 15,
   "id": "44c03089-504f-4f87-a316-80ad00b66131",
   "metadata": {},
   "outputs": [],
   "source": [
    "# df.to_csv('Final_Data/Regional_starting_salaries.csv')"
   ]
  },
  {
   "cell_type": "code",
   "execution_count": 16,
   "id": "bafe966c-b755-42d3-aa1f-de5da06f4225",
   "metadata": {},
   "outputs": [
    {
     "data": {
      "image/png": "[encoded data removed]",
      "text/plain": [
       "<Figure size 1332x756 with 1 Axes>"
      ]
     },
     "metadata": {
      "needs_background": "light"
     },
     "output_type": "display_data"
    }
   ],
   "source": [
    "#Create\n",
    "fig, ax = plt.subplots()\n",
    "#Data\n",
    "x1 = df.index\n",
    "y1 =df['start_over_min_w'] \n",
    "#Appearance\n",
    "\n",
    "ax.bar(x1, y1,label='Regions')\n",
    "ax.set_title(\"USA Regional Income over minimum wage (multiplier)\")  # Add a title to the axes.\n",
    "fig.set_size_inches(18.5, 10.5)\n",
    "plt.xticks(rotation=45)\n",
    "plt.show()"
   ]
  },
  {
   "cell_type": "code",
   "execution_count": 17,
   "id": "2a66ad4e-cc3a-4661-8942-2b1d1dab546d",
   "metadata": {},
   "outputs": [],
   "source": [
    "df = df1"
   ]
  },
  {
   "cell_type": "code",
   "execution_count": 18,
   "id": "219409f7-aa6e-4951-8e9f-c68a1bd6f231",
   "metadata": {},
   "outputs": [],
   "source": [
    "df['start_over_min_w'] = df['Starting Median Salary'] / fulltime_annual\n",
    "df['mid_over_min_w'] = df['Mid-Career Median Salary'] / fulltime_annual\n",
    "# df.to_csv('Final_Data/field_starting_salaries.csv')"
   ]
  },
  {
   "cell_type": "code",
   "execution_count": 20,
   "id": "eecc4224-42fb-4d5f-b979-e76b6c93c064",
   "metadata": {},
   "outputs": [
    {
     "data": {
      "text/html": [
       "<div>\n",
       "<style scoped>\n",
       "    .dataframe tbody tr th:only-of-type {\n",
       "        vertical-align: middle;\n",
       "    }\n",
       "\n",
       "    .dataframe tbody tr th {\n",
       "        vertical-align: top;\n",
       "    }\n",
       "\n",
       "    .dataframe thead th {\n",
       "        text-align: right;\n",
       "    }\n",
       "</style>\n",
       "<table border=\"1\" class=\"dataframe\">\n",
       "  <thead>\n",
       "    <tr style=\"text-align: right;\">\n",
       "      <th></th>\n",
       "      <th>Starting Median Salary</th>\n",
       "      <th>Mid-Career Median Salary</th>\n",
       "      <th>Percent change from Starting to Mid-Career Salary</th>\n",
       "      <th>start_over_min_w</th>\n",
       "      <th>mid_over_min_w</th>\n",
       "    </tr>\n",
       "    <tr>\n",
       "      <th>field</th>\n",
       "      <th></th>\n",
       "      <th></th>\n",
       "      <th></th>\n",
       "      <th></th>\n",
       "      <th></th>\n",
       "    </tr>\n",
       "  </thead>\n",
       "  <tbody>\n",
       "    <tr>\n",
       "      <th>Architecture, Design</th>\n",
       "      <td>41775.000000</td>\n",
       "      <td>69675.000000</td>\n",
       "      <td>0.662500</td>\n",
       "      <td>2.770225</td>\n",
       "      <td>4.620358</td>\n",
       "    </tr>\n",
       "    <tr>\n",
       "      <th>Business, Admin, PR</th>\n",
       "      <td>43828.571429</td>\n",
       "      <td>80942.857143</td>\n",
       "      <td>0.847143</td>\n",
       "      <td>2.906404</td>\n",
       "      <td>5.367563</td>\n",
       "    </tr>\n",
       "    <tr>\n",
       "      <th>Consumer, Retail, Arts, Humanities</th>\n",
       "      <td>36420.000000</td>\n",
       "      <td>61030.000000</td>\n",
       "      <td>0.673300</td>\n",
       "      <td>2.415119</td>\n",
       "      <td>4.047082</td>\n",
       "    </tr>\n",
       "    <tr>\n",
       "      <th>Health, Education, Government, Civil</th>\n",
       "      <td>40740.000000</td>\n",
       "      <td>62820.000000</td>\n",
       "      <td>0.562800</td>\n",
       "      <td>2.701592</td>\n",
       "      <td>4.165782</td>\n",
       "    </tr>\n",
       "    <tr>\n",
       "      <th>Science, Technology, Engineering</th>\n",
       "      <td>48904.166667</td>\n",
       "      <td>82066.666667</td>\n",
       "      <td>0.687917</td>\n",
       "      <td>3.242982</td>\n",
       "      <td>5.442087</td>\n",
       "    </tr>\n",
       "  </tbody>\n",
       "</table>\n",
       "</div>"
      ],
      "text/plain": [
       "                                      Starting Median Salary  \\\n",
       "field                                                          \n",
       "Architecture, Design                            41775.000000   \n",
       "Business, Admin, PR                             43828.571429   \n",
       "Consumer, Retail, Arts, Humanities              36420.000000   \n",
       "Health, Education, Government, Civil            40740.000000   \n",
       "Science, Technology, Engineering                48904.166667   \n",
       "\n",
       "                                      Mid-Career Median Salary  \\\n",
       "field                                                            \n",
       "Architecture, Design                              69675.000000   \n",
       "Business, Admin, PR                               80942.857143   \n",
       "Consumer, Retail, Arts, Humanities                61030.000000   \n",
       "Health, Education, Government, Civil              62820.000000   \n",
       "Science, Technology, Engineering                  82066.666667   \n",
       "\n",
       "                                      Percent change from Starting to Mid-Career Salary  \\\n",
       "field                                                                                     \n",
       "Architecture, Design                                                           0.662500   \n",
       "Business, Admin, PR                                                            0.847143   \n",
       "Consumer, Retail, Arts, Humanities                                             0.673300   \n",
       "Health, Education, Government, Civil                                           0.562800   \n",
       "Science, Technology, Engineering                                               0.687917   \n",
       "\n",
       "                                      start_over_min_w  mid_over_min_w  \n",
       "field                                                                   \n",
       "Architecture, Design                          2.770225        4.620358  \n",
       "Business, Admin, PR                           2.906404        5.367563  \n",
       "Consumer, Retail, Arts, Humanities            2.415119        4.047082  \n",
       "Health, Education, Government, Civil          2.701592        4.165782  \n",
       "Science, Technology, Engineering              3.242982        5.442087  "
      ]
     },
     "execution_count": 20,
     "metadata": {},
     "output_type": "execute_result"
    }
   ],
   "source": [
    "df"
   ]
  },
  {
   "cell_type": "code",
   "execution_count": 19,
   "id": "d3832642-3214-4eb5-a7f3-3741794f812a",
   "metadata": {},
   "outputs": [
    {
     "data": {
      "image/png": "[encoded data removed]",
      "text/plain": [
       "<Figure size 1332x756 with 1 Axes>"
      ]
     },
     "metadata": {
      "needs_background": "light"
     },
     "output_type": "display_data"
    }
   ],
   "source": [
    "#Create\n",
    "fig, ax = plt.subplots()\n",
    "#Data\n",
    "x1 = df.index\n",
    "y1 =df['start_over_min_w'] \n",
    "#Appearance\n",
    "\n",
    "ax.bar(x1, y1,label='Fields')\n",
    "ax.set_title(\"USA Field Income over minimum wage (multiplier)\")  # Add a title to the axes.\n",
    "fig.set_size_inches(18.5, 10.5)\n",
    "plt.xticks(rotation=45)\n",
    "plt.show()"
   ]
  }
 ],
 "metadata": {
  "kernelspec": {
   "display_name": "Python 3 (ipykernel)",
   "language": "python",
   "name": "python3"
  },
  "language_info": {
   "codemirror_mode": {
    "name": "ipython",
    "version": 3
   },
   "file_extension": ".py",
   "mimetype": "text/x-python",
   "name": "python",
   "nbconvert_exporter": "python",
   "pygments_lexer": "ipython3",
   "version": "3.9.7"
  }
 },
 "nbformat": 4,
 "nbformat_minor": 5
}
