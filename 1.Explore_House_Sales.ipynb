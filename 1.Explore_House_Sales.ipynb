{
 "cells": [
  {
   "cell_type": "code",
   "execution_count": 1,
   "id": "100de175-1615-4c95-875a-5d9d7a479933",
   "metadata": {},
   "outputs": [],
   "source": [
    "import pandas as pd\n",
    "\n",
    "import Clean_data as cld\n",
    "import Transform_Data as tfd\n",
    "import Visualize_Data as vld"
   ]
  },
  {
   "cell_type": "code",
   "execution_count": 2,
   "id": "1dd57eba-6d4f-411b-a1d2-61aee85be3dd",
   "metadata": {},
   "outputs": [],
   "source": [
    "city_sales_price = cld.get_city_sales_price()\n",
    "state_sales_price = cld.get_state_sales_price()\n",
    "city_days = cld.get_city_days()\n",
    "state_days = cld.get_state_days()"
   ]
  },
  {
   "cell_type": "code",
   "execution_count": 3,
   "id": "df18d856-eaec-46d9-956b-2ae191cb2b71",
   "metadata": {},
   "outputs": [],
   "source": [
    "# city_sales_price.to_csv('Datasets/House Price/City_Sales_Price_Cleaned.csv',index=False)\n",
    "# state_sales_price.to_csv('Datasets/House Price/State_Sales_Price_Cleaned.csv',index=False)\n",
    "# city_days.to_csv('Datasets/House Price/City_Days_Cleaned.csv',index=False)\n",
    "# state_days.to_csv('Datasets/House Price/State_Days_Cleaned.csv',index=False)"
   ]
  },
  {
   "cell_type": "code",
   "execution_count": 4,
   "id": "c04d20f2-6bea-44ae-94be-0c8de8df3f5c",
   "metadata": {},
   "outputs": [
    {
     "data": {
      "text/plain": [
       "California    4065\n",
       "Florida       2591\n",
       "Texas         1602\n",
       "New Jersey    1449\n",
       "Illinois      1313\n",
       "Name: State, dtype: int64"
      ]
     },
     "execution_count": 4,
     "metadata": {},
     "output_type": "execute_result"
    }
   ],
   "source": [
    "city_sales_price['State'].value_counts().head(5)"
   ]
  },
  {
   "cell_type": "code",
   "execution_count": 5,
   "id": "5fbe54f5-f631-4301-82f7-4253084f0104",
   "metadata": {},
   "outputs": [
    {
     "data": {
      "text/plain": [
       "CA    1433\n",
       "FL    1319\n",
       "TX     814\n",
       "MI     557\n",
       "NJ     466\n",
       "Name: State, dtype: int64"
      ]
     },
     "execution_count": 5,
     "metadata": {},
     "output_type": "execute_result"
    }
   ],
   "source": [
    "city_days['State'].value_counts().head(5)"
   ]
  },
  {
   "cell_type": "markdown",
   "id": "393bcf9d-eb0d-47d9-9771-6977d1f1e6cb",
   "metadata": {},
   "source": [
    "The bulk of my data is centered around the predominantly 'top-tier' locations, like California."
   ]
  },
  {
   "cell_type": "code",
   "execution_count": 6,
   "id": "25cedde0-f53b-4d24-91ff-8df94de1891b",
   "metadata": {},
   "outputs": [],
   "source": [
    "city_days_mean = city_days.groupby('State')['value'].mean().sort_values(ascending = False)"
   ]
  },
  {
   "cell_type": "code",
   "execution_count": 7,
   "id": "388d4a8b-fa5a-4939-9e11-4dba207e3b20",
   "metadata": {},
   "outputs": [],
   "source": [
    "city_sales_price_mean = city_sales_price.groupby('State')['value'].mean().sort_values(ascending = False)"
   ]
  },
  {
   "cell_type": "code",
   "execution_count": 8,
   "id": "63abffc8-e007-4b2c-a554-544f5e267c38",
   "metadata": {},
   "outputs": [
    {
     "data": {
      "text/plain": [
       "State\n",
       "NY    145.800860\n",
       "NJ    132.361588\n",
       "AK    121.911765\n",
       "IL    121.540943\n",
       "CT    120.500000\n",
       "ND    115.466667\n",
       "MD    114.979885\n",
       "NM    114.011364\n",
       "AL    113.348039\n",
       "SC    112.756410\n",
       "Name: value, dtype: float64"
      ]
     },
     "execution_count": 8,
     "metadata": {},
     "output_type": "execute_result"
    }
   ],
   "source": [
    "city_days_mean.head(10)"
   ]
  },
  {
   "cell_type": "code",
   "execution_count": 9,
   "id": "215eb118-36f7-49c8-96db-72f0bb9125b0",
   "metadata": {},
   "outputs": [
    {
     "data": {
      "text/plain": [
       "State\n",
       "California              474234.612546\n",
       "District of Columbia    462416.666667\n",
       "Hawaii                  458380.124224\n",
       "Massachusetts           356969.288703\n",
       "New York                331113.535912\n",
       "New Jersey              326177.225673\n",
       "Washington              319728.265107\n",
       "Virginia                303728.233971\n",
       "Colorado                302351.750973\n",
       "Rhode Island            296996.000000\n",
       "Name: value, dtype: float64"
      ]
     },
     "execution_count": 9,
     "metadata": {},
     "output_type": "execute_result"
    }
   ],
   "source": [
    "city_sales_price_mean.head(10)"
   ]
  },
  {
   "cell_type": "markdown",
   "id": "d89e1f90-12c6-4498-9380-69cb250f640b",
   "metadata": {},
   "source": [
    "California, despite ranking highest for cost per home, is not top tier for days to sell.\n",
    "\n",
    "I will create a list with a score based on value divided by days on market in order to rate how high-priority the area is."
   ]
  },
  {
   "cell_type": "code",
   "execution_count": 10,
   "id": "a9985091-3974-46d4-86f3-066655077018",
   "metadata": {},
   "outputs": [],
   "source": [
    "def convert_to_full(df):\n",
    "    df['State'] = df['State'].str.replace('NY', 'New York')\n",
    "    df['State'] = df['State'].str.replace('NJ', 'New Jersey')\n",
    "    df['State'] = df['State'].str.replace('AK', 'Arkansas')\n",
    "    df['State'] = df['State'].str.replace('IL', 'Illinois')\n",
    "    df['State'] = df['State'].str.replace('CT', 'Connecticut')\n",
    "    df['State'] = df['State'].str.replace('ND', 'North Dakota')\n",
    "    df['State'] = df['State'].str.replace('MD', 'Maryland')\n",
    "    df['State'] = df['State'].str.replace('NM', 'New Mexico')\n",
    "    df['State'] = df['State'].str.replace('AL', 'Alabama')\n",
    "    df['State'] = df['State'].str.replace('SC', 'South Carolina')\n",
    "    df['State'] = df['State'].str.replace('LA', 'Louisiana')\n",
    "    df['State'] = df['State'].str.replace('DE', 'Delaware')\n",
    "    df['State'] = df['State'].str.replace('PA', 'Pennsylvania')\n",
    "    df['State'] = df['State'].str.replace('NC', 'North Carolina')\n",
    "    df['State'] = df['State'].str.replace('FL', 'Florida')\n",
    "    df['State'] = df['State'].str.replace('MS', 'Mississippi')\n",
    "    df['State'] = df['State'].str.replace('IA', 'Iowa')\n",
    "    df['State'] = df['State'].str.replace('MT', 'Montana')\n",
    "    df['State'] = df['State'].str.replace('VA', 'Virginia')\n",
    "    df['State'] = df['State'].str.replace('MI', 'Michigan')\n",
    "    df['State'] = df['State'].str.replace('OK', 'Oklahoma')\n",
    "    df['State'] = df['State'].str.replace('GA', 'Georgia')\n",
    "    df['State'] = df['State'].str.replace('RI', 'Rhode Island')\n",
    "    df['State'] = df['State'].str.replace('OR', 'Oregon')\n",
    "    df['State'] = df['State'].str.replace('MN', 'Minnesota')\n",
    "    df['State'] = df['State'].str.replace('TN', 'Tennessee')\n",
    "    df['State'] = df['State'].str.replace('NV', 'Nevada')\n",
    "    df['State'] = df['State'].str.replace('AR', 'Arkansas')\n",
    "    df['State'] = df['State'].str.replace('WI', 'Wisconsin')\n",
    "    df['State'] = df['State'].str.replace('NE', 'Nebraska')\n",
    "    df['State'] = df['State'].str.replace('OH', 'Ohio')\n",
    "    df['State'] = df['State'].str.replace('KY', 'Kentucky')\n",
    "    df['State'] = df['State'].str.replace('DC', 'District of Colombia')\n",
    "    df['State'] = df['State'].str.replace('ID', 'Idaho')\n",
    "    df['State'] = df['State'].str.replace('TX', 'Texas')\n",
    "    df['State'] = df['State'].str.replace('IN', 'Indiana')\n",
    "    df['State'] = df['State'].str.replace('MA', 'Massachusetts')\n",
    "    df['State'] = df['State'].str.replace('HI', 'Hawaii')\n",
    "    df['State'] = df['State'].str.replace('MO', 'Missouri')\n",
    "    df['State'] = df['State'].str.replace('WV', 'West Virginia')\n",
    "    df['State'] = df['State'].str.replace('WA', 'Washington')\n",
    "    df['State'] = df['State'].str.replace('KS', 'Kansas')\n",
    "    df['State'] = df['State'].str.replace('SD', 'South Dakota')\n",
    "    df['State'] = df['State'].str.replace('NH', 'New Hampshire')\n",
    "    df['State'] = df['State'].str.replace('AZ', 'Arizona')\n",
    "    df['State'] = df['State'].str.replace('ME', 'Maine')\n",
    "    df['State'] = df['State'].str.replace('CA', 'California')\n",
    "    df['State'] = df['State'].str.replace('WY', 'Wyoming')\n",
    "    df['State'] = df['State'].str.replace('CO', 'Colorado')\n",
    "    df['State'] = df['State'].str.replace('VT', 'Vermont')\n",
    "    df['State'] = df['State'].str.replace('UT', 'Utah')\n",
    "    return df"
   ]
  },
  {
   "cell_type": "code",
   "execution_count": 11,
   "id": "611282a4-378d-44bf-8908-688fe9d5a720",
   "metadata": {},
   "outputs": [],
   "source": [
    "state_days = convert_to_full(state_days)"
   ]
  },
  {
   "cell_type": "code",
   "execution_count": 12,
   "id": "ebfc0c2a-c33d-41fc-b7ea-6c6fb69401c8",
   "metadata": {},
   "outputs": [],
   "source": [
    "comparison = state_days.merge(state_sales_price,on=['State','Year'], how='outer')"
   ]
  },
  {
   "cell_type": "code",
   "execution_count": 13,
   "id": "0c1ebde9-e8a6-412c-abc4-36b6e3337374",
   "metadata": {},
   "outputs": [
    {
     "data": {
      "text/html": [
       "<div>\n",
       "<style scoped>\n",
       "    .dataframe tbody tr th:only-of-type {\n",
       "        vertical-align: middle;\n",
       "    }\n",
       "\n",
       "    .dataframe tbody tr th {\n",
       "        vertical-align: top;\n",
       "    }\n",
       "\n",
       "    .dataframe thead th {\n",
       "        text-align: right;\n",
       "    }\n",
       "</style>\n",
       "<table border=\"1\" class=\"dataframe\">\n",
       "  <thead>\n",
       "    <tr style=\"text-align: right;\">\n",
       "      <th></th>\n",
       "      <th>State</th>\n",
       "      <th>Year</th>\n",
       "      <th>value_x</th>\n",
       "      <th>value_y</th>\n",
       "    </tr>\n",
       "  </thead>\n",
       "  <tbody>\n",
       "    <tr>\n",
       "      <th>0</th>\n",
       "      <td>California</td>\n",
       "      <td>2010</td>\n",
       "      <td>108.0</td>\n",
       "      <td>265600.0</td>\n",
       "    </tr>\n",
       "    <tr>\n",
       "      <th>1</th>\n",
       "      <td>Texas</td>\n",
       "      <td>2010</td>\n",
       "      <td>121.0</td>\n",
       "      <td>139900.0</td>\n",
       "    </tr>\n",
       "    <tr>\n",
       "      <th>2</th>\n",
       "      <td>New York</td>\n",
       "      <td>2010</td>\n",
       "      <td>188.0</td>\n",
       "      <td>NaN</td>\n",
       "    </tr>\n",
       "    <tr>\n",
       "      <th>3</th>\n",
       "      <td>Florida</td>\n",
       "      <td>2010</td>\n",
       "      <td>161.0</td>\n",
       "      <td>128800.0</td>\n",
       "    </tr>\n",
       "    <tr>\n",
       "      <th>4</th>\n",
       "      <td>Illinois</td>\n",
       "      <td>2010</td>\n",
       "      <td>174.0</td>\n",
       "      <td>161900.0</td>\n",
       "    </tr>\n",
       "    <tr>\n",
       "      <th>...</th>\n",
       "      <td>...</td>\n",
       "      <td>...</td>\n",
       "      <td>...</td>\n",
       "      <td>...</td>\n",
       "    </tr>\n",
       "    <tr>\n",
       "      <th>602</th>\n",
       "      <td>South Dakota</td>\n",
       "      <td>2009</td>\n",
       "      <td>NaN</td>\n",
       "      <td>125100.0</td>\n",
       "    </tr>\n",
       "    <tr>\n",
       "      <th>603</th>\n",
       "      <td>District of Columbia</td>\n",
       "      <td>2009</td>\n",
       "      <td>NaN</td>\n",
       "      <td>356600.0</td>\n",
       "    </tr>\n",
       "    <tr>\n",
       "      <th>604</th>\n",
       "      <td>Wyoming</td>\n",
       "      <td>2009</td>\n",
       "      <td>NaN</td>\n",
       "      <td>182900.0</td>\n",
       "    </tr>\n",
       "    <tr>\n",
       "      <th>605</th>\n",
       "      <td>South Dakota</td>\n",
       "      <td>2010</td>\n",
       "      <td>NaN</td>\n",
       "      <td>125000.0</td>\n",
       "    </tr>\n",
       "    <tr>\n",
       "      <th>606</th>\n",
       "      <td>South Dakota</td>\n",
       "      <td>2011</td>\n",
       "      <td>NaN</td>\n",
       "      <td>129200.0</td>\n",
       "    </tr>\n",
       "  </tbody>\n",
       "</table>\n",
       "<p>607 rows × 4 columns</p>\n",
       "</div>"
      ],
      "text/plain": [
       "                    State  Year  value_x   value_y\n",
       "0              California  2010    108.0  265600.0\n",
       "1                   Texas  2010    121.0  139900.0\n",
       "2                New York  2010    188.0       NaN\n",
       "3                 Florida  2010    161.0  128800.0\n",
       "4                Illinois  2010    174.0  161900.0\n",
       "..                    ...   ...      ...       ...\n",
       "602          South Dakota  2009      NaN  125100.0\n",
       "603  District of Columbia  2009      NaN  356600.0\n",
       "604               Wyoming  2009      NaN  182900.0\n",
       "605          South Dakota  2010      NaN  125000.0\n",
       "606          South Dakota  2011      NaN  129200.0\n",
       "\n",
       "[607 rows x 4 columns]"
      ]
     },
     "execution_count": 13,
     "metadata": {},
     "output_type": "execute_result"
    }
   ],
   "source": [
    "comparison"
   ]
  },
  {
   "cell_type": "code",
   "execution_count": 14,
   "id": "aa259b7b-cd89-4b25-9530-9b89f57746f9",
   "metadata": {},
   "outputs": [],
   "source": [
    "comparison = comparison.dropna()"
   ]
  },
  {
   "cell_type": "code",
   "execution_count": 15,
   "id": "4798bfdf-f8b6-4137-b602-1b75f4cf0d67",
   "metadata": {},
   "outputs": [],
   "source": [
    "comparison.columns = ['State', 'Year', 'Days','Price']"
   ]
  },
  {
   "cell_type": "code",
   "execution_count": 16,
   "id": "4be62751-d603-4b86-b3bb-9666bf796f0a",
   "metadata": {},
   "outputs": [],
   "source": [
    "state_day_group = comparison.groupby('State')['Days'].mean()\n",
    "state_price_group = comparison.groupby('State')['Price'].mean()\n",
    "year_day_group = comparison.groupby('Year')['Days'].mean()\n",
    "year_price_group = comparison.groupby('Year')['Price'].mean()"
   ]
  },
  {
   "cell_type": "code",
   "execution_count": 32,
   "id": "953ee905-a309-4ae4-ac0d-6731e746d081",
   "metadata": {},
   "outputs": [],
   "source": [
    "# state_day_group"
   ]
  },
  {
   "cell_type": "code",
   "execution_count": 33,
   "id": "e47a7ad0-3761-4c29-a7c6-1444f3d71d3f",
   "metadata": {},
   "outputs": [],
   "source": [
    "# state_price_group"
   ]
  },
  {
   "cell_type": "code",
   "execution_count": 19,
   "id": "cb086baa-d13d-4d7d-be14-7d1687d5f452",
   "metadata": {},
   "outputs": [
    {
     "data": {
      "text/plain": [
       "Year\n",
       "2010    139.151163\n",
       "2011    131.340909\n",
       "2012    133.544444\n",
       "2013    124.777778\n",
       "2014    115.388889\n",
       "2015    115.400000\n",
       "2016    112.944444\n",
       "2017    105.717391\n",
       "2018     96.163265\n",
       "2019     96.285714\n",
       "2020     94.265306\n",
       "Name: Days, dtype: float64"
      ]
     },
     "execution_count": 19,
     "metadata": {},
     "output_type": "execute_result"
    }
   ],
   "source": [
    "year_day_group"
   ]
  },
  {
   "cell_type": "code",
   "execution_count": 20,
   "id": "84003025-7c0a-449f-b3c1-d680ff1fb348",
   "metadata": {},
   "outputs": [
    {
     "data": {
      "text/plain": [
       "Year\n",
       "2010    169381.395349\n",
       "2011    167904.545455\n",
       "2012    160533.333333\n",
       "2013    174726.666667\n",
       "2014    184815.555556\n",
       "2015    193808.888889\n",
       "2016    202468.888889\n",
       "2017    212228.260870\n",
       "2018    224234.693878\n",
       "2019    235697.959184\n",
       "2020    254275.510204\n",
       "Name: Price, dtype: float64"
      ]
     },
     "execution_count": 20,
     "metadata": {},
     "output_type": "execute_result"
    }
   ],
   "source": [
    "year_price_group"
   ]
  },
  {
   "cell_type": "code",
   "execution_count": 21,
   "id": "6f0f496d-ed3b-4687-a9a5-2c063d8bf3a8",
   "metadata": {},
   "outputs": [
    {
     "name": "stderr",
     "output_type": "stream",
     "text": [
      "C:\\Users\\joshf\\AppData\\Local\\Temp/ipykernel_21708/1212967638.py:1: SettingWithCopyWarning: \n",
      "A value is trying to be set on a copy of a slice from a DataFrame.\n",
      "Try using .loc[row_indexer,col_indexer] = value instead\n",
      "\n",
      "See the caveats in the documentation: https://pandas.pydata.org/pandas-docs/stable/user_guide/indexing.html#returning-a-view-versus-a-copy\n",
      "  comparison['score'] = comparison['Price'] / comparison['Days']\n"
     ]
    }
   ],
   "source": [
    "comparison['score'] = comparison['Price'] / comparison['Days']"
   ]
  },
  {
   "cell_type": "code",
   "execution_count": 22,
   "id": "128ecbad-34a2-432f-9059-d8f7d6c193cb",
   "metadata": {},
   "outputs": [],
   "source": [
    "comparison.to_csv('Datasets/House Price/Comparison_Scores.csv')"
   ]
  },
  {
   "cell_type": "code",
   "execution_count": 23,
   "id": "7e2e17f4-485f-4e1f-a29b-d30e583f6fbd",
   "metadata": {},
   "outputs": [],
   "source": [
    "comparison_s_avg = comparison.groupby('State')['score'].mean()"
   ]
  },
  {
   "cell_type": "code",
   "execution_count": 24,
   "id": "22411cb6-0e7e-4425-a787-5e737ca2d4a5",
   "metadata": {},
   "outputs": [],
   "source": [
    "cdf = comparison_s_avg.to_frame()"
   ]
  },
  {
   "cell_type": "markdown",
   "id": "24f0e038-b008-42d3-9687-6436a42bead6",
   "metadata": {},
   "source": [
    "Similar to how I selected by tiers before, I'll take a mean of the highest and lowest scorers, tally the apeparances of each, and create three tier lists."
   ]
  },
  {
   "cell_type": "code",
   "execution_count": 25,
   "id": "3df2bb09-0ac0-4e4b-a58e-7c694826008e",
   "metadata": {},
   "outputs": [],
   "source": [
    "high_tier = cdf.nlargest(10,'score')"
   ]
  },
  {
   "cell_type": "code",
   "execution_count": 26,
   "id": "6a6e84d8-3d49-4e45-a9c6-0709c64af474",
   "metadata": {},
   "outputs": [
    {
     "data": {
      "text/html": [
       "<div>\n",
       "<style scoped>\n",
       "    .dataframe tbody tr th:only-of-type {\n",
       "        vertical-align: middle;\n",
       "    }\n",
       "\n",
       "    .dataframe tbody tr th {\n",
       "        vertical-align: top;\n",
       "    }\n",
       "\n",
       "    .dataframe thead th {\n",
       "        text-align: right;\n",
       "    }\n",
       "</style>\n",
       "<table border=\"1\" class=\"dataframe\">\n",
       "  <thead>\n",
       "    <tr style=\"text-align: right;\">\n",
       "      <th></th>\n",
       "      <th>score</th>\n",
       "    </tr>\n",
       "    <tr>\n",
       "      <th>State</th>\n",
       "      <th></th>\n",
       "    </tr>\n",
       "  </thead>\n",
       "  <tbody>\n",
       "    <tr>\n",
       "      <th>District of Columbia</th>\n",
       "      <td>5260.328169</td>\n",
       "    </tr>\n",
       "    <tr>\n",
       "      <th>Hawaii</th>\n",
       "      <td>4596.865009</td>\n",
       "    </tr>\n",
       "    <tr>\n",
       "      <th>California</th>\n",
       "      <td>4364.519389</td>\n",
       "    </tr>\n",
       "    <tr>\n",
       "      <th>Colorado</th>\n",
       "      <td>3172.862798</td>\n",
       "    </tr>\n",
       "    <tr>\n",
       "      <th>Washington</th>\n",
       "      <td>2918.754194</td>\n",
       "    </tr>\n",
       "    <tr>\n",
       "      <th>Massachusetts</th>\n",
       "      <td>2912.259636</td>\n",
       "    </tr>\n",
       "    <tr>\n",
       "      <th>New Hampshire</th>\n",
       "      <td>2771.812637</td>\n",
       "    </tr>\n",
       "    <tr>\n",
       "      <th>Rhode Island</th>\n",
       "      <td>2604.129777</td>\n",
       "    </tr>\n",
       "    <tr>\n",
       "      <th>Utah</th>\n",
       "      <td>2511.146071</td>\n",
       "    </tr>\n",
       "    <tr>\n",
       "      <th>Oregon</th>\n",
       "      <td>2461.220252</td>\n",
       "    </tr>\n",
       "  </tbody>\n",
       "</table>\n",
       "</div>"
      ],
      "text/plain": [
       "                            score\n",
       "State                            \n",
       "District of Columbia  5260.328169\n",
       "Hawaii                4596.865009\n",
       "California            4364.519389\n",
       "Colorado              3172.862798\n",
       "Washington            2918.754194\n",
       "Massachusetts         2912.259636\n",
       "New Hampshire         2771.812637\n",
       "Rhode Island          2604.129777\n",
       "Utah                  2511.146071\n",
       "Oregon                2461.220252"
      ]
     },
     "execution_count": 26,
     "metadata": {},
     "output_type": "execute_result"
    }
   ],
   "source": [
    "high_tier"
   ]
  },
  {
   "cell_type": "code",
   "execution_count": 27,
   "id": "158bb281-1fed-4701-837b-98976a66b5cb",
   "metadata": {},
   "outputs": [],
   "source": [
    "low_tier = cdf.nsmallest(10,'score')"
   ]
  },
  {
   "cell_type": "code",
   "execution_count": 28,
   "id": "d8dfc15e-e325-47a7-a4ed-ef2d2220a1d8",
   "metadata": {},
   "outputs": [
    {
     "data": {
      "text/html": [
       "<div>\n",
       "<style scoped>\n",
       "    .dataframe tbody tr th:only-of-type {\n",
       "        vertical-align: middle;\n",
       "    }\n",
       "\n",
       "    .dataframe tbody tr th {\n",
       "        vertical-align: top;\n",
       "    }\n",
       "\n",
       "    .dataframe thead th {\n",
       "        text-align: right;\n",
       "    }\n",
       "</style>\n",
       "<table border=\"1\" class=\"dataframe\">\n",
       "  <thead>\n",
       "    <tr style=\"text-align: right;\">\n",
       "      <th></th>\n",
       "      <th>score</th>\n",
       "    </tr>\n",
       "    <tr>\n",
       "      <th>State</th>\n",
       "      <th></th>\n",
       "    </tr>\n",
       "  </thead>\n",
       "  <tbody>\n",
       "    <tr>\n",
       "      <th>West Virginia</th>\n",
       "      <td>924.398069</td>\n",
       "    </tr>\n",
       "    <tr>\n",
       "      <th>Michigan</th>\n",
       "      <td>984.203705</td>\n",
       "    </tr>\n",
       "    <tr>\n",
       "      <th>Alabama</th>\n",
       "      <td>1029.181300</td>\n",
       "    </tr>\n",
       "    <tr>\n",
       "      <th>Ohio</th>\n",
       "      <td>1065.316458</td>\n",
       "    </tr>\n",
       "    <tr>\n",
       "      <th>Arkansas</th>\n",
       "      <td>1082.949055</td>\n",
       "    </tr>\n",
       "    <tr>\n",
       "      <th>Oklahoma</th>\n",
       "      <td>1145.258044</td>\n",
       "    </tr>\n",
       "    <tr>\n",
       "      <th>Iowa</th>\n",
       "      <td>1151.617972</td>\n",
       "    </tr>\n",
       "    <tr>\n",
       "      <th>Indiana</th>\n",
       "      <td>1172.683595</td>\n",
       "    </tr>\n",
       "    <tr>\n",
       "      <th>South Carolina</th>\n",
       "      <td>1207.856505</td>\n",
       "    </tr>\n",
       "    <tr>\n",
       "      <th>Pennsylvania</th>\n",
       "      <td>1229.144836</td>\n",
       "    </tr>\n",
       "  </tbody>\n",
       "</table>\n",
       "</div>"
      ],
      "text/plain": [
       "                      score\n",
       "State                      \n",
       "West Virginia    924.398069\n",
       "Michigan         984.203705\n",
       "Alabama         1029.181300\n",
       "Ohio            1065.316458\n",
       "Arkansas        1082.949055\n",
       "Oklahoma        1145.258044\n",
       "Iowa            1151.617972\n",
       "Indiana         1172.683595\n",
       "South Carolina  1207.856505\n",
       "Pennsylvania    1229.144836"
      ]
     },
     "execution_count": 28,
     "metadata": {},
     "output_type": "execute_result"
    }
   ],
   "source": [
    "low_tier"
   ]
  },
  {
   "cell_type": "code",
   "execution_count": 29,
   "id": "6c13dce0-c2d6-4f74-912c-a155d341e153",
   "metadata": {},
   "outputs": [],
   "source": [
    "mid_tier = cdf.nsmallest(30,'score').nlargest(10,'score')# get smallest 30, then get 20-30"
   ]
  },
  {
   "cell_type": "code",
   "execution_count": 30,
   "id": "f50078e7-1228-45f2-a244-7e8e34835811",
   "metadata": {},
   "outputs": [
    {
     "data": {
      "text/html": [
       "<div>\n",
       "<style scoped>\n",
       "    .dataframe tbody tr th:only-of-type {\n",
       "        vertical-align: middle;\n",
       "    }\n",
       "\n",
       "    .dataframe tbody tr th {\n",
       "        vertical-align: top;\n",
       "    }\n",
       "\n",
       "    .dataframe thead th {\n",
       "        text-align: right;\n",
       "    }\n",
       "</style>\n",
       "<table border=\"1\" class=\"dataframe\">\n",
       "  <thead>\n",
       "    <tr style=\"text-align: right;\">\n",
       "      <th></th>\n",
       "      <th>score</th>\n",
       "    </tr>\n",
       "    <tr>\n",
       "      <th>State</th>\n",
       "      <th></th>\n",
       "    </tr>\n",
       "  </thead>\n",
       "  <tbody>\n",
       "    <tr>\n",
       "      <th>New Jersey</th>\n",
       "      <td>1802.070354</td>\n",
       "    </tr>\n",
       "    <tr>\n",
       "      <th>South Dakota</th>\n",
       "      <td>1748.516081</td>\n",
       "    </tr>\n",
       "    <tr>\n",
       "      <th>Minnesota</th>\n",
       "      <td>1739.636824</td>\n",
       "    </tr>\n",
       "    <tr>\n",
       "      <th>Delaware</th>\n",
       "      <td>1738.469207</td>\n",
       "    </tr>\n",
       "    <tr>\n",
       "      <th>North Dakota</th>\n",
       "      <td>1701.421187</td>\n",
       "    </tr>\n",
       "    <tr>\n",
       "      <th>Connecticut</th>\n",
       "      <td>1677.921519</td>\n",
       "    </tr>\n",
       "    <tr>\n",
       "      <th>Kansas</th>\n",
       "      <td>1618.809391</td>\n",
       "    </tr>\n",
       "    <tr>\n",
       "      <th>New York</th>\n",
       "      <td>1614.801435</td>\n",
       "    </tr>\n",
       "    <tr>\n",
       "      <th>Nebraska</th>\n",
       "      <td>1569.346548</td>\n",
       "    </tr>\n",
       "    <tr>\n",
       "      <th>Florida</th>\n",
       "      <td>1567.373068</td>\n",
       "    </tr>\n",
       "  </tbody>\n",
       "</table>\n",
       "</div>"
      ],
      "text/plain": [
       "                    score\n",
       "State                    \n",
       "New Jersey    1802.070354\n",
       "South Dakota  1748.516081\n",
       "Minnesota     1739.636824\n",
       "Delaware      1738.469207\n",
       "North Dakota  1701.421187\n",
       "Connecticut   1677.921519\n",
       "Kansas        1618.809391\n",
       "New York      1614.801435\n",
       "Nebraska      1569.346548\n",
       "Florida       1567.373068"
      ]
     },
     "execution_count": 30,
     "metadata": {},
     "output_type": "execute_result"
    }
   ],
   "source": [
    "mid_tier"
   ]
  },
  {
   "cell_type": "code",
   "execution_count": 31,
   "id": "5b32a4a3-ec14-4ad8-a303-87ddc48ec7b7",
   "metadata": {},
   "outputs": [],
   "source": [
    "low_tier.to_csv('Datasets/House Price/low_tier_scorers.csv')\n",
    "mid_tier.to_csv('Datasets/House Price/mid_tier_scorers.csv')\n",
    "high_tier.to_csv('Datasets/House Price/high_tier_scorers.csv')"
   ]
  }
 ],
 "metadata": {
  "kernelspec": {
   "display_name": "Python 3 (ipykernel)",
   "language": "python",
   "name": "python3"
  },
  "language_info": {
   "codemirror_mode": {
    "name": "ipython",
    "version": 3
   },
   "file_extension": ".py",
   "mimetype": "text/x-python",
   "name": "python",
   "nbconvert_exporter": "python",
   "pygments_lexer": "ipython3",
   "version": "3.9.7"
  }
 },
 "nbformat": 4,
 "nbformat_minor": 5
}
