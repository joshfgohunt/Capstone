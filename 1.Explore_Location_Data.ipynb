{
 "cells": [
  {
   "cell_type": "code",
   "execution_count": 1,
   "id": "56460bef-3577-41a1-a221-de53feeaec62",
   "metadata": {},
   "outputs": [],
   "source": [
    "import pandas as pd\n",
    "\n",
    "import Clean_data as cld\n",
    "import Transform_Data as tfd\n",
    "import Visualize_Data as vld\n",
    "from scipy import stats\n",
    "import plotly.express as px\n",
    "import plotly.graph_objects as go\n",
    "from plotly.subplots import make_subplots"
   ]
  },
  {
   "cell_type": "markdown",
   "id": "331930db-8961-4e53-950a-348eaa5d23bc",
   "metadata": {},
   "source": [
    "### Datasets"
   ]
  },
  {
   "cell_type": "markdown",
   "id": "08b298c3-1893-434f-9a10-c3e4e3b0c205",
   "metadata": {},
   "source": [
    "# Zillow Rent"
   ]
  },
  {
   "cell_type": "markdown",
   "id": "db68d956-324c-4623-b920-2d136649498e",
   "metadata": {},
   "source": [
    "z_rent = pd.read_csv('Datasets/House Price/State_MedianRentalPrice_1Bedroom.csv')\n",
    "z_rent.head(1)"
   ]
  },
  {
   "cell_type": "markdown",
   "id": "effd6870-52f2-412d-aab4-7c3d40847ca6",
   "metadata": {},
   "source": [
    "This is the 1 bedroom rental price data from the 'Zillow House Price Data' Dataset,\n",
    "\n",
    "RegionName is State (This is different from the other provided datasets in the same public kaggle repository where regionName was more closely aligned with a city or group of areas in a city).\n",
    "\n",
    "time-series data is pivoted and grouped by year-month\n",
    "\n",
    "the first columns not Missing data begin in February of 2017, and continues through December of 2019 this does impact my initially planned data-range. However I still hope to use these two snapshots to establish State-level growth."
   ]
  },
  {
   "cell_type": "markdown",
   "id": "6ca502bc-3ff4-487e-81c1-4662e5f05e45",
   "metadata": {},
   "source": [
    "#### Cleaned"
   ]
  },
  {
   "cell_type": "code",
   "execution_count": 2,
   "id": "2eab84f1-4294-47cb-8e41-08fdfd15638e",
   "metadata": {},
   "outputs": [
    {
     "data": {
      "text/html": [
       "<div>\n",
       "<style scoped>\n",
       "    .dataframe tbody tr th:only-of-type {\n",
       "        vertical-align: middle;\n",
       "    }\n",
       "\n",
       "    .dataframe tbody tr th {\n",
       "        vertical-align: top;\n",
       "    }\n",
       "\n",
       "    .dataframe thead th {\n",
       "        text-align: right;\n",
       "    }\n",
       "</style>\n",
       "<table border=\"1\" class=\"dataframe\">\n",
       "  <thead>\n",
       "    <tr style=\"text-align: right;\">\n",
       "      <th></th>\n",
       "      <th>State</th>\n",
       "      <th>size</th>\n",
       "      <th>Year</th>\n",
       "      <th>value</th>\n",
       "    </tr>\n",
       "  </thead>\n",
       "  <tbody>\n",
       "    <tr>\n",
       "      <th>0</th>\n",
       "      <td>California</td>\n",
       "      <td>1br</td>\n",
       "      <td>2017</td>\n",
       "      <td>1900.0</td>\n",
       "    </tr>\n",
       "    <tr>\n",
       "      <th>1</th>\n",
       "      <td>Texas</td>\n",
       "      <td>1br</td>\n",
       "      <td>2017</td>\n",
       "      <td>1045.0</td>\n",
       "    </tr>\n",
       "    <tr>\n",
       "      <th>2</th>\n",
       "      <td>New York</td>\n",
       "      <td>1br</td>\n",
       "      <td>2017</td>\n",
       "      <td>2150.0</td>\n",
       "    </tr>\n",
       "    <tr>\n",
       "      <th>3</th>\n",
       "      <td>Florida</td>\n",
       "      <td>1br</td>\n",
       "      <td>2017</td>\n",
       "      <td>1335.0</td>\n",
       "    </tr>\n",
       "    <tr>\n",
       "      <th>4</th>\n",
       "      <td>Illinois</td>\n",
       "      <td>1br</td>\n",
       "      <td>2017</td>\n",
       "      <td>1390.0</td>\n",
       "    </tr>\n",
       "  </tbody>\n",
       "</table>\n",
       "</div>"
      ],
      "text/plain": [
       "        State size  Year   value\n",
       "0  California  1br  2017  1900.0\n",
       "1       Texas  1br  2017  1045.0\n",
       "2    New York  1br  2017  2150.0\n",
       "3     Florida  1br  2017  1335.0\n",
       "4    Illinois  1br  2017  1390.0"
      ]
     },
     "execution_count": 2,
     "metadata": {},
     "output_type": "execute_result"
    }
   ],
   "source": [
    "z_rent = cld.get_rent_df()\n",
    "z_rent.head(5)"
   ]
  },
  {
   "cell_type": "markdown",
   "id": "76384b34-7519-472c-982d-06944dba0b66",
   "metadata": {},
   "source": [
    "#### Zscores\n",
    "The lower the z-scores, the less variation from the mean my sample (created in vld.run_zscore) has.\n",
    "\n",
    "Anything under .1 has low statistical variability/uncertainty, and therefore high confidence."
   ]
  },
  {
   "cell_type": "code",
   "execution_count": 3,
   "id": "8df51620-d6a9-4a00-8888-99d4d3477c8a",
   "metadata": {},
   "outputs": [
    {
     "name": "stdout",
     "output_type": "stream",
     "text": [
      "full length  398\n",
      "sample size  26\n",
      "df Z-Scores\n",
      "value   -0.030443\n",
      "dtype: float64\n"
     ]
    }
   ],
   "source": [
    "vld.run_zscore(z_rent, ['value'])"
   ]
  },
  {
   "cell_type": "markdown",
   "id": "d7735f44-e982-4fa5-a025-f290a09ac3b9",
   "metadata": {},
   "source": [
    "#### Graphs"
   ]
  },
  {
   "cell_type": "code",
   "execution_count": 4,
   "id": "5ecf5166-c475-489d-bb84-31e39bd8e114",
   "metadata": {},
   "outputs": [
    {
     "data": {
      "application/vnd.jupyter.widget-view+json": {
       "model_id": "113d9514806f4feba136c0823b8bc7e2",
       "version_major": 2,
       "version_minor": 0
      },
      "text/plain": [
       "FigureWidget({\n",
       "    'data': [{'coloraxis': 'coloraxis',\n",
       "              'histfunc': 'sum',\n",
       "              'hoverte…"
      ]
     },
     "metadata": {},
     "output_type": "display_data"
    }
   ],
   "source": [
    "z_rent_17 = z_rent[z_rent['Year']== '2017']\n",
    "fig = px.density_heatmap(z_rent_17, x = 'State', y='size',\n",
    "            title = 'Rental Costs by State and Size(2017)',\n",
    "            z='value'\n",
    "            )\n",
    "fig['layout'].update(height=600)\n",
    "fig_widget = go.FigureWidget(fig)\n",
    "fig_widget"
   ]
  },
  {
   "cell_type": "code",
   "execution_count": 5,
   "id": "058ba42c-f657-4da9-b632-85c14712150e",
   "metadata": {},
   "outputs": [
    {
     "data": {
      "application/vnd.jupyter.widget-view+json": {
       "model_id": "63a14c210e954904862a7245daf86901",
       "version_major": 2,
       "version_minor": 0
      },
      "text/plain": [
       "FigureWidget({\n",
       "    'data': [{'coloraxis': 'coloraxis',\n",
       "              'histfunc': 'sum',\n",
       "              'hoverte…"
      ]
     },
     "metadata": {},
     "output_type": "display_data"
    }
   ],
   "source": [
    "z_rent_20 = z_rent[z_rent['Year']== '2020']\n",
    "fig = px.density_heatmap(z_rent_20, x = 'State', y='size',\n",
    "            title = 'Rental Costs by State and Size(2020)',\n",
    "            z='value'\n",
    "            )\n",
    "fig['layout'].update(height=600)\n",
    "fig_widget = go.FigureWidget(fig)\n",
    "fig_widget"
   ]
  },
  {
   "cell_type": "markdown",
   "id": "d7c6b75f-21f8-4588-a230-edd8372828e3",
   "metadata": {},
   "source": [
    "As a whole, rent has become more expensive (lighter colored blocks)."
   ]
  },
  {
   "cell_type": "markdown",
   "id": "c99f8e56-8875-4467-b3a6-8ee662092af7",
   "metadata": {},
   "source": [
    "# Zillow House Sales"
   ]
  },
  {
   "cell_type": "code",
   "execution_count": 6,
   "id": "cca8dd5a-59ae-4735-9a3f-efaf32ea363a",
   "metadata": {},
   "outputs": [
    {
     "data": {
      "text/html": [
       "<div>\n",
       "<style scoped>\n",
       "    .dataframe tbody tr th:only-of-type {\n",
       "        vertical-align: middle;\n",
       "    }\n",
       "\n",
       "    .dataframe tbody tr th {\n",
       "        vertical-align: top;\n",
       "    }\n",
       "\n",
       "    .dataframe thead th {\n",
       "        text-align: right;\n",
       "    }\n",
       "</style>\n",
       "<table border=\"1\" class=\"dataframe\">\n",
       "  <thead>\n",
       "    <tr style=\"text-align: right;\">\n",
       "      <th></th>\n",
       "      <th>Unnamed: 0</th>\n",
       "      <th>RegionID</th>\n",
       "      <th>SizeRank</th>\n",
       "      <th>RegionName</th>\n",
       "      <th>RegionType</th>\n",
       "      <th>StateName</th>\n",
       "      <th>1996-01-31</th>\n",
       "      <th>1996-02-29</th>\n",
       "      <th>1996-03-31</th>\n",
       "      <th>1996-04-30</th>\n",
       "      <th>...</th>\n",
       "      <th>2019-06-30</th>\n",
       "      <th>2019-07-31</th>\n",
       "      <th>2019-08-31</th>\n",
       "      <th>2019-09-30</th>\n",
       "      <th>2019-10-31</th>\n",
       "      <th>2019-11-30</th>\n",
       "      <th>2019-12-31</th>\n",
       "      <th>2020-01-31</th>\n",
       "      <th>2020-02-29</th>\n",
       "      <th>2020-03-31</th>\n",
       "    </tr>\n",
       "  </thead>\n",
       "  <tbody>\n",
       "    <tr>\n",
       "      <th>0</th>\n",
       "      <td>0</td>\n",
       "      <td>9</td>\n",
       "      <td>0</td>\n",
       "      <td>California</td>\n",
       "      <td>State</td>\n",
       "      <td>CA</td>\n",
       "      <td>104045.0</td>\n",
       "      <td>103897.0</td>\n",
       "      <td>103745.0</td>\n",
       "      <td>103456.0</td>\n",
       "      <td>...</td>\n",
       "      <td>399503.0</td>\n",
       "      <td>399949.0</td>\n",
       "      <td>400604.0</td>\n",
       "      <td>401758.0</td>\n",
       "      <td>402858.0</td>\n",
       "      <td>404068.0</td>\n",
       "      <td>406004.0</td>\n",
       "      <td>408468.0</td>\n",
       "      <td>411313.0</td>\n",
       "      <td>414067.0</td>\n",
       "    </tr>\n",
       "  </tbody>\n",
       "</table>\n",
       "<p>1 rows × 297 columns</p>\n",
       "</div>"
      ],
      "text/plain": [
       "   Unnamed: 0  RegionID  SizeRank  RegionName RegionType StateName  \\\n",
       "0           0         9         0  California      State        CA   \n",
       "\n",
       "   1996-01-31  1996-02-29  1996-03-31  1996-04-30  ...  2019-06-30  \\\n",
       "0    104045.0    103897.0    103745.0    103456.0  ...    399503.0   \n",
       "\n",
       "   2019-07-31  2019-08-31  2019-09-30  2019-10-31  2019-11-30  2019-12-31  \\\n",
       "0    399949.0    400604.0    401758.0    402858.0    404068.0    406004.0   \n",
       "\n",
       "   2020-01-31  2020-02-29  2020-03-31  \n",
       "0    408468.0    411313.0    414067.0  \n",
       "\n",
       "[1 rows x 297 columns]"
      ]
     },
     "execution_count": 6,
     "metadata": {},
     "output_type": "execute_result"
    }
   ],
   "source": [
    "z_house = pd.read_csv('Datasets/House Price/State_Zhvi_1Bedroom.csv')\n",
    "\n",
    "z_house.head(1)"
   ]
  },
  {
   "cell_type": "markdown",
   "id": "23390f86-b3c4-449c-a406-8b053e7bea7c",
   "metadata": {},
   "source": [
    "This 1 bedroom house sales data, also from the 'Zillow House Price Data' Dataset, is more complete, with the last missing column being in 2005.\n",
    "\n",
    "Because of my rental snapshot's limitations I will not be using data prior to 2017, for the sake of impartial analytics."
   ]
  },
  {
   "cell_type": "markdown",
   "id": "848c5e7e-0afa-4d47-a594-0c267479edf3",
   "metadata": {},
   "source": [
    "#### Cleaned"
   ]
  },
  {
   "cell_type": "code",
   "execution_count": 7,
   "id": "0b9fe155-3cb6-4bdf-824d-b99e5730d0ad",
   "metadata": {},
   "outputs": [
    {
     "data": {
      "text/html": [
       "<div>\n",
       "<style scoped>\n",
       "    .dataframe tbody tr th:only-of-type {\n",
       "        vertical-align: middle;\n",
       "    }\n",
       "\n",
       "    .dataframe tbody tr th {\n",
       "        vertical-align: top;\n",
       "    }\n",
       "\n",
       "    .dataframe thead th {\n",
       "        text-align: right;\n",
       "    }\n",
       "</style>\n",
       "<table border=\"1\" class=\"dataframe\">\n",
       "  <thead>\n",
       "    <tr style=\"text-align: right;\">\n",
       "      <th></th>\n",
       "      <th>State</th>\n",
       "      <th>size</th>\n",
       "      <th>Year</th>\n",
       "      <th>value</th>\n",
       "    </tr>\n",
       "  </thead>\n",
       "  <tbody>\n",
       "    <tr>\n",
       "      <th>0</th>\n",
       "      <td>California</td>\n",
       "      <td>1br</td>\n",
       "      <td>2017</td>\n",
       "      <td>347962.0</td>\n",
       "    </tr>\n",
       "    <tr>\n",
       "      <th>1</th>\n",
       "      <td>Texas</td>\n",
       "      <td>1br</td>\n",
       "      <td>2017</td>\n",
       "      <td>96795.0</td>\n",
       "    </tr>\n",
       "    <tr>\n",
       "      <th>2</th>\n",
       "      <td>New York</td>\n",
       "      <td>1br</td>\n",
       "      <td>2017</td>\n",
       "      <td>329115.0</td>\n",
       "    </tr>\n",
       "    <tr>\n",
       "      <th>3</th>\n",
       "      <td>Florida</td>\n",
       "      <td>1br</td>\n",
       "      <td>2017</td>\n",
       "      <td>117818.0</td>\n",
       "    </tr>\n",
       "    <tr>\n",
       "      <th>4</th>\n",
       "      <td>Illinois</td>\n",
       "      <td>1br</td>\n",
       "      <td>2017</td>\n",
       "      <td>130350.0</td>\n",
       "    </tr>\n",
       "  </tbody>\n",
       "</table>\n",
       "</div>"
      ],
      "text/plain": [
       "        State size  Year     value\n",
       "0  California  1br  2017  347962.0\n",
       "1       Texas  1br  2017   96795.0\n",
       "2    New York  1br  2017  329115.0\n",
       "3     Florida  1br  2017  117818.0\n",
       "4    Illinois  1br  2017  130350.0"
      ]
     },
     "execution_count": 7,
     "metadata": {},
     "output_type": "execute_result"
    }
   ],
   "source": [
    " \n",
    "z_house = cld.get_zhvi_array()\n",
    "z_house.head(5)"
   ]
  },
  {
   "cell_type": "markdown",
   "id": "c56bcbb1-40a5-4bc6-9c64-8b66dc476d98",
   "metadata": {},
   "source": [
    "#### Zscores"
   ]
  },
  {
   "cell_type": "code",
   "execution_count": 8,
   "id": "eb0a24d1-8f1e-4a99-83b4-39fc0c54e009",
   "metadata": {},
   "outputs": [
    {
     "name": "stdout",
     "output_type": "stream",
     "text": [
      "full length  408\n",
      "sample size  27\n",
      "df Z-Scores\n",
      "value    0.185467\n",
      "dtype: float64\n"
     ]
    }
   ],
   "source": [
    "vld.run_zscore(z_house, ['value'])"
   ]
  },
  {
   "cell_type": "markdown",
   "id": "3f28d4b6-8c00-4aa3-9a46-1e287e3787ff",
   "metadata": {},
   "source": [
    "#### Graphs"
   ]
  },
  {
   "cell_type": "code",
   "execution_count": 9,
   "id": "2adea6b7-f9cb-40cf-ac25-5141cf84bf70",
   "metadata": {},
   "outputs": [
    {
     "data": {
      "application/vnd.jupyter.widget-view+json": {
       "model_id": "d2261077949147a3bcb32cf7f97d1391",
       "version_major": 2,
       "version_minor": 0
      },
      "text/plain": [
       "FigureWidget({\n",
       "    'data': [{'coloraxis': 'coloraxis',\n",
       "              'histfunc': 'sum',\n",
       "              'hoverte…"
      ]
     },
     "metadata": {},
     "output_type": "display_data"
    }
   ],
   "source": [
    "z_zhvi_17 = z_house[z_house['Year']== '2017']\n",
    "fig = px.density_heatmap(z_zhvi_17, x = 'State', y='size',\n",
    "            title = 'Sales Costs by State and Size(2017)',\n",
    "            z='value'\n",
    "            )\n",
    "fig['layout'].update(height=600)\n",
    "fig_widget = go.FigureWidget(fig)\n",
    "fig_widget"
   ]
  },
  {
   "cell_type": "code",
   "execution_count": 10,
   "id": "d3ec6d84-6764-4a2f-8aa6-90c02f938890",
   "metadata": {},
   "outputs": [
    {
     "data": {
      "application/vnd.jupyter.widget-view+json": {
       "model_id": "68196d87a9fa4eb68aadbcc1f58e7038",
       "version_major": 2,
       "version_minor": 0
      },
      "text/plain": [
       "FigureWidget({\n",
       "    'data': [{'coloraxis': 'coloraxis',\n",
       "              'histfunc': 'sum',\n",
       "              'hoverte…"
      ]
     },
     "metadata": {},
     "output_type": "display_data"
    }
   ],
   "source": [
    "z_zhvi_20 = z_house[z_house['Year']== '2020']\n",
    "fig = px.density_heatmap(z_zhvi_20, x = 'State', y='size',\n",
    "            title = 'Sales Costs by State and Size(2020)',\n",
    "            z='value'\n",
    "            )\n",
    "fig['layout'].update(height=600)\n",
    "fig_widget = go.FigureWidget(fig)\n",
    "fig_widget"
   ]
  },
  {
   "cell_type": "markdown",
   "id": "ec0ec182-3879-4423-b66f-849ddd4fad26",
   "metadata": {},
   "source": [
    "Likewise, sales prices seem to have increased. though the market for house sales is much more uneven, many more dark (cheap) spots than the rental graphs."
   ]
  },
  {
   "cell_type": "markdown",
   "id": "6de8e563-6ae9-45e4-837a-6b604919ab93",
   "metadata": {},
   "source": [
    "#### Further Exploration"
   ]
  },
  {
   "cell_type": "code",
   "execution_count": 11,
   "id": "a7300448-608a-4b70-98e9-f197ec08b67e",
   "metadata": {},
   "outputs": [],
   "source": [
    "\n",
    "housing_merged_loc = tfd.consolidate_sale_rent(z_rent, z_house)"
   ]
  },
  {
   "cell_type": "markdown",
   "id": "9e4d6228-81dd-487e-8b97-db55f29d3b9c",
   "metadata": {},
   "source": [
    "Because Rent and House sales are so closely related, I'm consolidating them"
   ]
  },
  {
   "cell_type": "markdown",
   "id": "ecc975df-af13-497a-8346-654e8ca3923f",
   "metadata": {},
   "source": [
    "#### Rental and Sales prices, by year and size, over time"
   ]
  },
  {
   "cell_type": "code",
   "execution_count": 12,
   "id": "fb6dee4f-8245-4956-be3f-d929b649d9bb",
   "metadata": {},
   "outputs": [],
   "source": [
    "merged_rent_sale = tfd.get_rent_sale_growth()\n",
    "\n",
    "merged_rent_sale = merged_rent_sale.set_index('state')\n",
    "merged_rent = merged_rent_sale.loc[:, merged_rent_sale.columns.str.contains('rent')]\n",
    "merged_sale = merged_rent_sale.loc[:, merged_rent_sale.columns.str.contains('sell')]"
   ]
  },
  {
   "cell_type": "code",
   "execution_count": 13,
   "id": "c7ef8a06-4dfa-4f0c-b51c-8f0239b49d22",
   "metadata": {},
   "outputs": [
    {
     "data": {
      "text/html": [
       "<div>\n",
       "<style scoped>\n",
       "    .dataframe tbody tr th:only-of-type {\n",
       "        vertical-align: middle;\n",
       "    }\n",
       "\n",
       "    .dataframe tbody tr th {\n",
       "        vertical-align: top;\n",
       "    }\n",
       "\n",
       "    .dataframe thead th {\n",
       "        text-align: right;\n",
       "    }\n",
       "</style>\n",
       "<table border=\"1\" class=\"dataframe\">\n",
       "  <thead>\n",
       "    <tr style=\"text-align: right;\">\n",
       "      <th></th>\n",
       "      <th>rent_value_17_1</th>\n",
       "      <th>rent_value_20_1</th>\n",
       "      <th>rent_value_20_2</th>\n",
       "      <th>rent_value_20_3</th>\n",
       "    </tr>\n",
       "    <tr>\n",
       "      <th>state</th>\n",
       "      <th></th>\n",
       "      <th></th>\n",
       "      <th></th>\n",
       "      <th></th>\n",
       "    </tr>\n",
       "  </thead>\n",
       "  <tbody>\n",
       "    <tr>\n",
       "      <th>California</th>\n",
       "      <td>1900.0</td>\n",
       "      <td>2100.0</td>\n",
       "      <td>2495.0</td>\n",
       "      <td>2895.0</td>\n",
       "    </tr>\n",
       "    <tr>\n",
       "      <th>Texas</th>\n",
       "      <td>1045.0</td>\n",
       "      <td>1200.0</td>\n",
       "      <td>1425.0</td>\n",
       "      <td>1550.0</td>\n",
       "    </tr>\n",
       "    <tr>\n",
       "      <th>New York</th>\n",
       "      <td>2150.0</td>\n",
       "      <td>2100.0</td>\n",
       "      <td>2300.0</td>\n",
       "      <td>2500.0</td>\n",
       "    </tr>\n",
       "  </tbody>\n",
       "</table>\n",
       "</div>"
      ],
      "text/plain": [
       "            rent_value_17_1  rent_value_20_1  rent_value_20_2  rent_value_20_3\n",
       "state                                                                         \n",
       "California           1900.0           2100.0           2495.0           2895.0\n",
       "Texas                1045.0           1200.0           1425.0           1550.0\n",
       "New York             2150.0           2100.0           2300.0           2500.0"
      ]
     },
     "execution_count": 13,
     "metadata": {},
     "output_type": "execute_result"
    }
   ],
   "source": [
    "merged_rent.dropna(axis=1).head(3)"
   ]
  },
  {
   "cell_type": "code",
   "execution_count": 14,
   "id": "f5676181-9c32-4949-91a5-2a1b1783a2e9",
   "metadata": {},
   "outputs": [
    {
     "data": {
      "text/html": [
       "<div>\n",
       "<style scoped>\n",
       "    .dataframe tbody tr th:only-of-type {\n",
       "        vertical-align: middle;\n",
       "    }\n",
       "\n",
       "    .dataframe tbody tr th {\n",
       "        vertical-align: top;\n",
       "    }\n",
       "\n",
       "    .dataframe thead th {\n",
       "        text-align: right;\n",
       "    }\n",
       "</style>\n",
       "<table border=\"1\" class=\"dataframe\">\n",
       "  <thead>\n",
       "    <tr style=\"text-align: right;\">\n",
       "      <th></th>\n",
       "      <th>sell_value_17_1</th>\n",
       "      <th>sell_value_20_1</th>\n",
       "      <th>sell_value_20_2</th>\n",
       "      <th>sell_value_20_3</th>\n",
       "    </tr>\n",
       "    <tr>\n",
       "      <th>state</th>\n",
       "      <th></th>\n",
       "      <th></th>\n",
       "      <th></th>\n",
       "      <th></th>\n",
       "    </tr>\n",
       "  </thead>\n",
       "  <tbody>\n",
       "    <tr>\n",
       "      <th>California</th>\n",
       "      <td>347962.0</td>\n",
       "      <td>408468.0</td>\n",
       "      <td>475167.0</td>\n",
       "      <td>532205.0</td>\n",
       "    </tr>\n",
       "    <tr>\n",
       "      <th>Texas</th>\n",
       "      <td>96795.0</td>\n",
       "      <td>116946.0</td>\n",
       "      <td>136649.0</td>\n",
       "      <td>193582.0</td>\n",
       "    </tr>\n",
       "    <tr>\n",
       "      <th>New York</th>\n",
       "      <td>329115.0</td>\n",
       "      <td>369933.0</td>\n",
       "      <td>182737.0</td>\n",
       "      <td>195764.0</td>\n",
       "    </tr>\n",
       "  </tbody>\n",
       "</table>\n",
       "</div>"
      ],
      "text/plain": [
       "            sell_value_17_1  sell_value_20_1  sell_value_20_2  sell_value_20_3\n",
       "state                                                                         \n",
       "California         347962.0         408468.0         475167.0         532205.0\n",
       "Texas               96795.0         116946.0         136649.0         193582.0\n",
       "New York           329115.0         369933.0         182737.0         195764.0"
      ]
     },
     "execution_count": 14,
     "metadata": {},
     "output_type": "execute_result"
    }
   ],
   "source": [
    "merged_sale.dropna(axis=1).head(3)"
   ]
  },
  {
   "cell_type": "markdown",
   "id": "2ac6a566-3aa3-4689-b599-8e809694b89a",
   "metadata": {},
   "source": [
    "I've just realized, because of previously unnoticed missing data, that I will have to compare 1 bedroom houses for both the sold and rental market"
   ]
  },
  {
   "cell_type": "code",
   "execution_count": 15,
   "id": "df966882-5b6b-41b7-8647-c28d62f6b93e",
   "metadata": {},
   "outputs": [],
   "source": [
    "merged_rent = merged_rent[['rent_value_17_1','rent_value_20_1']]\n",
    "merged_sale = merged_sale[['sell_value_17_1','sell_value_20_1']]\n",
    "merged_1br = merged_sale.merge(merged_rent, left_index= True, right_index=True)\n",
    "merged_1br['sale_growth'] = merged_1br['sell_value_20_1'] / merged_1br['sell_value_17_1']\n",
    "merged_1br['rent_growth'] = merged_1br['rent_value_20_1'] / merged_1br['rent_value_17_1']"
   ]
  },
  {
   "cell_type": "markdown",
   "id": "c872c86f-9cfe-4871-b501-59b39e1e8150",
   "metadata": {},
   "source": [
    "##### New Data"
   ]
  },
  {
   "cell_type": "code",
   "execution_count": 16,
   "id": "11509144-27ab-4aff-94fd-2127601f3971",
   "metadata": {},
   "outputs": [],
   "source": [
    "merged_1br.to_csv('Final_Data/Further_Datasets/Rent_Sale_growth.csv')"
   ]
  },
  {
   "cell_type": "markdown",
   "id": "a86944f7-eba0-4d41-9ff7-1ac59c84c2a0",
   "metadata": {},
   "source": [
    "# Time To Sell"
   ]
  },
  {
   "cell_type": "code",
   "execution_count": 17,
   "id": "a5f1e758-c5fe-44a4-833d-56c95ffba01b",
   "metadata": {},
   "outputs": [],
   "source": [
    "\n",
    "z_time_sell = pd.read_csv('Datasets/House Price/DaysOnZillow_State.csv')"
   ]
  },
  {
   "cell_type": "code",
   "execution_count": 18,
   "id": "d7fa0e4b-bdfd-41c9-925e-3a12f87b0903",
   "metadata": {},
   "outputs": [
    {
     "data": {
      "text/html": [
       "<div>\n",
       "<style scoped>\n",
       "    .dataframe tbody tr th:only-of-type {\n",
       "        vertical-align: middle;\n",
       "    }\n",
       "\n",
       "    .dataframe tbody tr th {\n",
       "        vertical-align: top;\n",
       "    }\n",
       "\n",
       "    .dataframe thead th {\n",
       "        text-align: right;\n",
       "    }\n",
       "</style>\n",
       "<table border=\"1\" class=\"dataframe\">\n",
       "  <thead>\n",
       "    <tr style=\"text-align: right;\">\n",
       "      <th></th>\n",
       "      <th>Unnamed: 0</th>\n",
       "      <th>SizeRank</th>\n",
       "      <th>RegionID</th>\n",
       "      <th>RegionName</th>\n",
       "      <th>RegionType</th>\n",
       "      <th>2010-01</th>\n",
       "      <th>2010-02</th>\n",
       "      <th>2010-03</th>\n",
       "      <th>2010-04</th>\n",
       "      <th>2010-05</th>\n",
       "      <th>...</th>\n",
       "      <th>2019-05</th>\n",
       "      <th>2019-06</th>\n",
       "      <th>2019-07</th>\n",
       "      <th>2019-08</th>\n",
       "      <th>2019-09</th>\n",
       "      <th>2019-10</th>\n",
       "      <th>2019-11</th>\n",
       "      <th>2019-12</th>\n",
       "      <th>2020-01</th>\n",
       "      <th>2020-02</th>\n",
       "    </tr>\n",
       "  </thead>\n",
       "  <tbody>\n",
       "    <tr>\n",
       "      <th>0</th>\n",
       "      <td>0</td>\n",
       "      <td>1.0</td>\n",
       "      <td>9</td>\n",
       "      <td>California</td>\n",
       "      <td>State</td>\n",
       "      <td>108.0</td>\n",
       "      <td>115.0</td>\n",
       "      <td>107.0</td>\n",
       "      <td>102.0</td>\n",
       "      <td>89.0</td>\n",
       "      <td>...</td>\n",
       "      <td>56</td>\n",
       "      <td>57.0</td>\n",
       "      <td>60</td>\n",
       "      <td>62.0</td>\n",
       "      <td>65</td>\n",
       "      <td>65.0</td>\n",
       "      <td>64.0</td>\n",
       "      <td>71.0</td>\n",
       "      <td>79</td>\n",
       "      <td>69.0</td>\n",
       "    </tr>\n",
       "  </tbody>\n",
       "</table>\n",
       "<p>1 rows × 127 columns</p>\n",
       "</div>"
      ],
      "text/plain": [
       "   Unnamed: 0  SizeRank  RegionID  RegionName RegionType  2010-01  2010-02  \\\n",
       "0           0       1.0         9  California      State    108.0    115.0   \n",
       "\n",
       "   2010-03  2010-04  2010-05  ...  2019-05  2019-06  2019-07  2019-08  \\\n",
       "0    107.0    102.0     89.0  ...       56     57.0       60     62.0   \n",
       "\n",
       "   2019-09  2019-10  2019-11  2019-12  2020-01  2020-02  \n",
       "0       65     65.0     64.0     71.0       79     69.0  \n",
       "\n",
       "[1 rows x 127 columns]"
      ]
     },
     "execution_count": 18,
     "metadata": {},
     "output_type": "execute_result"
    }
   ],
   "source": [
    "z_time_sell.head(1)"
   ]
  },
  {
   "cell_type": "markdown",
   "id": "4079a4aa-266e-4307-8bea-7723e6680dd6",
   "metadata": {},
   "source": [
    "'Days on Zillow-State' is another dataset that I will be using select data from. Currently it's a bit heavy-handed"
   ]
  },
  {
   "cell_type": "markdown",
   "id": "8d306722-341e-49b7-b990-2025e2d51414",
   "metadata": {},
   "source": [
    "#### Cleaned"
   ]
  },
  {
   "cell_type": "code",
   "execution_count": 19,
   "id": "e767ff97-37eb-40c2-b7c3-2f9c31776134",
   "metadata": {},
   "outputs": [
    {
     "data": {
      "text/html": [
       "<div>\n",
       "<style scoped>\n",
       "    .dataframe tbody tr th:only-of-type {\n",
       "        vertical-align: middle;\n",
       "    }\n",
       "\n",
       "    .dataframe tbody tr th {\n",
       "        vertical-align: top;\n",
       "    }\n",
       "\n",
       "    .dataframe thead th {\n",
       "        text-align: right;\n",
       "    }\n",
       "</style>\n",
       "<table border=\"1\" class=\"dataframe\">\n",
       "  <thead>\n",
       "    <tr style=\"text-align: right;\">\n",
       "      <th></th>\n",
       "      <th>State</th>\n",
       "      <th>Year</th>\n",
       "      <th>value</th>\n",
       "    </tr>\n",
       "  </thead>\n",
       "  <tbody>\n",
       "    <tr>\n",
       "      <th>0</th>\n",
       "      <td>California</td>\n",
       "      <td>2017</td>\n",
       "      <td>84.0</td>\n",
       "    </tr>\n",
       "    <tr>\n",
       "      <th>1</th>\n",
       "      <td>Texas</td>\n",
       "      <td>2017</td>\n",
       "      <td>84.0</td>\n",
       "    </tr>\n",
       "    <tr>\n",
       "      <th>2</th>\n",
       "      <td>New York</td>\n",
       "      <td>2017</td>\n",
       "      <td>154.0</td>\n",
       "    </tr>\n",
       "    <tr>\n",
       "      <th>3</th>\n",
       "      <td>Florida</td>\n",
       "      <td>2017</td>\n",
       "      <td>103.0</td>\n",
       "    </tr>\n",
       "    <tr>\n",
       "      <th>4</th>\n",
       "      <td>Illinois</td>\n",
       "      <td>2017</td>\n",
       "      <td>126.0</td>\n",
       "    </tr>\n",
       "  </tbody>\n",
       "</table>\n",
       "</div>"
      ],
      "text/plain": [
       "        State  Year  value\n",
       "0  California  2017   84.0\n",
       "1       Texas  2017   84.0\n",
       "2    New York  2017  154.0\n",
       "3     Florida  2017  103.0\n",
       "4    Illinois  2017  126.0"
      ]
     },
     "execution_count": 19,
     "metadata": {},
     "output_type": "execute_result"
    }
   ],
   "source": [
    "\n",
    "z_time_sell =cld.get_state_days()\n",
    "z_time_sell.head(5)"
   ]
  },
  {
   "cell_type": "markdown",
   "id": "4bc89a6a-ee88-4d59-86f9-126eb2e3d201",
   "metadata": {},
   "source": [
    "The resulting datasets are much cleaner, much less visually cluttered."
   ]
  },
  {
   "cell_type": "markdown",
   "id": "1d315300-b22a-4cc9-8c32-d67e8ca6101b",
   "metadata": {},
   "source": [
    "#### Zscores"
   ]
  },
  {
   "cell_type": "code",
   "execution_count": 20,
   "id": "eaf5d91e-dcc5-4858-9273-e2b33673b4d2",
   "metadata": {},
   "outputs": [
    {
     "name": "stdout",
     "output_type": "stream",
     "text": [
      "full length  102\n",
      "sample size  6\n",
      "df Z-Scores\n",
      "value    0.565987\n",
      "dtype: float64\n"
     ]
    }
   ],
   "source": [
    "vld.run_zscore(z_time_sell, ['value'])"
   ]
  },
  {
   "cell_type": "markdown",
   "id": "802c7268-5947-4ca2-9342-eb303c021e96",
   "metadata": {},
   "source": [
    "State, Sex, Age Group values had the best zscores of the bunch. They were also the highest row-count. even with the data split across 4 columns"
   ]
  },
  {
   "cell_type": "markdown",
   "id": "fae8fdea-c093-4c97-82db-8b630f09bba9",
   "metadata": {},
   "source": [
    "### Graphs"
   ]
  },
  {
   "cell_type": "code",
   "execution_count": 21,
   "id": "affa0a16-1ca6-4ff1-a43b-28d207e399e5",
   "metadata": {},
   "outputs": [
    {
     "data": {
      "application/vnd.jupyter.widget-view+json": {
       "model_id": "fb6e9760ab254a1795ab021a5877acde",
       "version_major": 2,
       "version_minor": 0
      },
      "text/plain": [
       "FigureWidget({\n",
       "    'data': [{'alignmentgroup': 'True',\n",
       "              'hovertemplate': 'State=%{x}<br>value=%{y…"
      ]
     },
     "metadata": {},
     "output_type": "display_data"
    }
   ],
   "source": [
    "\n",
    "fig = px.bar(z_time_sell, x = 'State', y='value')\n",
    "fig['layout'].update(height=600)\n",
    "fig_widget = go.FigureWidget(fig)\n",
    "fig_widget"
   ]
  },
  {
   "cell_type": "markdown",
   "id": "698c8813-faa0-452c-b775-6ca4593a48d1",
   "metadata": {},
   "source": [
    "# City Population"
   ]
  },
  {
   "cell_type": "code",
   "execution_count": 22,
   "id": "2fee077a-524b-4391-b628-8c4d3f911870",
   "metadata": {},
   "outputs": [
    {
     "data": {
      "text/html": [
       "<div>\n",
       "<style scoped>\n",
       "    .dataframe tbody tr th:only-of-type {\n",
       "        vertical-align: middle;\n",
       "    }\n",
       "\n",
       "    .dataframe tbody tr th {\n",
       "        vertical-align: top;\n",
       "    }\n",
       "\n",
       "    .dataframe thead th {\n",
       "        text-align: right;\n",
       "    }\n",
       "</style>\n",
       "<table border=\"1\" class=\"dataframe\">\n",
       "  <thead>\n",
       "    <tr style=\"text-align: right;\">\n",
       "      <th></th>\n",
       "      <th>SUMLEV</th>\n",
       "      <th>STATE</th>\n",
       "      <th>COUNTY</th>\n",
       "      <th>PLACE</th>\n",
       "      <th>COUSUB</th>\n",
       "      <th>CONCIT</th>\n",
       "      <th>PRIMGEO_FLAG</th>\n",
       "      <th>FUNCSTAT</th>\n",
       "      <th>NAME</th>\n",
       "      <th>STNAME</th>\n",
       "      <th>CENSUS2010POP</th>\n",
       "      <th>ESTIMATESBASE2010</th>\n",
       "      <th>POPESTIMATE2010</th>\n",
       "      <th>POPESTIMATE2011</th>\n",
       "      <th>POPESTIMATE2012</th>\n",
       "      <th>POPESTIMATE2013</th>\n",
       "      <th>POPESTIMATE2014</th>\n",
       "      <th>POPESTIMATE2015</th>\n",
       "      <th>POPESTIMATE2016</th>\n",
       "    </tr>\n",
       "  </thead>\n",
       "  <tbody>\n",
       "    <tr>\n",
       "      <th>0</th>\n",
       "      <td>40</td>\n",
       "      <td>1</td>\n",
       "      <td>0</td>\n",
       "      <td>0</td>\n",
       "      <td>0</td>\n",
       "      <td>0</td>\n",
       "      <td>0</td>\n",
       "      <td>A</td>\n",
       "      <td>Alabama</td>\n",
       "      <td>Alabama</td>\n",
       "      <td>4779736</td>\n",
       "      <td>4780131</td>\n",
       "      <td>4785492</td>\n",
       "      <td>4799918</td>\n",
       "      <td>4815960</td>\n",
       "      <td>4829479</td>\n",
       "      <td>4843214</td>\n",
       "      <td>4853875</td>\n",
       "      <td>4863300</td>\n",
       "    </tr>\n",
       "  </tbody>\n",
       "</table>\n",
       "</div>"
      ],
      "text/plain": [
       "   SUMLEV  STATE  COUNTY  PLACE  COUSUB  CONCIT  PRIMGEO_FLAG FUNCSTAT  \\\n",
       "0      40      1       0      0       0       0             0        A   \n",
       "\n",
       "      NAME   STNAME CENSUS2010POP  ESTIMATESBASE2010  POPESTIMATE2010  \\\n",
       "0  Alabama  Alabama       4779736            4780131          4785492   \n",
       "\n",
       "   POPESTIMATE2011  POPESTIMATE2012  POPESTIMATE2013  POPESTIMATE2014  \\\n",
       "0          4799918          4815960          4829479          4843214   \n",
       "\n",
       "   POPESTIMATE2015  POPESTIMATE2016  \n",
       "0          4853875          4863300  "
      ]
     },
     "execution_count": 22,
     "metadata": {},
     "output_type": "execute_result"
    }
   ],
   "source": [
    "\n",
    "z_pop16 = pd.read_csv('Datasets/Population/2016_Us_Population_By_City.csv')\n",
    "z_pop20 = pd.read_csv('Datasets/Population/2020_Us_Population_By_City.csv')\n",
    "z_pop16.head(1)"
   ]
  },
  {
   "cell_type": "code",
   "execution_count": 23,
   "id": "2cae3b16-7efc-4f13-bc84-683befa5ee80",
   "metadata": {},
   "outputs": [
    {
     "data": {
      "text/html": [
       "<div>\n",
       "<style scoped>\n",
       "    .dataframe tbody tr th:only-of-type {\n",
       "        vertical-align: middle;\n",
       "    }\n",
       "\n",
       "    .dataframe tbody tr th {\n",
       "        vertical-align: top;\n",
       "    }\n",
       "\n",
       "    .dataframe thead th {\n",
       "        text-align: right;\n",
       "    }\n",
       "</style>\n",
       "<table border=\"1\" class=\"dataframe\">\n",
       "  <thead>\n",
       "    <tr style=\"text-align: right;\">\n",
       "      <th></th>\n",
       "      <th>SUMLEV</th>\n",
       "      <th>STATE</th>\n",
       "      <th>COUNTY</th>\n",
       "      <th>PLACE</th>\n",
       "      <th>COUSUB</th>\n",
       "      <th>CONCIT</th>\n",
       "      <th>PRIMGEO_FLAG</th>\n",
       "      <th>FUNCSTAT</th>\n",
       "      <th>NAME</th>\n",
       "      <th>STNAME</th>\n",
       "      <th>...</th>\n",
       "      <th>POPESTIMATE2012</th>\n",
       "      <th>POPESTIMATE2013</th>\n",
       "      <th>POPESTIMATE2014</th>\n",
       "      <th>POPESTIMATE2015</th>\n",
       "      <th>POPESTIMATE2016</th>\n",
       "      <th>POPESTIMATE2017</th>\n",
       "      <th>POPESTIMATE2018</th>\n",
       "      <th>POPESTIMATE2019</th>\n",
       "      <th>POPESTIMATE042020</th>\n",
       "      <th>POPESTIMATE2020</th>\n",
       "    </tr>\n",
       "  </thead>\n",
       "  <tbody>\n",
       "    <tr>\n",
       "      <th>0</th>\n",
       "      <td>40</td>\n",
       "      <td>1</td>\n",
       "      <td>0</td>\n",
       "      <td>0</td>\n",
       "      <td>0</td>\n",
       "      <td>0</td>\n",
       "      <td>0</td>\n",
       "      <td>A</td>\n",
       "      <td>Alabama</td>\n",
       "      <td>Alabama</td>\n",
       "      <td>...</td>\n",
       "      <td>4816632</td>\n",
       "      <td>4831586</td>\n",
       "      <td>4843737</td>\n",
       "      <td>4854803</td>\n",
       "      <td>4866824</td>\n",
       "      <td>4877989</td>\n",
       "      <td>4891628</td>\n",
       "      <td>4907965</td>\n",
       "      <td>4920706</td>\n",
       "      <td>4921532</td>\n",
       "    </tr>\n",
       "  </tbody>\n",
       "</table>\n",
       "<p>1 rows × 24 columns</p>\n",
       "</div>"
      ],
      "text/plain": [
       "   SUMLEV  STATE  COUNTY  PLACE  COUSUB  CONCIT  PRIMGEO_FLAG FUNCSTAT  \\\n",
       "0      40      1       0      0       0       0             0        A   \n",
       "\n",
       "      NAME   STNAME  ... POPESTIMATE2012  POPESTIMATE2013  POPESTIMATE2014  \\\n",
       "0  Alabama  Alabama  ...         4816632          4831586          4843737   \n",
       "\n",
       "   POPESTIMATE2015  POPESTIMATE2016  POPESTIMATE2017  POPESTIMATE2018  \\\n",
       "0          4854803          4866824          4877989          4891628   \n",
       "\n",
       "   POPESTIMATE2019  POPESTIMATE042020  POPESTIMATE2020  \n",
       "0          4907965            4920706          4921532  \n",
       "\n",
       "[1 rows x 24 columns]"
      ]
     },
     "execution_count": 23,
     "metadata": {},
     "output_type": "execute_result"
    }
   ],
   "source": [
    "z_pop20.head(1)"
   ]
  },
  {
   "cell_type": "markdown",
   "id": "2b4e9f9d-eb25-474e-931c-3c54ba43ec57",
   "metadata": {},
   "source": [
    "Because '2020_Us_Population_By_City' actually contains data for both 2017 and 2019, that will be my only dataset for population"
   ]
  },
  {
   "cell_type": "markdown",
   "id": "35b7826e-2ba1-4279-8258-4a0792b0bdbf",
   "metadata": {},
   "source": [
    "#### Cleaned"
   ]
  },
  {
   "cell_type": "code",
   "execution_count": 24,
   "id": "d83894b2-16d5-450d-bad8-b467b150e51e",
   "metadata": {},
   "outputs": [
    {
     "data": {
      "text/html": [
       "<div>\n",
       "<style scoped>\n",
       "    .dataframe tbody tr th:only-of-type {\n",
       "        vertical-align: middle;\n",
       "    }\n",
       "\n",
       "    .dataframe tbody tr th {\n",
       "        vertical-align: top;\n",
       "    }\n",
       "\n",
       "    .dataframe thead th {\n",
       "        text-align: right;\n",
       "    }\n",
       "</style>\n",
       "<table border=\"1\" class=\"dataframe\">\n",
       "  <thead>\n",
       "    <tr style=\"text-align: right;\">\n",
       "      <th></th>\n",
       "      <th>State</th>\n",
       "      <th>Year</th>\n",
       "      <th>value</th>\n",
       "    </tr>\n",
       "  </thead>\n",
       "  <tbody>\n",
       "    <tr>\n",
       "      <th>0</th>\n",
       "      <td>Alabama</td>\n",
       "      <td>2017</td>\n",
       "      <td>17612945</td>\n",
       "    </tr>\n",
       "    <tr>\n",
       "      <th>1</th>\n",
       "      <td>Alabama</td>\n",
       "      <td>2020</td>\n",
       "      <td>17774905</td>\n",
       "    </tr>\n",
       "    <tr>\n",
       "      <th>2</th>\n",
       "      <td>Alaska</td>\n",
       "      <td>2017</td>\n",
       "      <td>2720405</td>\n",
       "    </tr>\n",
       "    <tr>\n",
       "      <th>3</th>\n",
       "      <td>Alaska</td>\n",
       "      <td>2020</td>\n",
       "      <td>2682488</td>\n",
       "    </tr>\n",
       "    <tr>\n",
       "      <th>4</th>\n",
       "      <td>Arizona</td>\n",
       "      <td>2017</td>\n",
       "      <td>26743312</td>\n",
       "    </tr>\n",
       "  </tbody>\n",
       "</table>\n",
       "</div>"
      ],
      "text/plain": [
       "     State  Year     value\n",
       "0  Alabama  2017  17612945\n",
       "1  Alabama  2020  17774905\n",
       "2   Alaska  2017   2720405\n",
       "3   Alaska  2020   2682488\n",
       "4  Arizona  2017  26743312"
      ]
     },
     "execution_count": 24,
     "metadata": {},
     "output_type": "execute_result"
    }
   ],
   "source": [
    "\n",
    "z_pop17_20 =cld.get_population_data()\n",
    "z_pop17_20.head(5)"
   ]
  },
  {
   "cell_type": "markdown",
   "id": "9f75f760-4695-43b6-a069-c480ee3ca02a",
   "metadata": {},
   "source": [
    "#### Zscores"
   ]
  },
  {
   "cell_type": "code",
   "execution_count": 25,
   "id": "e8c2d717-a1ba-48a4-8132-3694c809867f",
   "metadata": {},
   "outputs": [
    {
     "name": "stdout",
     "output_type": "stream",
     "text": [
      "full length  102\n",
      "sample size  6\n",
      "df Z-Scores\n",
      "value   -0.469406\n",
      "dtype: float64\n"
     ]
    }
   ],
   "source": [
    "vld.run_zscore(z_pop17_20, ['value'])"
   ]
  },
  {
   "cell_type": "markdown",
   "id": "36dbe3d1-449f-4d6f-9af9-a47f2f20e758",
   "metadata": {},
   "source": [
    "#### Graphs"
   ]
  },
  {
   "cell_type": "code",
   "execution_count": 30,
   "id": "3d68be97-944f-4106-8b2a-353025abcf59",
   "metadata": {},
   "outputs": [
    {
     "data": {
      "application/vnd.jupyter.widget-view+json": {
       "model_id": "cd7431bdf65148e2ae506ad0c65c2822",
       "version_major": 2,
       "version_minor": 0
      },
      "text/plain": [
       "FigureWidget({\n",
       "    'data': [{'alignmentgroup': 'True',\n",
       "              'hovertemplate': 'Year=2017<br>State=%{x}…"
      ]
     },
     "metadata": {},
     "output_type": "display_data"
    }
   ],
   "source": [
    "\n",
    "fig = px.bar(z_pop17_20, x = 'State', y='value',\n",
    "            title = 'Sales Costs by State and Size(2020)',\n",
    "            color='Year',\n",
    "             barmode = 'group'\n",
    "            )\n",
    "fig['layout'].update(height=600)\n",
    "fig_widget = go.FigureWidget(fig)\n",
    "fig_widget"
   ]
  },
  {
   "cell_type": "markdown",
   "id": "3e478839-0f43-4a50-bc6d-04feec8f48c5",
   "metadata": {},
   "source": [
    "There is not a massively difference between 2017 and 2020, percentage-wise."
   ]
  },
  {
   "cell_type": "markdown",
   "id": "155148bd-85dc-475d-a391-80d06d761a9b",
   "metadata": {},
   "source": [
    "#### Further Exploration"
   ]
  },
  {
   "cell_type": "code",
   "execution_count": null,
   "id": "bc84fa47-7316-42a5-9bf2-faa3e252c5cd",
   "metadata": {},
   "outputs": [],
   "source": [
    "merged_loc =tfd.consolidate_sell_pop(z_time_sell, z_pop17_20)\n",
    "m_17 = merged_loc[merged_loc['year'] == '2017']\n",
    "m_20 = merged_loc[merged_loc['year'] == '2020']\n",
    "\n",
    "growth_rate1 = m_17.merge(m_20, left_on=['state'], right_on=['state'])\n",
    "\n",
    "growth_rate1['sell_time_change'] = growth_rate1['days_to_sell_y'] /  growth_rate1['days_to_sell_x']\n",
    "growth_rate1['pop_growth'] = growth_rate1['population_y'] /  growth_rate1['population_x']\n",
    "growth_rate1 = growth_rate1[['state', 'sell_time_change', 'pop_growth']]\n",
    "growth_rate1.head(3)"
   ]
  },
  {
   "cell_type": "markdown",
   "id": "852f9fc6-cd7f-4eab-97b6-c69b9ae5d788",
   "metadata": {},
   "source": [
    "from 2017 to 2020, these are the days to sell (under 1 means selling quicker, over 1 means market has slowed down) as well as population growth."
   ]
  },
  {
   "cell_type": "code",
   "execution_count": null,
   "id": "b4159a4b-6d71-4776-9c07-7cddf62a4d20",
   "metadata": {},
   "outputs": [],
   "source": [
    "growth_rate1.std()"
   ]
  },
  {
   "cell_type": "markdown",
   "id": "7cb66239-e5fe-450e-b050-460551f639a7",
   "metadata": {},
   "source": [
    "There is a much tighter range for deviation in our population growth column (10% sell_time vs almost 2% pop change)"
   ]
  },
  {
   "cell_type": "code",
   "execution_count": null,
   "id": "dc3ee985-c254-42e8-9f7b-d202fd6d1a6d",
   "metadata": {},
   "outputs": [],
   "source": [
    "growth_rate1 =tfd.append_zscores(growth_rate1, 'sell_time_change', 'sell_z')\n",
    "growth_rate1 =tfd.append_zscores(growth_rate1, 'pop_growth', 'pop_growth_z')\n",
    "fig =px.scatter(growth_rate1, x = 'sell_z', y='pop_growth_z',\n",
    "            title =  'Deviation of saletime vs pop growth',\n",
    "            hover_data =['state']\n",
    "            )\n",
    "fig['layout'].update(height=800, width = 1600)\n",
    "fig_widget = go.FigureWidget(fig)\n",
    "fig_widget"
   ]
  },
  {
   "cell_type": "markdown",
   "id": "7c9a738f-4145-4b9b-a2b5-3c3cafdb87cd",
   "metadata": {},
   "source": [
    "##### New Data"
   ]
  },
  {
   "cell_type": "code",
   "execution_count": null,
   "id": "85e21abc-949d-47a5-8f59-e46ead74d49b",
   "metadata": {},
   "outputs": [],
   "source": [
    "growth_rate1.to_csv('Final_Data/Further_Datasets/State_Growth_Rate.csv', index=False)"
   ]
  },
  {
   "cell_type": "markdown",
   "id": "35a45f06-b6eb-4c14-b4a5-2b76a21ae2db",
   "metadata": {},
   "source": [
    "# State, Sex, Age and Degree Data"
   ]
  },
  {
   "cell_type": "code",
   "execution_count": null,
   "id": "b2451cfc-039c-4c49-bcf3-dc8c8e1fb0da",
   "metadata": {},
   "outputs": [],
   "source": [
    "\n",
    "s_s_a_deg = pd.read_csv('Datasets/Regional Education/Bachelor_Degree_Majors.csv')\n",
    "s_s_a_deg.head(1)"
   ]
  },
  {
   "cell_type": "markdown",
   "id": "36fec575-f1d4-4fb2-bfb3-75b5f9088a67",
   "metadata": {},
   "source": [
    "Data isn't totally  out of control, I'll mostly be cleaning"
   ]
  },
  {
   "cell_type": "markdown",
   "id": "a1a7a058-070f-4ade-85a1-884d8e2e1169",
   "metadata": {},
   "source": [
    "#### Cleaned"
   ]
  },
  {
   "cell_type": "code",
   "execution_count": null,
   "id": "c9e46ed7-7837-4136-96cc-4580445fe8e6",
   "metadata": {},
   "outputs": [],
   "source": [
    "\n",
    "st_ag_deg = cld.state_agegroup_degree_majors()\n",
    "st_ag_deg.head(5)"
   ]
  },
  {
   "cell_type": "markdown",
   "id": "b22f480e-20c1-4261-aa7b-e4b4c3742866",
   "metadata": {},
   "source": [
    "#### Zscores"
   ]
  },
  {
   "cell_type": "code",
   "execution_count": null,
   "id": "ebd31190-5b5d-44b8-8adb-f6d65c35d839",
   "metadata": {},
   "outputs": [],
   "source": [
    "vld.run_zscore(st_ag_deg, ['value'])"
   ]
  },
  {
   "cell_type": "markdown",
   "id": "ce802865-19f2-4898-b48e-ed632ad34283",
   "metadata": {},
   "source": [
    "#### Graphs"
   ]
  },
  {
   "cell_type": "code",
   "execution_count": null,
   "id": "3c3ca786-59f0-40b7-8747-64fada3d10f1",
   "metadata": {},
   "outputs": [],
   "source": [
    "fig =px.bar(st_ag_deg, x = 'State', y='value',\n",
    "            title =  'Degree Counts By state and age',\n",
    "            color= 'Field',\n",
    "            range_color=[0,1000000]\n",
    "            )\n",
    "fig['layout'].update(height=800, width = 1600)\n",
    "fig_widget = go.FigureWidget(fig)\n",
    "fig_widget"
   ]
  },
  {
   "cell_type": "markdown",
   "id": "b2b61f0d-d194-4c47-a947-87f504881754",
   "metadata": {},
   "source": [
    "as age increases, there are very clear decreases in degree counts. Texas was a suprisingly strong contender for the 40 to 64 crowd."
   ]
  },
  {
   "cell_type": "markdown",
   "id": "6c0ece34-0862-4e01-89f9-8467e5e97ee8",
   "metadata": {},
   "source": [
    "#### Further Exploration"
   ]
  },
  {
   "cell_type": "code",
   "execution_count": null,
   "id": "36d78a4c-f5db-4220-ac46-70173477de55",
   "metadata": {},
   "outputs": [],
   "source": [
    "loc_field_focus = tfd.group_state_degree_data(st_ag_deg)\n",
    "loc_field_focus = tfd.add_state_region(loc_field_focus, 'State')\n",
    "fig = px.pie(loc_field_focus, values='Total',color = 'Region',hover_data =[loc_field_focus['State']], title='Total Bachelors by State',\n",
    "            height = 700, width = 700, hole = .1)\n",
    "fig.update_layout(margin=dict(t=0, b=0, l=0, r=0))\n",
    "fig.update_traces(textinfo='none')\n",
    "fig.show()"
   ]
  },
  {
   "cell_type": "markdown",
   "id": "bad293f9-6d43-409f-98db-766b2a412f06",
   "metadata": {},
   "source": [
    "Above is a pie chart, with bachelors degrees (total) by state\n",
    "\n",
    "California, Texas and New York alone make up a quarter of all bachelors degrees.\n",
    "\n",
    "These are also colorcoded by Region"
   ]
  },
  {
   "cell_type": "code",
   "execution_count": null,
   "id": "434298aa-fc56-4f15-a3cf-75942d6152ca",
   "metadata": {},
   "outputs": [],
   "source": [
    "loc_field_focus_reg = loc_field_focus.groupby('Region').sum().reset_index()\n",
    "\n",
    "fig = px.pie(loc_field_focus_reg, values='Total', title='Total Bachelors by Region',\n",
    "            height = 700, width = 700, hole = .1, color='Region')\n",
    "fig.update_layout(margin=dict(t=0, b=0, l=0, r=0))\n",
    "fig.show()"
   ]
  },
  {
   "cell_type": "code",
   "execution_count": null,
   "id": "58b4f0c5-f367-45ac-b54a-b78617f3ab29",
   "metadata": {},
   "outputs": [],
   "source": [
    "loc_field_focus.groupby('Region')['State'].count()"
   ]
  },
  {
   "cell_type": "markdown",
   "id": "cacfca8f-b0db-4bc3-8402-2a4a533c9c20",
   "metadata": {},
   "source": [
    "The south has nearly double the states of the Northeast."
   ]
  },
  {
   "cell_type": "code",
   "execution_count": null,
   "id": "beeea096-f137-4d1f-8db8-f85551362dbb",
   "metadata": {},
   "outputs": [],
   "source": [
    "loc_field_focus.groupby('Region')['Total'].mean()"
   ]
  },
  {
   "cell_type": "markdown",
   "id": "073d746f-dede-4598-9b5e-34acc1c3031d",
   "metadata": {},
   "source": [
    "The average amount of degrees held per state in a region is highest in the Northeastern Region."
   ]
  },
  {
   "cell_type": "code",
   "execution_count": null,
   "id": "d1db52bb-f2e8-4c24-91a4-c7dfea7a3cf5",
   "metadata": {},
   "outputs": [],
   "source": [
    "loc_age_deg = tfd.group_age_degree_data(st_ag_deg)"
   ]
  },
  {
   "cell_type": "code",
   "execution_count": null,
   "id": "a4333dc6-f717-42f5-bfcf-e68c348b67f1",
   "metadata": {},
   "outputs": [],
   "source": [
    "loc_age_deg_bar = loc_age_deg[['Arts, Humanities and Others', 'Business', 'Education',\n",
    "       'Sci_Eng_Related', 'Science and Engineering']]\n",
    "fig = px.bar(loc_age_deg_bar, x = loc_age_deg_bar.index, y=loc_age_deg_bar.columns,\n",
    "            title = 'Degrees by age group')\n",
    "\n",
    "fig['layout'].update(height=600)\n",
    "fig_widget = go.FigureWidget(fig)\n",
    "fig_widget"
   ]
  },
  {
   "cell_type": "markdown",
   "id": "e2aa7892-4b41-4281-8eb0-4a75a6485fcb",
   "metadata": {},
   "source": [
    "Observations:\n",
    "\n",
    "* Science and engineering is always in demand\n",
    "* the older crowd has the most prominent Education presence\n",
    "* 40 to 64 see's the highest number of Bachelors degree holders(according to the original dataset)"
   ]
  },
  {
   "cell_type": "code",
   "execution_count": null,
   "id": "678a6c0d-0cba-43fa-ac11-32acee78a893",
   "metadata": {},
   "outputs": [],
   "source": [
    "loc_field_focus.to_csv('Final_Data/Further_Datasets/State_Bachelor_Counts.csv', index=False)\n",
    "loc_age_deg.to_csv('Final_Data/Further_Datasets/Age_Bachelor_Counts.csv', index=False)"
   ]
  }
 ],
 "metadata": {
  "kernelspec": {
   "display_name": "Python 3 (ipykernel)",
   "language": "python",
   "name": "python3"
  },
  "language_info": {
   "codemirror_mode": {
    "name": "ipython",
    "version": 3
   },
   "file_extension": ".py",
   "mimetype": "text/x-python",
   "name": "python",
   "nbconvert_exporter": "python",
   "pygments_lexer": "ipython3",
   "version": "3.9.7"
  }
 },
 "nbformat": 4,
 "nbformat_minor": 5
}
