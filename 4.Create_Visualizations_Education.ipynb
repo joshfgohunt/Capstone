{
 "cells": [
  {
   "cell_type": "code",
   "execution_count": 1,
   "id": "d5189ec8-7570-48e2-a4b4-55498a3b79bb",
   "metadata": {},
   "outputs": [],
   "source": [
    "import pandas as pd\n",
    "import matplotlib.pyplot as plt\n",
    "import seaborn as sns\n",
    "import numpy as np"
   ]
  },
  {
   "cell_type": "code",
   "execution_count": 2,
   "id": "48d1f0c0-0ac9-4449-9091-55279e9822ef",
   "metadata": {},
   "outputs": [],
   "source": [
    "df1 = pd.read_csv('Final_Data/Degree_Position_Count.csv')\n",
    "df2 = pd.read_csv('Final_Data/Baseline_Degree_payback_grouped_mean.csv')\n",
    "df3 = pd.read_csv('Final_Data/Weighted_Industry_Fields.csv')\n",
    "df4 = pd.read_csv('Final_Data/Melted_State_Degree_Ratios.csv')"
   ]
  },
  {
   "cell_type": "code",
   "execution_count": 3,
   "id": "b04bb45f-960b-43a2-a302-18d4e7f7e001",
   "metadata": {},
   "outputs": [],
   "source": [
    "df4 = df4[df4['field'] != 'State_Total']\n",
    "df4 = df4[['state', 'field', 'ratio']]"
   ]
  },
  {
   "cell_type": "code",
   "execution_count": 4,
   "id": "3028524d-91d9-4f4a-b76f-ed4b36764170",
   "metadata": {},
   "outputs": [],
   "source": [
    "df1_grp = df1.groupby('category')['count'].sum()"
   ]
  },
  {
   "cell_type": "code",
   "execution_count": 5,
   "id": "c9406cc6-157f-4842-968f-8b48852590c0",
   "metadata": {},
   "outputs": [
    {
     "data": {
      "text/plain": [
       "category\n",
       "Business, Admin, PR                 40168598\n",
       "Science, Technology, Engineering    18381966\n",
       "Name: count, dtype: int64"
      ]
     },
     "execution_count": 5,
     "metadata": {},
     "output_type": "execute_result"
    }
   ],
   "source": [
    "df1_grp"
   ]
  },
  {
   "cell_type": "markdown",
   "id": "4958dd31-aa61-49a3-a622-5b5a3993cc49",
   "metadata": {},
   "source": [
    "I have to discard this, as it doesn't include data for 3 of my 5 groupings"
   ]
  },
  {
   "cell_type": "code",
   "execution_count": 6,
   "id": "f0dca8b5-088e-4306-a006-73247b23a09e",
   "metadata": {},
   "outputs": [],
   "source": [
    "\n",
    "df2_grp = df2.groupby('field').mean()"
   ]
  },
  {
   "cell_type": "code",
   "execution_count": 7,
   "id": "161d425d-3ebd-4739-a0c0-58e30d280cc6",
   "metadata": {},
   "outputs": [
    {
     "data": {
      "text/html": [
       "<div>\n",
       "<style scoped>\n",
       "    .dataframe tbody tr th:only-of-type {\n",
       "        vertical-align: middle;\n",
       "    }\n",
       "\n",
       "    .dataframe tbody tr th {\n",
       "        vertical-align: top;\n",
       "    }\n",
       "\n",
       "    .dataframe thead th {\n",
       "        text-align: right;\n",
       "    }\n",
       "</style>\n",
       "<table border=\"1\" class=\"dataframe\">\n",
       "  <thead>\n",
       "    <tr style=\"text-align: right;\">\n",
       "      <th></th>\n",
       "      <th>Starting Median Salary</th>\n",
       "      <th>Mid-Career Median Salary</th>\n",
       "      <th>Percent change from Starting to Mid-Career Salary</th>\n",
       "    </tr>\n",
       "    <tr>\n",
       "      <th>field</th>\n",
       "      <th></th>\n",
       "      <th></th>\n",
       "      <th></th>\n",
       "    </tr>\n",
       "  </thead>\n",
       "  <tbody>\n",
       "    <tr>\n",
       "      <th>Architecture, Design</th>\n",
       "      <td>41775.000000</td>\n",
       "      <td>69675.000000</td>\n",
       "      <td>0.662500</td>\n",
       "    </tr>\n",
       "    <tr>\n",
       "      <th>Business, Admin, PR</th>\n",
       "      <td>43828.571429</td>\n",
       "      <td>80942.857143</td>\n",
       "      <td>0.847143</td>\n",
       "    </tr>\n",
       "    <tr>\n",
       "      <th>Consumer, Retail, Arts, Humanities</th>\n",
       "      <td>36420.000000</td>\n",
       "      <td>61030.000000</td>\n",
       "      <td>0.673300</td>\n",
       "    </tr>\n",
       "    <tr>\n",
       "      <th>Health, Education, Government, Civil</th>\n",
       "      <td>40740.000000</td>\n",
       "      <td>62820.000000</td>\n",
       "      <td>0.562800</td>\n",
       "    </tr>\n",
       "    <tr>\n",
       "      <th>Science, Technology, Engineering</th>\n",
       "      <td>48904.166667</td>\n",
       "      <td>82066.666667</td>\n",
       "      <td>0.687917</td>\n",
       "    </tr>\n",
       "  </tbody>\n",
       "</table>\n",
       "</div>"
      ],
      "text/plain": [
       "                                      Starting Median Salary  \\\n",
       "field                                                          \n",
       "Architecture, Design                            41775.000000   \n",
       "Business, Admin, PR                             43828.571429   \n",
       "Consumer, Retail, Arts, Humanities              36420.000000   \n",
       "Health, Education, Government, Civil            40740.000000   \n",
       "Science, Technology, Engineering                48904.166667   \n",
       "\n",
       "                                      Mid-Career Median Salary  \\\n",
       "field                                                            \n",
       "Architecture, Design                              69675.000000   \n",
       "Business, Admin, PR                               80942.857143   \n",
       "Consumer, Retail, Arts, Humanities                61030.000000   \n",
       "Health, Education, Government, Civil              62820.000000   \n",
       "Science, Technology, Engineering                  82066.666667   \n",
       "\n",
       "                                      Percent change from Starting to Mid-Career Salary  \n",
       "field                                                                                    \n",
       "Architecture, Design                                                           0.662500  \n",
       "Business, Admin, PR                                                            0.847143  \n",
       "Consumer, Retail, Arts, Humanities                                             0.673300  \n",
       "Health, Education, Government, Civil                                           0.562800  \n",
       "Science, Technology, Engineering                                               0.687917  "
      ]
     },
     "execution_count": 7,
     "metadata": {},
     "output_type": "execute_result"
    }
   ],
   "source": [
    "df2_grp"
   ]
  },
  {
   "cell_type": "code",
   "execution_count": 8,
   "id": "98388dd1-eb3e-49e7-926b-60c7ab852e17",
   "metadata": {},
   "outputs": [
    {
     "name": "stdout",
     "output_type": "stream",
     "text": [
      "                                  field    count  normalize_industry_weight\n",
      "0                  Architecture, Design   848572                  13.651310\n",
      "1                   Business, Admin, PR  1995790                  14.506551\n",
      "2    Consumer, Retail, Arts, Humanities  2363082                  14.675477\n",
      "3  Health, Education, Government, Civil  1395824                  14.148995\n",
      "4      Science, Technology, Engineering  2358322                  14.673461\n"
     ]
    }
   ],
   "source": [
    "print(df3)"
   ]
  },
  {
   "cell_type": "markdown",
   "id": "61010bcd-cc14-49b5-b3f7-eadfdfe4457c",
   "metadata": {},
   "source": [
    "The normalized weights here are to identify how many opportunities (roughly) are available in that field."
   ]
  },
  {
   "cell_type": "code",
   "execution_count": 9,
   "id": "82aede81-9d9c-444e-8367-c9818004be56",
   "metadata": {},
   "outputs": [
    {
     "data": {
      "text/html": [
       "<div>\n",
       "<style scoped>\n",
       "    .dataframe tbody tr th:only-of-type {\n",
       "        vertical-align: middle;\n",
       "    }\n",
       "\n",
       "    .dataframe tbody tr th {\n",
       "        vertical-align: top;\n",
       "    }\n",
       "\n",
       "    .dataframe thead th {\n",
       "        text-align: right;\n",
       "    }\n",
       "</style>\n",
       "<table border=\"1\" class=\"dataframe\">\n",
       "  <thead>\n",
       "    <tr style=\"text-align: right;\">\n",
       "      <th></th>\n",
       "      <th></th>\n",
       "      <th>ratio</th>\n",
       "    </tr>\n",
       "    <tr>\n",
       "      <th>state</th>\n",
       "      <th>field</th>\n",
       "      <th></th>\n",
       "    </tr>\n",
       "  </thead>\n",
       "  <tbody>\n",
       "    <tr>\n",
       "      <th rowspan=\"5\" valign=\"top\">Alabama</th>\n",
       "      <th>Architecture, Design</th>\n",
       "      <td>0.111192</td>\n",
       "    </tr>\n",
       "    <tr>\n",
       "      <th>Business, Admin, PR</th>\n",
       "      <td>0.237358</td>\n",
       "    </tr>\n",
       "    <tr>\n",
       "      <th>Consumer, Retail, Arts, Humanities</th>\n",
       "      <td>0.194429</td>\n",
       "    </tr>\n",
       "    <tr>\n",
       "      <th>Health, Education, Government, Civil</th>\n",
       "      <td>0.159338</td>\n",
       "    </tr>\n",
       "    <tr>\n",
       "      <th>Science, Technology, Engineering</th>\n",
       "      <td>0.297682</td>\n",
       "    </tr>\n",
       "    <tr>\n",
       "      <th>...</th>\n",
       "      <th>...</th>\n",
       "      <td>...</td>\n",
       "    </tr>\n",
       "    <tr>\n",
       "      <th rowspan=\"5\" valign=\"top\">Wyoming</th>\n",
       "      <th>Architecture, Design</th>\n",
       "      <td>0.104291</td>\n",
       "    </tr>\n",
       "    <tr>\n",
       "      <th>Business, Admin, PR</th>\n",
       "      <td>0.146799</td>\n",
       "    </tr>\n",
       "    <tr>\n",
       "      <th>Consumer, Retail, Arts, Humanities</th>\n",
       "      <td>0.184515</td>\n",
       "    </tr>\n",
       "    <tr>\n",
       "      <th>Health, Education, Government, Civil</th>\n",
       "      <td>0.198579</td>\n",
       "    </tr>\n",
       "    <tr>\n",
       "      <th>Science, Technology, Engineering</th>\n",
       "      <td>0.365816</td>\n",
       "    </tr>\n",
       "  </tbody>\n",
       "</table>\n",
       "<p>255 rows × 1 columns</p>\n",
       "</div>"
      ],
      "text/plain": [
       "                                                 ratio\n",
       "state   field                                         \n",
       "Alabama Architecture, Design                  0.111192\n",
       "        Business, Admin, PR                   0.237358\n",
       "        Consumer, Retail, Arts, Humanities    0.194429\n",
       "        Health, Education, Government, Civil  0.159338\n",
       "        Science, Technology, Engineering      0.297682\n",
       "...                                                ...\n",
       "Wyoming Architecture, Design                  0.104291\n",
       "        Business, Admin, PR                   0.146799\n",
       "        Consumer, Retail, Arts, Humanities    0.184515\n",
       "        Health, Education, Government, Civil  0.198579\n",
       "        Science, Technology, Engineering      0.365816\n",
       "\n",
       "[255 rows x 1 columns]"
      ]
     },
     "execution_count": 9,
     "metadata": {},
     "output_type": "execute_result"
    }
   ],
   "source": [
    "df4.groupby(['state','field']).mean()"
   ]
  },
  {
   "cell_type": "code",
   "execution_count": 10,
   "id": "62b21d33-a7a8-430d-89ae-380ba45c812a",
   "metadata": {},
   "outputs": [],
   "source": [
    "df = df3[['field', 'normalize_industry_weight']]"
   ]
  },
  {
   "cell_type": "code",
   "execution_count": 11,
   "id": "1e484065-0f20-4be5-b348-d2053fb55ce9",
   "metadata": {},
   "outputs": [],
   "source": [
    "df = df.merge(df2_grp, left_on='field', right_on='field', how='outer')"
   ]
  },
  {
   "cell_type": "code",
   "execution_count": 12,
   "id": "0900d51f-63e4-4fd0-a3ff-001f862059ec",
   "metadata": {},
   "outputs": [
    {
     "data": {
      "text/html": [
       "<div>\n",
       "<style scoped>\n",
       "    .dataframe tbody tr th:only-of-type {\n",
       "        vertical-align: middle;\n",
       "    }\n",
       "\n",
       "    .dataframe tbody tr th {\n",
       "        vertical-align: top;\n",
       "    }\n",
       "\n",
       "    .dataframe thead th {\n",
       "        text-align: right;\n",
       "    }\n",
       "</style>\n",
       "<table border=\"1\" class=\"dataframe\">\n",
       "  <thead>\n",
       "    <tr style=\"text-align: right;\">\n",
       "      <th></th>\n",
       "      <th>field</th>\n",
       "      <th>normalize_industry_weight</th>\n",
       "      <th>Starting Median Salary</th>\n",
       "      <th>Mid-Career Median Salary</th>\n",
       "      <th>Percent change from Starting to Mid-Career Salary</th>\n",
       "    </tr>\n",
       "  </thead>\n",
       "  <tbody>\n",
       "    <tr>\n",
       "      <th>0</th>\n",
       "      <td>Architecture, Design</td>\n",
       "      <td>13.651310</td>\n",
       "      <td>41775.000000</td>\n",
       "      <td>69675.000000</td>\n",
       "      <td>0.662500</td>\n",
       "    </tr>\n",
       "    <tr>\n",
       "      <th>1</th>\n",
       "      <td>Business, Admin, PR</td>\n",
       "      <td>14.506551</td>\n",
       "      <td>43828.571429</td>\n",
       "      <td>80942.857143</td>\n",
       "      <td>0.847143</td>\n",
       "    </tr>\n",
       "    <tr>\n",
       "      <th>2</th>\n",
       "      <td>Consumer, Retail, Arts, Humanities</td>\n",
       "      <td>14.675477</td>\n",
       "      <td>36420.000000</td>\n",
       "      <td>61030.000000</td>\n",
       "      <td>0.673300</td>\n",
       "    </tr>\n",
       "    <tr>\n",
       "      <th>3</th>\n",
       "      <td>Health, Education, Government, Civil</td>\n",
       "      <td>14.148995</td>\n",
       "      <td>40740.000000</td>\n",
       "      <td>62820.000000</td>\n",
       "      <td>0.562800</td>\n",
       "    </tr>\n",
       "    <tr>\n",
       "      <th>4</th>\n",
       "      <td>Science, Technology, Engineering</td>\n",
       "      <td>14.673461</td>\n",
       "      <td>48904.166667</td>\n",
       "      <td>82066.666667</td>\n",
       "      <td>0.687917</td>\n",
       "    </tr>\n",
       "  </tbody>\n",
       "</table>\n",
       "</div>"
      ],
      "text/plain": [
       "                                  field  normalize_industry_weight  \\\n",
       "0                  Architecture, Design                  13.651310   \n",
       "1                   Business, Admin, PR                  14.506551   \n",
       "2    Consumer, Retail, Arts, Humanities                  14.675477   \n",
       "3  Health, Education, Government, Civil                  14.148995   \n",
       "4      Science, Technology, Engineering                  14.673461   \n",
       "\n",
       "   Starting Median Salary  Mid-Career Median Salary  \\\n",
       "0            41775.000000              69675.000000   \n",
       "1            43828.571429              80942.857143   \n",
       "2            36420.000000              61030.000000   \n",
       "3            40740.000000              62820.000000   \n",
       "4            48904.166667              82066.666667   \n",
       "\n",
       "   Percent change from Starting to Mid-Career Salary  \n",
       "0                                           0.662500  \n",
       "1                                           0.847143  \n",
       "2                                           0.673300  \n",
       "3                                           0.562800  \n",
       "4                                           0.687917  "
      ]
     },
     "execution_count": 12,
     "metadata": {},
     "output_type": "execute_result"
    }
   ],
   "source": [
    "df"
   ]
  },
  {
   "cell_type": "code",
   "execution_count": 13,
   "id": "ec752160-9582-487b-b26e-fadf45befad1",
   "metadata": {},
   "outputs": [],
   "source": [
    "df = df4.merge(df, left_on='field', right_on='field', how='outer')\n",
    "df = df.dropna()"
   ]
  },
  {
   "cell_type": "code",
   "execution_count": 14,
   "id": "ba701131-efa7-49ae-8504-cd9cf459e2c9",
   "metadata": {},
   "outputs": [],
   "source": [
    "df = df[['state', 'field', 'ratio', 'normalize_industry_weight',\n",
    "       'Starting Median Salary', 'Mid-Career Median Salary']]"
   ]
  },
  {
   "cell_type": "code",
   "execution_count": 15,
   "id": "a29101be-ed42-4603-b883-c9962214c460",
   "metadata": {},
   "outputs": [],
   "source": [
    "df['score'] = df['ratio'] * df['normalize_industry_weight'] *  df['Starting Median Salary'] *  df['Mid-Career Median Salary']\n",
    "\n",
    "df['score'] = np.log(df['score'])"
   ]
  },
  {
   "cell_type": "code",
   "execution_count": 16,
   "id": "de9e0632-5cfe-410c-aeff-f3dd713084d0",
   "metadata": {},
   "outputs": [
    {
     "data": {
      "text/html": [
       "<div>\n",
       "<style scoped>\n",
       "    .dataframe tbody tr th:only-of-type {\n",
       "        vertical-align: middle;\n",
       "    }\n",
       "\n",
       "    .dataframe tbody tr th {\n",
       "        vertical-align: top;\n",
       "    }\n",
       "\n",
       "    .dataframe thead th {\n",
       "        text-align: right;\n",
       "    }\n",
       "</style>\n",
       "<table border=\"1\" class=\"dataframe\">\n",
       "  <thead>\n",
       "    <tr style=\"text-align: right;\">\n",
       "      <th></th>\n",
       "      <th>ratio</th>\n",
       "      <th>normalize_industry_weight</th>\n",
       "      <th>Starting Median Salary</th>\n",
       "      <th>Mid-Career Median Salary</th>\n",
       "      <th>score</th>\n",
       "    </tr>\n",
       "  </thead>\n",
       "  <tbody>\n",
       "    <tr>\n",
       "      <th>ratio</th>\n",
       "      <td>1.000000</td>\n",
       "      <td>0.768744</td>\n",
       "      <td>0.515714</td>\n",
       "      <td>0.489210</td>\n",
       "      <td>0.948077</td>\n",
       "    </tr>\n",
       "    <tr>\n",
       "      <th>normalize_industry_weight</th>\n",
       "      <td>0.768744</td>\n",
       "      <td>1.000000</td>\n",
       "      <td>0.143817</td>\n",
       "      <td>0.260843</td>\n",
       "      <td>0.744866</td>\n",
       "    </tr>\n",
       "    <tr>\n",
       "      <th>Starting Median Salary</th>\n",
       "      <td>0.515714</td>\n",
       "      <td>0.143817</td>\n",
       "      <td>1.000000</td>\n",
       "      <td>0.891035</td>\n",
       "      <td>0.660553</td>\n",
       "    </tr>\n",
       "    <tr>\n",
       "      <th>Mid-Career Median Salary</th>\n",
       "      <td>0.489210</td>\n",
       "      <td>0.260843</td>\n",
       "      <td>0.891035</td>\n",
       "      <td>1.000000</td>\n",
       "      <td>0.694030</td>\n",
       "    </tr>\n",
       "    <tr>\n",
       "      <th>score</th>\n",
       "      <td>0.948077</td>\n",
       "      <td>0.744866</td>\n",
       "      <td>0.660553</td>\n",
       "      <td>0.694030</td>\n",
       "      <td>1.000000</td>\n",
       "    </tr>\n",
       "  </tbody>\n",
       "</table>\n",
       "</div>"
      ],
      "text/plain": [
       "                              ratio  normalize_industry_weight  \\\n",
       "ratio                      1.000000                   0.768744   \n",
       "normalize_industry_weight  0.768744                   1.000000   \n",
       "Starting Median Salary     0.515714                   0.143817   \n",
       "Mid-Career Median Salary   0.489210                   0.260843   \n",
       "score                      0.948077                   0.744866   \n",
       "\n",
       "                           Starting Median Salary  Mid-Career Median Salary  \\\n",
       "ratio                                    0.515714                  0.489210   \n",
       "normalize_industry_weight                0.143817                  0.260843   \n",
       "Starting Median Salary                   1.000000                  0.891035   \n",
       "Mid-Career Median Salary                 0.891035                  1.000000   \n",
       "score                                    0.660553                  0.694030   \n",
       "\n",
       "                              score  \n",
       "ratio                      0.948077  \n",
       "normalize_industry_weight  0.744866  \n",
       "Starting Median Salary     0.660553  \n",
       "Mid-Career Median Salary   0.694030  \n",
       "score                      1.000000  "
      ]
     },
     "execution_count": 16,
     "metadata": {},
     "output_type": "execute_result"
    }
   ],
   "source": [
    "df.corr()"
   ]
  },
  {
   "cell_type": "code",
   "execution_count": 17,
   "id": "5788a8d2-de4d-457f-bcd7-0e91260fd497",
   "metadata": {},
   "outputs": [],
   "source": [
    "df = df[['state','field', 'ratio','score']].sort_values('score', ascending = False)"
   ]
  },
  {
   "cell_type": "code",
   "execution_count": 18,
   "id": "6a8c9222-8a3f-48e9-9406-6a53fe76e3b0",
   "metadata": {},
   "outputs": [
    {
     "data": {
      "text/html": [
       "<div>\n",
       "<style scoped>\n",
       "    .dataframe tbody tr th:only-of-type {\n",
       "        vertical-align: middle;\n",
       "    }\n",
       "\n",
       "    .dataframe tbody tr th {\n",
       "        vertical-align: top;\n",
       "    }\n",
       "\n",
       "    .dataframe thead th {\n",
       "        text-align: right;\n",
       "    }\n",
       "</style>\n",
       "<table border=\"1\" class=\"dataframe\">\n",
       "  <thead>\n",
       "    <tr style=\"text-align: right;\">\n",
       "      <th></th>\n",
       "      <th>state</th>\n",
       "      <th>field</th>\n",
       "      <th>ratio</th>\n",
       "      <th>score</th>\n",
       "    </tr>\n",
       "  </thead>\n",
       "  <tbody>\n",
       "    <tr>\n",
       "      <th>0</th>\n",
       "      <td>District of Columbia</td>\n",
       "      <td>Science, Technology, Engineering</td>\n",
       "      <td>0.485053</td>\n",
       "      <td>24.075448</td>\n",
       "    </tr>\n",
       "    <tr>\n",
       "      <th>1</th>\n",
       "      <td>Washington</td>\n",
       "      <td>Science, Technology, Engineering</td>\n",
       "      <td>0.421292</td>\n",
       "      <td>23.934516</td>\n",
       "    </tr>\n",
       "    <tr>\n",
       "      <th>2</th>\n",
       "      <td>California</td>\n",
       "      <td>Science, Technology, Engineering</td>\n",
       "      <td>0.416775</td>\n",
       "      <td>23.923738</td>\n",
       "    </tr>\n",
       "    <tr>\n",
       "      <th>3</th>\n",
       "      <td>Maryland</td>\n",
       "      <td>Science, Technology, Engineering</td>\n",
       "      <td>0.408777</td>\n",
       "      <td>23.904361</td>\n",
       "    </tr>\n",
       "    <tr>\n",
       "      <th>4</th>\n",
       "      <td>Massachusetts</td>\n",
       "      <td>Science, Technology, Engineering</td>\n",
       "      <td>0.407389</td>\n",
       "      <td>23.900959</td>\n",
       "    </tr>\n",
       "    <tr>\n",
       "      <th>...</th>\n",
       "      <td>...</td>\n",
       "      <td>...</td>\n",
       "      <td>...</td>\n",
       "      <td>...</td>\n",
       "    </tr>\n",
       "    <tr>\n",
       "      <th>57</th>\n",
       "      <td>Virginia</td>\n",
       "      <td>Architecture, Design</td>\n",
       "      <td>0.079575</td>\n",
       "      <td>21.874428</td>\n",
       "    </tr>\n",
       "    <tr>\n",
       "      <th>157</th>\n",
       "      <td>Massachusetts</td>\n",
       "      <td>Health, Education, Government, Civil</td>\n",
       "      <td>0.084413</td>\n",
       "      <td>21.840607</td>\n",
       "    </tr>\n",
       "    <tr>\n",
       "      <th>155</th>\n",
       "      <td>California</td>\n",
       "      <td>Health, Education, Government, Civil</td>\n",
       "      <td>0.061555</td>\n",
       "      <td>21.524806</td>\n",
       "    </tr>\n",
       "    <tr>\n",
       "      <th>51</th>\n",
       "      <td>District of Columbia</td>\n",
       "      <td>Architecture, Design</td>\n",
       "      <td>0.051793</td>\n",
       "      <td>21.444991</td>\n",
       "    </tr>\n",
       "    <tr>\n",
       "      <th>153</th>\n",
       "      <td>District of Columbia</td>\n",
       "      <td>Health, Education, Government, Civil</td>\n",
       "      <td>0.034008</td>\n",
       "      <td>20.931479</td>\n",
       "    </tr>\n",
       "  </tbody>\n",
       "</table>\n",
       "<p>255 rows × 4 columns</p>\n",
       "</div>"
      ],
      "text/plain": [
       "                    state                                 field     ratio  \\\n",
       "0    District of Columbia      Science, Technology, Engineering  0.485053   \n",
       "1              Washington      Science, Technology, Engineering  0.421292   \n",
       "2              California      Science, Technology, Engineering  0.416775   \n",
       "3                Maryland      Science, Technology, Engineering  0.408777   \n",
       "4           Massachusetts      Science, Technology, Engineering  0.407389   \n",
       "..                    ...                                   ...       ...   \n",
       "57               Virginia                  Architecture, Design  0.079575   \n",
       "157         Massachusetts  Health, Education, Government, Civil  0.084413   \n",
       "155            California  Health, Education, Government, Civil  0.061555   \n",
       "51   District of Columbia                  Architecture, Design  0.051793   \n",
       "153  District of Columbia  Health, Education, Government, Civil  0.034008   \n",
       "\n",
       "         score  \n",
       "0    24.075448  \n",
       "1    23.934516  \n",
       "2    23.923738  \n",
       "3    23.904361  \n",
       "4    23.900959  \n",
       "..         ...  \n",
       "57   21.874428  \n",
       "157  21.840607  \n",
       "155  21.524806  \n",
       "51   21.444991  \n",
       "153  20.931479  \n",
       "\n",
       "[255 rows x 4 columns]"
      ]
     },
     "execution_count": 18,
     "metadata": {},
     "output_type": "execute_result"
    }
   ],
   "source": [
    "df"
   ]
  },
  {
   "cell_type": "code",
   "execution_count": 19,
   "id": "4da19589-aec9-4c8a-9c54-e28b5a597359",
   "metadata": {},
   "outputs": [
    {
     "data": {
      "text/plain": [
       "field\n",
       "Science, Technology, Engineering        23.716886\n",
       "Business, Admin, PR                     23.010448\n",
       "Consumer, Retail, Arts, Humanities      22.707559\n",
       "Health, Education, Government, Civil    22.275990\n",
       "Architecture, Design                    22.124405\n",
       "Name: score, dtype: float64"
      ]
     },
     "execution_count": 19,
     "metadata": {},
     "output_type": "execute_result"
    }
   ],
   "source": [
    "df.groupby('field')['score'].mean().sort_values(ascending=False)"
   ]
  },
  {
   "cell_type": "markdown",
   "id": "1da4aa62-fae4-46c4-990d-8f9d1e4bd9c6",
   "metadata": {},
   "source": [
    "Despite a higher weight from availability, the Consumer/Retail etc field is outpaced by science, tech and business-oriented degrees and careers. "
   ]
  },
  {
   "cell_type": "code",
   "execution_count": 20,
   "id": "9678430b-4cfc-413a-9431-83d3c1d0820f",
   "metadata": {},
   "outputs": [],
   "source": [
    "df.to_csv('Final_Data/state_field_scores.csv')"
   ]
  }
 ],
 "metadata": {
  "kernelspec": {
   "display_name": "Python 3 (ipykernel)",
   "language": "python",
   "name": "python3"
  },
  "language_info": {
   "codemirror_mode": {
    "name": "ipython",
    "version": 3
   },
   "file_extension": ".py",
   "mimetype": "text/x-python",
   "name": "python",
   "nbconvert_exporter": "python",
   "pygments_lexer": "ipython3",
   "version": "3.9.7"
  }
 },
 "nbformat": 4,
 "nbformat_minor": 5
}
