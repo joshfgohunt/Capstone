{
 "cells": [
  {
   "cell_type": "code",
   "execution_count": 1,
   "id": "2f5322d5",
   "metadata": {},
   "outputs": [],
   "source": [
    "import pandas as pd\n",
    "import numpy as np\n",
    "from datetime import datetime as dt\n",
    "import matplotlib.pyplot as plt\n",
    "import seaborn as sns\n",
    "import Clean_data as cld\n",
    "import Transform_Data as tfd\n",
    "import Visualize_Data as vld\n"
   ]
  },
  {
   "cell_type": "markdown",
   "id": "2a15b1c8-823d-4a78-bb19-897acaa14f89",
   "metadata": {},
   "source": [
    "# Exploring an Ideal Job, based on Location"
   ]
  },
  {
   "cell_type": "markdown",
   "id": "bfa6081d",
   "metadata": {},
   "source": [
    "\n"
   ]
  },
  {
   "cell_type": "markdown",
   "id": "832bff85-20e9-4d7b-8193-eb5024ab68a2",
   "metadata": {},
   "source": [
    "## The Story So far\n",
    "I have gone through my datasets, starting with 30 sets, which resulted in around 40 extrapolated discoveries.\n",
    "\n",
    "From those 40 sets I have pruned back to less than 10 sets with a much narrower focus on:\n",
    "\n",
    "Region: How enticing a particular area is for a prospective worker\n",
    "this is based on:\n",
    "* Affordability\n",
    "* Household Income\n",
    "* Opportunities\n",
    "* Average Debt\n",
    "* Rent/Mortgage to Income Ratio\n",
    "\n",
    "Field: A combined look at degrees and industries that are likely to help secure good financial standing\n",
    "This is currently based on the demand for the field as well as the salary.\n"
   ]
  },
  {
   "cell_type": "markdown",
   "id": "13efcdb2-a32f-4789-9175-273d0046c6c0",
   "metadata": {},
   "source": [
    "## Exploration of datasets"
   ]
  },
  {
   "cell_type": "code",
   "execution_count": 2,
   "id": "b174c887-93ce-4148-ae8d-91c364bca546",
   "metadata": {},
   "outputs": [],
   "source": [
    "field_starting_salaries = pd.read_csv('Final_Data/field_starting_salaries.csv')\n",
    "region_starting_salaries = pd.read_csv('Final_Data/Regional_starting_salaries.csv')\n",
    "state_field_scores = pd.read_csv('Final_Data/state_field_scores.csv')\n",
    "state_rank_grp= pd.read_csv('Final_Data/Grouped_State_Ranks.csv')\n",
    "df =  pd.read_csv('Final_Data/Full_Weighted_States.csv')"
   ]
  },
  {
   "cell_type": "code",
   "execution_count": 3,
   "id": "a3d985f8-5c3a-41f0-bff5-47908301f00f",
   "metadata": {},
   "outputs": [],
   "source": [
    "def run_zscore(df, cols):\n",
    "    print(df.columns)\n",
    "    df = df[cols]\n",
    "    length = len(df)\n",
    "    samp = int(length/15)\n",
    "    print('full length ',length)\n",
    "    print('sample size ',samp)\n",
    "    print('zscore ',stats.zscore(df).sample(samp).mean())"
   ]
  },
  {
   "cell_type": "code",
   "execution_count": 4,
   "id": "a2f3e417-e5d9-4503-b788-68358434dab1",
   "metadata": {},
   "outputs": [],
   "source": [
    "field_starting_salaries.head(3)\n",
    "field_starting_salaries.columns = ['field', 'field_Starting Median Salary', 'field_Mid-Career Median Salary',\n",
    "                                   'Percent change from Starting to Mid-Career Salary','field_start_over_min_w', 'field_mid_over_min_w']\n",
    "field_starting_salaries = field_starting_salaries[['field', 'field_Starting Median Salary', 'field_Mid-Career Median Salary','field_start_over_min_w', 'field_mid_over_min_w']]"
   ]
  },
  {
   "cell_type": "code",
   "execution_count": 5,
   "id": "ffc82997-1b94-4f7e-bab6-57353afafced",
   "metadata": {},
   "outputs": [],
   "source": [
    "region_starting_salaries.columns = ['Region', 'region_Starting Median Salary', 'region_Mid-Career Median Salary','region_start_over_min_w', 'region_mid_over_min_w']"
   ]
  },
  {
   "cell_type": "code",
   "execution_count": 6,
   "id": "687d5007-e1cb-4363-8a17-1a125fe7d449",
   "metadata": {},
   "outputs": [
    {
     "data": {
      "text/html": [
       "<div>\n",
       "<style scoped>\n",
       "    .dataframe tbody tr th:only-of-type {\n",
       "        vertical-align: middle;\n",
       "    }\n",
       "\n",
       "    .dataframe tbody tr th {\n",
       "        vertical-align: top;\n",
       "    }\n",
       "\n",
       "    .dataframe thead th {\n",
       "        text-align: right;\n",
       "    }\n",
       "</style>\n",
       "<table border=\"1\" class=\"dataframe\">\n",
       "  <thead>\n",
       "    <tr style=\"text-align: right;\">\n",
       "      <th></th>\n",
       "      <th>state</th>\n",
       "      <th>field</th>\n",
       "      <th>ratio</th>\n",
       "      <th>score</th>\n",
       "    </tr>\n",
       "  </thead>\n",
       "  <tbody>\n",
       "    <tr>\n",
       "      <th>0</th>\n",
       "      <td>District of Columbia</td>\n",
       "      <td>Science, Technology, Engineering</td>\n",
       "      <td>0.485053</td>\n",
       "      <td>24.075448</td>\n",
       "    </tr>\n",
       "    <tr>\n",
       "      <th>1</th>\n",
       "      <td>Washington</td>\n",
       "      <td>Science, Technology, Engineering</td>\n",
       "      <td>0.421292</td>\n",
       "      <td>23.934516</td>\n",
       "    </tr>\n",
       "    <tr>\n",
       "      <th>2</th>\n",
       "      <td>California</td>\n",
       "      <td>Science, Technology, Engineering</td>\n",
       "      <td>0.416775</td>\n",
       "      <td>23.923738</td>\n",
       "    </tr>\n",
       "  </tbody>\n",
       "</table>\n",
       "</div>"
      ],
      "text/plain": [
       "                  state                             field     ratio      score\n",
       "0  District of Columbia  Science, Technology, Engineering  0.485053  24.075448\n",
       "1            Washington  Science, Technology, Engineering  0.421292  23.934516\n",
       "2            California  Science, Technology, Engineering  0.416775  23.923738"
      ]
     },
     "execution_count": 6,
     "metadata": {},
     "output_type": "execute_result"
    }
   ],
   "source": [
    "state_field_scores.head(3)"
   ]
  },
  {
   "cell_type": "code",
   "execution_count": 7,
   "id": "5436acd9-c001-4a58-b0dd-7f68887d8fb2",
   "metadata": {},
   "outputs": [
    {
     "name": "stdout",
     "output_type": "stream",
     "text": [
      "Index(['state', 'field', 'ratio', 'score'], dtype='object')\n"
     ]
    },
    {
     "ename": "KeyError",
     "evalue": "\"['scores'] not in index\"",
     "output_type": "error",
     "traceback": [
      "\u001b[1;31m---------------------------------------------------------------------------\u001b[0m",
      "\u001b[1;31mKeyError\u001b[0m                                  Traceback (most recent call last)",
      "\u001b[1;32m~\\AppData\\Local\\Temp/ipykernel_14572/496456193.py\u001b[0m in \u001b[0;36m<module>\u001b[1;34m\u001b[0m\n\u001b[1;32m----> 1\u001b[1;33m \u001b[0mrun_zscore\u001b[0m\u001b[1;33m(\u001b[0m\u001b[0mstate_field_scores\u001b[0m\u001b[1;33m,\u001b[0m \u001b[1;33m[\u001b[0m\u001b[1;34m'ratio'\u001b[0m\u001b[1;33m,\u001b[0m \u001b[1;34m'scores'\u001b[0m\u001b[1;33m]\u001b[0m\u001b[1;33m)\u001b[0m\u001b[1;33m\u001b[0m\u001b[1;33m\u001b[0m\u001b[0m\n\u001b[0m",
      "\u001b[1;32m~\\AppData\\Local\\Temp/ipykernel_14572/1221104096.py\u001b[0m in \u001b[0;36mrun_zscore\u001b[1;34m(df, cols)\u001b[0m\n\u001b[0;32m      1\u001b[0m \u001b[1;32mdef\u001b[0m \u001b[0mrun_zscore\u001b[0m\u001b[1;33m(\u001b[0m\u001b[0mdf\u001b[0m\u001b[1;33m,\u001b[0m \u001b[0mcols\u001b[0m\u001b[1;33m)\u001b[0m\u001b[1;33m:\u001b[0m\u001b[1;33m\u001b[0m\u001b[1;33m\u001b[0m\u001b[0m\n\u001b[0;32m      2\u001b[0m     \u001b[0mprint\u001b[0m\u001b[1;33m(\u001b[0m\u001b[0mdf\u001b[0m\u001b[1;33m.\u001b[0m\u001b[0mcolumns\u001b[0m\u001b[1;33m)\u001b[0m\u001b[1;33m\u001b[0m\u001b[1;33m\u001b[0m\u001b[0m\n\u001b[1;32m----> 3\u001b[1;33m     \u001b[0mdf\u001b[0m \u001b[1;33m=\u001b[0m \u001b[0mdf\u001b[0m\u001b[1;33m[\u001b[0m\u001b[0mcols\u001b[0m\u001b[1;33m]\u001b[0m\u001b[1;33m\u001b[0m\u001b[1;33m\u001b[0m\u001b[0m\n\u001b[0m\u001b[0;32m      4\u001b[0m     \u001b[0mlength\u001b[0m \u001b[1;33m=\u001b[0m \u001b[0mlen\u001b[0m\u001b[1;33m(\u001b[0m\u001b[0mdf\u001b[0m\u001b[1;33m)\u001b[0m\u001b[1;33m\u001b[0m\u001b[1;33m\u001b[0m\u001b[0m\n\u001b[0;32m      5\u001b[0m     \u001b[0msamp\u001b[0m \u001b[1;33m=\u001b[0m \u001b[0mint\u001b[0m\u001b[1;33m(\u001b[0m\u001b[0mlength\u001b[0m\u001b[1;33m/\u001b[0m\u001b[1;36m15\u001b[0m\u001b[1;33m)\u001b[0m\u001b[1;33m\u001b[0m\u001b[1;33m\u001b[0m\u001b[0m\n",
      "\u001b[1;32mE:\\Development\\Downloaded_Development_Programs\\Anaconda3\\lib\\site-packages\\pandas\\core\\frame.py\u001b[0m in \u001b[0;36m__getitem__\u001b[1;34m(self, key)\u001b[0m\n\u001b[0;32m   3462\u001b[0m             \u001b[1;32mif\u001b[0m \u001b[0mis_iterator\u001b[0m\u001b[1;33m(\u001b[0m\u001b[0mkey\u001b[0m\u001b[1;33m)\u001b[0m\u001b[1;33m:\u001b[0m\u001b[1;33m\u001b[0m\u001b[1;33m\u001b[0m\u001b[0m\n\u001b[0;32m   3463\u001b[0m                 \u001b[0mkey\u001b[0m \u001b[1;33m=\u001b[0m \u001b[0mlist\u001b[0m\u001b[1;33m(\u001b[0m\u001b[0mkey\u001b[0m\u001b[1;33m)\u001b[0m\u001b[1;33m\u001b[0m\u001b[1;33m\u001b[0m\u001b[0m\n\u001b[1;32m-> 3464\u001b[1;33m             \u001b[0mindexer\u001b[0m \u001b[1;33m=\u001b[0m \u001b[0mself\u001b[0m\u001b[1;33m.\u001b[0m\u001b[0mloc\u001b[0m\u001b[1;33m.\u001b[0m\u001b[0m_get_listlike_indexer\u001b[0m\u001b[1;33m(\u001b[0m\u001b[0mkey\u001b[0m\u001b[1;33m,\u001b[0m \u001b[0maxis\u001b[0m\u001b[1;33m=\u001b[0m\u001b[1;36m1\u001b[0m\u001b[1;33m)\u001b[0m\u001b[1;33m[\u001b[0m\u001b[1;36m1\u001b[0m\u001b[1;33m]\u001b[0m\u001b[1;33m\u001b[0m\u001b[1;33m\u001b[0m\u001b[0m\n\u001b[0m\u001b[0;32m   3465\u001b[0m \u001b[1;33m\u001b[0m\u001b[0m\n\u001b[0;32m   3466\u001b[0m         \u001b[1;31m# take() does not accept boolean indexers\u001b[0m\u001b[1;33m\u001b[0m\u001b[1;33m\u001b[0m\u001b[0m\n",
      "\u001b[1;32mE:\\Development\\Downloaded_Development_Programs\\Anaconda3\\lib\\site-packages\\pandas\\core\\indexing.py\u001b[0m in \u001b[0;36m_get_listlike_indexer\u001b[1;34m(self, key, axis)\u001b[0m\n\u001b[0;32m   1312\u001b[0m             \u001b[0mkeyarr\u001b[0m\u001b[1;33m,\u001b[0m \u001b[0mindexer\u001b[0m\u001b[1;33m,\u001b[0m \u001b[0mnew_indexer\u001b[0m \u001b[1;33m=\u001b[0m \u001b[0max\u001b[0m\u001b[1;33m.\u001b[0m\u001b[0m_reindex_non_unique\u001b[0m\u001b[1;33m(\u001b[0m\u001b[0mkeyarr\u001b[0m\u001b[1;33m)\u001b[0m\u001b[1;33m\u001b[0m\u001b[1;33m\u001b[0m\u001b[0m\n\u001b[0;32m   1313\u001b[0m \u001b[1;33m\u001b[0m\u001b[0m\n\u001b[1;32m-> 1314\u001b[1;33m         \u001b[0mself\u001b[0m\u001b[1;33m.\u001b[0m\u001b[0m_validate_read_indexer\u001b[0m\u001b[1;33m(\u001b[0m\u001b[0mkeyarr\u001b[0m\u001b[1;33m,\u001b[0m \u001b[0mindexer\u001b[0m\u001b[1;33m,\u001b[0m \u001b[0maxis\u001b[0m\u001b[1;33m)\u001b[0m\u001b[1;33m\u001b[0m\u001b[1;33m\u001b[0m\u001b[0m\n\u001b[0m\u001b[0;32m   1315\u001b[0m \u001b[1;33m\u001b[0m\u001b[0m\n\u001b[0;32m   1316\u001b[0m         if needs_i8_conversion(ax.dtype) or isinstance(\n",
      "\u001b[1;32mE:\\Development\\Downloaded_Development_Programs\\Anaconda3\\lib\\site-packages\\pandas\\core\\indexing.py\u001b[0m in \u001b[0;36m_validate_read_indexer\u001b[1;34m(self, key, indexer, axis)\u001b[0m\n\u001b[0;32m   1375\u001b[0m \u001b[1;33m\u001b[0m\u001b[0m\n\u001b[0;32m   1376\u001b[0m             \u001b[0mnot_found\u001b[0m \u001b[1;33m=\u001b[0m \u001b[0mlist\u001b[0m\u001b[1;33m(\u001b[0m\u001b[0mensure_index\u001b[0m\u001b[1;33m(\u001b[0m\u001b[0mkey\u001b[0m\u001b[1;33m)\u001b[0m\u001b[1;33m[\u001b[0m\u001b[0mmissing_mask\u001b[0m\u001b[1;33m.\u001b[0m\u001b[0mnonzero\u001b[0m\u001b[1;33m(\u001b[0m\u001b[1;33m)\u001b[0m\u001b[1;33m[\u001b[0m\u001b[1;36m0\u001b[0m\u001b[1;33m]\u001b[0m\u001b[1;33m]\u001b[0m\u001b[1;33m.\u001b[0m\u001b[0munique\u001b[0m\u001b[1;33m(\u001b[0m\u001b[1;33m)\u001b[0m\u001b[1;33m)\u001b[0m\u001b[1;33m\u001b[0m\u001b[1;33m\u001b[0m\u001b[0m\n\u001b[1;32m-> 1377\u001b[1;33m             \u001b[1;32mraise\u001b[0m \u001b[0mKeyError\u001b[0m\u001b[1;33m(\u001b[0m\u001b[1;34mf\"{not_found} not in index\"\u001b[0m\u001b[1;33m)\u001b[0m\u001b[1;33m\u001b[0m\u001b[1;33m\u001b[0m\u001b[0m\n\u001b[0m\u001b[0;32m   1378\u001b[0m \u001b[1;33m\u001b[0m\u001b[0m\n\u001b[0;32m   1379\u001b[0m \u001b[1;33m\u001b[0m\u001b[0m\n",
      "\u001b[1;31mKeyError\u001b[0m: \"['scores'] not in index\""
     ]
    }
   ],
   "source": [
    "run_zscore(state_field_scores, ['ratio', 'score'])"
   ]
  },
  {
   "cell_type": "code",
   "execution_count": null,
   "id": "9671e96f-595d-47ea-8be1-7eefc689eb73",
   "metadata": {},
   "outputs": [],
   "source": [
    "state_rank_grp.head(3)"
   ]
  },
  {
   "cell_type": "code",
   "execution_count": null,
   "id": "37516276-9290-4423-9453-26525d2c5511",
   "metadata": {},
   "outputs": [],
   "source": [
    "df = df[['StateAbbreviation', 'State']]"
   ]
  },
  {
   "cell_type": "code",
   "execution_count": null,
   "id": "269630e1-ce3a-4451-937f-d81d703d54ab",
   "metadata": {},
   "outputs": [],
   "source": [
    "df.head(3)"
   ]
  },
  {
   "cell_type": "markdown",
   "id": "14b5b542-a64a-4e08-846d-9dc8e7d54197",
   "metadata": {},
   "source": [
    "With my top-level dataframe in hand, it's time to pair some data"
   ]
  },
  {
   "cell_type": "code",
   "execution_count": null,
   "id": "c4e125a5-184c-43d8-87d6-33fa3dfe8b15",
   "metadata": {},
   "outputs": [],
   "source": [
    "df = df.merge(state_field_scores, left_on='State', right_on='state')\n",
    "df = df.merge(field_starting_salaries, left_on='field', right_on='field')\n",
    "df = df.merge(state_rank_grp, left_on='State', right_on='State')\n",
    "df = df.merge(region_starting_salaries, left_on='Region', right_on='Region')"
   ]
  },
  {
   "cell_type": "code",
   "execution_count": null,
   "id": "a4edf823-4840-42d8-94d0-a4d41c7dd66b",
   "metadata": {},
   "outputs": [],
   "source": [
    "\n",
    "df = df.dropna()"
   ]
  },
  {
   "cell_type": "code",
   "execution_count": null,
   "id": "e0bc2b69-72f0-4219-82b5-0d96fd8717c3",
   "metadata": {},
   "outputs": [],
   "source": [
    "df['score'] =(df['score'].rank(method='dense')) ** 1/3\n",
    "df['field_start_over_min_w'] = df['field_start_over_min_w'].rank(method='dense')\n",
    "df['field_mid_over_min_w'] = df['field_start_over_min_w'].rank(method='dense')\n",
    "df['summed'] = df['summed'].rank(method='dense')\n",
    "df['region_start_over_min_w'] = df['region_start_over_min_w'].rank(method='dense')\n",
    "df['region_mid_over_min_w'] = df['region_mid_over_min_w'].rank(method='dense')\n",
    "\n",
    "df = df[['State', 'field', 'Region','field_start_over_min_w','field_mid_over_min_w', 'summed', 'region_start_over_min_w','region_mid_over_min_w', 'score']]\n",
    "df['final_score'] = df['field_start_over_min_w']*df['field_mid_over_min_w'] *df['summed'] * df['region_start_over_min_w'] * df['region_mid_over_min_w']*df['score']\n",
    "df['final_score']  = np.log(df['final_score'])"
   ]
  },
  {
   "cell_type": "code",
   "execution_count": null,
   "id": "d2f3639d-96e6-4b0a-a83d-3a7e4b27974f",
   "metadata": {},
   "outputs": [],
   "source": [
    "df.head(3)"
   ]
  },
  {
   "cell_type": "code",
   "execution_count": null,
   "id": "f06a1a93-64a3-4110-bc95-46459230242b",
   "metadata": {},
   "outputs": [],
   "source": [
    "cols = ['score', 'field_start_over_w', 'field_mid_over_min_w','region_start_over_w', 'region_mid_over_min_w','final_score']\n",
    "run_zscore(df, cols)"
   ]
  },
  {
   "cell_type": "code",
   "execution_count": null,
   "id": "4e473545-9499-4421-a717-b6890a993b83",
   "metadata": {},
   "outputs": [],
   "source": [
    "df_scored =df[['State', 'field', 'Region','final_score']]"
   ]
  },
  {
   "cell_type": "code",
   "execution_count": null,
   "id": "bbc39600-72a4-4ff6-b49a-2d9ae5eacf48",
   "metadata": {},
   "outputs": [],
   "source": [
    "df_scored.sort_values(by='final_score', ascending= False).head(20)"
   ]
  },
  {
   "cell_type": "markdown",
   "id": "6d2cb186-17f6-46ee-afcc-41454408a9af",
   "metadata": {},
   "source": [
    "After totaling, combining and scoring, it still appears that pennsylvania takes the lead"
   ]
  },
  {
   "cell_type": "code",
   "execution_count": null,
   "id": "80189f5c-0676-4a00-b369-df224afd97c9",
   "metadata": {
    "tags": []
   },
   "outputs": [],
   "source": [
    "#Create\n",
    "fig, ax = plt.subplots()\n",
    "#Data\n",
    "df_h = df_scored[df_scored['final_score'] > 12]\n",
    "x1 = df_h['State']\n",
    "y1 =df_h['final_score'] \n",
    "#Appearance\n",
    "\n",
    "ax.bar(x1, y1,label='Regions')\n",
    "ax.set_title(\"State Score\")  # Add a title to the axes.\n",
    "fig.set_size_inches(18.5, 10.5)\n",
    "plt.xticks(rotation=45)\n",
    "plt.show()"
   ]
  },
  {
   "cell_type": "code",
   "execution_count": null,
   "id": "a68d9280-b55e-4e2f-a528-36422a9c0275",
   "metadata": {},
   "outputs": [],
   "source": [
    "df_scored.groupby('Region').mean()"
   ]
  },
  {
   "cell_type": "markdown",
   "id": "440ae647",
   "metadata": {},
   "source": [
    "\n",
    "\n"
   ]
  }
 ],
 "metadata": {
  "kernelspec": {
   "display_name": "Python 3 (ipykernel)",
   "language": "python",
   "name": "python3"
  },
  "language_info": {
   "codemirror_mode": {
    "name": "ipython",
    "version": 3
   },
   "file_extension": ".py",
   "mimetype": "text/x-python",
   "name": "python",
   "nbconvert_exporter": "python",
   "pygments_lexer": "ipython3",
   "version": "3.9.7"
  }
 },
 "nbformat": 4,
 "nbformat_minor": 5
}
