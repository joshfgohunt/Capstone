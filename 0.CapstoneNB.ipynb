{
 "cells": [
  {
   "cell_type": "code",
   "execution_count": 1,
   "id": "2f5322d5",
   "metadata": {},
   "outputs": [],
   "source": [
    "import pandas as pd\n",
    "import numpy as np\n",
    "from datetime import datetime as dt\n",
    "import matplotlib.pyplot as plt\n",
    "import seaborn as sns\n",
    "import Clean_data as cld\n",
    "import Transform_Data as tfd\n",
    "import Visualize_Data as vld\n",
    "from scipy import stats"
   ]
  },
  {
   "cell_type": "markdown",
   "id": "2a15b1c8-823d-4a78-bb19-897acaa14f89",
   "metadata": {},
   "source": [
    "# Exploring an Ideal Job, based on Location"
   ]
  },
  {
   "cell_type": "markdown",
   "id": "bfa6081d",
   "metadata": {},
   "source": [
    "\n"
   ]
  },
  {
   "cell_type": "markdown",
   "id": "832bff85-20e9-4d7b-8193-eb5024ab68a2",
   "metadata": {},
   "source": [
    "## The Story So far\n",
    "I have gone through my datasets, starting with 30 sets, which resulted in around 40 extrapolated discoveries.\n",
    "\n",
    "From those 40 sets I have pruned back to less than 10 sets with a much narrower focus on:\n",
    "\n",
    "Region: How enticing a particular area is for a prospective worker\n",
    "this is based on:\n",
    "* Affordability\n",
    "* Household Income\n",
    "* Opportunities\n",
    "* Average Debt\n",
    "* Rent/Mortgage to Income Ratio\n",
    "\n",
    "Field: A combined look at degrees and industries that are likely to help secure good financial standing\n",
    "This is currently based on the demand for the field as well as the salary.\n"
   ]
  },
  {
   "cell_type": "markdown",
   "id": "13efcdb2-a32f-4789-9175-273d0046c6c0",
   "metadata": {},
   "source": [
    "## Exploration of datasets"
   ]
  },
  {
   "cell_type": "code",
   "execution_count": 2,
   "id": "b174c887-93ce-4148-ae8d-91c364bca546",
   "metadata": {},
   "outputs": [],
   "source": [
    "field_starting_salaries = pd.read_csv('Final_Data/field_starting_salaries.csv')\n",
    "region_starting_salaries = pd.read_csv('Final_Data/Regional_starting_salaries.csv')\n",
    "state_field_scores = pd.read_csv('Final_Data/state_field_scores.csv')\n",
    "state_rank_grp= pd.read_csv('Final_Data/Grouped_State_Ranks.csv')\n",
    "df =  pd.read_csv('Final_Data/Full_Weighted_States.csv')"
   ]
  },
  {
   "cell_type": "code",
   "execution_count": 3,
   "id": "a3d985f8-5c3a-41f0-bff5-47908301f00f",
   "metadata": {},
   "outputs": [],
   "source": [
    "def run_zscore(df, cols):\n",
    "    print(df.columns)\n",
    "    df = df[cols]\n",
    "    length = len(df)\n",
    "    samp = int(length/15)\n",
    "    print('full length ',length)\n",
    "    print('sample size ',samp)\n",
    "    print('zscore ',stats.zscore(df).sample(samp).mean())"
   ]
  },
  {
   "cell_type": "code",
   "execution_count": 21,
   "id": "f14fd7b8-770c-4bbb-b947-f4af87b558c2",
   "metadata": {},
   "outputs": [
    {
     "data": {
      "text/html": [
       "<div>\n",
       "<style scoped>\n",
       "    .dataframe tbody tr th:only-of-type {\n",
       "        vertical-align: middle;\n",
       "    }\n",
       "\n",
       "    .dataframe tbody tr th {\n",
       "        vertical-align: top;\n",
       "    }\n",
       "\n",
       "    .dataframe thead th {\n",
       "        text-align: right;\n",
       "    }\n",
       "</style>\n",
       "<table border=\"1\" class=\"dataframe\">\n",
       "  <thead>\n",
       "    <tr style=\"text-align: right;\">\n",
       "      <th></th>\n",
       "      <th>field</th>\n",
       "      <th>field_Starting Median Salary</th>\n",
       "      <th>field_Mid-Career Median Salary</th>\n",
       "      <th>field_start_over_min_w</th>\n",
       "      <th>field_mid_over_min_w</th>\n",
       "    </tr>\n",
       "  </thead>\n",
       "  <tbody>\n",
       "    <tr>\n",
       "      <th>0</th>\n",
       "      <td>Architecture, Design</td>\n",
       "      <td>41775.000000</td>\n",
       "      <td>69675.000000</td>\n",
       "      <td>2.770225</td>\n",
       "      <td>4.620358</td>\n",
       "    </tr>\n",
       "    <tr>\n",
       "      <th>1</th>\n",
       "      <td>Business, Admin, PR</td>\n",
       "      <td>43828.571429</td>\n",
       "      <td>80942.857143</td>\n",
       "      <td>2.906404</td>\n",
       "      <td>5.367563</td>\n",
       "    </tr>\n",
       "    <tr>\n",
       "      <th>2</th>\n",
       "      <td>Consumer, Retail, Arts, Humanities</td>\n",
       "      <td>36420.000000</td>\n",
       "      <td>61030.000000</td>\n",
       "      <td>2.415119</td>\n",
       "      <td>4.047082</td>\n",
       "    </tr>\n",
       "    <tr>\n",
       "      <th>3</th>\n",
       "      <td>Health, Education, Government, Civil</td>\n",
       "      <td>40740.000000</td>\n",
       "      <td>62820.000000</td>\n",
       "      <td>2.701592</td>\n",
       "      <td>4.165782</td>\n",
       "    </tr>\n",
       "    <tr>\n",
       "      <th>4</th>\n",
       "      <td>Science, Technology, Engineering</td>\n",
       "      <td>48904.166667</td>\n",
       "      <td>82066.666667</td>\n",
       "      <td>3.242982</td>\n",
       "      <td>5.442087</td>\n",
       "    </tr>\n",
       "  </tbody>\n",
       "</table>\n",
       "</div>"
      ],
      "text/plain": [
       "                                  field  field_Starting Median Salary  \\\n",
       "0                  Architecture, Design                  41775.000000   \n",
       "1                   Business, Admin, PR                  43828.571429   \n",
       "2    Consumer, Retail, Arts, Humanities                  36420.000000   \n",
       "3  Health, Education, Government, Civil                  40740.000000   \n",
       "4      Science, Technology, Engineering                  48904.166667   \n",
       "\n",
       "   field_Mid-Career Median Salary  field_start_over_min_w  \\\n",
       "0                    69675.000000                2.770225   \n",
       "1                    80942.857143                2.906404   \n",
       "2                    61030.000000                2.415119   \n",
       "3                    62820.000000                2.701592   \n",
       "4                    82066.666667                3.242982   \n",
       "\n",
       "   field_mid_over_min_w  \n",
       "0              4.620358  \n",
       "1              5.367563  \n",
       "2              4.047082  \n",
       "3              4.165782  \n",
       "4              5.442087  "
      ]
     },
     "execution_count": 21,
     "metadata": {},
     "output_type": "execute_result"
    }
   ],
   "source": [
    "field_starting_salaries.head(5)"
   ]
  },
  {
   "cell_type": "code",
   "execution_count": 4,
   "id": "a2f3e417-e5d9-4503-b788-68358434dab1",
   "metadata": {},
   "outputs": [],
   "source": [
    "\n",
    "field_starting_salaries.columns = ['field', 'field_Starting Median Salary', 'field_Mid-Career Median Salary',\n",
    "                                   'Percent change from Starting to Mid-Career Salary','field_start_over_min_w', 'field_mid_over_min_w']\n",
    "field_starting_salaries = field_starting_salaries[['field', 'field_Starting Median Salary', 'field_Mid-Career Median Salary','field_start_over_min_w', 'field_mid_over_min_w']]"
   ]
  },
  {
   "cell_type": "code",
   "execution_count": 5,
   "id": "ffc82997-1b94-4f7e-bab6-57353afafced",
   "metadata": {},
   "outputs": [],
   "source": [
    "region_starting_salaries.columns = ['Region', 'region_Starting Median Salary', 'region_Mid-Career Median Salary','region_start_over_min_w', 'region_mid_over_min_w']"
   ]
  },
  {
   "cell_type": "code",
   "execution_count": 6,
   "id": "687d5007-e1cb-4363-8a17-1a125fe7d449",
   "metadata": {},
   "outputs": [
    {
     "data": {
      "text/html": [
       "<div>\n",
       "<style scoped>\n",
       "    .dataframe tbody tr th:only-of-type {\n",
       "        vertical-align: middle;\n",
       "    }\n",
       "\n",
       "    .dataframe tbody tr th {\n",
       "        vertical-align: top;\n",
       "    }\n",
       "\n",
       "    .dataframe thead th {\n",
       "        text-align: right;\n",
       "    }\n",
       "</style>\n",
       "<table border=\"1\" class=\"dataframe\">\n",
       "  <thead>\n",
       "    <tr style=\"text-align: right;\">\n",
       "      <th></th>\n",
       "      <th>state</th>\n",
       "      <th>field</th>\n",
       "      <th>ratio</th>\n",
       "      <th>score</th>\n",
       "    </tr>\n",
       "  </thead>\n",
       "  <tbody>\n",
       "    <tr>\n",
       "      <th>0</th>\n",
       "      <td>District of Columbia</td>\n",
       "      <td>Science, Technology, Engineering</td>\n",
       "      <td>0.485053</td>\n",
       "      <td>24.075448</td>\n",
       "    </tr>\n",
       "    <tr>\n",
       "      <th>1</th>\n",
       "      <td>Washington</td>\n",
       "      <td>Science, Technology, Engineering</td>\n",
       "      <td>0.421292</td>\n",
       "      <td>23.934516</td>\n",
       "    </tr>\n",
       "    <tr>\n",
       "      <th>2</th>\n",
       "      <td>California</td>\n",
       "      <td>Science, Technology, Engineering</td>\n",
       "      <td>0.416775</td>\n",
       "      <td>23.923738</td>\n",
       "    </tr>\n",
       "  </tbody>\n",
       "</table>\n",
       "</div>"
      ],
      "text/plain": [
       "                  state                             field     ratio      score\n",
       "0  District of Columbia  Science, Technology, Engineering  0.485053  24.075448\n",
       "1            Washington  Science, Technology, Engineering  0.421292  23.934516\n",
       "2            California  Science, Technology, Engineering  0.416775  23.923738"
      ]
     },
     "execution_count": 6,
     "metadata": {},
     "output_type": "execute_result"
    }
   ],
   "source": [
    "state_field_scores.head(3)"
   ]
  },
  {
   "cell_type": "code",
   "execution_count": 7,
   "id": "5436acd9-c001-4a58-b0dd-7f68887d8fb2",
   "metadata": {},
   "outputs": [
    {
     "name": "stdout",
     "output_type": "stream",
     "text": [
      "Index(['state', 'field', 'ratio', 'score'], dtype='object')\n",
      "full length  255\n",
      "sample size  17\n",
      "zscore  ratio    0.254964\n",
      "score    0.236229\n",
      "dtype: float64\n"
     ]
    }
   ],
   "source": [
    "run_zscore(state_field_scores, ['ratio', 'score'])"
   ]
  },
  {
   "cell_type": "code",
   "execution_count": 8,
   "id": "9671e96f-595d-47ea-8be1-7eefc689eb73",
   "metadata": {},
   "outputs": [
    {
     "data": {
      "text/html": [
       "<div>\n",
       "<style scoped>\n",
       "    .dataframe tbody tr th:only-of-type {\n",
       "        vertical-align: middle;\n",
       "    }\n",
       "\n",
       "    .dataframe tbody tr th {\n",
       "        vertical-align: top;\n",
       "    }\n",
       "\n",
       "    .dataframe thead th {\n",
       "        text-align: right;\n",
       "    }\n",
       "</style>\n",
       "<table border=\"1\" class=\"dataframe\">\n",
       "  <thead>\n",
       "    <tr style=\"text-align: right;\">\n",
       "      <th></th>\n",
       "      <th>State</th>\n",
       "      <th>Region</th>\n",
       "      <th>affordability</th>\n",
       "      <th>education</th>\n",
       "      <th>earnings</th>\n",
       "      <th>summed</th>\n",
       "    </tr>\n",
       "  </thead>\n",
       "  <tbody>\n",
       "    <tr>\n",
       "      <th>0</th>\n",
       "      <td>Pennsylvania</td>\n",
       "      <td>Northeastern</td>\n",
       "      <td>38</td>\n",
       "      <td>44</td>\n",
       "      <td>50</td>\n",
       "      <td>132</td>\n",
       "    </tr>\n",
       "    <tr>\n",
       "      <th>1</th>\n",
       "      <td>Iowa</td>\n",
       "      <td>Midwestern</td>\n",
       "      <td>51</td>\n",
       "      <td>39</td>\n",
       "      <td>36</td>\n",
       "      <td>126</td>\n",
       "    </tr>\n",
       "    <tr>\n",
       "      <th>2</th>\n",
       "      <td>Texas</td>\n",
       "      <td>Southern</td>\n",
       "      <td>41</td>\n",
       "      <td>31</td>\n",
       "      <td>51</td>\n",
       "      <td>123</td>\n",
       "    </tr>\n",
       "  </tbody>\n",
       "</table>\n",
       "</div>"
      ],
      "text/plain": [
       "          State        Region  affordability  education  earnings  summed\n",
       "0  Pennsylvania  Northeastern             38         44        50     132\n",
       "1          Iowa    Midwestern             51         39        36     126\n",
       "2         Texas      Southern             41         31        51     123"
      ]
     },
     "execution_count": 8,
     "metadata": {},
     "output_type": "execute_result"
    }
   ],
   "source": [
    "state_rank_grp.head(3)"
   ]
  },
  {
   "cell_type": "code",
   "execution_count": 9,
   "id": "37516276-9290-4423-9453-26525d2c5511",
   "metadata": {},
   "outputs": [],
   "source": [
    "df = df[['StateAbbreviation', 'State']]"
   ]
  },
  {
   "cell_type": "code",
   "execution_count": 10,
   "id": "269630e1-ce3a-4451-937f-d81d703d54ab",
   "metadata": {},
   "outputs": [
    {
     "data": {
      "text/html": [
       "<div>\n",
       "<style scoped>\n",
       "    .dataframe tbody tr th:only-of-type {\n",
       "        vertical-align: middle;\n",
       "    }\n",
       "\n",
       "    .dataframe tbody tr th {\n",
       "        vertical-align: top;\n",
       "    }\n",
       "\n",
       "    .dataframe thead th {\n",
       "        text-align: right;\n",
       "    }\n",
       "</style>\n",
       "<table border=\"1\" class=\"dataframe\">\n",
       "  <thead>\n",
       "    <tr style=\"text-align: right;\">\n",
       "      <th></th>\n",
       "      <th>StateAbbreviation</th>\n",
       "      <th>State</th>\n",
       "    </tr>\n",
       "  </thead>\n",
       "  <tbody>\n",
       "    <tr>\n",
       "      <th>0</th>\n",
       "      <td>NY</td>\n",
       "      <td>New York</td>\n",
       "    </tr>\n",
       "    <tr>\n",
       "      <th>1</th>\n",
       "      <td>CA</td>\n",
       "      <td>California</td>\n",
       "    </tr>\n",
       "    <tr>\n",
       "      <th>2</th>\n",
       "      <td>TX</td>\n",
       "      <td>Texas</td>\n",
       "    </tr>\n",
       "  </tbody>\n",
       "</table>\n",
       "</div>"
      ],
      "text/plain": [
       "  StateAbbreviation       State\n",
       "0                NY    New York\n",
       "1                CA  California\n",
       "2                TX       Texas"
      ]
     },
     "execution_count": 10,
     "metadata": {},
     "output_type": "execute_result"
    }
   ],
   "source": [
    "df.head(3)"
   ]
  },
  {
   "cell_type": "markdown",
   "id": "14b5b542-a64a-4e08-846d-9dc8e7d54197",
   "metadata": {},
   "source": [
    "With my top-level dataframe in hand, it's time to pair some data"
   ]
  },
  {
   "cell_type": "code",
   "execution_count": 11,
   "id": "c4e125a5-184c-43d8-87d6-33fa3dfe8b15",
   "metadata": {},
   "outputs": [],
   "source": [
    "df = df.merge(state_field_scores, left_on='State', right_on='state')\n",
    "df = df.merge(field_starting_salaries, left_on='field', right_on='field')\n",
    "df = df.merge(state_rank_grp, left_on='State', right_on='State')\n",
    "df = df.merge(region_starting_salaries, left_on='Region', right_on='Region')"
   ]
  },
  {
   "cell_type": "code",
   "execution_count": 12,
   "id": "a4edf823-4840-42d8-94d0-a4d41c7dd66b",
   "metadata": {},
   "outputs": [],
   "source": [
    "\n",
    "df = df.dropna()"
   ]
  },
  {
   "cell_type": "code",
   "execution_count": 13,
   "id": "e0bc2b69-72f0-4219-82b5-0d96fd8717c3",
   "metadata": {},
   "outputs": [],
   "source": [
    "df['score'] =(df['score'].rank(method='dense')) ** 1/3\n",
    "df['field_start_over_min_w'] = df['field_start_over_min_w'].rank(method='dense')\n",
    "df['field_mid_over_min_w'] = df['field_start_over_min_w'].rank(method='dense')\n",
    "df['summed'] = df['summed'].rank(method='dense')\n",
    "df['region_start_over_min_w'] = df['region_start_over_min_w'].rank(method='dense')\n",
    "df['region_mid_over_min_w'] = df['region_mid_over_min_w'].rank(method='dense')\n",
    "\n",
    "df = df[['State', 'field', 'Region','field_start_over_min_w','field_mid_over_min_w', 'summed', 'region_start_over_min_w','region_mid_over_min_w', 'score']]\n",
    "df['final_score'] = df['field_start_over_min_w']*df['field_mid_over_min_w'] *df['summed'] * df['region_start_over_min_w'] * df['region_mid_over_min_w']*df['score']\n",
    "df['final_score']  = np.log(df['final_score'])"
   ]
  },
  {
   "cell_type": "code",
   "execution_count": 14,
   "id": "d2f3639d-96e6-4b0a-a83d-3a7e4b27974f",
   "metadata": {},
   "outputs": [
    {
     "data": {
      "text/html": [
       "<div>\n",
       "<style scoped>\n",
       "    .dataframe tbody tr th:only-of-type {\n",
       "        vertical-align: middle;\n",
       "    }\n",
       "\n",
       "    .dataframe tbody tr th {\n",
       "        vertical-align: top;\n",
       "    }\n",
       "\n",
       "    .dataframe thead th {\n",
       "        text-align: right;\n",
       "    }\n",
       "</style>\n",
       "<table border=\"1\" class=\"dataframe\">\n",
       "  <thead>\n",
       "    <tr style=\"text-align: right;\">\n",
       "      <th></th>\n",
       "      <th>State</th>\n",
       "      <th>field</th>\n",
       "      <th>Region</th>\n",
       "      <th>field_start_over_min_w</th>\n",
       "      <th>field_mid_over_min_w</th>\n",
       "      <th>summed</th>\n",
       "      <th>region_start_over_min_w</th>\n",
       "      <th>region_mid_over_min_w</th>\n",
       "      <th>score</th>\n",
       "      <th>final_score</th>\n",
       "    </tr>\n",
       "  </thead>\n",
       "  <tbody>\n",
       "    <tr>\n",
       "      <th>0</th>\n",
       "      <td>New York</td>\n",
       "      <td>Science, Technology, Engineering</td>\n",
       "      <td>Northeastern</td>\n",
       "      <td>5.0</td>\n",
       "      <td>5.0</td>\n",
       "      <td>8.0</td>\n",
       "      <td>4.0</td>\n",
       "      <td>4.0</td>\n",
       "      <td>77.000000</td>\n",
       "      <td>12.414712</td>\n",
       "    </tr>\n",
       "    <tr>\n",
       "      <th>1</th>\n",
       "      <td>New York</td>\n",
       "      <td>Business, Admin, PR</td>\n",
       "      <td>Northeastern</td>\n",
       "      <td>4.0</td>\n",
       "      <td>4.0</td>\n",
       "      <td>8.0</td>\n",
       "      <td>4.0</td>\n",
       "      <td>4.0</td>\n",
       "      <td>55.333333</td>\n",
       "      <td>11.637994</td>\n",
       "    </tr>\n",
       "    <tr>\n",
       "      <th>2</th>\n",
       "      <td>New York</td>\n",
       "      <td>Consumer, Retail, Arts, Humanities</td>\n",
       "      <td>Northeastern</td>\n",
       "      <td>1.0</td>\n",
       "      <td>1.0</td>\n",
       "      <td>8.0</td>\n",
       "      <td>4.0</td>\n",
       "      <td>4.0</td>\n",
       "      <td>52.000000</td>\n",
       "      <td>8.803274</td>\n",
       "    </tr>\n",
       "  </tbody>\n",
       "</table>\n",
       "</div>"
      ],
      "text/plain": [
       "      State                               field        Region  \\\n",
       "0  New York    Science, Technology, Engineering  Northeastern   \n",
       "1  New York                 Business, Admin, PR  Northeastern   \n",
       "2  New York  Consumer, Retail, Arts, Humanities  Northeastern   \n",
       "\n",
       "   field_start_over_min_w  field_mid_over_min_w  summed  \\\n",
       "0                     5.0                   5.0     8.0   \n",
       "1                     4.0                   4.0     8.0   \n",
       "2                     1.0                   1.0     8.0   \n",
       "\n",
       "   region_start_over_min_w  region_mid_over_min_w      score  final_score  \n",
       "0                      4.0                    4.0  77.000000    12.414712  \n",
       "1                      4.0                    4.0  55.333333    11.637994  \n",
       "2                      4.0                    4.0  52.000000     8.803274  "
      ]
     },
     "execution_count": 14,
     "metadata": {},
     "output_type": "execute_result"
    }
   ],
   "source": [
    "df.head(3)"
   ]
  },
  {
   "cell_type": "code",
   "execution_count": 15,
   "id": "f06a1a93-64a3-4110-bc95-46459230242b",
   "metadata": {},
   "outputs": [
    {
     "name": "stdout",
     "output_type": "stream",
     "text": [
      "Index(['State', 'field', 'Region', 'field_start_over_min_w',\n",
      "       'field_mid_over_min_w', 'summed', 'region_start_over_min_w',\n",
      "       'region_mid_over_min_w', 'score', 'final_score'],\n",
      "      dtype='object')\n",
      "full length  250\n",
      "sample size  16\n",
      "zscore  score                      0.180135\n",
      "field_start_over_min_w     0.132583\n",
      "field_mid_over_min_w       0.132583\n",
      "region_start_over_min_w   -0.340909\n",
      "region_mid_over_min_w     -0.340909\n",
      "final_score               -0.059138\n",
      "dtype: float64\n"
     ]
    }
   ],
   "source": [
    "cols = ['score', 'field_start_over_min_w', 'field_mid_over_min_w','region_start_over_min_w', 'region_mid_over_min_w','final_score']\n",
    "run_zscore(df, cols)"
   ]
  },
  {
   "cell_type": "code",
   "execution_count": 16,
   "id": "4e473545-9499-4421-a717-b6890a993b83",
   "metadata": {},
   "outputs": [],
   "source": [
    "df_scored =df[['State', 'field', 'Region','final_score']]"
   ]
  },
  {
   "cell_type": "code",
   "execution_count": 17,
   "id": "bbc39600-72a4-4ff6-b49a-2d9ae5eacf48",
   "metadata": {},
   "outputs": [
    {
     "data": {
      "text/html": [
       "<div>\n",
       "<style scoped>\n",
       "    .dataframe tbody tr th:only-of-type {\n",
       "        vertical-align: middle;\n",
       "    }\n",
       "\n",
       "    .dataframe tbody tr th {\n",
       "        vertical-align: top;\n",
       "    }\n",
       "\n",
       "    .dataframe thead th {\n",
       "        text-align: right;\n",
       "    }\n",
       "</style>\n",
       "<table border=\"1\" class=\"dataframe\">\n",
       "  <thead>\n",
       "    <tr style=\"text-align: right;\">\n",
       "      <th></th>\n",
       "      <th>State</th>\n",
       "      <th>field</th>\n",
       "      <th>Region</th>\n",
       "      <th>final_score</th>\n",
       "    </tr>\n",
       "  </thead>\n",
       "  <tbody>\n",
       "    <tr>\n",
       "      <th>5</th>\n",
       "      <td>Pennsylvania</td>\n",
       "      <td>Science, Technology, Engineering</td>\n",
       "      <td>Northeastern</td>\n",
       "      <td>14.111161</td>\n",
       "    </tr>\n",
       "    <tr>\n",
       "      <th>10</th>\n",
       "      <td>Massachusetts</td>\n",
       "      <td>Science, Technology, Engineering</td>\n",
       "      <td>Northeastern</td>\n",
       "      <td>13.898748</td>\n",
       "    </tr>\n",
       "    <tr>\n",
       "      <th>15</th>\n",
       "      <td>New Jersey</td>\n",
       "      <td>Science, Technology, Engineering</td>\n",
       "      <td>Northeastern</td>\n",
       "      <td>13.673486</td>\n",
       "    </tr>\n",
       "    <tr>\n",
       "      <th>50</th>\n",
       "      <td>Texas</td>\n",
       "      <td>Science, Technology, Engineering</td>\n",
       "      <td>Southern</td>\n",
       "      <td>13.534009</td>\n",
       "    </tr>\n",
       "    <tr>\n",
       "      <th>90</th>\n",
       "      <td>Virginia</td>\n",
       "      <td>Science, Technology, Engineering</td>\n",
       "      <td>Southern</td>\n",
       "      <td>13.456332</td>\n",
       "    </tr>\n",
       "    <tr>\n",
       "      <th>60</th>\n",
       "      <td>North Carolina</td>\n",
       "      <td>Science, Technology, Engineering</td>\n",
       "      <td>Southern</td>\n",
       "      <td>13.440090</td>\n",
       "    </tr>\n",
       "    <tr>\n",
       "      <th>6</th>\n",
       "      <td>Pennsylvania</td>\n",
       "      <td>Business, Admin, PR</td>\n",
       "      <td>Northeastern</td>\n",
       "      <td>13.377192</td>\n",
       "    </tr>\n",
       "    <tr>\n",
       "      <th>25</th>\n",
       "      <td>Connecticut</td>\n",
       "      <td>Science, Technology, Engineering</td>\n",
       "      <td>Northeastern</td>\n",
       "      <td>13.296877</td>\n",
       "    </tr>\n",
       "    <tr>\n",
       "      <th>70</th>\n",
       "      <td>Tennessee</td>\n",
       "      <td>Science, Technology, Engineering</td>\n",
       "      <td>Southern</td>\n",
       "      <td>13.266983</td>\n",
       "    </tr>\n",
       "    <tr>\n",
       "      <th>45</th>\n",
       "      <td>California</td>\n",
       "      <td>Science, Technology, Engineering</td>\n",
       "      <td>California</td>\n",
       "      <td>13.254488</td>\n",
       "    </tr>\n",
       "    <tr>\n",
       "      <th>65</th>\n",
       "      <td>Kentucky</td>\n",
       "      <td>Science, Technology, Engineering</td>\n",
       "      <td>Southern</td>\n",
       "      <td>13.161969</td>\n",
       "    </tr>\n",
       "    <tr>\n",
       "      <th>85</th>\n",
       "      <td>Georgia</td>\n",
       "      <td>Science, Technology, Engineering</td>\n",
       "      <td>Southern</td>\n",
       "      <td>13.149638</td>\n",
       "    </tr>\n",
       "    <tr>\n",
       "      <th>11</th>\n",
       "      <td>Massachusetts</td>\n",
       "      <td>Business, Admin, PR</td>\n",
       "      <td>Northeastern</td>\n",
       "      <td>13.011977</td>\n",
       "    </tr>\n",
       "    <tr>\n",
       "      <th>16</th>\n",
       "      <td>New Jersey</td>\n",
       "      <td>Business, Admin, PR</td>\n",
       "      <td>Northeastern</td>\n",
       "      <td>12.989426</td>\n",
       "    </tr>\n",
       "    <tr>\n",
       "      <th>80</th>\n",
       "      <td>Oklahoma</td>\n",
       "      <td>Science, Technology, Engineering</td>\n",
       "      <td>Southern</td>\n",
       "      <td>12.977569</td>\n",
       "    </tr>\n",
       "    <tr>\n",
       "      <th>75</th>\n",
       "      <td>Maryland</td>\n",
       "      <td>Science, Technology, Engineering</td>\n",
       "      <td>Southern</td>\n",
       "      <td>12.966411</td>\n",
       "    </tr>\n",
       "    <tr>\n",
       "      <th>30</th>\n",
       "      <td>New Hampshire</td>\n",
       "      <td>Science, Technology, Engineering</td>\n",
       "      <td>Northeastern</td>\n",
       "      <td>12.934265</td>\n",
       "    </tr>\n",
       "    <tr>\n",
       "      <th>51</th>\n",
       "      <td>Texas</td>\n",
       "      <td>Business, Admin, PR</td>\n",
       "      <td>Southern</td>\n",
       "      <td>12.915605</td>\n",
       "    </tr>\n",
       "    <tr>\n",
       "      <th>105</th>\n",
       "      <td>Alabama</td>\n",
       "      <td>Science, Technology, Engineering</td>\n",
       "      <td>Southern</td>\n",
       "      <td>12.847400</td>\n",
       "    </tr>\n",
       "    <tr>\n",
       "      <th>61</th>\n",
       "      <td>North Carolina</td>\n",
       "      <td>Business, Admin, PR</td>\n",
       "      <td>Southern</td>\n",
       "      <td>12.741864</td>\n",
       "    </tr>\n",
       "  </tbody>\n",
       "</table>\n",
       "</div>"
      ],
      "text/plain": [
       "              State                             field        Region  \\\n",
       "5      Pennsylvania  Science, Technology, Engineering  Northeastern   \n",
       "10    Massachusetts  Science, Technology, Engineering  Northeastern   \n",
       "15       New Jersey  Science, Technology, Engineering  Northeastern   \n",
       "50            Texas  Science, Technology, Engineering      Southern   \n",
       "90         Virginia  Science, Technology, Engineering      Southern   \n",
       "60   North Carolina  Science, Technology, Engineering      Southern   \n",
       "6      Pennsylvania               Business, Admin, PR  Northeastern   \n",
       "25      Connecticut  Science, Technology, Engineering  Northeastern   \n",
       "70        Tennessee  Science, Technology, Engineering      Southern   \n",
       "45       California  Science, Technology, Engineering    California   \n",
       "65         Kentucky  Science, Technology, Engineering      Southern   \n",
       "85          Georgia  Science, Technology, Engineering      Southern   \n",
       "11    Massachusetts               Business, Admin, PR  Northeastern   \n",
       "16       New Jersey               Business, Admin, PR  Northeastern   \n",
       "80         Oklahoma  Science, Technology, Engineering      Southern   \n",
       "75         Maryland  Science, Technology, Engineering      Southern   \n",
       "30    New Hampshire  Science, Technology, Engineering  Northeastern   \n",
       "51            Texas               Business, Admin, PR      Southern   \n",
       "105         Alabama  Science, Technology, Engineering      Southern   \n",
       "61   North Carolina               Business, Admin, PR      Southern   \n",
       "\n",
       "     final_score  \n",
       "5      14.111161  \n",
       "10     13.898748  \n",
       "15     13.673486  \n",
       "50     13.534009  \n",
       "90     13.456332  \n",
       "60     13.440090  \n",
       "6      13.377192  \n",
       "25     13.296877  \n",
       "70     13.266983  \n",
       "45     13.254488  \n",
       "65     13.161969  \n",
       "85     13.149638  \n",
       "11     13.011977  \n",
       "16     12.989426  \n",
       "80     12.977569  \n",
       "75     12.966411  \n",
       "30     12.934265  \n",
       "51     12.915605  \n",
       "105    12.847400  \n",
       "61     12.741864  "
      ]
     },
     "execution_count": 17,
     "metadata": {},
     "output_type": "execute_result"
    }
   ],
   "source": [
    "df_scored.sort_values(by='final_score', ascending= False).head(20)"
   ]
  },
  {
   "cell_type": "markdown",
   "id": "6d2cb186-17f6-46ee-afcc-41454408a9af",
   "metadata": {},
   "source": [
    "After totaling, combining and scoring, it still appears that pennsylvania takes the lead"
   ]
  },
  {
   "cell_type": "code",
   "execution_count": 18,
   "id": "80189f5c-0676-4a00-b369-df224afd97c9",
   "metadata": {
    "tags": []
   },
   "outputs": [
    {
     "data": {
      "image/png": "[encoded data removed]",
      "text/plain": [
       "<Figure size 1332x756 with 1 Axes>"
      ]
     },
     "metadata": {
      "needs_background": "light"
     },
     "output_type": "display_data"
    }
   ],
   "source": [
    "#Create\n",
    "fig, ax = plt.subplots()\n",
    "#Data\n",
    "df_h = df_scored[df_scored['final_score'] > 12]\n",
    "x1 = df_h['State']\n",
    "y1 =df_h['final_score'] \n",
    "#Appearance\n",
    "\n",
    "ax.bar(x1, y1,label='Regions')\n",
    "ax.set_title(\"State Score\")  # Add a title to the axes.\n",
    "fig.set_size_inches(18.5, 10.5)\n",
    "plt.xticks(rotation=45)\n",
    "plt.show()"
   ]
  },
  {
   "cell_type": "code",
   "execution_count": 19,
   "id": "a68d9280-b55e-4e2f-a528-36422a9c0275",
   "metadata": {},
   "outputs": [
    {
     "data": {
      "text/html": [
       "<div>\n",
       "<style scoped>\n",
       "    .dataframe tbody tr th:only-of-type {\n",
       "        vertical-align: middle;\n",
       "    }\n",
       "\n",
       "    .dataframe tbody tr th {\n",
       "        vertical-align: top;\n",
       "    }\n",
       "\n",
       "    .dataframe thead th {\n",
       "        text-align: right;\n",
       "    }\n",
       "</style>\n",
       "<table border=\"1\" class=\"dataframe\">\n",
       "  <thead>\n",
       "    <tr style=\"text-align: right;\">\n",
       "      <th></th>\n",
       "      <th>final_score</th>\n",
       "    </tr>\n",
       "    <tr>\n",
       "      <th>Region</th>\n",
       "      <th></th>\n",
       "    </tr>\n",
       "  </thead>\n",
       "  <tbody>\n",
       "    <tr>\n",
       "      <th>California</th>\n",
       "      <td>9.950738</td>\n",
       "    </tr>\n",
       "    <tr>\n",
       "      <th>Midwestern</th>\n",
       "      <td>9.049957</td>\n",
       "    </tr>\n",
       "    <tr>\n",
       "      <th>Northeastern</th>\n",
       "      <td>10.269563</td>\n",
       "    </tr>\n",
       "    <tr>\n",
       "      <th>Southern</th>\n",
       "      <td>10.651684</td>\n",
       "    </tr>\n",
       "    <tr>\n",
       "      <th>Western</th>\n",
       "      <td>9.358835</td>\n",
       "    </tr>\n",
       "  </tbody>\n",
       "</table>\n",
       "</div>"
      ],
      "text/plain": [
       "              final_score\n",
       "Region                   \n",
       "California       9.950738\n",
       "Midwestern       9.049957\n",
       "Northeastern    10.269563\n",
       "Southern        10.651684\n",
       "Western          9.358835"
      ]
     },
     "execution_count": 19,
     "metadata": {},
     "output_type": "execute_result"
    }
   ],
   "source": [
    "df_scored.groupby('Region').mean()"
   ]
  },
  {
   "cell_type": "markdown",
   "id": "440ae647",
   "metadata": {},
   "source": [
    "\n",
    "\n"
   ]
  }
 ],
 "metadata": {
  "kernelspec": {
   "display_name": "Python 3 (ipykernel)",
   "language": "python",
   "name": "python3"
  },
  "language_info": {
   "codemirror_mode": {
    "name": "ipython",
    "version": 3
   },
   "file_extension": ".py",
   "mimetype": "text/x-python",
   "name": "python",
   "nbconvert_exporter": "python",
   "pygments_lexer": "ipython3",
   "version": "3.9.7"
  }
 },
 "nbformat": 4,
 "nbformat_minor": 5
}
