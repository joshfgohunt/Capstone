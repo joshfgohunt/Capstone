{
 "cells": [
  {
   "cell_type": "code",
   "execution_count": 1,
   "id": "100de175-1615-4c95-875a-5d9d7a479933",
   "metadata": {},
   "outputs": [],
   "source": [
    "import pandas as pd\n",
    "\n",
    "import Clean_data as cld\n",
    "import Transform_Data as tfd\n",
    "import Visualize_Data as vld"
   ]
  },
  {
   "cell_type": "code",
   "execution_count": 2,
   "id": "d3df9315-e9b6-499e-8712-1f361a14aa66",
   "metadata": {},
   "outputs": [],
   "source": [
    "merged_zhvi_df =  cld.get_rent_df()"
   ]
  },
  {
   "cell_type": "code",
   "execution_count": 3,
   "id": "9915286c-6c16-4af2-bcaf-bf4092d97288",
   "metadata": {},
   "outputs": [
    {
     "name": "stdout",
     "output_type": "stream",
     "text": [
      "['NY' 'CA' 'IL' 'TX' 'AZ' 'FL' 'WA' 'TN' 'MA' 'DC' 'GA' 'VA' 'CT' 'NH'\n",
      " 'NJ' 'PA' 'NV' 'IN' 'NC' 'CO' 'OR' 'NE' 'SC' 'MN' 'RI' 'MO' 'AL' 'ID'\n",
      " 'OH' 'KY' 'MD' 'NM' 'OK' 'HI' 'LA' 'AK' 'AR' 'KS' 'SD' 'MT' 'DE' 'WI'\n",
      " 'IA' 'MI' 'ND' 'WV' 'UT' 'MS' 'WY' 'ME' 'VT']\n"
     ]
    }
   ],
   "source": [
    "print(merged_zhvi_df['State'].unique())"
   ]
  },
  {
   "cell_type": "markdown",
   "id": "0c17877a-b0a0-4427-b1d2-0ad43e4c33d8",
   "metadata": {},
   "source": [
    "Confirming that all 50 states + DC appear in my dataset"
   ]
  },
  {
   "cell_type": "code",
   "execution_count": 4,
   "id": "c46d5cd6-3120-44d8-9d45-a279796f1484",
   "metadata": {},
   "outputs": [],
   "source": [
    "state_year_grouped_df = tfd.group_house_dfs(merged_zhvi_df) \n",
    "#Aggregate['State','Year','size']['value'] on: 'count', 'mean', 'median', 'std', 'min', 'max'"
   ]
  },
  {
   "cell_type": "markdown",
   "id": "249b74e9-f1f5-49d2-a0dc-63de52e457e5",
   "metadata": {},
   "source": [
    "I discovered that over half my values were NA, so I've taken the extra step of cleaning out all NA values"
   ]
  },
  {
   "cell_type": "code",
   "execution_count": 5,
   "id": "e713e3f9-7223-49fc-a555-2bc9b7716cd8",
   "metadata": {},
   "outputs": [
    {
     "data": {
      "text/plain": [
       "(416, 6)"
      ]
     },
     "execution_count": 5,
     "metadata": {},
     "output_type": "execute_result"
    }
   ],
   "source": [
    "state_year_grouped_df.shape"
   ]
  },
  {
   "cell_type": "markdown",
   "id": "137a364a-62ab-48f9-bdcb-ba1089a3649a",
   "metadata": {},
   "source": [
    "I have two groups of data to focus on:\n",
    "10,167 rows of ungrouped data, pertinent to individual locations.\n",
    "582 rows of grouped data, reshaped with indexes for state, year and size.\n",
    "\n",
    "I have opted to leave the 'all size' data out, as the granularity of room count adds a measure of cohesion to my findings in regards to cost and location."
   ]
  },
  {
   "cell_type": "markdown",
   "id": "90d9d59f-bb1b-4d45-a017-d52c6cda413c",
   "metadata": {},
   "source": [
    "# High End Cost of Living"
   ]
  },
  {
   "cell_type": "markdown",
   "id": "c89a12a8-3b0f-4b04-8be8-6c6f44bb5c02",
   "metadata": {},
   "source": [
    "Finding our most expensive locations (from 0 - a max value of (years*bedrooms = 12):"
   ]
  },
  {
   "cell_type": "code",
   "execution_count": 6,
   "id": "dbc5dfca-b528-4c8a-a728-c284b8c5519a",
   "metadata": {},
   "outputs": [],
   "source": [
    "largest_min = tfd.return_nlargest_state_count(state_year_grouped_df,50, 'min') \n",
    "largest_max = tfd.return_nlargest_state_count(state_year_grouped_df,50, 'max') \n",
    "largest_mean = tfd.return_nlargest_state_count(state_year_grouped_df,50, 'mean') \n",
    "largest_med = tfd.return_nlargest_state_count(state_year_grouped_df,50, 'median') \n",
    "largest_std = tfd.return_nlargest_state_count(state_year_grouped_df,50, 'std') "
   ]
  },
  {
   "cell_type": "code",
   "execution_count": 7,
   "id": "73e1aee3-04f9-4d12-b035-9c141be455f6",
   "metadata": {},
   "outputs": [],
   "source": [
    "count_expensive_dfs = [largest_min,largest_max,largest_mean,largest_std, largest_med]"
   ]
  },
  {
   "cell_type": "code",
   "execution_count": 8,
   "id": "334a0bf2-9f84-4325-a07a-a135c5416890",
   "metadata": {},
   "outputs": [],
   "source": [
    "e_merged_count_df = tfd.return_merged_count(count_expensive_dfs)\n"
   ]
  },
  {
   "cell_type": "markdown",
   "id": "be411be5-a276-4e80-a424-dfbf39561a35",
   "metadata": {},
   "source": [
    "I then merge those 5 columns in order to get a score of 0-60, in doing so I also discovered that only 25 states made the top cut in any way. Because of this I will be performing an entirely separate low-end exploration later."
   ]
  },
  {
   "cell_type": "markdown",
   "id": "7bd36930-ce75-42a8-9e5d-748074985e93",
   "metadata": {},
   "source": [
    "California is by far the most expensive place to live. Massachusetts and Florida are a big drop for 2nd and 3rd place.\n",
    "\n",
    "Because of how difficult it seems to be to even make the list, I'll be using the top 5 results."
   ]
  },
  {
   "cell_type": "code",
   "execution_count": null,
   "id": "1781b1bb-e5c4-47d9-9270-16245e31bbcd",
   "metadata": {},
   "outputs": [],
   "source": []
  },
  {
   "cell_type": "markdown",
   "id": "3bdf8ecc-f5b6-464e-b228-204f3147773e",
   "metadata": {},
   "source": [
    "# Lowest Cost of Living"
   ]
  },
  {
   "cell_type": "code",
   "execution_count": 9,
   "id": "8294c3ef-9612-47bb-b8a4-cc1aa2bae89e",
   "metadata": {},
   "outputs": [],
   "source": [
    "smallest_min = tfd.return_nsmallest_state_count(state_year_grouped_df,50, 'min') \n",
    "smallest_max = tfd.return_nsmallest_state_count(state_year_grouped_df,50, 'max') \n",
    "smallest_mean = tfd.return_nsmallest_state_count(state_year_grouped_df,50, 'mean') \n",
    "smallest_med = tfd.return_nsmallest_state_count(state_year_grouped_df,50, 'median') \n",
    "smallest_std = tfd.return_nsmallest_state_count(state_year_grouped_df,50, 'std') "
   ]
  },
  {
   "cell_type": "code",
   "execution_count": 10,
   "id": "5048fd48-170e-47fb-8bce-bd20f1186c1e",
   "metadata": {},
   "outputs": [],
   "source": [
    "count_cheapest_dfs = [smallest_min,smallest_max,smallest_mean,smallest_med, smallest_std]"
   ]
  },
  {
   "cell_type": "code",
   "execution_count": 11,
   "id": "583be204-8dd1-43a0-8863-a5aef4e06194",
   "metadata": {},
   "outputs": [],
   "source": [
    "c_merged_count_df = tfd.return_merged_count(count_cheapest_dfs)\n"
   ]
  },
  {
   "cell_type": "code",
   "execution_count": 12,
   "id": "1630471f-563e-414f-acec-2a12c33562ba",
   "metadata": {},
   "outputs": [],
   "source": [
    "c_largest = c_merged_count_df.sum(axis=1).nlargest(25)"
   ]
  },
  {
   "cell_type": "code",
   "execution_count": 13,
   "id": "33b29040-f0c5-42dd-932d-36f5820cf784",
   "metadata": {},
   "outputs": [],
   "source": [
    "c_largest = c_largest.reset_index()"
   ]
  },
  {
   "cell_type": "code",
   "execution_count": 14,
   "id": "9d1b9874-3f2f-470a-a3bd-ac2cb43bf288",
   "metadata": {},
   "outputs": [
    {
     "data": {
      "text/html": [
       "<div>\n",
       "<style scoped>\n",
       "    .dataframe tbody tr th:only-of-type {\n",
       "        vertical-align: middle;\n",
       "    }\n",
       "\n",
       "    .dataframe tbody tr th {\n",
       "        vertical-align: top;\n",
       "    }\n",
       "\n",
       "    .dataframe thead th {\n",
       "        text-align: right;\n",
       "    }\n",
       "</style>\n",
       "<table border=\"1\" class=\"dataframe\">\n",
       "  <thead>\n",
       "    <tr style=\"text-align: right;\">\n",
       "      <th></th>\n",
       "      <th>State</th>\n",
       "      <th>0</th>\n",
       "    </tr>\n",
       "  </thead>\n",
       "  <tbody>\n",
       "    <tr>\n",
       "      <th>0</th>\n",
       "      <td>MO</td>\n",
       "      <td>17.0</td>\n",
       "    </tr>\n",
       "    <tr>\n",
       "      <th>1</th>\n",
       "      <td>MT</td>\n",
       "      <td>13.0</td>\n",
       "    </tr>\n",
       "    <tr>\n",
       "      <th>2</th>\n",
       "      <td>AR</td>\n",
       "      <td>11.0</td>\n",
       "    </tr>\n",
       "    <tr>\n",
       "      <th>3</th>\n",
       "      <td>KY</td>\n",
       "      <td>11.0</td>\n",
       "    </tr>\n",
       "    <tr>\n",
       "      <th>4</th>\n",
       "      <td>OK</td>\n",
       "      <td>11.0</td>\n",
       "    </tr>\n",
       "    <tr>\n",
       "      <th>5</th>\n",
       "      <td>OH</td>\n",
       "      <td>10.0</td>\n",
       "    </tr>\n",
       "    <tr>\n",
       "      <th>6</th>\n",
       "      <td>WV</td>\n",
       "      <td>9.0</td>\n",
       "    </tr>\n",
       "    <tr>\n",
       "      <th>7</th>\n",
       "      <td>NE</td>\n",
       "      <td>9.0</td>\n",
       "    </tr>\n",
       "    <tr>\n",
       "      <th>8</th>\n",
       "      <td>AL</td>\n",
       "      <td>8.0</td>\n",
       "    </tr>\n",
       "    <tr>\n",
       "      <th>9</th>\n",
       "      <td>KS</td>\n",
       "      <td>8.0</td>\n",
       "    </tr>\n",
       "  </tbody>\n",
       "</table>\n",
       "</div>"
      ],
      "text/plain": [
       "  State     0\n",
       "0    MO  17.0\n",
       "1    MT  13.0\n",
       "2    AR  11.0\n",
       "3    KY  11.0\n",
       "4    OK  11.0\n",
       "5    OH  10.0\n",
       "6    WV   9.0\n",
       "7    NE   9.0\n",
       "8    AL   8.0\n",
       "9    KS   8.0"
      ]
     },
     "execution_count": 14,
     "metadata": {},
     "output_type": "execute_result"
    }
   ],
   "source": [
    "c_largest.head(10)"
   ]
  },
  {
   "cell_type": "code",
   "execution_count": 15,
   "id": "5f2efd9b-6b11-4d4f-a5c3-846157a5bf88",
   "metadata": {},
   "outputs": [
    {
     "name": "stdout",
     "output_type": "stream",
     "text": [
      "41\n"
     ]
    }
   ],
   "source": [
    "print(len(c_merged_count_df))"
   ]
  },
  {
   "cell_type": "markdown",
   "id": "6ddec3da-5fec-4b5b-ba6e-3c2fbedb8226",
   "metadata": {},
   "source": [
    "Much like before, I've gotten the count of occurance, by state, this time with the smallest values found. The spread is much more even. with 41 of the possible 51 regions appearing. I will likewise choose the top 5 values from this spread."
   ]
  },
  {
   "cell_type": "code",
   "execution_count": 16,
   "id": "e4da94e2-20f4-43f6-87b3-8418969ab14d",
   "metadata": {},
   "outputs": [],
   "source": [
    "low_end_state_df = tfd.return_cheap_end(merged_zhvi_df)"
   ]
  },
  {
   "cell_type": "markdown",
   "id": "85d6d7b6-6fbb-4e6e-ad88-ffd4b2b34af0",
   "metadata": {},
   "source": [
    "# Mid-Tier Cost of Living"
   ]
  },
  {
   "cell_type": "code",
   "execution_count": 17,
   "id": "5905e88c-377a-40af-bac4-e0930fa2c77e",
   "metadata": {},
   "outputs": [],
   "source": [
    "# merge = c_largest.merge(e_largest, left_on='State',right_on='State')"
   ]
  },
  {
   "cell_type": "code",
   "execution_count": 18,
   "id": "2081e86e-f0aa-4290-a307-5f3e8e8c372e",
   "metadata": {},
   "outputs": [],
   "source": [
    "# merge.columns = ['State', 'Cheapest', 'Highest']"
   ]
  },
  {
   "cell_type": "code",
   "execution_count": 19,
   "id": "0405b18b-43dc-4c53-b60e-d4b3d498ff8c",
   "metadata": {},
   "outputs": [],
   "source": [
    "# merge"
   ]
  },
  {
   "cell_type": "markdown",
   "id": "fb07d8bc-3a78-43f0-862c-4ab534f51660",
   "metadata": {},
   "source": [
    "I've got 8 values that fall into both tables, I'll tream these as 'mid-tier' states"
   ]
  },
  {
   "cell_type": "code",
   "execution_count": 20,
   "id": "17829b44-e27f-42da-b920-d99a70b35595",
   "metadata": {},
   "outputs": [],
   "source": [
    "# mid_tier_state_df = tfd.return_mid_tier(merged_zhvi_df)"
   ]
  },
  {
   "cell_type": "code",
   "execution_count": 21,
   "id": "6bb68a48-9ffd-4b86-b165-6bb428d85a6a",
   "metadata": {},
   "outputs": [],
   "source": [
    "# mid_tier_state_df"
   ]
  },
  {
   "cell_type": "markdown",
   "id": "55773967-b743-4e2c-9dad-17d19a0427dc",
   "metadata": {},
   "source": [
    "After revisiting my prvious methods I've revisited, and  gone with a simpler tiering system"
   ]
  },
  {
   "cell_type": "code",
   "execution_count": 22,
   "id": "16cfbc7e-bdcb-422c-a840-18891325443d",
   "metadata": {},
   "outputs": [
    {
     "data": {
      "text/html": [
       "<div>\n",
       "<style scoped>\n",
       "    .dataframe tbody tr th:only-of-type {\n",
       "        vertical-align: middle;\n",
       "    }\n",
       "\n",
       "    .dataframe tbody tr th {\n",
       "        vertical-align: top;\n",
       "    }\n",
       "\n",
       "    .dataframe thead th {\n",
       "        text-align: right;\n",
       "    }\n",
       "</style>\n",
       "<table border=\"1\" class=\"dataframe\">\n",
       "  <thead>\n",
       "    <tr style=\"text-align: right;\">\n",
       "      <th></th>\n",
       "      <th>min</th>\n",
       "      <th>max</th>\n",
       "      <th>mean</th>\n",
       "      <th>std</th>\n",
       "      <th>median</th>\n",
       "    </tr>\n",
       "    <tr>\n",
       "      <th>State</th>\n",
       "      <th></th>\n",
       "      <th></th>\n",
       "      <th></th>\n",
       "      <th></th>\n",
       "      <th></th>\n",
       "    </tr>\n",
       "  </thead>\n",
       "  <tbody>\n",
       "    <tr>\n",
       "      <th>CO</th>\n",
       "      <td>1.0</td>\n",
       "      <td>1.0</td>\n",
       "      <td>3.0</td>\n",
       "      <td>1.0</td>\n",
       "      <td>3.0</td>\n",
       "    </tr>\n",
       "    <tr>\n",
       "      <th>CT</th>\n",
       "      <td>1.0</td>\n",
       "      <td>4.0</td>\n",
       "      <td>2.0</td>\n",
       "      <td>3.0</td>\n",
       "      <td>1.0</td>\n",
       "    </tr>\n",
       "    <tr>\n",
       "      <th>HI</th>\n",
       "      <td>5.0</td>\n",
       "      <td>1.0</td>\n",
       "      <td>3.0</td>\n",
       "      <td>0.0</td>\n",
       "      <td>3.0</td>\n",
       "    </tr>\n",
       "    <tr>\n",
       "      <th>ID</th>\n",
       "      <td>1.0</td>\n",
       "      <td>0.0</td>\n",
       "      <td>0.0</td>\n",
       "      <td>0.0</td>\n",
       "      <td>0.0</td>\n",
       "    </tr>\n",
       "    <tr>\n",
       "      <th>MA</th>\n",
       "      <td>2.0</td>\n",
       "      <td>5.0</td>\n",
       "      <td>5.0</td>\n",
       "      <td>3.0</td>\n",
       "      <td>6.0</td>\n",
       "    </tr>\n",
       "    <tr>\n",
       "      <th>MN</th>\n",
       "      <td>1.0</td>\n",
       "      <td>0.0</td>\n",
       "      <td>0.0</td>\n",
       "      <td>0.0</td>\n",
       "      <td>1.0</td>\n",
       "    </tr>\n",
       "    <tr>\n",
       "      <th>NJ</th>\n",
       "      <td>1.0</td>\n",
       "      <td>3.0</td>\n",
       "      <td>2.0</td>\n",
       "      <td>5.0</td>\n",
       "      <td>1.0</td>\n",
       "    </tr>\n",
       "    <tr>\n",
       "      <th>NY</th>\n",
       "      <td>1.0</td>\n",
       "      <td>3.0</td>\n",
       "      <td>3.0</td>\n",
       "      <td>5.0</td>\n",
       "      <td>2.0</td>\n",
       "    </tr>\n",
       "    <tr>\n",
       "      <th>OR</th>\n",
       "      <td>1.0</td>\n",
       "      <td>0.0</td>\n",
       "      <td>1.0</td>\n",
       "      <td>0.0</td>\n",
       "      <td>1.0</td>\n",
       "    </tr>\n",
       "    <tr>\n",
       "      <th>RI</th>\n",
       "      <td>1.0</td>\n",
       "      <td>0.0</td>\n",
       "      <td>1.0</td>\n",
       "      <td>0.0</td>\n",
       "      <td>1.0</td>\n",
       "    </tr>\n",
       "    <tr>\n",
       "      <th>UT</th>\n",
       "      <td>1.0</td>\n",
       "      <td>0.0</td>\n",
       "      <td>0.0</td>\n",
       "      <td>0.0</td>\n",
       "      <td>0.0</td>\n",
       "    </tr>\n",
       "    <tr>\n",
       "      <th>VA</th>\n",
       "      <td>1.0</td>\n",
       "      <td>4.0</td>\n",
       "      <td>1.0</td>\n",
       "      <td>3.0</td>\n",
       "      <td>1.0</td>\n",
       "    </tr>\n",
       "    <tr>\n",
       "      <th>CA</th>\n",
       "      <td>0.0</td>\n",
       "      <td>10.0</td>\n",
       "      <td>5.0</td>\n",
       "      <td>11.0</td>\n",
       "      <td>5.0</td>\n",
       "    </tr>\n",
       "    <tr>\n",
       "      <th>FL</th>\n",
       "      <td>0.0</td>\n",
       "      <td>7.0</td>\n",
       "      <td>1.0</td>\n",
       "      <td>8.0</td>\n",
       "      <td>2.0</td>\n",
       "    </tr>\n",
       "    <tr>\n",
       "      <th>GA</th>\n",
       "      <td>0.0</td>\n",
       "      <td>1.0</td>\n",
       "      <td>0.0</td>\n",
       "      <td>0.0</td>\n",
       "      <td>0.0</td>\n",
       "    </tr>\n",
       "    <tr>\n",
       "      <th>MD</th>\n",
       "      <td>0.0</td>\n",
       "      <td>1.0</td>\n",
       "      <td>0.0</td>\n",
       "      <td>0.0</td>\n",
       "      <td>0.0</td>\n",
       "    </tr>\n",
       "    <tr>\n",
       "      <th>SC</th>\n",
       "      <td>0.0</td>\n",
       "      <td>1.0</td>\n",
       "      <td>1.0</td>\n",
       "      <td>1.0</td>\n",
       "      <td>0.0</td>\n",
       "    </tr>\n",
       "    <tr>\n",
       "      <th>TX</th>\n",
       "      <td>0.0</td>\n",
       "      <td>1.0</td>\n",
       "      <td>0.0</td>\n",
       "      <td>0.0</td>\n",
       "      <td>0.0</td>\n",
       "    </tr>\n",
       "    <tr>\n",
       "      <th>WA</th>\n",
       "      <td>0.0</td>\n",
       "      <td>1.0</td>\n",
       "      <td>2.0</td>\n",
       "      <td>2.0</td>\n",
       "      <td>2.0</td>\n",
       "    </tr>\n",
       "    <tr>\n",
       "      <th>AZ</th>\n",
       "      <td>0.0</td>\n",
       "      <td>0.0</td>\n",
       "      <td>0.0</td>\n",
       "      <td>1.0</td>\n",
       "      <td>0.0</td>\n",
       "    </tr>\n",
       "    <tr>\n",
       "      <th>IL</th>\n",
       "      <td>0.0</td>\n",
       "      <td>0.0</td>\n",
       "      <td>0.0</td>\n",
       "      <td>2.0</td>\n",
       "      <td>0.0</td>\n",
       "    </tr>\n",
       "    <tr>\n",
       "      <th>IN</th>\n",
       "      <td>0.0</td>\n",
       "      <td>0.0</td>\n",
       "      <td>0.0</td>\n",
       "      <td>1.0</td>\n",
       "      <td>0.0</td>\n",
       "    </tr>\n",
       "    <tr>\n",
       "      <th>MI</th>\n",
       "      <td>0.0</td>\n",
       "      <td>0.0</td>\n",
       "      <td>0.0</td>\n",
       "      <td>1.0</td>\n",
       "      <td>1.0</td>\n",
       "    </tr>\n",
       "    <tr>\n",
       "      <th>TN</th>\n",
       "      <td>0.0</td>\n",
       "      <td>0.0</td>\n",
       "      <td>0.0</td>\n",
       "      <td>2.0</td>\n",
       "      <td>0.0</td>\n",
       "    </tr>\n",
       "    <tr>\n",
       "      <th>WI</th>\n",
       "      <td>0.0</td>\n",
       "      <td>0.0</td>\n",
       "      <td>0.0</td>\n",
       "      <td>1.0</td>\n",
       "      <td>0.0</td>\n",
       "    </tr>\n",
       "  </tbody>\n",
       "</table>\n",
       "</div>"
      ],
      "text/plain": [
       "       min   max  mean   std  median\n",
       "State                               \n",
       "CO     1.0   1.0   3.0   1.0     3.0\n",
       "CT     1.0   4.0   2.0   3.0     1.0\n",
       "HI     5.0   1.0   3.0   0.0     3.0\n",
       "ID     1.0   0.0   0.0   0.0     0.0\n",
       "MA     2.0   5.0   5.0   3.0     6.0\n",
       "MN     1.0   0.0   0.0   0.0     1.0\n",
       "NJ     1.0   3.0   2.0   5.0     1.0\n",
       "NY     1.0   3.0   3.0   5.0     2.0\n",
       "OR     1.0   0.0   1.0   0.0     1.0\n",
       "RI     1.0   0.0   1.0   0.0     1.0\n",
       "UT     1.0   0.0   0.0   0.0     0.0\n",
       "VA     1.0   4.0   1.0   3.0     1.0\n",
       "CA     0.0  10.0   5.0  11.0     5.0\n",
       "FL     0.0   7.0   1.0   8.0     2.0\n",
       "GA     0.0   1.0   0.0   0.0     0.0\n",
       "MD     0.0   1.0   0.0   0.0     0.0\n",
       "SC     0.0   1.0   1.0   1.0     0.0\n",
       "TX     0.0   1.0   0.0   0.0     0.0\n",
       "WA     0.0   1.0   2.0   2.0     2.0\n",
       "AZ     0.0   0.0   0.0   1.0     0.0\n",
       "IL     0.0   0.0   0.0   2.0     0.0\n",
       "IN     0.0   0.0   0.0   1.0     0.0\n",
       "MI     0.0   0.0   0.0   1.0     1.0\n",
       "TN     0.0   0.0   0.0   2.0     0.0\n",
       "WI     0.0   0.0   0.0   1.0     0.0"
      ]
     },
     "execution_count": 22,
     "metadata": {},
     "output_type": "execute_result"
    }
   ],
   "source": [
    "e_merged_count_df"
   ]
  },
  {
   "cell_type": "code",
   "execution_count": 33,
   "id": "3b1250a0-5af3-41e1-adae-eb3799761400",
   "metadata": {},
   "outputs": [],
   "source": [
    "\n",
    "merged_zhvi_df =  cld.get_rent_df()\n",
    "tiered_df = merged_zhvi_df.groupby(['State'])['value'].agg(['mean']).sort_values('mean').reset_index()"
   ]
  },
  {
   "cell_type": "code",
   "execution_count": 35,
   "id": "a3d5b5dd-edbb-418d-a749-41e0f4507bf3",
   "metadata": {},
   "outputs": [],
   "source": [
    "tiered_df.to_csv('Tiered_State_Rental_Prices.csv')"
   ]
  }
 ],
 "metadata": {
  "kernelspec": {
   "display_name": "Python 3 (ipykernel)",
   "language": "python",
   "name": "python3"
  },
  "language_info": {
   "codemirror_mode": {
    "name": "ipython",
    "version": 3
   },
   "file_extension": ".py",
   "mimetype": "text/x-python",
   "name": "python",
   "nbconvert_exporter": "python",
   "pygments_lexer": "ipython3",
   "version": "3.9.7"
  }
 },
 "nbformat": 4,
 "nbformat_minor": 5
}
