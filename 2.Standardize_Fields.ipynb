{
 "cells": [
  {
   "cell_type": "code",
   "execution_count": 1,
   "id": "021a2596-a87e-4fcd-9551-725c39b2347d",
   "metadata": {},
   "outputs": [],
   "source": [
    "import pandas as pd\n",
    "import numpy as np\n",
    "import Clean_data as cld\n",
    "import Transform_Data as tfd\n",
    "import Visualize_Data as vld"
   ]
  },
  {
   "cell_type": "code",
   "execution_count": 2,
   "id": "bdd1b0a2-f56a-4c71-8202-a77374a9234b",
   "metadata": {},
   "outputs": [],
   "source": [
    "df = pd.read_csv('Datasets/Discoveries/Degree_to_job_title_value_counts.csv')\n"
   ]
  },
  {
   "cell_type": "code",
   "execution_count": 3,
   "id": "200a70f3-010f-4034-af8d-3a310e569b48",
   "metadata": {},
   "outputs": [
    {
     "data": {
      "text/plain": [
       "Index(['Unnamed: 0', 'major', 'category', 'title', 'count'], dtype='object')"
      ]
     },
     "execution_count": 3,
     "metadata": {},
     "output_type": "execute_result"
    }
   ],
   "source": [
    "df.columns"
   ]
  },
  {
   "cell_type": "markdown",
   "id": "77c0ac15-7658-44a2-9c91-1a0d36a1b52f",
   "metadata": {},
   "source": [
    "### Establish Core of Education Lookup Table"
   ]
  },
  {
   "cell_type": "code",
   "execution_count": 4,
   "id": "42bbd068-930f-463a-9891-497c87b4f5d2",
   "metadata": {},
   "outputs": [],
   "source": [
    "\n",
    "lookup_df = df[['major', 'category']]"
   ]
  },
  {
   "cell_type": "code",
   "execution_count": 5,
   "id": "72efd6ad-a204-46b5-85cf-fc638dd8a3ce",
   "metadata": {},
   "outputs": [
    {
     "data": {
      "text/html": [
       "<div>\n",
       "<style scoped>\n",
       "    .dataframe tbody tr th:only-of-type {\n",
       "        vertical-align: middle;\n",
       "    }\n",
       "\n",
       "    .dataframe tbody tr th {\n",
       "        vertical-align: top;\n",
       "    }\n",
       "\n",
       "    .dataframe thead th {\n",
       "        text-align: right;\n",
       "    }\n",
       "</style>\n",
       "<table border=\"1\" class=\"dataframe\">\n",
       "  <thead>\n",
       "    <tr style=\"text-align: right;\">\n",
       "      <th></th>\n",
       "      <th>major</th>\n",
       "      <th>category</th>\n",
       "    </tr>\n",
       "  </thead>\n",
       "  <tbody>\n",
       "    <tr>\n",
       "      <th>0</th>\n",
       "      <td>3d modelling</td>\n",
       "      <td>technology</td>\n",
       "    </tr>\n",
       "    <tr>\n",
       "      <th>1</th>\n",
       "      <td>3d modelling</td>\n",
       "      <td>technology</td>\n",
       "    </tr>\n",
       "    <tr>\n",
       "      <th>2</th>\n",
       "      <td>3d modelling</td>\n",
       "      <td>technology</td>\n",
       "    </tr>\n",
       "    <tr>\n",
       "      <th>3</th>\n",
       "      <td>3d modelling</td>\n",
       "      <td>technology</td>\n",
       "    </tr>\n",
       "    <tr>\n",
       "      <th>4</th>\n",
       "      <td>3d modelling</td>\n",
       "      <td>technology</td>\n",
       "    </tr>\n",
       "    <tr>\n",
       "      <th>5</th>\n",
       "      <td>3d modelling</td>\n",
       "      <td>technology</td>\n",
       "    </tr>\n",
       "    <tr>\n",
       "      <th>6</th>\n",
       "      <td>3d modelling</td>\n",
       "      <td>technology</td>\n",
       "    </tr>\n",
       "    <tr>\n",
       "      <th>7</th>\n",
       "      <td>3d modelling</td>\n",
       "      <td>technology</td>\n",
       "    </tr>\n",
       "    <tr>\n",
       "      <th>8</th>\n",
       "      <td>3d modelling</td>\n",
       "      <td>technology</td>\n",
       "    </tr>\n",
       "    <tr>\n",
       "      <th>9</th>\n",
       "      <td>3d modelling</td>\n",
       "      <td>technology</td>\n",
       "    </tr>\n",
       "  </tbody>\n",
       "</table>\n",
       "</div>"
      ],
      "text/plain": [
       "          major    category\n",
       "0  3d modelling  technology\n",
       "1  3d modelling  technology\n",
       "2  3d modelling  technology\n",
       "3  3d modelling  technology\n",
       "4  3d modelling  technology\n",
       "5  3d modelling  technology\n",
       "6  3d modelling  technology\n",
       "7  3d modelling  technology\n",
       "8  3d modelling  technology\n",
       "9  3d modelling  technology"
      ]
     },
     "execution_count": 5,
     "metadata": {},
     "output_type": "execute_result"
    }
   ],
   "source": [
    "lookup_df.head(10)"
   ]
  },
  {
   "cell_type": "markdown",
   "id": "e4328d2c-a26a-4bb0-8cb8-c0c09f963834",
   "metadata": {},
   "source": [
    "### Add other tables that can tie into the core table"
   ]
  },
  {
   "cell_type": "code",
   "execution_count": 6,
   "id": "51be460a-fc34-4675-b312-6d7da6041258",
   "metadata": {},
   "outputs": [],
   "source": [
    "st_degree_ct_df = pd.read_csv('Datasets/Discoveries/State_Degree_Counts.csv')\n",
    "global_indst_df = pd.read_csv('Datasets/Discoveries/Industry_counts_global.csv')\n",
    "\n",
    "\n",
    "degree_to_position_ct = pd.read_csv('Datasets/Discoveries/Degree_to_job_title_total_counts.csv')\n",
    "degree_specs_placement= pd.read_csv('Datasets/Discoveries/Degree_Specs_Pruned_Placement.csv')\n",
    "degree_payback = pd.read_csv('Datasets/Discoveries/Degree_payback_grouped_mean.csv')"
   ]
  },
  {
   "cell_type": "markdown",
   "id": "bf8402c3-c9fc-4f04-8c55-22ff940ec056",
   "metadata": {},
   "source": [
    "### Explore and assess usefullness"
   ]
  },
  {
   "cell_type": "code",
   "execution_count": 7,
   "id": "846b556a-80ac-480d-a838-49fd0c2a6479",
   "metadata": {},
   "outputs": [
    {
     "data": {
      "text/html": [
       "<div>\n",
       "<style scoped>\n",
       "    .dataframe tbody tr th:only-of-type {\n",
       "        vertical-align: middle;\n",
       "    }\n",
       "\n",
       "    .dataframe tbody tr th {\n",
       "        vertical-align: top;\n",
       "    }\n",
       "\n",
       "    .dataframe thead th {\n",
       "        text-align: right;\n",
       "    }\n",
       "</style>\n",
       "<table border=\"1\" class=\"dataframe\">\n",
       "  <thead>\n",
       "    <tr style=\"text-align: right;\">\n",
       "      <th></th>\n",
       "      <th>State</th>\n",
       "      <th>Bachelor's Degree Holders</th>\n",
       "      <th>Science and Engineering</th>\n",
       "      <th>Science and Engineering Related Fields</th>\n",
       "      <th>Business</th>\n",
       "      <th>Education</th>\n",
       "      <th>Arts, Humanities and Others</th>\n",
       "      <th>sci_eng</th>\n",
       "      <th>sci_eng_rel</th>\n",
       "      <th>business</th>\n",
       "      <th>education</th>\n",
       "      <th>art_hum_oth</th>\n",
       "    </tr>\n",
       "  </thead>\n",
       "  <tbody>\n",
       "    <tr>\n",
       "      <th>0</th>\n",
       "      <td>District of Columbia</td>\n",
       "      <td>602858.0</td>\n",
       "      <td>292418.0</td>\n",
       "      <td>31224.0</td>\n",
       "      <td>78228.0</td>\n",
       "      <td>20502.0</td>\n",
       "      <td>180486.0</td>\n",
       "      <td>0.485053</td>\n",
       "      <td>0.051793</td>\n",
       "      <td>0.129762</td>\n",
       "      <td>0.034008</td>\n",
       "      <td>0.299384</td>\n",
       "    </tr>\n",
       "    <tr>\n",
       "      <th>1</th>\n",
       "      <td>Washington</td>\n",
       "      <td>3911264.0</td>\n",
       "      <td>1647784.0</td>\n",
       "      <td>333010.0</td>\n",
       "      <td>626424.0</td>\n",
       "      <td>376178.0</td>\n",
       "      <td>927868.0</td>\n",
       "      <td>0.421292</td>\n",
       "      <td>0.085141</td>\n",
       "      <td>0.160159</td>\n",
       "      <td>0.096178</td>\n",
       "      <td>0.237230</td>\n",
       "    </tr>\n",
       "    <tr>\n",
       "      <th>2</th>\n",
       "      <td>California</td>\n",
       "      <td>18856968.0</td>\n",
       "      <td>7859122.0</td>\n",
       "      <td>1562792.0</td>\n",
       "      <td>3442188.0</td>\n",
       "      <td>1160732.0</td>\n",
       "      <td>4832134.0</td>\n",
       "      <td>0.416775</td>\n",
       "      <td>0.082876</td>\n",
       "      <td>0.182542</td>\n",
       "      <td>0.061555</td>\n",
       "      <td>0.256252</td>\n",
       "    </tr>\n",
       "  </tbody>\n",
       "</table>\n",
       "</div>"
      ],
      "text/plain": [
       "                  State  Bachelor's Degree Holders  Science and Engineering  \\\n",
       "0  District of Columbia                   602858.0                 292418.0   \n",
       "1            Washington                  3911264.0                1647784.0   \n",
       "2            California                 18856968.0                7859122.0   \n",
       "\n",
       "   Science and Engineering Related Fields   Business  Education  \\\n",
       "0                                 31224.0    78228.0    20502.0   \n",
       "1                                333010.0   626424.0   376178.0   \n",
       "2                               1562792.0  3442188.0  1160732.0   \n",
       "\n",
       "   Arts, Humanities and Others   sci_eng  sci_eng_rel  business  education  \\\n",
       "0                     180486.0  0.485053     0.051793  0.129762   0.034008   \n",
       "1                     927868.0  0.421292     0.085141  0.160159   0.096178   \n",
       "2                    4832134.0  0.416775     0.082876  0.182542   0.061555   \n",
       "\n",
       "   art_hum_oth  \n",
       "0     0.299384  \n",
       "1     0.237230  \n",
       "2     0.256252  "
      ]
     },
     "execution_count": 7,
     "metadata": {},
     "output_type": "execute_result"
    }
   ],
   "source": [
    "st_degree_ct_df.head(3)"
   ]
  },
  {
   "cell_type": "markdown",
   "id": "f3f3315d-8a7a-4cc4-a278-22b2ccbb1bb8",
   "metadata": {},
   "source": [
    "Can link states with ratios of overarching degree-types, and assign a weight, per degree type, per region"
   ]
  },
  {
   "cell_type": "code",
   "execution_count": 8,
   "id": "986d3c13-0ec4-4491-952d-110329c91de1",
   "metadata": {},
   "outputs": [
    {
     "data": {
      "text/html": [
       "<div>\n",
       "<style scoped>\n",
       "    .dataframe tbody tr th:only-of-type {\n",
       "        vertical-align: middle;\n",
       "    }\n",
       "\n",
       "    .dataframe tbody tr th {\n",
       "        vertical-align: top;\n",
       "    }\n",
       "\n",
       "    .dataframe thead th {\n",
       "        text-align: right;\n",
       "    }\n",
       "</style>\n",
       "<table border=\"1\" class=\"dataframe\">\n",
       "  <thead>\n",
       "    <tr style=\"text-align: right;\">\n",
       "      <th></th>\n",
       "      <th>industry</th>\n",
       "      <th>Count</th>\n",
       "      <th>related_field</th>\n",
       "    </tr>\n",
       "  </thead>\n",
       "  <tbody>\n",
       "    <tr>\n",
       "      <th>0</th>\n",
       "      <td>information technology and services</td>\n",
       "      <td>534948</td>\n",
       "      <td>Science, Technology, Engineering</td>\n",
       "    </tr>\n",
       "    <tr>\n",
       "      <th>1</th>\n",
       "      <td>marketing and advertising</td>\n",
       "      <td>385649</td>\n",
       "      <td>Business, Admin, PR</td>\n",
       "    </tr>\n",
       "    <tr>\n",
       "      <th>2</th>\n",
       "      <td>real estate</td>\n",
       "      <td>274165</td>\n",
       "      <td>Business, Admin, PR</td>\n",
       "    </tr>\n",
       "  </tbody>\n",
       "</table>\n",
       "</div>"
      ],
      "text/plain": [
       "                              industry   Count  \\\n",
       "0  information technology and services  534948   \n",
       "1            marketing and advertising  385649   \n",
       "2                          real estate  274165   \n",
       "\n",
       "                      related_field  \n",
       "0  Science, Technology, Engineering  \n",
       "1               Business, Admin, PR  \n",
       "2               Business, Admin, PR  "
      ]
     },
     "execution_count": 8,
     "metadata": {},
     "output_type": "execute_result"
    }
   ],
   "source": [
    "global_indst_df.head(3)"
   ]
  },
  {
   "cell_type": "code",
   "execution_count": 9,
   "id": "936ab53d-8320-4957-b62e-10a0d9819337",
   "metadata": {},
   "outputs": [],
   "source": [
    "global_indst_df.columns = ['industry', 'count', 'field']"
   ]
  },
  {
   "cell_type": "markdown",
   "id": "df0012fb-721f-4862-91ce-9090e4cb7610",
   "metadata": {},
   "source": [
    "Can group each industry into a broader 'related degree' as well as 'industry type' pool, Will require a little more manual work on my part"
   ]
  },
  {
   "cell_type": "code",
   "execution_count": 10,
   "id": "60a6a316-5577-4d6f-a4e8-a97f72212b99",
   "metadata": {},
   "outputs": [
    {
     "data": {
      "text/html": [
       "<div>\n",
       "<style scoped>\n",
       "    .dataframe tbody tr th:only-of-type {\n",
       "        vertical-align: middle;\n",
       "    }\n",
       "\n",
       "    .dataframe tbody tr th {\n",
       "        vertical-align: top;\n",
       "    }\n",
       "\n",
       "    .dataframe thead th {\n",
       "        text-align: right;\n",
       "    }\n",
       "</style>\n",
       "<table border=\"1\" class=\"dataframe\">\n",
       "  <thead>\n",
       "    <tr style=\"text-align: right;\">\n",
       "      <th></th>\n",
       "      <th>Unnamed: 0</th>\n",
       "      <th>major</th>\n",
       "      <th>category</th>\n",
       "      <th>count</th>\n",
       "    </tr>\n",
       "  </thead>\n",
       "  <tbody>\n",
       "    <tr>\n",
       "      <th>0</th>\n",
       "      <td>0</td>\n",
       "      <td>3d modelling</td>\n",
       "      <td>technology</td>\n",
       "      <td>299.0</td>\n",
       "    </tr>\n",
       "    <tr>\n",
       "      <th>1</th>\n",
       "      <td>1</td>\n",
       "      <td>3d modelling and animation</td>\n",
       "      <td>technology</td>\n",
       "      <td>52.0</td>\n",
       "    </tr>\n",
       "    <tr>\n",
       "      <th>2</th>\n",
       "      <td>2</td>\n",
       "      <td>accountancy</td>\n",
       "      <td>finance</td>\n",
       "      <td>354609.0</td>\n",
       "    </tr>\n",
       "  </tbody>\n",
       "</table>\n",
       "</div>"
      ],
      "text/plain": [
       "   Unnamed: 0                       major    category     count\n",
       "0           0                3d modelling  technology     299.0\n",
       "1           1  3d modelling and animation  technology      52.0\n",
       "2           2                 accountancy     finance  354609.0"
      ]
     },
     "execution_count": 10,
     "metadata": {},
     "output_type": "execute_result"
    }
   ],
   "source": [
    "degree_to_position_ct.head(3)"
   ]
  },
  {
   "cell_type": "code",
   "execution_count": 11,
   "id": "365a0792-e544-4686-aebf-541d4e4063f8",
   "metadata": {},
   "outputs": [
    {
     "data": {
      "text/plain": [
       "category\n",
       "admin          58\n",
       "finance        34\n",
       "science        67\n",
       "technology    108\n",
       "Name: major, dtype: int64"
      ]
     },
     "execution_count": 11,
     "metadata": {},
     "output_type": "execute_result"
    }
   ],
   "source": [
    "degree_to_position_ct.groupby('category')['major'].count()"
   ]
  },
  {
   "cell_type": "code",
   "execution_count": 12,
   "id": "df5ab002-bafc-4c1d-a53e-f716aab6cd9c",
   "metadata": {},
   "outputs": [
    {
     "data": {
      "text/plain": [
       "category\n",
       "admin         22312579.0\n",
       "finance       17856019.0\n",
       "science        5985411.0\n",
       "technology    12396555.0\n",
       "Name: count, dtype: float64"
      ]
     },
     "execution_count": 12,
     "metadata": {},
     "output_type": "execute_result"
    }
   ],
   "source": [
    "degree_to_position_ct.groupby('category')['count'].sum()"
   ]
  },
  {
   "cell_type": "markdown",
   "id": "52fa9194-6e8b-4e35-9408-c88d3f0c8d83",
   "metadata": {},
   "source": [
    "I've realized after some further diving that this dataset it too limited to provide meaningful insight."
   ]
  },
  {
   "cell_type": "code",
   "execution_count": 13,
   "id": "ade1c140-d233-40e6-a797-a548c2670c60",
   "metadata": {},
   "outputs": [
    {
     "data": {
      "text/html": [
       "<div>\n",
       "<style scoped>\n",
       "    .dataframe tbody tr th:only-of-type {\n",
       "        vertical-align: middle;\n",
       "    }\n",
       "\n",
       "    .dataframe tbody tr th {\n",
       "        vertical-align: top;\n",
       "    }\n",
       "\n",
       "    .dataframe thead th {\n",
       "        text-align: right;\n",
       "    }\n",
       "</style>\n",
       "<table border=\"1\" class=\"dataframe\">\n",
       "  <thead>\n",
       "    <tr style=\"text-align: right;\">\n",
       "      <th></th>\n",
       "      <th>early_specialisation</th>\n",
       "      <th>degree</th>\n",
       "      <th>specialisation</th>\n",
       "      <th>mean</th>\n",
       "      <th>count</th>\n",
       "      <th>median</th>\n",
       "      <th>std</th>\n",
       "      <th>min</th>\n",
       "      <th>max</th>\n",
       "    </tr>\n",
       "  </thead>\n",
       "  <tbody>\n",
       "    <tr>\n",
       "      <th>0</th>\n",
       "      <td>Science</td>\n",
       "      <td>Sci&amp;Tech</td>\n",
       "      <td>Mkt&amp;Fin</td>\n",
       "      <td>322720.0000</td>\n",
       "      <td>25</td>\n",
       "      <td>275000</td>\n",
       "      <td>115811.45600</td>\n",
       "      <td>200000</td>\n",
       "      <td>690000</td>\n",
       "    </tr>\n",
       "    <tr>\n",
       "      <th>1</th>\n",
       "      <td>Science</td>\n",
       "      <td>Sci&amp;Tech</td>\n",
       "      <td>Mkt&amp;HR</td>\n",
       "      <td>304066.6667</td>\n",
       "      <td>15</td>\n",
       "      <td>276000</td>\n",
       "      <td>72335.00108</td>\n",
       "      <td>210000</td>\n",
       "      <td>450000</td>\n",
       "    </tr>\n",
       "    <tr>\n",
       "      <th>2</th>\n",
       "      <td>Commerce</td>\n",
       "      <td>Comm&amp;Mgmt</td>\n",
       "      <td>Mkt&amp;Fin</td>\n",
       "      <td>299685.1852</td>\n",
       "      <td>54</td>\n",
       "      <td>277500</td>\n",
       "      <td>116492.74400</td>\n",
       "      <td>200000</td>\n",
       "      <td>940000</td>\n",
       "    </tr>\n",
       "  </tbody>\n",
       "</table>\n",
       "</div>"
      ],
      "text/plain": [
       "  early_specialisation     degree specialisation         mean  count  median  \\\n",
       "0              Science   Sci&Tech        Mkt&Fin  322720.0000     25  275000   \n",
       "1              Science   Sci&Tech         Mkt&HR  304066.6667     15  276000   \n",
       "2             Commerce  Comm&Mgmt        Mkt&Fin  299685.1852     54  277500   \n",
       "\n",
       "            std     min     max  \n",
       "0  115811.45600  200000  690000  \n",
       "1   72335.00108  210000  450000  \n",
       "2  116492.74400  200000  940000  "
      ]
     },
     "execution_count": 13,
     "metadata": {},
     "output_type": "execute_result"
    }
   ],
   "source": [
    "degree_specs_placement.head(3)"
   ]
  },
  {
   "cell_type": "code",
   "execution_count": 14,
   "id": "73a9fa3b-4288-4c2f-baa7-748f2ab5cfb2",
   "metadata": {},
   "outputs": [
    {
     "data": {
      "text/plain": [
       "(6, 9)"
      ]
     },
     "execution_count": 14,
     "metadata": {},
     "output_type": "execute_result"
    }
   ],
   "source": [
    "degree_specs_placement.shape"
   ]
  },
  {
   "cell_type": "markdown",
   "id": "7fac9c20-92be-4c6b-8175-0bf870aaf894",
   "metadata": {},
   "source": [
    "based on small sample-size, this on may be cut for this particular phase"
   ]
  },
  {
   "cell_type": "code",
   "execution_count": 15,
   "id": "88619ac9-070e-47d8-b0a4-79778f53e369",
   "metadata": {},
   "outputs": [
    {
     "data": {
      "text/html": [
       "<div>\n",
       "<style scoped>\n",
       "    .dataframe tbody tr th:only-of-type {\n",
       "        vertical-align: middle;\n",
       "    }\n",
       "\n",
       "    .dataframe tbody tr th {\n",
       "        vertical-align: top;\n",
       "    }\n",
       "\n",
       "    .dataframe thead th {\n",
       "        text-align: right;\n",
       "    }\n",
       "</style>\n",
       "<table border=\"1\" class=\"dataframe\">\n",
       "  <thead>\n",
       "    <tr style=\"text-align: right;\">\n",
       "      <th></th>\n",
       "      <th>Undergraduate Major</th>\n",
       "      <th>Starting Median Salary</th>\n",
       "      <th>Mid-Career Median Salary</th>\n",
       "      <th>Percent change from Starting to Mid-Career Salary</th>\n",
       "    </tr>\n",
       "  </thead>\n",
       "  <tbody>\n",
       "    <tr>\n",
       "      <th>0</th>\n",
       "      <td>Accounting</td>\n",
       "      <td>46000.0</td>\n",
       "      <td>77100.0</td>\n",
       "      <td>0.676</td>\n",
       "    </tr>\n",
       "    <tr>\n",
       "      <th>1</th>\n",
       "      <td>Aerospace Engineering</td>\n",
       "      <td>57700.0</td>\n",
       "      <td>101000.0</td>\n",
       "      <td>0.750</td>\n",
       "    </tr>\n",
       "    <tr>\n",
       "      <th>2</th>\n",
       "      <td>Agriculture</td>\n",
       "      <td>42600.0</td>\n",
       "      <td>71900.0</td>\n",
       "      <td>0.688</td>\n",
       "    </tr>\n",
       "  </tbody>\n",
       "</table>\n",
       "</div>"
      ],
      "text/plain": [
       "     Undergraduate Major  Starting Median Salary  Mid-Career Median Salary  \\\n",
       "0             Accounting                 46000.0                   77100.0   \n",
       "1  Aerospace Engineering                 57700.0                  101000.0   \n",
       "2            Agriculture                 42600.0                   71900.0   \n",
       "\n",
       "   Percent change from Starting to Mid-Career Salary  \n",
       "0                                              0.676  \n",
       "1                                              0.750  \n",
       "2                                              0.688  "
      ]
     },
     "execution_count": 15,
     "metadata": {},
     "output_type": "execute_result"
    }
   ],
   "source": [
    "degree_payback.head(3)"
   ]
  },
  {
   "cell_type": "markdown",
   "id": "85de6afd-4436-41d9-98b7-8c1e29788ec2",
   "metadata": {},
   "source": [
    "This will pair up nicely for the weight portion of my project. saved for later. "
   ]
  },
  {
   "cell_type": "markdown",
   "id": "258dd77c-8d18-4e13-9012-be17208a8a2a",
   "metadata": {},
   "source": [
    "### Using the survivng datasets"
   ]
  },
  {
   "cell_type": "code",
   "execution_count": 16,
   "id": "919892c1-fa7d-41ee-84f9-576d4a5aaf82",
   "metadata": {},
   "outputs": [
    {
     "data": {
      "text/html": [
       "<div>\n",
       "<style scoped>\n",
       "    .dataframe tbody tr th:only-of-type {\n",
       "        vertical-align: middle;\n",
       "    }\n",
       "\n",
       "    .dataframe tbody tr th {\n",
       "        vertical-align: top;\n",
       "    }\n",
       "\n",
       "    .dataframe thead th {\n",
       "        text-align: right;\n",
       "    }\n",
       "</style>\n",
       "<table border=\"1\" class=\"dataframe\">\n",
       "  <thead>\n",
       "    <tr style=\"text-align: right;\">\n",
       "      <th></th>\n",
       "      <th>industry</th>\n",
       "      <th>count</th>\n",
       "      <th>field</th>\n",
       "    </tr>\n",
       "  </thead>\n",
       "  <tbody>\n",
       "    <tr>\n",
       "      <th>0</th>\n",
       "      <td>information technology and services</td>\n",
       "      <td>534948</td>\n",
       "      <td>Science, Technology, Engineering</td>\n",
       "    </tr>\n",
       "    <tr>\n",
       "      <th>1</th>\n",
       "      <td>marketing and advertising</td>\n",
       "      <td>385649</td>\n",
       "      <td>Business, Admin, PR</td>\n",
       "    </tr>\n",
       "    <tr>\n",
       "      <th>2</th>\n",
       "      <td>real estate</td>\n",
       "      <td>274165</td>\n",
       "      <td>Business, Admin, PR</td>\n",
       "    </tr>\n",
       "  </tbody>\n",
       "</table>\n",
       "</div>"
      ],
      "text/plain": [
       "                              industry   count  \\\n",
       "0  information technology and services  534948   \n",
       "1            marketing and advertising  385649   \n",
       "2                          real estate  274165   \n",
       "\n",
       "                              field  \n",
       "0  Science, Technology, Engineering  \n",
       "1               Business, Admin, PR  \n",
       "2               Business, Admin, PR  "
      ]
     },
     "execution_count": 16,
     "metadata": {},
     "output_type": "execute_result"
    }
   ],
   "source": [
    "global_indst_df.head(3)"
   ]
  },
  {
   "cell_type": "markdown",
   "id": "86452ab2-9c5d-441e-ab9f-0285bd7f43ee",
   "metadata": {},
   "source": [
    "I've created 5 buckets to fit my education and industries into.\n",
    "\n",
    "* A: Business, Admin, PR\n",
    "* B: Architecture, Design\n",
    "* C: Consumer, Retail, Arts, Humanities\n",
    "* D: Health, Education, Government, Civil\n",
    "* E: Science, Technology, Engineering"
   ]
  },
  {
   "cell_type": "markdown",
   "id": "725b1cf1-e7c6-4748-a69d-952d42df389a",
   "metadata": {},
   "source": [
    "#####  State Degree Counts"
   ]
  },
  {
   "cell_type": "code",
   "execution_count": 17,
   "id": "0ccce059-e2e5-4784-943d-d07855b63f3f",
   "metadata": {},
   "outputs": [
    {
     "data": {
      "text/html": [
       "<div>\n",
       "<style scoped>\n",
       "    .dataframe tbody tr th:only-of-type {\n",
       "        vertical-align: middle;\n",
       "    }\n",
       "\n",
       "    .dataframe tbody tr th {\n",
       "        vertical-align: top;\n",
       "    }\n",
       "\n",
       "    .dataframe thead th {\n",
       "        text-align: right;\n",
       "    }\n",
       "</style>\n",
       "<table border=\"1\" class=\"dataframe\">\n",
       "  <thead>\n",
       "    <tr style=\"text-align: right;\">\n",
       "      <th></th>\n",
       "      <th>State</th>\n",
       "      <th>Bachelor's Degree Holders</th>\n",
       "      <th>Science and Engineering</th>\n",
       "      <th>Science and Engineering Related Fields</th>\n",
       "      <th>Business</th>\n",
       "      <th>Education</th>\n",
       "      <th>Arts, Humanities and Others</th>\n",
       "      <th>sci_eng</th>\n",
       "      <th>sci_eng_rel</th>\n",
       "      <th>business</th>\n",
       "      <th>education</th>\n",
       "      <th>art_hum_oth</th>\n",
       "    </tr>\n",
       "  </thead>\n",
       "  <tbody>\n",
       "    <tr>\n",
       "      <th>0</th>\n",
       "      <td>District of Columbia</td>\n",
       "      <td>602858.0</td>\n",
       "      <td>292418.0</td>\n",
       "      <td>31224.0</td>\n",
       "      <td>78228.0</td>\n",
       "      <td>20502.0</td>\n",
       "      <td>180486.0</td>\n",
       "      <td>0.485053</td>\n",
       "      <td>0.051793</td>\n",
       "      <td>0.129762</td>\n",
       "      <td>0.034008</td>\n",
       "      <td>0.299384</td>\n",
       "    </tr>\n",
       "    <tr>\n",
       "      <th>1</th>\n",
       "      <td>Washington</td>\n",
       "      <td>3911264.0</td>\n",
       "      <td>1647784.0</td>\n",
       "      <td>333010.0</td>\n",
       "      <td>626424.0</td>\n",
       "      <td>376178.0</td>\n",
       "      <td>927868.0</td>\n",
       "      <td>0.421292</td>\n",
       "      <td>0.085141</td>\n",
       "      <td>0.160159</td>\n",
       "      <td>0.096178</td>\n",
       "      <td>0.237230</td>\n",
       "    </tr>\n",
       "    <tr>\n",
       "      <th>2</th>\n",
       "      <td>California</td>\n",
       "      <td>18856968.0</td>\n",
       "      <td>7859122.0</td>\n",
       "      <td>1562792.0</td>\n",
       "      <td>3442188.0</td>\n",
       "      <td>1160732.0</td>\n",
       "      <td>4832134.0</td>\n",
       "      <td>0.416775</td>\n",
       "      <td>0.082876</td>\n",
       "      <td>0.182542</td>\n",
       "      <td>0.061555</td>\n",
       "      <td>0.256252</td>\n",
       "    </tr>\n",
       "  </tbody>\n",
       "</table>\n",
       "</div>"
      ],
      "text/plain": [
       "                  State  Bachelor's Degree Holders  Science and Engineering  \\\n",
       "0  District of Columbia                   602858.0                 292418.0   \n",
       "1            Washington                  3911264.0                1647784.0   \n",
       "2            California                 18856968.0                7859122.0   \n",
       "\n",
       "   Science and Engineering Related Fields   Business  Education  \\\n",
       "0                                 31224.0    78228.0    20502.0   \n",
       "1                                333010.0   626424.0   376178.0   \n",
       "2                               1562792.0  3442188.0  1160732.0   \n",
       "\n",
       "   Arts, Humanities and Others   sci_eng  sci_eng_rel  business  education  \\\n",
       "0                     180486.0  0.485053     0.051793  0.129762   0.034008   \n",
       "1                     927868.0  0.421292     0.085141  0.160159   0.096178   \n",
       "2                    4832134.0  0.416775     0.082876  0.182542   0.061555   \n",
       "\n",
       "   art_hum_oth  \n",
       "0     0.299384  \n",
       "1     0.237230  \n",
       "2     0.256252  "
      ]
     },
     "execution_count": 17,
     "metadata": {},
     "output_type": "execute_result"
    }
   ],
   "source": [
    "st_degree_ct_df.head(3)"
   ]
  },
  {
   "cell_type": "code",
   "execution_count": 18,
   "id": "f012d197-88ae-4f3d-9b70-397019b5d2fa",
   "metadata": {},
   "outputs": [],
   "source": [
    "st_degree_ct_df = st_degree_ct_df[['State', 'Bachelor\\'s Degree Holders', 'sci_eng', 'sci_eng_rel', 'business',\n",
    "       'education', 'art_hum_oth']]"
   ]
  },
  {
   "cell_type": "markdown",
   "id": "9138d8da-fb6d-4b71-8fdd-5e112d79e76a",
   "metadata": {},
   "source": [
    "Step one is to remove the raw counts, aside from over-all bachelors degree holders. this will reduce the weight of pitting larger and smaller states against each other."
   ]
  },
  {
   "cell_type": "code",
   "execution_count": 19,
   "id": "79e4c77a-e621-46b2-896b-76ff0ee3bbcb",
   "metadata": {},
   "outputs": [],
   "source": [
    "pd.options.display.float_format = '{:20,.2f}'.format\n",
    "melted_st_deg_ct = st_degree_ct_df.melt(id_vars=['State'])"
   ]
  },
  {
   "cell_type": "code",
   "execution_count": 20,
   "id": "706c28f6-1369-48ad-9d7f-83e638304b3b",
   "metadata": {},
   "outputs": [],
   "source": [
    "melted_st_deg_ct = melted_st_deg_ct.reset_index(drop=True)\n",
    "melted_st_deg_ct.columns = ['state', 'field', 'ratio']"
   ]
  },
  {
   "cell_type": "code",
   "execution_count": 21,
   "id": "22eb7d26-1266-4d13-a993-94a8ee81a1fe",
   "metadata": {},
   "outputs": [
    {
     "data": {
      "text/html": [
       "<div>\n",
       "<style scoped>\n",
       "    .dataframe tbody tr th:only-of-type {\n",
       "        vertical-align: middle;\n",
       "    }\n",
       "\n",
       "    .dataframe tbody tr th {\n",
       "        vertical-align: top;\n",
       "    }\n",
       "\n",
       "    .dataframe thead th {\n",
       "        text-align: right;\n",
       "    }\n",
       "</style>\n",
       "<table border=\"1\" class=\"dataframe\">\n",
       "  <thead>\n",
       "    <tr style=\"text-align: right;\">\n",
       "      <th></th>\n",
       "      <th>state</th>\n",
       "      <th>field</th>\n",
       "      <th>ratio</th>\n",
       "    </tr>\n",
       "  </thead>\n",
       "  <tbody>\n",
       "    <tr>\n",
       "      <th>0</th>\n",
       "      <td>District of Columbia</td>\n",
       "      <td>Bachelor's Degree Holders</td>\n",
       "      <td>602,858.00</td>\n",
       "    </tr>\n",
       "    <tr>\n",
       "      <th>1</th>\n",
       "      <td>Washington</td>\n",
       "      <td>Bachelor's Degree Holders</td>\n",
       "      <td>3,911,264.00</td>\n",
       "    </tr>\n",
       "    <tr>\n",
       "      <th>2</th>\n",
       "      <td>California</td>\n",
       "      <td>Bachelor's Degree Holders</td>\n",
       "      <td>18,856,968.00</td>\n",
       "    </tr>\n",
       "    <tr>\n",
       "      <th>3</th>\n",
       "      <td>Maryland</td>\n",
       "      <td>Bachelor's Degree Holders</td>\n",
       "      <td>3,420,460.00</td>\n",
       "    </tr>\n",
       "    <tr>\n",
       "      <th>4</th>\n",
       "      <td>Massachusetts</td>\n",
       "      <td>Bachelor's Degree Holders</td>\n",
       "      <td>4,363,486.00</td>\n",
       "    </tr>\n",
       "    <tr>\n",
       "      <th>...</th>\n",
       "      <td>...</td>\n",
       "      <td>...</td>\n",
       "      <td>...</td>\n",
       "    </tr>\n",
       "    <tr>\n",
       "      <th>301</th>\n",
       "      <td>Louisiana</td>\n",
       "      <td>art_hum_oth</td>\n",
       "      <td>0.23</td>\n",
       "    </tr>\n",
       "    <tr>\n",
       "      <th>302</th>\n",
       "      <td>Kentucky</td>\n",
       "      <td>art_hum_oth</td>\n",
       "      <td>0.24</td>\n",
       "    </tr>\n",
       "    <tr>\n",
       "      <th>303</th>\n",
       "      <td>Nebraska</td>\n",
       "      <td>art_hum_oth</td>\n",
       "      <td>0.22</td>\n",
       "    </tr>\n",
       "    <tr>\n",
       "      <th>304</th>\n",
       "      <td>North Dakota</td>\n",
       "      <td>art_hum_oth</td>\n",
       "      <td>0.18</td>\n",
       "    </tr>\n",
       "    <tr>\n",
       "      <th>305</th>\n",
       "      <td>Mississippi</td>\n",
       "      <td>art_hum_oth</td>\n",
       "      <td>0.19</td>\n",
       "    </tr>\n",
       "  </tbody>\n",
       "</table>\n",
       "<p>306 rows × 3 columns</p>\n",
       "</div>"
      ],
      "text/plain": [
       "                    state                      field                ratio\n",
       "0    District of Columbia  Bachelor's Degree Holders           602,858.00\n",
       "1              Washington  Bachelor's Degree Holders         3,911,264.00\n",
       "2              California  Bachelor's Degree Holders        18,856,968.00\n",
       "3                Maryland  Bachelor's Degree Holders         3,420,460.00\n",
       "4           Massachusetts  Bachelor's Degree Holders         4,363,486.00\n",
       "..                    ...                        ...                  ...\n",
       "301             Louisiana                art_hum_oth                 0.23\n",
       "302              Kentucky                art_hum_oth                 0.24\n",
       "303              Nebraska                art_hum_oth                 0.22\n",
       "304          North Dakota                art_hum_oth                 0.18\n",
       "305           Mississippi                art_hum_oth                 0.19\n",
       "\n",
       "[306 rows x 3 columns]"
      ]
     },
     "execution_count": 21,
     "metadata": {},
     "output_type": "execute_result"
    }
   ],
   "source": [
    "melted_st_deg_ct"
   ]
  },
  {
   "cell_type": "code",
   "execution_count": 22,
   "id": "2be9f05d-031d-43dc-9434-3fda35341ff8",
   "metadata": {},
   "outputs": [
    {
     "data": {
      "text/html": [
       "<div>\n",
       "<style scoped>\n",
       "    .dataframe tbody tr th:only-of-type {\n",
       "        vertical-align: middle;\n",
       "    }\n",
       "\n",
       "    .dataframe tbody tr th {\n",
       "        vertical-align: top;\n",
       "    }\n",
       "\n",
       "    .dataframe thead th {\n",
       "        text-align: right;\n",
       "    }\n",
       "</style>\n",
       "<table border=\"1\" class=\"dataframe\">\n",
       "  <thead>\n",
       "    <tr style=\"text-align: right;\">\n",
       "      <th></th>\n",
       "      <th>Unnamed: 0</th>\n",
       "      <th>major</th>\n",
       "      <th>category</th>\n",
       "      <th>count</th>\n",
       "    </tr>\n",
       "  </thead>\n",
       "  <tbody>\n",
       "    <tr>\n",
       "      <th>0</th>\n",
       "      <td>0</td>\n",
       "      <td>3d modelling</td>\n",
       "      <td>technology</td>\n",
       "      <td>299.00</td>\n",
       "    </tr>\n",
       "    <tr>\n",
       "      <th>1</th>\n",
       "      <td>1</td>\n",
       "      <td>3d modelling and animation</td>\n",
       "      <td>technology</td>\n",
       "      <td>52.00</td>\n",
       "    </tr>\n",
       "    <tr>\n",
       "      <th>2</th>\n",
       "      <td>2</td>\n",
       "      <td>accountancy</td>\n",
       "      <td>finance</td>\n",
       "      <td>354,609.00</td>\n",
       "    </tr>\n",
       "  </tbody>\n",
       "</table>\n",
       "</div>"
      ],
      "text/plain": [
       "   Unnamed: 0                       major    category                count\n",
       "0           0                3d modelling  technology               299.00\n",
       "1           1  3d modelling and animation  technology                52.00\n",
       "2           2                 accountancy     finance           354,609.00"
      ]
     },
     "execution_count": 22,
     "metadata": {},
     "output_type": "execute_result"
    }
   ],
   "source": [
    "degree_to_position_ct.head(3)"
   ]
  },
  {
   "cell_type": "code",
   "execution_count": 23,
   "id": "aab5925d-704a-4e27-89df-350528a28147",
   "metadata": {},
   "outputs": [],
   "source": [
    "for i in range(len(degree_to_position_ct)):\n",
    "    val = degree_to_position_ct.loc[i, 'category']\n",
    "    if(val == 'science'):\n",
    "        degree_to_position_ct.loc[i, 'category'] =  'Science, Technology, Engineering' \n",
    "    elif(val == 'technology'):\n",
    "        degree_to_position_ct.loc[i, 'category'] =  'Science, Technology, Engineering'\n",
    "    elif(val == 'finance'):\n",
    "        degree_to_position_ct.loc[i, 'category'] =  'Business, Admin, PR'\n",
    "    elif(val == 'admin'):\n",
    "        degree_to_position_ct.loc[i, 'category'] =  'Business, Admin, PR'\n",
    "    else:\n",
    "         degree_to_position_ct.loc[i, 'category'] = 'Unassigned'"
   ]
  },
  {
   "cell_type": "code",
   "execution_count": 24,
   "id": "6443f6da-abf1-44bc-a61c-0fb15d6ee347",
   "metadata": {},
   "outputs": [],
   "source": [
    "for i in range(len(melted_st_deg_ct)):\n",
    "    val = melted_st_deg_ct.loc[i, 'field']\n",
    "    if(val == 'Bachelor\\'s Degree Holders'):\n",
    "        melted_st_deg_ct.loc[i, 'field'] =  'State_Total' \n",
    "    elif(val == 'sci_eng'):\n",
    "        melted_st_deg_ct.loc[i, 'field'] =  'Science, Technology, Engineering'\n",
    "    elif(val == 'sci_eng_rel'):\n",
    "        melted_st_deg_ct.loc[i, 'field'] =  'Architecture, Design'\n",
    "    elif(val == 'business'):\n",
    "        melted_st_deg_ct.loc[i, 'field'] =  'Business, Admin, PR'\n",
    "    elif(val == 'education'):\n",
    "        melted_st_deg_ct.loc[i, 'field'] =  'Health, Education, Government, Civil'\n",
    "    elif(val == 'art_hum_oth'):\n",
    "        melted_st_deg_ct.loc[i, 'field'] =  'Consumer, Retail, Arts, Humanities'\n",
    "    else:\n",
    "        melted_st_deg_ct.loc[i, 'field'] = 'Unassigned'"
   ]
  },
  {
   "cell_type": "code",
   "execution_count": 25,
   "id": "37f47551-3e33-4252-8fdd-53367c517e0d",
   "metadata": {},
   "outputs": [],
   "source": [
    "melted_st_deg_ct.to_csv('Final_Data/Melted_State_Degree_Ratios.csv')\n",
    "degree_to_position_ct.to_csv('Final_Data/Degree_Position_Count.csv') #Keep but not using\n",
    "global_indst_df.to_csv('Final_Data/Industry_counts_global.csv')"
   ]
  }
 ],
 "metadata": {
  "kernelspec": {
   "display_name": "Python 3 (ipykernel)",
   "language": "python",
   "name": "python3"
  },
  "language_info": {
   "codemirror_mode": {
    "name": "ipython",
    "version": 3
   },
   "file_extension": ".py",
   "mimetype": "text/x-python",
   "name": "python",
   "nbconvert_exporter": "python",
   "pygments_lexer": "ipython3",
   "version": "3.9.7"
  }
 },
 "nbformat": 4,
 "nbformat_minor": 5
}
