{
 "cells": [
  {
   "cell_type": "code",
   "execution_count": 1,
   "id": "ae9cc935-0489-40b0-b1b3-8d31c7b9b6d9",
   "metadata": {},
   "outputs": [],
   "source": [
    "import pandas as pd\n",
    "import matplotlib as plt\n",
    "from scipy import stats"
   ]
  },
  {
   "cell_type": "markdown",
   "id": "47eef538-4f93-4ba2-9939-d26226def598",
   "metadata": {},
   "source": [
    "I want to ensure that my datasts have a relatively healthy distribution via random sampling."
   ]
  },
  {
   "cell_type": "code",
   "execution_count": null,
   "id": "ee16c672-5257-46c6-abb2-fad38754e4f9",
   "metadata": {},
   "outputs": [],
   "source": []
  },
  {
   "cell_type": "code",
   "execution_count": 2,
   "id": "30aef90b-adbe-46a4-81ac-ba8343165994",
   "metadata": {},
   "outputs": [],
   "source": [
    "def run_zscore(df, cols):\n",
    "    print(df.corr())\n",
    "    print(df.columns)\n",
    "    df = df[cols]\n",
    "    length = len(df)\n",
    "    samp = int(length/15)\n",
    "    print('full length ',length)\n",
    "    print('sample size ',samp)\n",
    "    print('zscore ',stats.zscore(df).sample(samp).mean())\n",
    "    "
   ]
  },
  {
   "cell_type": "code",
   "execution_count": 3,
   "id": "c1aee8ad-a38f-4b86-a753-5f583708d066",
   "metadata": {},
   "outputs": [
    {
     "name": "stdout",
     "output_type": "stream",
     "text": [
      "           Year     value\n",
      "Year   1.000000  0.154213\n",
      "value  0.154213  1.000000\n",
      "Index(['Region', 'State', 'Year', 'value'], dtype='object')\n",
      "full length  32021\n",
      "sample size  2134\n",
      "zscore  -0.0015565673729148507\n"
     ]
    }
   ],
   "source": [
    "df_home = pd.read_csv('Datasets/Discoveries/City_Sales_Price_Cleaned.csv')\n",
    "cols = 'value'\n",
    "run_zscore(df_home, cols)"
   ]
  },
  {
   "cell_type": "markdown",
   "id": "80a6fd5e-088a-44c1-affd-da878d934ef2",
   "metadata": {},
   "source": [
    "Very low variation from the mean"
   ]
  },
  {
   "cell_type": "code",
   "execution_count": 4,
   "id": "7b5eb657-410d-43d5-bdce-ece969e30c99",
   "metadata": {},
   "outputs": [
    {
     "name": "stdout",
     "output_type": "stream",
     "text": [
      "                  year    salary  satisfaction  job_openings      rank\n",
      "year          1.000000 -0.106896      0.507550      0.027463  0.230445\n",
      "salary       -0.106896  1.000000     -0.057057     -0.121899 -0.331414\n",
      "satisfaction  0.507550 -0.057057      1.000000     -0.336774 -0.021374\n",
      "job_openings  0.027463 -0.121899     -0.336774      1.000000 -0.175203\n",
      "rank          0.230445 -0.331414     -0.021374     -0.175203  1.000000\n",
      "Index(['year', 'job', 'salary', 'satisfaction', 'job_openings', 'rank'], dtype='object')\n",
      "full length  300\n",
      "sample size  20\n",
      "zscore  salary          0.035249\n",
      "satisfaction    0.219252\n",
      "job_openings   -0.227926\n",
      "dtype: float64\n"
     ]
    }
   ],
   "source": [
    "\n",
    "df_jobs = pd.read_csv('Datasets/Education Salaries/glassdoor best jobs in America over time.csv')\n",
    "cols = ['salary', 'satisfaction', 'job_openings']\n",
    "run_zscore(df_jobs, cols)"
   ]
  },
  {
   "cell_type": "code",
   "execution_count": 5,
   "id": "df831e16-63cd-40d1-aa98-89453d25b4f8",
   "metadata": {},
   "outputs": [
    {
     "name": "stdout",
     "output_type": "stream",
     "text": [
      "                     SUMLEV     STATE    COUNTY     PLACE    COUSUB    CONCIT  \\\n",
      "SUMLEV             1.000000 -0.075917 -0.214246  0.406377 -0.711407  0.044652   \n",
      "STATE             -0.075917  1.000000  0.005980 -0.094061  0.066699 -0.022549   \n",
      "COUNTY            -0.214246  0.005980  1.000000  0.006640  0.127198 -0.033945   \n",
      "PLACE              0.406377 -0.094061  0.006640  1.000000 -0.177508  0.011516   \n",
      "COUSUB            -0.711407  0.066699  0.127198 -0.177508  1.000000 -0.025669   \n",
      "CONCIT             0.044652 -0.022549 -0.033945  0.011516 -0.025669  1.000000   \n",
      "PRIMGEO_FLAG      -0.354827 -0.002646  0.305224  0.087040  0.361064 -0.037331   \n",
      "ESTIMATESBASE2010 -0.030573 -0.013616 -0.013232 -0.019694 -0.031281  0.003549   \n",
      "POPESTIMATE2010   -0.030560 -0.013608 -0.013228 -0.019692 -0.031289  0.003547   \n",
      "POPESTIMATE2011   -0.030475 -0.013580 -0.013198 -0.019669 -0.031293  0.003552   \n",
      "POPESTIMATE2012   -0.030381 -0.013546 -0.013154 -0.019648 -0.031300  0.003577   \n",
      "POPESTIMATE2013   -0.030299 -0.013529 -0.013123 -0.019626 -0.031304  0.003606   \n",
      "POPESTIMATE2014   -0.030203 -0.013499 -0.013074 -0.019591 -0.031305  0.003606   \n",
      "POPESTIMATE2015   -0.030097 -0.013471 -0.013027 -0.019553 -0.031315  0.003606   \n",
      "POPESTIMATE2016   -0.030021 -0.013447 -0.012993 -0.019526 -0.031345  0.003598   \n",
      "POPESTIMATE2017   -0.029975 -0.013412 -0.012975 -0.019513 -0.031379  0.003583   \n",
      "POPESTIMATE2018   -0.029953 -0.013377 -0.012955 -0.019505 -0.031420  0.003576   \n",
      "POPESTIMATE2019   -0.029941 -0.013313 -0.012920 -0.019510 -0.031473  0.003564   \n",
      "POPESTIMATE042020 -0.029931 -0.013255 -0.012892 -0.019506 -0.031511  0.003556   \n",
      "POPESTIMATE2020   -0.029931 -0.013233 -0.012877 -0.019507 -0.031527  0.003555   \n",
      "\n",
      "                   PRIMGEO_FLAG  ESTIMATESBASE2010  POPESTIMATE2010  \\\n",
      "SUMLEV                -0.354827          -0.030573        -0.030560   \n",
      "STATE                 -0.002646          -0.013616        -0.013608   \n",
      "COUNTY                 0.305224          -0.013232        -0.013228   \n",
      "PLACE                  0.087040          -0.019694        -0.019692   \n",
      "COUSUB                 0.361064          -0.031281        -0.031289   \n",
      "CONCIT                -0.037331           0.003549         0.003547   \n",
      "PRIMGEO_FLAG           1.000000          -0.034150        -0.034138   \n",
      "ESTIMATESBASE2010     -0.034150           1.000000         0.999999   \n",
      "POPESTIMATE2010       -0.034138           0.999999         1.000000   \n",
      "POPESTIMATE2011       -0.034065           0.999984         0.999990   \n",
      "POPESTIMATE2012       -0.033988           0.999942         0.999953   \n",
      "POPESTIMATE2013       -0.033920           0.999880         0.999896   \n",
      "POPESTIMATE2014       -0.033831           0.999770         0.999791   \n",
      "POPESTIMATE2015       -0.033734           0.999600         0.999628   \n",
      "POPESTIMATE2016       -0.033660           0.999389         0.999423   \n",
      "POPESTIMATE2017       -0.033611           0.999167         0.999206   \n",
      "POPESTIMATE2018       -0.033583           0.998928         0.998973   \n",
      "POPESTIMATE2019       -0.033566           0.998631         0.998681   \n",
      "POPESTIMATE042020     -0.033551           0.998350         0.998404   \n",
      "POPESTIMATE2020       -0.033550           0.998248         0.998304   \n",
      "\n",
      "                   POPESTIMATE2011  POPESTIMATE2012  POPESTIMATE2013  \\\n",
      "SUMLEV                   -0.030475        -0.030381        -0.030299   \n",
      "STATE                    -0.013580        -0.013546        -0.013529   \n",
      "COUNTY                   -0.013198        -0.013154        -0.013123   \n",
      "PLACE                    -0.019669        -0.019648        -0.019626   \n",
      "COUSUB                   -0.031293        -0.031300        -0.031304   \n",
      "CONCIT                    0.003552         0.003577         0.003606   \n",
      "PRIMGEO_FLAG             -0.034065        -0.033988        -0.033920   \n",
      "ESTIMATESBASE2010         0.999984         0.999942         0.999880   \n",
      "POPESTIMATE2010           0.999990         0.999953         0.999896   \n",
      "POPESTIMATE2011           1.000000         0.999986         0.999950   \n",
      "POPESTIMATE2012           0.999986         1.000000         0.999988   \n",
      "POPESTIMATE2013           0.999950         0.999988         1.000000   \n",
      "POPESTIMATE2014           0.999871         0.999940         0.999981   \n",
      "POPESTIMATE2015           0.999736         0.999839         0.999913   \n",
      "POPESTIMATE2016           0.999557         0.999693         0.999798   \n",
      "POPESTIMATE2017           0.999362         0.999524         0.999656   \n",
      "POPESTIMATE2018           0.999148         0.999334         0.999489   \n",
      "POPESTIMATE2019           0.998877         0.999090         0.999270   \n",
      "POPESTIMATE042020         0.998618         0.998853         0.999054   \n",
      "POPESTIMATE2020           0.998523         0.998765         0.998974   \n",
      "\n",
      "                   POPESTIMATE2014  POPESTIMATE2015  POPESTIMATE2016  \\\n",
      "SUMLEV                   -0.030203        -0.030097        -0.030021   \n",
      "STATE                    -0.013499        -0.013471        -0.013447   \n",
      "COUNTY                   -0.013074        -0.013027        -0.012993   \n",
      "PLACE                    -0.019591        -0.019553        -0.019526   \n",
      "COUSUB                   -0.031305        -0.031315        -0.031345   \n",
      "CONCIT                    0.003606         0.003606         0.003598   \n",
      "PRIMGEO_FLAG             -0.033831        -0.033734        -0.033660   \n",
      "ESTIMATESBASE2010         0.999770         0.999600         0.999389   \n",
      "POPESTIMATE2010           0.999791         0.999628         0.999423   \n",
      "POPESTIMATE2011           0.999871         0.999736         0.999557   \n",
      "POPESTIMATE2012           0.999940         0.999839         0.999693   \n",
      "POPESTIMATE2013           0.999981         0.999913         0.999798   \n",
      "POPESTIMATE2014           1.000000         0.999975         0.999901   \n",
      "POPESTIMATE2015           0.999975         1.000000         0.999974   \n",
      "POPESTIMATE2016           0.999901         0.999974         1.000000   \n",
      "POPESTIMATE2017           0.999793         0.999909         0.999979   \n",
      "POPESTIMATE2018           0.999659         0.999811         0.999923   \n",
      "POPESTIMATE2019           0.999474         0.999666         0.999821   \n",
      "POPESTIMATE042020         0.999286         0.999512         0.999703   \n",
      "POPESTIMATE2020           0.999215         0.999453         0.999656   \n",
      "\n",
      "                   POPESTIMATE2017  POPESTIMATE2018  POPESTIMATE2019  \\\n",
      "SUMLEV                   -0.029975        -0.029953        -0.029941   \n",
      "STATE                    -0.013412        -0.013377        -0.013313   \n",
      "COUNTY                   -0.012975        -0.012955        -0.012920   \n",
      "PLACE                    -0.019513        -0.019505        -0.019510   \n",
      "COUSUB                   -0.031379        -0.031420        -0.031473   \n",
      "CONCIT                    0.003583         0.003576         0.003564   \n",
      "PRIMGEO_FLAG             -0.033611        -0.033583        -0.033566   \n",
      "ESTIMATESBASE2010         0.999167         0.998928         0.998631   \n",
      "POPESTIMATE2010           0.999206         0.998973         0.998681   \n",
      "POPESTIMATE2011           0.999362         0.999148         0.998877   \n",
      "POPESTIMATE2012           0.999524         0.999334         0.999090   \n",
      "POPESTIMATE2013           0.999656         0.999489         0.999270   \n",
      "POPESTIMATE2014           0.999793         0.999659         0.999474   \n",
      "POPESTIMATE2015           0.999909         0.999811         0.999666   \n",
      "POPESTIMATE2016           0.999979         0.999923         0.999821   \n",
      "POPESTIMATE2017           1.000000         0.999982         0.999920   \n",
      "POPESTIMATE2018           0.999982         1.000000         0.999978   \n",
      "POPESTIMATE2019           0.999920         0.999978         1.000000   \n",
      "POPESTIMATE042020         0.999835         0.999926         0.999985   \n",
      "POPESTIMATE2020           0.999799         0.999900         0.999972   \n",
      "\n",
      "                   POPESTIMATE042020  POPESTIMATE2020  \n",
      "SUMLEV                     -0.029931        -0.029931  \n",
      "STATE                      -0.013255        -0.013233  \n",
      "COUNTY                     -0.012892        -0.012877  \n",
      "PLACE                      -0.019506        -0.019507  \n",
      "COUSUB                     -0.031511        -0.031527  \n",
      "CONCIT                      0.003556         0.003555  \n",
      "PRIMGEO_FLAG               -0.033551        -0.033550  \n",
      "ESTIMATESBASE2010           0.998350         0.998248  \n",
      "POPESTIMATE2010             0.998404         0.998304  \n",
      "POPESTIMATE2011             0.998618         0.998523  \n",
      "POPESTIMATE2012             0.998853         0.998765  \n",
      "POPESTIMATE2013             0.999054         0.998974  \n",
      "POPESTIMATE2014             0.999286         0.999215  \n",
      "POPESTIMATE2015             0.999512         0.999453  \n",
      "POPESTIMATE2016             0.999703         0.999656  \n",
      "POPESTIMATE2017             0.999835         0.999799  \n",
      "POPESTIMATE2018             0.999926         0.999900  \n",
      "POPESTIMATE2019             0.999985         0.999972  \n",
      "POPESTIMATE042020           1.000000         0.999998  \n",
      "POPESTIMATE2020             0.999998         1.000000  \n",
      "Index(['SUMLEV', 'STATE', 'COUNTY', 'PLACE', 'COUSUB', 'CONCIT',\n",
      "       'PRIMGEO_FLAG', 'FUNCSTAT', 'NAME', 'STNAME', 'CENSUS2010POP',\n",
      "       'ESTIMATESBASE2010', 'POPESTIMATE2010', 'POPESTIMATE2011',\n",
      "       'POPESTIMATE2012', 'POPESTIMATE2013', 'POPESTIMATE2014',\n",
      "       'POPESTIMATE2015', 'POPESTIMATE2016', 'POPESTIMATE2017',\n",
      "       'POPESTIMATE2018', 'POPESTIMATE2019', 'POPESTIMATE042020',\n",
      "       'POPESTIMATE2020'],\n",
      "      dtype='object')\n",
      "full length  81415\n",
      "sample size  5427\n",
      "zscore  0.028260239477975763\n"
     ]
    }
   ],
   "source": [
    "\n",
    "df_pop = pd.read_csv('Datasets/Population/2020_US_Population_By_City.csv')\n",
    "cols = 'POPESTIMATE2020'\n",
    "run_zscore(df_pop, cols)"
   ]
  },
  {
   "cell_type": "markdown",
   "id": "782c6c3b-4122-41c5-8ea3-a2af6b9312c1",
   "metadata": {},
   "source": []
  }
 ],
 "metadata": {
  "kernelspec": {
   "display_name": "Python 3 (ipykernel)",
   "language": "python",
   "name": "python3"
  },
  "language_info": {
   "codemirror_mode": {
    "name": "ipython",
    "version": 3
   },
   "file_extension": ".py",
   "mimetype": "text/x-python",
   "name": "python",
   "nbconvert_exporter": "python",
   "pygments_lexer": "ipython3",
   "version": "3.9.7"
  }
 },
 "nbformat": 4,
 "nbformat_minor": 5
}
