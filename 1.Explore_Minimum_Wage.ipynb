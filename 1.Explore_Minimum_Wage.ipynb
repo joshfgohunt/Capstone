{
 "cells": [
  {
   "cell_type": "code",
   "execution_count": 1,
   "id": "fb5eaf22-6714-431a-b133-bde7221467b9",
   "metadata": {},
   "outputs": [],
   "source": [
    "import pandas as pd"
   ]
  },
  {
   "cell_type": "code",
   "execution_count": 2,
   "id": "2c00141f-df1b-4982-b5c3-dff85a85a7f6",
   "metadata": {},
   "outputs": [],
   "source": [
    "min_df = pd.read_csv('Datasets/Education Salaries/MinimumWage.csv')"
   ]
  },
  {
   "cell_type": "code",
   "execution_count": 3,
   "id": "84085a68-fe02-484f-a90a-a9d111053abb",
   "metadata": {},
   "outputs": [
    {
     "data": {
      "text/html": [
       "<div>\n",
       "<style scoped>\n",
       "    .dataframe tbody tr th:only-of-type {\n",
       "        vertical-align: middle;\n",
       "    }\n",
       "\n",
       "    .dataframe tbody tr th {\n",
       "        vertical-align: top;\n",
       "    }\n",
       "\n",
       "    .dataframe thead th {\n",
       "        text-align: right;\n",
       "    }\n",
       "</style>\n",
       "<table border=\"1\" class=\"dataframe\">\n",
       "  <thead>\n",
       "    <tr style=\"text-align: right;\">\n",
       "      <th></th>\n",
       "      <th>Year</th>\n",
       "      <th>FederalMinimumWage</th>\n",
       "      <th>MeanAnnualInflation</th>\n",
       "      <th>MinWageIndexedLastRaiseYear</th>\n",
       "      <th>UnemploymentRateDecember</th>\n",
       "      <th>GDP_AnnualGrowth</th>\n",
       "    </tr>\n",
       "  </thead>\n",
       "  <tbody>\n",
       "    <tr>\n",
       "      <th>0</th>\n",
       "      <td>1930</td>\n",
       "      <td>0.00</td>\n",
       "      <td>-0.02</td>\n",
       "      <td>NaN</td>\n",
       "      <td>0.09</td>\n",
       "      <td>-0.09</td>\n",
       "    </tr>\n",
       "    <tr>\n",
       "      <th>1</th>\n",
       "      <td>1931</td>\n",
       "      <td>0.00</td>\n",
       "      <td>-0.09</td>\n",
       "      <td>NaN</td>\n",
       "      <td>0.16</td>\n",
       "      <td>-0.06</td>\n",
       "    </tr>\n",
       "    <tr>\n",
       "      <th>2</th>\n",
       "      <td>1932</td>\n",
       "      <td>0.00</td>\n",
       "      <td>-0.10</td>\n",
       "      <td>NaN</td>\n",
       "      <td>0.24</td>\n",
       "      <td>-0.13</td>\n",
       "    </tr>\n",
       "    <tr>\n",
       "      <th>3</th>\n",
       "      <td>1933</td>\n",
       "      <td>0.00</td>\n",
       "      <td>-0.05</td>\n",
       "      <td>NaN</td>\n",
       "      <td>0.25</td>\n",
       "      <td>-0.01</td>\n",
       "    </tr>\n",
       "    <tr>\n",
       "      <th>4</th>\n",
       "      <td>1934</td>\n",
       "      <td>0.00</td>\n",
       "      <td>0.03</td>\n",
       "      <td>NaN</td>\n",
       "      <td>0.22</td>\n",
       "      <td>0.11</td>\n",
       "    </tr>\n",
       "    <tr>\n",
       "      <th>...</th>\n",
       "      <td>...</td>\n",
       "      <td>...</td>\n",
       "      <td>...</td>\n",
       "      <td>...</td>\n",
       "      <td>...</td>\n",
       "      <td>...</td>\n",
       "    </tr>\n",
       "    <tr>\n",
       "      <th>86</th>\n",
       "      <td>2016</td>\n",
       "      <td>7.25</td>\n",
       "      <td>0.01</td>\n",
       "      <td>6.46</td>\n",
       "      <td>0.05</td>\n",
       "      <td>0.02</td>\n",
       "    </tr>\n",
       "    <tr>\n",
       "      <th>87</th>\n",
       "      <td>2017</td>\n",
       "      <td>7.25</td>\n",
       "      <td>0.02</td>\n",
       "      <td>6.33</td>\n",
       "      <td>0.04</td>\n",
       "      <td>0.02</td>\n",
       "    </tr>\n",
       "    <tr>\n",
       "      <th>88</th>\n",
       "      <td>2018</td>\n",
       "      <td>7.25</td>\n",
       "      <td>0.02</td>\n",
       "      <td>6.17</td>\n",
       "      <td>0.04</td>\n",
       "      <td>0.03</td>\n",
       "    </tr>\n",
       "    <tr>\n",
       "      <th>89</th>\n",
       "      <td>2019</td>\n",
       "      <td>7.25</td>\n",
       "      <td>0.02</td>\n",
       "      <td>6.06</td>\n",
       "      <td>0.04</td>\n",
       "      <td>0.02</td>\n",
       "    </tr>\n",
       "    <tr>\n",
       "      <th>90</th>\n",
       "      <td>2020</td>\n",
       "      <td>7.25</td>\n",
       "      <td>0.01</td>\n",
       "      <td>5.99</td>\n",
       "      <td>0.07</td>\n",
       "      <td>-0.03</td>\n",
       "    </tr>\n",
       "  </tbody>\n",
       "</table>\n",
       "<p>91 rows × 6 columns</p>\n",
       "</div>"
      ],
      "text/plain": [
       "    Year  FederalMinimumWage  MeanAnnualInflation  \\\n",
       "0   1930                0.00                -0.02   \n",
       "1   1931                0.00                -0.09   \n",
       "2   1932                0.00                -0.10   \n",
       "3   1933                0.00                -0.05   \n",
       "4   1934                0.00                 0.03   \n",
       "..   ...                 ...                  ...   \n",
       "86  2016                7.25                 0.01   \n",
       "87  2017                7.25                 0.02   \n",
       "88  2018                7.25                 0.02   \n",
       "89  2019                7.25                 0.02   \n",
       "90  2020                7.25                 0.01   \n",
       "\n",
       "    MinWageIndexedLastRaiseYear  UnemploymentRateDecember  GDP_AnnualGrowth  \n",
       "0                           NaN                      0.09             -0.09  \n",
       "1                           NaN                      0.16             -0.06  \n",
       "2                           NaN                      0.24             -0.13  \n",
       "3                           NaN                      0.25             -0.01  \n",
       "4                           NaN                      0.22              0.11  \n",
       "..                          ...                       ...               ...  \n",
       "86                         6.46                      0.05              0.02  \n",
       "87                         6.33                      0.04              0.02  \n",
       "88                         6.17                      0.04              0.03  \n",
       "89                         6.06                      0.04              0.02  \n",
       "90                         5.99                      0.07             -0.03  \n",
       "\n",
       "[91 rows x 6 columns]"
      ]
     },
     "execution_count": 3,
     "metadata": {},
     "output_type": "execute_result"
    }
   ],
   "source": [
    "min_df"
   ]
  },
  {
   "cell_type": "code",
   "execution_count": 4,
   "id": "a3deac4a-aaab-465a-8048-2c528c43a447",
   "metadata": {},
   "outputs": [
    {
     "data": {
      "text/plain": [
       "Year                           1975.000000\n",
       "FederalMinimumWage                2.857692\n",
       "MeanAnnualInflation               0.031429\n",
       "MinWageIndexedLastRaiseYear       2.871566\n",
       "UnemploymentRateDecember          0.071209\n",
       "GDP_AnnualGrowth                  0.033187\n",
       "dtype: float64"
      ]
     },
     "execution_count": 4,
     "metadata": {},
     "output_type": "execute_result"
    }
   ],
   "source": [
    "min_df.mean()"
   ]
  },
  {
   "cell_type": "code",
   "execution_count": 5,
   "id": "3c76d3a7-988b-43cc-9dd5-0c8709018ada",
   "metadata": {},
   "outputs": [
    {
     "data": {
      "text/plain": [
       "Year                           179725.00\n",
       "FederalMinimumWage                260.05\n",
       "MeanAnnualInflation                 2.86\n",
       "MinWageIndexedLastRaiseYear       238.34\n",
       "UnemploymentRateDecember            6.48\n",
       "GDP_AnnualGrowth                    3.02\n",
       "dtype: float64"
      ]
     },
     "execution_count": 5,
     "metadata": {},
     "output_type": "execute_result"
    }
   ],
   "source": [
    "min_df.sum()"
   ]
  },
  {
   "cell_type": "code",
   "execution_count": 7,
   "id": "cbbee1b4-b63b-4ccd-b3c8-673fa213767b",
   "metadata": {},
   "outputs": [
    {
     "data": {
      "text/plain": [
       "7.25    12\n",
       "5.15    10\n",
       "3.35     9\n",
       "0.00     8\n",
       "0.75     6\n",
       "0.30     6\n",
       "1.60     6\n",
       "1.00     5\n",
       "4.25     5\n",
       "0.40     5\n",
       "1.25     4\n",
       "2.30     2\n",
       "1.15     2\n",
       "0.25     1\n",
       "2.65     1\n",
       "2.10     1\n",
       "3.10     1\n",
       "2.00     1\n",
       "3.80     1\n",
       "1.40     1\n",
       "4.75     1\n",
       "5.85     1\n",
       "6.55     1\n",
       "2.90     1\n",
       "Name: FederalMinimumWage, dtype: int64"
      ]
     },
     "execution_count": 7,
     "metadata": {},
     "output_type": "execute_result"
    }
   ],
   "source": [
    "min_df['FederalMinimumWage'].value_counts()"
   ]
  },
  {
   "cell_type": "markdown",
   "id": "30cc3ab5-a001-4955-98f5-3835d00e7eed",
   "metadata": {},
   "source": [
    "Some quick item's of note, but not vital importance.\n",
    "\n",
    "* Our first established minimum wage, in 1938, was 25 cents.\n",
    "* over the course of this dataset (90  years) our average minimum wage is \\\\$2.85, amd \\\\$2.87 indexed to inflation.\n",
    "* GDP has increased 302\\% and an average of 3.31\\% per year. \n",
    "* Inflation has increased 296\\%, and an average of 3.14\\% per year.\n",
    "* 1975, the center of this dataset, had a minimum wage of 2.10.\n",
    "* Unemployment rate is 7\\% average, 1982(11\\%) and 2009(10\\%) being the only 2 in the last 50 years to break 10%\n",
    "* 1997 got our minimum wage to \\\\$5.15, where it held for 10 years, it's only surpased by \\\\$7.25 the latest established minimum wage (for this dataset) for the last 12 years."
   ]
  },
  {
   "cell_type": "markdown",
   "id": "903be9b7-b9e4-485f-90fb-5e387537ee1b",
   "metadata": {},
   "source": [
    "What is important to note, is the subsection that lines up with my other datasets. I'll be separating out the last 20 years of data for further analysis"
   ]
  },
  {
   "cell_type": "code",
   "execution_count": 8,
   "id": "ca23fd0a-0954-404c-bedc-767c4e589862",
   "metadata": {},
   "outputs": [],
   "source": [
    "min_df_cut = min_df.tail(20)"
   ]
  },
  {
   "cell_type": "code",
   "execution_count": 9,
   "id": "2c65e42f-5e39-45a6-8762-46544a673bde",
   "metadata": {},
   "outputs": [],
   "source": [
    "min_df_cut.to_csv('last_20_years_min_df.csv')"
   ]
  }
 ],
 "metadata": {
  "kernelspec": {
   "display_name": "Python 3 (ipykernel)",
   "language": "python",
   "name": "python3"
  },
  "language_info": {
   "codemirror_mode": {
    "name": "ipython",
    "version": 3
   },
   "file_extension": ".py",
   "mimetype": "text/x-python",
   "name": "python",
   "nbconvert_exporter": "python",
   "pygments_lexer": "ipython3",
   "version": "3.9.7"
  }
 },
 "nbformat": 4,
 "nbformat_minor": 5
}
