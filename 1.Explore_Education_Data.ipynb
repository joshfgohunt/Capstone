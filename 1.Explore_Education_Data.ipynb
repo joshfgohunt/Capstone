{
 "cells": [
  {
   "cell_type": "code",
   "execution_count": 1,
   "id": "56460bef-3577-41a1-a221-de53feeaec62",
   "metadata": {},
   "outputs": [],
   "source": [
    "import pandas as pd\n",
    "\n",
    "import Clean_data as cld\n",
    "import Transform_Data as tfd\n",
    "import Visualize_Data as vld\n",
    "from scipy import stats\n",
    "import plotly.express as px\n",
    "import plotly.graph_objects as go"
   ]
  },
  {
   "cell_type": "markdown",
   "id": "331930db-8961-4e53-950a-348eaa5d23bc",
   "metadata": {},
   "source": [
    "\n",
    "### Datasets"
   ]
  },
  {
   "cell_type": "markdown",
   "id": "fa431205-cc01-4c29-80f3-6d7cbd4d6cb8",
   "metadata": {},
   "source": [
    "# Job Titles By Major"
   ]
  },
  {
   "cell_type": "code",
   "execution_count": 2,
   "id": "fe6476b6-ed57-4594-97be-e0fdc887094a",
   "metadata": {},
   "outputs": [],
   "source": [
    "title_maj = pd.read_csv('Datasets/PeopleDataLabs/pdl_job_titles_by_major.csv')"
   ]
  },
  {
   "cell_type": "code",
   "execution_count": 3,
   "id": "8434433a-5ac1-41c0-b76d-08c68c22aa64",
   "metadata": {},
   "outputs": [
    {
     "data": {
      "text/html": [
       "<div>\n",
       "<style scoped>\n",
       "    .dataframe tbody tr th:only-of-type {\n",
       "        vertical-align: middle;\n",
       "    }\n",
       "\n",
       "    .dataframe tbody tr th {\n",
       "        vertical-align: top;\n",
       "    }\n",
       "\n",
       "    .dataframe thead th {\n",
       "        text-align: right;\n",
       "    }\n",
       "</style>\n",
       "<table border=\"1\" class=\"dataframe\">\n",
       "  <thead>\n",
       "    <tr style=\"text-align: right;\">\n",
       "      <th></th>\n",
       "      <th>major</th>\n",
       "      <th>category</th>\n",
       "      <th>count</th>\n",
       "      <th>job_title_1</th>\n",
       "      <th>job_title_1_count</th>\n",
       "      <th>job_title_2</th>\n",
       "      <th>job_title_2_count</th>\n",
       "      <th>job_title_3</th>\n",
       "      <th>job_title_3_count</th>\n",
       "      <th>job_title_4</th>\n",
       "      <th>...</th>\n",
       "      <th>job_title_6</th>\n",
       "      <th>job_title_6_count</th>\n",
       "      <th>job_title_7</th>\n",
       "      <th>job_title_7_count</th>\n",
       "      <th>job_title_8</th>\n",
       "      <th>job_title_8_count</th>\n",
       "      <th>job_title_9</th>\n",
       "      <th>job_title_9_count</th>\n",
       "      <th>job_title_10</th>\n",
       "      <th>job_title_10_count</th>\n",
       "    </tr>\n",
       "  </thead>\n",
       "  <tbody>\n",
       "    <tr>\n",
       "      <th>0</th>\n",
       "      <td>3d modelling</td>\n",
       "      <td>Sci_Eng_Related</td>\n",
       "      <td>299</td>\n",
       "      <td>3d artist</td>\n",
       "      <td>18.0</td>\n",
       "      <td>graphic designer</td>\n",
       "      <td>18.0</td>\n",
       "      <td>sales associate</td>\n",
       "      <td>12.0</td>\n",
       "      <td>creative director</td>\n",
       "      <td>...</td>\n",
       "      <td>intern</td>\n",
       "      <td>7.0</td>\n",
       "      <td>owner</td>\n",
       "      <td>7.0</td>\n",
       "      <td>designer</td>\n",
       "      <td>5.0</td>\n",
       "      <td>project engineer</td>\n",
       "      <td>5.0</td>\n",
       "      <td>3d modeler</td>\n",
       "      <td>4.0</td>\n",
       "    </tr>\n",
       "  </tbody>\n",
       "</table>\n",
       "<p>1 rows × 23 columns</p>\n",
       "</div>"
      ],
      "text/plain": [
       "          major         category  count job_title_1  job_title_1_count  \\\n",
       "0  3d modelling  Sci_Eng_Related    299   3d artist               18.0   \n",
       "\n",
       "        job_title_2  job_title_2_count      job_title_3  job_title_3_count  \\\n",
       "0  graphic designer               18.0  sales associate               12.0   \n",
       "\n",
       "         job_title_4  ...  job_title_6 job_title_6_count  job_title_7  \\\n",
       "0  creative director  ...       intern               7.0        owner   \n",
       "\n",
       "  job_title_7_count  job_title_8 job_title_8_count       job_title_9  \\\n",
       "0               7.0     designer               5.0  project engineer   \n",
       "\n",
       "  job_title_9_count  job_title_10 job_title_10_count  \n",
       "0               5.0    3d modeler                4.0  \n",
       "\n",
       "[1 rows x 23 columns]"
      ]
     },
     "execution_count": 3,
     "metadata": {},
     "output_type": "execute_result"
    }
   ],
   "source": [
    "title_maj.head(1)"
   ]
  },
  {
   "cell_type": "markdown",
   "id": "b0f1845e-18c9-4cb3-815d-8278bb18d27b",
   "metadata": {},
   "source": [
    "very oddly formatted, with ranked degree into job counts\n",
    "\n",
    "first fully manual step I'm needing to take is assigning higher-level buckets to these degrees"
   ]
  },
  {
   "cell_type": "markdown",
   "id": "a4c59b9a-9823-4409-aa86-2660ca5aa4f8",
   "metadata": {},
   "source": [
    "#### Cleaned"
   ]
  },
  {
   "cell_type": "code",
   "execution_count": 4,
   "id": "47c26980-7280-46c1-b78c-76eb4029d97c",
   "metadata": {},
   "outputs": [
    {
     "name": "stderr",
     "output_type": "stream",
     "text": [
      "C:\\Users\\joshf\\Notebooks\\Capstone\\Clean_data.py:129: SettingWithCopyWarning: \n",
      "A value is trying to be set on a copy of a slice from a DataFrame.\n",
      "Try using .loc[row_indexer,col_indexer] = value instead\n",
      "\n",
      "See the caveats in the documentation: https://pandas.pydata.org/pandas-docs/stable/user_guide/indexing.html#returning-a-view-versus-a-copy\n",
      "  totals['title'] = 'total'\n",
      "C:\\Users\\joshf\\Notebooks\\Capstone\\Clean_data.py:140: FutureWarning: The frame.append method is deprecated and will be removed from pandas in a future version. Use pandas.concat instead.\n",
      "  job_list = totals.append(job1)\n",
      "C:\\Users\\joshf\\Notebooks\\Capstone\\Clean_data.py:141: FutureWarning: The frame.append method is deprecated and will be removed from pandas in a future version. Use pandas.concat instead.\n",
      "  job_list = job_list.append(job2)\n",
      "C:\\Users\\joshf\\Notebooks\\Capstone\\Clean_data.py:142: FutureWarning: The frame.append method is deprecated and will be removed from pandas in a future version. Use pandas.concat instead.\n",
      "  job_list = job_list.append(job3)\n",
      "C:\\Users\\joshf\\Notebooks\\Capstone\\Clean_data.py:143: FutureWarning: The frame.append method is deprecated and will be removed from pandas in a future version. Use pandas.concat instead.\n",
      "  job_list = job_list.append(job4)\n",
      "C:\\Users\\joshf\\Notebooks\\Capstone\\Clean_data.py:144: FutureWarning: The frame.append method is deprecated and will be removed from pandas in a future version. Use pandas.concat instead.\n",
      "  job_list = job_list.append(job5)\n",
      "C:\\Users\\joshf\\Notebooks\\Capstone\\Clean_data.py:145: FutureWarning: The frame.append method is deprecated and will be removed from pandas in a future version. Use pandas.concat instead.\n",
      "  job_list = job_list.append(job6)\n",
      "C:\\Users\\joshf\\Notebooks\\Capstone\\Clean_data.py:146: FutureWarning: The frame.append method is deprecated and will be removed from pandas in a future version. Use pandas.concat instead.\n",
      "  job_list = job_list.append(job7)\n",
      "C:\\Users\\joshf\\Notebooks\\Capstone\\Clean_data.py:147: FutureWarning: The frame.append method is deprecated and will be removed from pandas in a future version. Use pandas.concat instead.\n",
      "  job_list = job_list.append(job8)\n",
      "C:\\Users\\joshf\\Notebooks\\Capstone\\Clean_data.py:148: FutureWarning: The frame.append method is deprecated and will be removed from pandas in a future version. Use pandas.concat instead.\n",
      "  job_list = job_list.append(job9)\n",
      "C:\\Users\\joshf\\Notebooks\\Capstone\\Clean_data.py:149: FutureWarning: The frame.append method is deprecated and will be removed from pandas in a future version. Use pandas.concat instead.\n",
      "  job_list = job_list.append(job10)\n"
     ]
    },
    {
     "data": {
      "text/html": [
       "<div>\n",
       "<style scoped>\n",
       "    .dataframe tbody tr th:only-of-type {\n",
       "        vertical-align: middle;\n",
       "    }\n",
       "\n",
       "    .dataframe tbody tr th {\n",
       "        vertical-align: top;\n",
       "    }\n",
       "\n",
       "    .dataframe thead th {\n",
       "        text-align: right;\n",
       "    }\n",
       "</style>\n",
       "<table border=\"1\" class=\"dataframe\">\n",
       "  <thead>\n",
       "    <tr style=\"text-align: right;\">\n",
       "      <th></th>\n",
       "      <th>major</th>\n",
       "      <th>category</th>\n",
       "      <th>title</th>\n",
       "      <th>count</th>\n",
       "    </tr>\n",
       "  </thead>\n",
       "  <tbody>\n",
       "    <tr>\n",
       "      <th>0</th>\n",
       "      <td>3d modelling</td>\n",
       "      <td>Sci_Eng_Related</td>\n",
       "      <td>3d artist</td>\n",
       "      <td>18.0</td>\n",
       "    </tr>\n",
       "    <tr>\n",
       "      <th>1</th>\n",
       "      <td>3d modelling</td>\n",
       "      <td>Sci_Eng_Related</td>\n",
       "      <td>3d modeler</td>\n",
       "      <td>4.0</td>\n",
       "    </tr>\n",
       "    <tr>\n",
       "      <th>2</th>\n",
       "      <td>3d modelling</td>\n",
       "      <td>Sci_Eng_Related</td>\n",
       "      <td>architect</td>\n",
       "      <td>9.0</td>\n",
       "    </tr>\n",
       "    <tr>\n",
       "      <th>3</th>\n",
       "      <td>3d modelling</td>\n",
       "      <td>Sci_Eng_Related</td>\n",
       "      <td>creative director</td>\n",
       "      <td>10.0</td>\n",
       "    </tr>\n",
       "    <tr>\n",
       "      <th>4</th>\n",
       "      <td>3d modelling</td>\n",
       "      <td>Sci_Eng_Related</td>\n",
       "      <td>designer</td>\n",
       "      <td>5.0</td>\n",
       "    </tr>\n",
       "  </tbody>\n",
       "</table>\n",
       "</div>"
      ],
      "text/plain": [
       "          major         category              title  count\n",
       "0  3d modelling  Sci_Eng_Related          3d artist   18.0\n",
       "1  3d modelling  Sci_Eng_Related         3d modeler    4.0\n",
       "2  3d modelling  Sci_Eng_Related          architect    9.0\n",
       "3  3d modelling  Sci_Eng_Related  creative director   10.0\n",
       "4  3d modelling  Sci_Eng_Related           designer    5.0"
      ]
     },
     "execution_count": 4,
     "metadata": {},
     "output_type": "execute_result"
    }
   ],
   "source": [
    "title_maj =  cld.get_degree_counts()\n",
    "title_maj.head(5)"
   ]
  },
  {
   "cell_type": "markdown",
   "id": "e22e8979-7f7d-44e5-aa4e-04a47ff4c9a3",
   "metadata": {},
   "source": [
    "#### tscores"
   ]
  },
  {
   "cell_type": "code",
   "execution_count": 5,
   "id": "117fc37a-2aac-4380-b201-15c78f8b5899",
   "metadata": {},
   "outputs": [
    {
     "name": "stdout",
     "output_type": "stream",
     "text": [
      "full length  11496\n",
      "main df ttest Ttest_indResult(statistic=array([-0.15458576]), pvalue=array([0.87715044]))\n"
     ]
    }
   ],
   "source": [
    "vld.run_ttest(title_maj, ['count'])"
   ]
  },
  {
   "cell_type": "code",
   "execution_count": 6,
   "id": "84585182-92d0-4bb0-ad61-4261ceb3a01b",
   "metadata": {},
   "outputs": [
    {
     "data": {
      "text/plain": [
       "1.0         1194\n",
       "2.0          736\n",
       "3.0          356\n",
       "4.0          219\n",
       "5.0          173\n",
       "            ... \n",
       "8612.0         1\n",
       "18854.0        1\n",
       "549157.0       1\n",
       "13201.0        1\n",
       "94176.0        1\n",
       "Name: count, Length: 3886, dtype: int64"
      ]
     },
     "execution_count": 6,
     "metadata": {},
     "output_type": "execute_result"
    }
   ],
   "source": [
    "title_maj['count'].value_counts()"
   ]
  },
  {
   "cell_type": "markdown",
   "id": "2b30894a-31e1-4466-a331-16f8c3b4d0fd",
   "metadata": {},
   "source": [
    "#### Graphs"
   ]
  },
  {
   "cell_type": "code",
   "execution_count": 7,
   "id": "abb33529-c2fd-4458-9180-a3c3c08c8eea",
   "metadata": {},
   "outputs": [
    {
     "data": {
      "text/plain": [
       "<AxesSubplot:ylabel='Density'>"
      ]
     },
     "execution_count": 7,
     "metadata": {},
     "output_type": "execute_result"
    },
    {
     "data": {
      "image/png": "[encoded data removed]",
      "text/plain": [
       "<Figure size 432x288 with 1 Axes>"
      ]
     },
     "metadata": {
      "needs_background": "light"
     },
     "output_type": "display_data"
    }
   ],
   "source": [
    "title_maj.plot.density()"
   ]
  },
  {
   "cell_type": "markdown",
   "id": "878610f4-a3a7-4b2a-bc10-9489f0e69385",
   "metadata": {},
   "source": [
    "This data, ungrouped trends very highly towards the low numbers. Grouping by category to move the dataset from individual job title to degree-level data"
   ]
  },
  {
   "cell_type": "code",
   "execution_count": 8,
   "id": "f8ee1c99-113a-45a9-a339-0f0ab41f6d50",
   "metadata": {},
   "outputs": [
    {
     "data": {
      "application/vnd.jupyter.widget-view+json": {
       "model_id": "41d669dc24c4479db49ecadb8451e1b1",
       "version_major": 2,
       "version_minor": 0
      },
      "text/plain": [
       "FigureWidget({\n",
       "    'data': [{'alignmentgroup': 'True',\n",
       "              'hovertemplate': 'category=%{x}<br>count=…"
      ]
     },
     "metadata": {},
     "output_type": "display_data"
    }
   ],
   "source": [
    "title_maj_grp = title_maj.groupby('category').sum()\n",
    "\n",
    "fig = px.bar(title_maj_grp, x = title_maj_grp.index, y='count',\n",
    "            title = 'Count(Millions) of Jobs obtained by degree Category'\n",
    "            )\n",
    "\n",
    "fig_widget = go.FigureWidget(fig)\n",
    "fig_widget"
   ]
  },
  {
   "cell_type": "markdown",
   "id": "6bd5a206-4425-41f6-8ca9-54859e45deeb",
   "metadata": {},
   "source": [
    "# Degrees that Pay Back"
   ]
  },
  {
   "cell_type": "code",
   "execution_count": 9,
   "id": "039b550b-6b5b-4592-88d4-b60caeb8e751",
   "metadata": {},
   "outputs": [
    {
     "data": {
      "text/html": [
       "<div>\n",
       "<style scoped>\n",
       "    .dataframe tbody tr th:only-of-type {\n",
       "        vertical-align: middle;\n",
       "    }\n",
       "\n",
       "    .dataframe tbody tr th {\n",
       "        vertical-align: top;\n",
       "    }\n",
       "\n",
       "    .dataframe thead th {\n",
       "        text-align: right;\n",
       "    }\n",
       "</style>\n",
       "<table border=\"1\" class=\"dataframe\">\n",
       "  <thead>\n",
       "    <tr style=\"text-align: right;\">\n",
       "      <th></th>\n",
       "      <th>Undergraduate Major</th>\n",
       "      <th>Category</th>\n",
       "      <th>Starting Median Salary</th>\n",
       "      <th>Mid-Career Median Salary</th>\n",
       "      <th>Percent change from Starting to Mid-Career Salary</th>\n",
       "      <th>Mid-Career 10th Percentile Salary</th>\n",
       "      <th>Mid-Career 25th Percentile Salary</th>\n",
       "      <th>Mid-Career 75th Percentile Salary</th>\n",
       "      <th>Mid-Career 90th Percentile Salary</th>\n",
       "    </tr>\n",
       "  </thead>\n",
       "  <tbody>\n",
       "    <tr>\n",
       "      <th>0</th>\n",
       "      <td>Accounting</td>\n",
       "      <td>Business</td>\n",
       "      <td>46000</td>\n",
       "      <td>77100</td>\n",
       "      <td>0.676</td>\n",
       "      <td>42200</td>\n",
       "      <td>56100</td>\n",
       "      <td>108000</td>\n",
       "      <td>152000</td>\n",
       "    </tr>\n",
       "  </tbody>\n",
       "</table>\n",
       "</div>"
      ],
      "text/plain": [
       "  Undergraduate Major  Category  Starting Median Salary  \\\n",
       "0          Accounting  Business                   46000   \n",
       "\n",
       "   Mid-Career Median Salary  \\\n",
       "0                     77100   \n",
       "\n",
       "   Percent change from Starting to Mid-Career Salary  \\\n",
       "0                                              0.676   \n",
       "\n",
       "   Mid-Career 10th Percentile Salary  Mid-Career 25th Percentile Salary  \\\n",
       "0                              42200                              56100   \n",
       "\n",
       "   Mid-Career 75th Percentile Salary  Mid-Career 90th Percentile Salary  \n",
       "0                             108000                             152000  "
      ]
     },
     "execution_count": 9,
     "metadata": {},
     "output_type": "execute_result"
    }
   ],
   "source": [
    "\n",
    "payback_df = pd.read_csv('Datasets/Education Salaries/degrees-that-pay-back_edited.csv' )\n",
    "payback_df.head(1)"
   ]
  },
  {
   "cell_type": "markdown",
   "id": "a9cea824-44e2-44b1-813d-616fec5ab400",
   "metadata": {},
   "source": []
  },
  {
   "cell_type": "markdown",
   "id": "b55517cd-b85c-464d-998d-c46781315e28",
   "metadata": {},
   "source": [
    "#### Cleaned"
   ]
  },
  {
   "cell_type": "code",
   "execution_count": 10,
   "id": "afe5a97c-fadd-470e-a4f3-e8799f171fa3",
   "metadata": {},
   "outputs": [
    {
     "data": {
      "text/html": [
       "<div>\n",
       "<style scoped>\n",
       "    .dataframe tbody tr th:only-of-type {\n",
       "        vertical-align: middle;\n",
       "    }\n",
       "\n",
       "    .dataframe tbody tr th {\n",
       "        vertical-align: top;\n",
       "    }\n",
       "\n",
       "    .dataframe thead th {\n",
       "        text-align: right;\n",
       "    }\n",
       "</style>\n",
       "<table border=\"1\" class=\"dataframe\">\n",
       "  <thead>\n",
       "    <tr style=\"text-align: right;\">\n",
       "      <th></th>\n",
       "      <th>Undergraduate Major</th>\n",
       "      <th>Category</th>\n",
       "      <th>Starting Median Salary</th>\n",
       "      <th>Mid-Career Median Salary</th>\n",
       "    </tr>\n",
       "  </thead>\n",
       "  <tbody>\n",
       "    <tr>\n",
       "      <th>0</th>\n",
       "      <td>Accounting</td>\n",
       "      <td>Business</td>\n",
       "      <td>46000</td>\n",
       "      <td>77100</td>\n",
       "    </tr>\n",
       "    <tr>\n",
       "      <th>1</th>\n",
       "      <td>Aerospace Engineering</td>\n",
       "      <td>Science and Engineering</td>\n",
       "      <td>57700</td>\n",
       "      <td>101000</td>\n",
       "    </tr>\n",
       "    <tr>\n",
       "      <th>2</th>\n",
       "      <td>Agriculture</td>\n",
       "      <td>Sci_Eng_Related</td>\n",
       "      <td>42600</td>\n",
       "      <td>71900</td>\n",
       "    </tr>\n",
       "    <tr>\n",
       "      <th>3</th>\n",
       "      <td>Anthropology</td>\n",
       "      <td>Sci_Eng_Related</td>\n",
       "      <td>36800</td>\n",
       "      <td>61500</td>\n",
       "    </tr>\n",
       "    <tr>\n",
       "      <th>4</th>\n",
       "      <td>Architecture</td>\n",
       "      <td>Sci_Eng_Related</td>\n",
       "      <td>41600</td>\n",
       "      <td>76800</td>\n",
       "    </tr>\n",
       "  </tbody>\n",
       "</table>\n",
       "</div>"
      ],
      "text/plain": [
       "     Undergraduate Major                 Category  Starting Median Salary  \\\n",
       "0             Accounting                 Business                   46000   \n",
       "1  Aerospace Engineering  Science and Engineering                   57700   \n",
       "2            Agriculture          Sci_Eng_Related                   42600   \n",
       "3           Anthropology          Sci_Eng_Related                   36800   \n",
       "4           Architecture          Sci_Eng_Related                   41600   \n",
       "\n",
       "   Mid-Career Median Salary  \n",
       "0                     77100  \n",
       "1                    101000  \n",
       "2                     71900  \n",
       "3                     61500  \n",
       "4                     76800  "
      ]
     },
     "execution_count": 10,
     "metadata": {},
     "output_type": "execute_result"
    }
   ],
   "source": [
    "payback_df = cld.get_degrees_pay_back()\n",
    "payback_df.head(5)"
   ]
  },
  {
   "cell_type": "markdown",
   "id": "9880295f-cc74-4580-b2de-cf9c530621e6",
   "metadata": {},
   "source": [
    "#### tscores"
   ]
  },
  {
   "cell_type": "code",
   "execution_count": 11,
   "id": "c827944d-68af-4e7c-9a67-a97d6995c29a",
   "metadata": {},
   "outputs": [
    {
     "name": "stdout",
     "output_type": "stream",
     "text": [
      "full length  50\n",
      "main df ttest Ttest_indResult(statistic=array([-0.11594242, -0.21427168]), pvalue=array([0.90814478, 0.83117324]))\n"
     ]
    }
   ],
   "source": [
    "vld.run_ttest(payback_df, ['Starting Median Salary', 'Mid-Career Median Salary'])"
   ]
  },
  {
   "cell_type": "markdown",
   "id": "0e0c4c9f-14aa-4ec0-9cbe-ffd5d5e5c403",
   "metadata": {},
   "source": [
    "the payback dataset has much higher variability, which makes absolute sense since on top of higher min and max values, it's coming from a dataset of 50 rows."
   ]
  },
  {
   "cell_type": "markdown",
   "id": "59b33e34-f7af-483c-908a-8585fb94b46d",
   "metadata": {},
   "source": [
    "#### Graphs"
   ]
  },
  {
   "cell_type": "code",
   "execution_count": 12,
   "id": "d7ca3a29-88ad-40a3-962b-a4820c280316",
   "metadata": {},
   "outputs": [
    {
     "data": {
      "text/plain": [
       "<AxesSubplot:ylabel='Density'>"
      ]
     },
     "execution_count": 12,
     "metadata": {},
     "output_type": "execute_result"
    },
    {
     "data": {
      "image/png": "[encoded data removed]",
      "text/plain": [
       "<Figure size 432x288 with 1 Axes>"
      ]
     },
     "metadata": {
      "needs_background": "light"
     },
     "output_type": "display_data"
    }
   ],
   "source": [
    "payback_df.plot.density()"
   ]
  },
  {
   "cell_type": "code",
   "execution_count": 13,
   "id": "0725fef5-ea95-4fc5-aef1-57bb3f88cd26",
   "metadata": {},
   "outputs": [
    {
     "data": {
      "application/vnd.jupyter.widget-view+json": {
       "model_id": "8181bee487e344b6840423ddd06b5ed2",
       "version_major": 2,
       "version_minor": 0
      },
      "text/plain": [
       "FigureWidget({\n",
       "    'data': [{'hovertemplate': ('Category=Business<br>Starting ' ... 'ian Salary=%{y}<extra></e…"
      ]
     },
     "metadata": {},
     "output_type": "display_data"
    }
   ],
   "source": [
    "\n",
    "fig = px.scatter(payback_df, x = 'Starting Median Salary', y='Mid-Career Median Salary',\n",
    "            title = 'Starting Wage (x) vs Mid-Career Wage (y)',\n",
    "                 color = payback_df['Category'],\n",
    "                 trendline = 'ols'\n",
    "            )\n",
    "\n",
    "fig_widget = go.FigureWidget(fig)\n",
    "fig_widget"
   ]
  },
  {
   "cell_type": "markdown",
   "id": "e0760111-44b5-4bf3-8847-c1344bb4b4ef",
   "metadata": {},
   "source": [
    "Education and The Arts/Humanities etc have the lowest room for growth  and low mid-career caps\n",
    "\n",
    "The other three though all have decently high room for growth. The zscores I calculated earlier do make sense, given some of the scattershot I'm seeing in this graph."
   ]
  },
  {
   "cell_type": "markdown",
   "id": "2fae73d2-be7b-4119-8301-bbd1ba01d918",
   "metadata": {},
   "source": [
    "# Salaries by Region"
   ]
  },
  {
   "cell_type": "code",
   "execution_count": 14,
   "id": "5be63401-d586-4fa1-abb3-5e4307cdebde",
   "metadata": {},
   "outputs": [
    {
     "data": {
      "text/html": [
       "<div>\n",
       "<style scoped>\n",
       "    .dataframe tbody tr th:only-of-type {\n",
       "        vertical-align: middle;\n",
       "    }\n",
       "\n",
       "    .dataframe tbody tr th {\n",
       "        vertical-align: top;\n",
       "    }\n",
       "\n",
       "    .dataframe thead th {\n",
       "        text-align: right;\n",
       "    }\n",
       "</style>\n",
       "<table border=\"1\" class=\"dataframe\">\n",
       "  <thead>\n",
       "    <tr style=\"text-align: right;\">\n",
       "      <th></th>\n",
       "      <th>School Name</th>\n",
       "      <th>Region</th>\n",
       "      <th>Starting Median Salary</th>\n",
       "      <th>Mid-Career Median Salary</th>\n",
       "      <th>Mid-Career 10th Percentile Salary</th>\n",
       "      <th>Mid-Career 25th Percentile Salary</th>\n",
       "      <th>Mid-Career 75th Percentile Salary</th>\n",
       "      <th>Mid-Career 90th Percentile Salary</th>\n",
       "    </tr>\n",
       "  </thead>\n",
       "  <tbody>\n",
       "    <tr>\n",
       "      <th>0</th>\n",
       "      <td>Stanford University</td>\n",
       "      <td>California</td>\n",
       "      <td>70400.0</td>\n",
       "      <td>129000.0</td>\n",
       "      <td>68400.0</td>\n",
       "      <td>93100.0</td>\n",
       "      <td>184000.0</td>\n",
       "      <td>257000.0</td>\n",
       "    </tr>\n",
       "    <tr>\n",
       "      <th>1</th>\n",
       "      <td>California Institute of Technology (CIT)</td>\n",
       "      <td>California</td>\n",
       "      <td>75500.0</td>\n",
       "      <td>123000.0</td>\n",
       "      <td>NaN</td>\n",
       "      <td>104000.0</td>\n",
       "      <td>161000.0</td>\n",
       "      <td>NaN</td>\n",
       "    </tr>\n",
       "    <tr>\n",
       "      <th>2</th>\n",
       "      <td>Harvey Mudd College</td>\n",
       "      <td>California</td>\n",
       "      <td>71800.0</td>\n",
       "      <td>122000.0</td>\n",
       "      <td>NaN</td>\n",
       "      <td>96000.0</td>\n",
       "      <td>180000.0</td>\n",
       "      <td>NaN</td>\n",
       "    </tr>\n",
       "  </tbody>\n",
       "</table>\n",
       "</div>"
      ],
      "text/plain": [
       "                                School Name      Region  \\\n",
       "0                       Stanford University  California   \n",
       "1  California Institute of Technology (CIT)  California   \n",
       "2                       Harvey Mudd College  California   \n",
       "\n",
       "   Starting Median Salary  Mid-Career Median Salary  \\\n",
       "0                 70400.0                  129000.0   \n",
       "1                 75500.0                  123000.0   \n",
       "2                 71800.0                  122000.0   \n",
       "\n",
       "   Mid-Career 10th Percentile Salary  Mid-Career 25th Percentile Salary  \\\n",
       "0                            68400.0                            93100.0   \n",
       "1                                NaN                           104000.0   \n",
       "2                                NaN                            96000.0   \n",
       "\n",
       "   Mid-Career 75th Percentile Salary  Mid-Career 90th Percentile Salary  \n",
       "0                           184000.0                           257000.0  \n",
       "1                           161000.0                                NaN  \n",
       "2                           180000.0                                NaN  "
      ]
     },
     "execution_count": 14,
     "metadata": {},
     "output_type": "execute_result"
    }
   ],
   "source": [
    "\n",
    "reg_salaries = pd.read_csv('Datasets/Education Salaries/salaries-by-region.csv')\n",
    "reg_salaries.head(3)"
   ]
  },
  {
   "cell_type": "markdown",
   "id": "0ef23cef-d4f3-47b7-98b3-fcf338a9c540",
   "metadata": {},
   "source": [
    "The Regions, while useful, need a little cleaning."
   ]
  },
  {
   "cell_type": "markdown",
   "id": "c96aeddc-ee78-44dd-9f31-eb8a547ef25a",
   "metadata": {},
   "source": [
    "#### Cleaned"
   ]
  },
  {
   "cell_type": "code",
   "execution_count": 15,
   "id": "5847e6a4-6c81-4af7-80a7-9ec57519c873",
   "metadata": {},
   "outputs": [
    {
     "data": {
      "text/html": [
       "<div>\n",
       "<style scoped>\n",
       "    .dataframe tbody tr th:only-of-type {\n",
       "        vertical-align: middle;\n",
       "    }\n",
       "\n",
       "    .dataframe tbody tr th {\n",
       "        vertical-align: top;\n",
       "    }\n",
       "\n",
       "    .dataframe thead th {\n",
       "        text-align: right;\n",
       "    }\n",
       "</style>\n",
       "<table border=\"1\" class=\"dataframe\">\n",
       "  <thead>\n",
       "    <tr style=\"text-align: right;\">\n",
       "      <th></th>\n",
       "      <th>School Name</th>\n",
       "      <th>Region</th>\n",
       "      <th>Starting Median Salary</th>\n",
       "      <th>Mid-Career Median Salary</th>\n",
       "      <th>Mid-Career 10th Percentile Salary</th>\n",
       "      <th>Mid-Career 25th Percentile Salary</th>\n",
       "      <th>Mid-Career 75th Percentile Salary</th>\n",
       "      <th>Mid-Career 90th Percentile Salary</th>\n",
       "    </tr>\n",
       "  </thead>\n",
       "  <tbody>\n",
       "    <tr>\n",
       "      <th>0</th>\n",
       "      <td>Stanford University</td>\n",
       "      <td>Western</td>\n",
       "      <td>70400.0</td>\n",
       "      <td>129000.0</td>\n",
       "      <td>68400.0</td>\n",
       "      <td>93100.0</td>\n",
       "      <td>184000.0</td>\n",
       "      <td>257000.0</td>\n",
       "    </tr>\n",
       "    <tr>\n",
       "      <th>1</th>\n",
       "      <td>California Institute of Technology (CIT)</td>\n",
       "      <td>Western</td>\n",
       "      <td>75500.0</td>\n",
       "      <td>123000.0</td>\n",
       "      <td>NaN</td>\n",
       "      <td>104000.0</td>\n",
       "      <td>161000.0</td>\n",
       "      <td>NaN</td>\n",
       "    </tr>\n",
       "    <tr>\n",
       "      <th>2</th>\n",
       "      <td>Harvey Mudd College</td>\n",
       "      <td>Western</td>\n",
       "      <td>71800.0</td>\n",
       "      <td>122000.0</td>\n",
       "      <td>NaN</td>\n",
       "      <td>96000.0</td>\n",
       "      <td>180000.0</td>\n",
       "      <td>NaN</td>\n",
       "    </tr>\n",
       "    <tr>\n",
       "      <th>3</th>\n",
       "      <td>University of California, Berkeley</td>\n",
       "      <td>Western</td>\n",
       "      <td>59900.0</td>\n",
       "      <td>112000.0</td>\n",
       "      <td>59500.0</td>\n",
       "      <td>81000.0</td>\n",
       "      <td>149000.0</td>\n",
       "      <td>201000.0</td>\n",
       "    </tr>\n",
       "    <tr>\n",
       "      <th>4</th>\n",
       "      <td>Occidental College</td>\n",
       "      <td>Western</td>\n",
       "      <td>51900.0</td>\n",
       "      <td>105000.0</td>\n",
       "      <td>NaN</td>\n",
       "      <td>54800.0</td>\n",
       "      <td>157000.0</td>\n",
       "      <td>NaN</td>\n",
       "    </tr>\n",
       "  </tbody>\n",
       "</table>\n",
       "</div>"
      ],
      "text/plain": [
       "                                School Name   Region  Starting Median Salary  \\\n",
       "0                       Stanford University  Western                 70400.0   \n",
       "1  California Institute of Technology (CIT)  Western                 75500.0   \n",
       "2                       Harvey Mudd College  Western                 71800.0   \n",
       "3        University of California, Berkeley  Western                 59900.0   \n",
       "4                        Occidental College  Western                 51900.0   \n",
       "\n",
       "   Mid-Career Median Salary  Mid-Career 10th Percentile Salary  \\\n",
       "0                  129000.0                            68400.0   \n",
       "1                  123000.0                                NaN   \n",
       "2                  122000.0                                NaN   \n",
       "3                  112000.0                            59500.0   \n",
       "4                  105000.0                                NaN   \n",
       "\n",
       "   Mid-Career 25th Percentile Salary  Mid-Career 75th Percentile Salary  \\\n",
       "0                            93100.0                           184000.0   \n",
       "1                           104000.0                           161000.0   \n",
       "2                            96000.0                           180000.0   \n",
       "3                            81000.0                           149000.0   \n",
       "4                            54800.0                           157000.0   \n",
       "\n",
       "   Mid-Career 90th Percentile Salary  \n",
       "0                           257000.0  \n",
       "1                                NaN  \n",
       "2                                NaN  \n",
       "3                           201000.0  \n",
       "4                                NaN  "
      ]
     },
     "execution_count": 15,
     "metadata": {},
     "output_type": "execute_result"
    }
   ],
   "source": [
    "u_reg_salaries = cld.get_ungrouped_regional_salaries()\n",
    "u_reg_salaries.head(5)"
   ]
  },
  {
   "cell_type": "code",
   "execution_count": 16,
   "id": "338c80d3-e232-434e-838f-f455486a0e5d",
   "metadata": {},
   "outputs": [
    {
     "data": {
      "text/html": [
       "<div>\n",
       "<style scoped>\n",
       "    .dataframe tbody tr th:only-of-type {\n",
       "        vertical-align: middle;\n",
       "    }\n",
       "\n",
       "    .dataframe tbody tr th {\n",
       "        vertical-align: top;\n",
       "    }\n",
       "\n",
       "    .dataframe thead th {\n",
       "        text-align: right;\n",
       "    }\n",
       "</style>\n",
       "<table border=\"1\" class=\"dataframe\">\n",
       "  <thead>\n",
       "    <tr style=\"text-align: right;\">\n",
       "      <th></th>\n",
       "      <th>Starting Median Salary</th>\n",
       "      <th>Mid-Career Median Salary</th>\n",
       "      <th>Mid-Career 10th Percentile Salary</th>\n",
       "      <th>Mid-Career 25th Percentile Salary</th>\n",
       "      <th>Mid-Career 75th Percentile Salary</th>\n",
       "      <th>Mid-Career 90th Percentile Salary</th>\n",
       "    </tr>\n",
       "    <tr>\n",
       "      <th>Region</th>\n",
       "      <th></th>\n",
       "      <th></th>\n",
       "      <th></th>\n",
       "      <th></th>\n",
       "      <th></th>\n",
       "      <th></th>\n",
       "    </tr>\n",
       "  </thead>\n",
       "  <tbody>\n",
       "    <tr>\n",
       "      <th>Midwestern</th>\n",
       "      <td>44225.352113</td>\n",
       "      <td>78180.281690</td>\n",
       "      <td>43076.562500</td>\n",
       "      <td>57026.760563</td>\n",
       "      <td>107594.366197</td>\n",
       "      <td>147689.062500</td>\n",
       "    </tr>\n",
       "    <tr>\n",
       "      <th>Northeastern</th>\n",
       "      <td>48496.000000</td>\n",
       "      <td>91352.000000</td>\n",
       "      <td>49101.219512</td>\n",
       "      <td>65479.000000</td>\n",
       "      <td>129576.000000</td>\n",
       "      <td>181926.829268</td>\n",
       "    </tr>\n",
       "    <tr>\n",
       "      <th>Southern</th>\n",
       "      <td>44521.518987</td>\n",
       "      <td>79505.063291</td>\n",
       "      <td>43074.647887</td>\n",
       "      <td>57506.329114</td>\n",
       "      <td>109662.025316</td>\n",
       "      <td>152769.014085</td>\n",
       "    </tr>\n",
       "    <tr>\n",
       "      <th>Western</th>\n",
       "      <td>47061.428571</td>\n",
       "      <td>84172.857143</td>\n",
       "      <td>44867.857143</td>\n",
       "      <td>60810.000000</td>\n",
       "      <td>114555.714286</td>\n",
       "      <td>153285.714286</td>\n",
       "    </tr>\n",
       "  </tbody>\n",
       "</table>\n",
       "</div>"
      ],
      "text/plain": [
       "              Starting Median Salary  Mid-Career Median Salary  \\\n",
       "Region                                                           \n",
       "Midwestern              44225.352113              78180.281690   \n",
       "Northeastern            48496.000000              91352.000000   \n",
       "Southern                44521.518987              79505.063291   \n",
       "Western                 47061.428571              84172.857143   \n",
       "\n",
       "              Mid-Career 10th Percentile Salary  \\\n",
       "Region                                            \n",
       "Midwestern                         43076.562500   \n",
       "Northeastern                       49101.219512   \n",
       "Southern                           43074.647887   \n",
       "Western                            44867.857143   \n",
       "\n",
       "              Mid-Career 25th Percentile Salary  \\\n",
       "Region                                            \n",
       "Midwestern                         57026.760563   \n",
       "Northeastern                       65479.000000   \n",
       "Southern                           57506.329114   \n",
       "Western                            60810.000000   \n",
       "\n",
       "              Mid-Career 75th Percentile Salary  \\\n",
       "Region                                            \n",
       "Midwestern                        107594.366197   \n",
       "Northeastern                      129576.000000   \n",
       "Southern                          109662.025316   \n",
       "Western                           114555.714286   \n",
       "\n",
       "              Mid-Career 90th Percentile Salary  \n",
       "Region                                           \n",
       "Midwestern                        147689.062500  \n",
       "Northeastern                      181926.829268  \n",
       "Southern                          152769.014085  \n",
       "Western                           153285.714286  "
      ]
     },
     "execution_count": 16,
     "metadata": {},
     "output_type": "execute_result"
    }
   ],
   "source": [
    "reg_salaries = tfd.get_regional_salaries(u_reg_salaries)\n",
    "reg_salaries.head(5)"
   ]
  },
  {
   "cell_type": "markdown",
   "id": "39ca51b9-684b-4272-a3a8-ef42c5d397bc",
   "metadata": {},
   "source": [
    "#### scores"
   ]
  },
  {
   "cell_type": "code",
   "execution_count": 17,
   "id": "8cd24800-1244-45e3-a70d-f40fba9d654a",
   "metadata": {},
   "outputs": [
    {
     "name": "stdout",
     "output_type": "stream",
     "text": [
      "full length  273\n",
      "main df ttest Ttest_indResult(statistic=array([-1.03020195, -1.04650066, -0.1760127 , -0.84655679, -1.05975448,\n",
      "       -1.49962868]), pvalue=array([0.30377364, 0.29620139, 0.86040681, 0.39794023, 0.29013815,\n",
      "       0.13479845]))\n"
     ]
    }
   ],
   "source": [
    "u_reg_salaries = u_reg_salaries.dropna(axis = 0)\n",
    "vld.run_ttest(u_reg_salaries, ['Starting Median Salary',\n",
    "       'Mid-Career Median Salary', 'Mid-Career 10th Percentile Salary',\n",
    "       'Mid-Career 25th Percentile Salary',\n",
    "       'Mid-Career 75th Percentile Salary',\n",
    "       'Mid-Career 90th Percentile Salary'])"
   ]
  },
  {
   "cell_type": "markdown",
   "id": "1b710db1-996a-4966-ab17-bc309c08fe86",
   "metadata": {},
   "source": [
    "there does seem to be a good amount of variation in this dataset, though the size of the set does lend itself to a good amount of variability."
   ]
  },
  {
   "cell_type": "markdown",
   "id": "6fa7adfe-7b81-408e-b644-113b37ad468d",
   "metadata": {},
   "source": [
    "#### Graphs"
   ]
  },
  {
   "cell_type": "code",
   "execution_count": 18,
   "id": "1bd13b24-bd50-4959-8eac-73e01ea197e2",
   "metadata": {},
   "outputs": [
    {
     "data": {
      "text/plain": [
       "<AxesSubplot:ylabel='Density'>"
      ]
     },
     "execution_count": 18,
     "metadata": {},
     "output_type": "execute_result"
    },
    {
     "data": {
      "image/png": "[encoded data removed]",
      "text/plain": [
       "<Figure size 432x288 with 1 Axes>"
      ]
     },
     "metadata": {
      "needs_background": "light"
     },
     "output_type": "display_data"
    }
   ],
   "source": [
    "u_reg_salaries.plot.density()"
   ]
  },
  {
   "cell_type": "code",
   "execution_count": 19,
   "id": "3c314b54-eff9-484d-98c2-d621bbf87301",
   "metadata": {},
   "outputs": [
    {
     "data": {
      "application/vnd.jupyter.widget-view+json": {
       "model_id": "0579844b18c44c5a8cbf20e2a6214e55",
       "version_major": 2,
       "version_minor": 0
      },
      "text/plain": [
       "FigureWidget({\n",
       "    'data': [{'alignmentgroup': 'True',\n",
       "              'hovertemplate': 'variable=Starting Media…"
      ]
     },
     "metadata": {},
     "output_type": "display_data"
    }
   ],
   "source": [
    "\n",
    "fig = px.bar(reg_salaries,x = reg_salaries.columns,y = reg_salaries.index,\n",
    "            title = 'State Starting Salaries', \n",
    "             barmode = 'group'\n",
    "            )\n",
    "\n",
    "fig_widget = go.FigureWidget(fig)\n",
    "fig_widget"
   ]
  },
  {
   "cell_type": "markdown",
   "id": "ce7465ee-1c50-4f3c-96e9-74aede569cca",
   "metadata": {},
   "source": [
    "Southern and Midwestern Regions paid the lowest, up until the 90th percentiles, where Southern regions paid  an average of 5,000 dollars more annually.\n",
    "\n",
    "To capture the truest reflection of a typical worker looking for a job, I will not be using the last 4 percentile-based statistics.\n",
    "\n",
    "Also, based on the way this is now grouped, it's a better fit for salary going forward"
   ]
  },
  {
   "cell_type": "markdown",
   "id": "7eac0a35-6deb-4f47-9fc0-b1232a464588",
   "metadata": {},
   "source": [
    "#### New Data"
   ]
  },
  {
   "cell_type": "code",
   "execution_count": 20,
   "id": "41b299ee-5483-4b2c-8572-357f22364a2c",
   "metadata": {},
   "outputs": [],
   "source": [
    "reg_salaries.to_csv('Final_Data/Further_Datasets/Regional_Salaries.csv')"
   ]
  },
  {
   "cell_type": "markdown",
   "id": "27336ab6-6d13-41ed-9281-0bfc99efe0bb",
   "metadata": {},
   "source": [
    "# Salaries by College Type"
   ]
  },
  {
   "cell_type": "code",
   "execution_count": 21,
   "id": "871dcf57-c20c-461f-a160-1a263ec22fc6",
   "metadata": {},
   "outputs": [
    {
     "data": {
      "text/html": [
       "<div>\n",
       "<style scoped>\n",
       "    .dataframe tbody tr th:only-of-type {\n",
       "        vertical-align: middle;\n",
       "    }\n",
       "\n",
       "    .dataframe tbody tr th {\n",
       "        vertical-align: top;\n",
       "    }\n",
       "\n",
       "    .dataframe thead th {\n",
       "        text-align: right;\n",
       "    }\n",
       "</style>\n",
       "<table border=\"1\" class=\"dataframe\">\n",
       "  <thead>\n",
       "    <tr style=\"text-align: right;\">\n",
       "      <th></th>\n",
       "      <th>School Name</th>\n",
       "      <th>School Type</th>\n",
       "      <th>Starting Median Salary</th>\n",
       "      <th>Mid-Career Median Salary</th>\n",
       "      <th>Mid-Career 10th Percentile Salary</th>\n",
       "      <th>Mid-Career 25th Percentile Salary</th>\n",
       "      <th>Mid-Career 75th Percentile Salary</th>\n",
       "      <th>Mid-Career 90th Percentile Salary</th>\n",
       "    </tr>\n",
       "  </thead>\n",
       "  <tbody>\n",
       "    <tr>\n",
       "      <th>0</th>\n",
       "      <td>Massachusetts Institute of Technology (MIT)</td>\n",
       "      <td>Engineering</td>\n",
       "      <td>72200.0</td>\n",
       "      <td>126000.0</td>\n",
       "      <td>76800.0</td>\n",
       "      <td>99200.0</td>\n",
       "      <td>168000.0</td>\n",
       "      <td>220000.0</td>\n",
       "    </tr>\n",
       "    <tr>\n",
       "      <th>1</th>\n",
       "      <td>California Institute of Technology (CIT)</td>\n",
       "      <td>Engineering</td>\n",
       "      <td>75500.0</td>\n",
       "      <td>123000.0</td>\n",
       "      <td>NaN</td>\n",
       "      <td>104000.0</td>\n",
       "      <td>161000.0</td>\n",
       "      <td>NaN</td>\n",
       "    </tr>\n",
       "    <tr>\n",
       "      <th>2</th>\n",
       "      <td>Harvey Mudd College</td>\n",
       "      <td>Engineering</td>\n",
       "      <td>71800.0</td>\n",
       "      <td>122000.0</td>\n",
       "      <td>NaN</td>\n",
       "      <td>96000.0</td>\n",
       "      <td>180000.0</td>\n",
       "      <td>NaN</td>\n",
       "    </tr>\n",
       "  </tbody>\n",
       "</table>\n",
       "</div>"
      ],
      "text/plain": [
       "                                   School Name  School Type  \\\n",
       "0  Massachusetts Institute of Technology (MIT)  Engineering   \n",
       "1     California Institute of Technology (CIT)  Engineering   \n",
       "2                          Harvey Mudd College  Engineering   \n",
       "\n",
       "   Starting Median Salary  Mid-Career Median Salary  \\\n",
       "0                 72200.0                  126000.0   \n",
       "1                 75500.0                  123000.0   \n",
       "2                 71800.0                  122000.0   \n",
       "\n",
       "   Mid-Career 10th Percentile Salary  Mid-Career 25th Percentile Salary  \\\n",
       "0                            76800.0                            99200.0   \n",
       "1                                NaN                           104000.0   \n",
       "2                                NaN                            96000.0   \n",
       "\n",
       "   Mid-Career 75th Percentile Salary  Mid-Career 90th Percentile Salary  \n",
       "0                           168000.0                           220000.0  \n",
       "1                           161000.0                                NaN  \n",
       "2                           180000.0                                NaN  "
      ]
     },
     "execution_count": 21,
     "metadata": {},
     "output_type": "execute_result"
    }
   ],
   "source": [
    "\n",
    "col_type_salaries = pd.read_csv('Datasets/Education Salaries/salaries-by-college-type.csv')\n",
    "col_type_salaries.head(3)"
   ]
  },
  {
   "cell_type": "code",
   "execution_count": 22,
   "id": "7fd15aa9-8ec2-4d22-b416-e112ff764e4e",
   "metadata": {},
   "outputs": [
    {
     "data": {
      "text/plain": [
       "State           175\n",
       "Liberal Arts     47\n",
       "Party            20\n",
       "Engineering      19\n",
       "Ivy League        8\n",
       "Name: School Type, dtype: int64"
      ]
     },
     "execution_count": 22,
     "metadata": {},
     "output_type": "execute_result"
    }
   ],
   "source": [
    "col_type_salaries['School Type'].value_counts()"
   ]
  },
  {
   "cell_type": "markdown",
   "id": "c9d2394c-4ad4-4745-96e8-fdc8bdb822d2",
   "metadata": {},
   "source": [
    "This unfortunately isn't the *type* of college I was anticipating. I would cherry pick liberal arts and engineering but... that *would* be cherry picking"
   ]
  },
  {
   "cell_type": "markdown",
   "id": "8d8b891a-2bb1-43f0-9c3b-dfe4c452c747",
   "metadata": {},
   "source": [
    "#### Cleaned"
   ]
  },
  {
   "cell_type": "markdown",
   "id": "2f5958ae-4ead-418f-b6d1-8b84aaebb5a3",
   "metadata": {},
   "source": [
    "Can't, Won't"
   ]
  },
  {
   "cell_type": "markdown",
   "id": "23bb3307-a525-4c37-9b9e-c54a999641a6",
   "metadata": {},
   "source": [
    "#### tscores"
   ]
  },
  {
   "cell_type": "markdown",
   "id": "b940b598-4423-45b2-8b97-54504cbcff39",
   "metadata": {},
   "source": [
    "#### Graphs"
   ]
  }
 ],
 "metadata": {
  "kernelspec": {
   "display_name": "Python 3 (ipykernel)",
   "language": "python",
   "name": "python3"
  },
  "language_info": {
   "codemirror_mode": {
    "name": "ipython",
    "version": 3
   },
   "file_extension": ".py",
   "mimetype": "text/x-python",
   "name": "python",
   "nbconvert_exporter": "python",
   "pygments_lexer": "ipython3",
   "version": "3.9.12"
  }
 },
 "nbformat": 4,
 "nbformat_minor": 5
}
