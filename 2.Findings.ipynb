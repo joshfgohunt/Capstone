{
 "cells": [
  {
   "cell_type": "code",
   "execution_count": 1,
   "id": "cd6b1285-7ede-4f17-a281-c641ba4b27c0",
   "metadata": {
    "jupyter": {
     "source_hidden": true
    }
   },
   "outputs": [],
   "source": [
    "import pandas as pd\n",
    "\n",
    "import Clean_data as cld\n",
    "import Transform_Data as tfd\n",
    "import Visualize_Data as vld\n",
    "from scipy import stats\n",
    "import plotly.express as px\n",
    "import plotly.graph_objects as go\n",
    "import numpy as np"
   ]
  },
  {
   "cell_type": "code",
   "execution_count": 2,
   "id": "1ed8a424-d116-4861-a647-83a68859189b",
   "metadata": {
    "jupyter": {
     "source_hidden": true
    }
   },
   "outputs": [],
   "source": [
    "### Location\n",
    "location_rental_prices = pd.read_csv('Final_Data/ETL/zillow_rental_prices.csv') \n",
    "location_house_prices = pd.read_csv('Final_Data/ETL/zillow_house_prices.csv') \n",
    "location_house_sell_time = pd.read_csv('Final_Data/ETL/zillow_days_to_sell.csv')\n",
    "location_state_pop = pd.read_csv('Final_Data/ETL/state_population_counts.csv')\n",
    "location_state_age_deg = pd.read_csv('Final_Data/ETL/state_agegroup_degree_majors.csv') \n",
    "\n",
    "location_growth = pd.read_csv('Final_Data/Further_Datasets/State_Growth_Rate.csv')\n",
    "age_bachelor = pd.read_csv('Final_Data/Further_Datasets/Age_Bachelor_Counts.csv')\n",
    "rent_sale_Growth = pd.read_csv('Final_Data/Further_Datasets/Rent_Sale_growth.csv')\n",
    "\n",
    "### Education\n",
    "education_industry_counts = pd.read_csv('Final_Data/Manually Altered/Industry_counts_global.csv') \n",
    "education_deg_to_job = pd.read_csv('Final_Data/Manually Altered/degree_to_job_title_count.csv')  \n",
    "education_deg_payback = pd.read_csv('Final_Data/ETL/deg_payback.csv')\n",
    "\n",
    "\n",
    "bachelor_counts = pd.read_csv('Final_Data/Further_Datasets/State_Bachelor_Counts.csv')\n",
    "### Salary\n",
    "salary_glassdoor_df = pd.read_csv('Final_Data/Manually Altered/glassdoor_best_jobs.csv') \n",
    "salary_demographics = pd.read_csv('Final_Data/ETL/state_demographics.csv') \n",
    "\n",
    "reg_salaries = pd.read_csv('Final_Data/Further_Datasets/Regional_Salaries.csv')\n",
    "\n",
    "# variables\n",
    "min_wage = 7.25\n",
    "annual_min = min_wage * 2080\n",
    "monthly_wage = min_wage * 160"
   ]
  },
  {
   "cell_type": "markdown",
   "id": "fe9185b1-c793-4044-89bc-d522f47ea2b3",
   "metadata": {},
   "source": [
    "### Hypothesis\n",
    "##### Can I categorize States, based on several parameters such as: Population, employment opportunities, available schooling, degree focus , and income; Using these categorizations, can I weigh certain states based on their likelihood to favor a combination of degrees, salaries, and housing situations. "
   ]
  },
  {
   "cell_type": "markdown",
   "id": "ecc9079a-733c-4ada-81d1-150444103014",
   "metadata": {},
   "source": [
    "#### Question 1:\n",
    "Which degrees are the most in demand *and* pay well"
   ]
  },
  {
   "cell_type": "code",
   "execution_count": 3,
   "id": "abc1e3b9-10a8-482b-a091-1c73511fbbbe",
   "metadata": {
    "jupyter": {
     "source_hidden": true
    }
   },
   "outputs": [],
   "source": [
    "field = tfd.combine_demand(education_industry_counts, education_deg_to_job, education_deg_payback,location_state_age_deg)"
   ]
  },
  {
   "cell_type": "code",
   "execution_count": 4,
   "id": "a989abd2-bccb-41d1-b402-66089b5ccbd0",
   "metadata": {
    "jupyter": {
     "source_hidden": true
    }
   },
   "outputs": [],
   "source": [
    "field = field.set_index(keys='Field')"
   ]
  },
  {
   "cell_type": "code",
   "execution_count": 5,
   "id": "280e9c95-05dd-44dd-9c9c-d77e3d7dbf23",
   "metadata": {
    "jupyter": {
     "source_hidden": true
    }
   },
   "outputs": [
    {
     "data": {
      "text/html": [
       "<div>\n",
       "<style scoped>\n",
       "    .dataframe tbody tr th:only-of-type {\n",
       "        vertical-align: middle;\n",
       "    }\n",
       "\n",
       "    .dataframe tbody tr th {\n",
       "        vertical-align: top;\n",
       "    }\n",
       "\n",
       "    .dataframe thead th {\n",
       "        text-align: right;\n",
       "    }\n",
       "</style>\n",
       "<table border=\"1\" class=\"dataframe\">\n",
       "  <thead>\n",
       "    <tr style=\"text-align: right;\">\n",
       "      <th></th>\n",
       "      <th>Demand_Count</th>\n",
       "      <th>Degree_Fill_Count</th>\n",
       "      <th>start_salary</th>\n",
       "      <th>mid_salary</th>\n",
       "      <th>bachelor_count</th>\n",
       "    </tr>\n",
       "    <tr>\n",
       "      <th>Field</th>\n",
       "      <th></th>\n",
       "      <th></th>\n",
       "      <th></th>\n",
       "      <th></th>\n",
       "      <th></th>\n",
       "    </tr>\n",
       "  </thead>\n",
       "  <tbody>\n",
       "    <tr>\n",
       "      <th>Arts, Humanities and Others</th>\n",
       "      <td>800980</td>\n",
       "      <td>6837695.0</td>\n",
       "      <td>35840.000000</td>\n",
       "      <td>58440.000000</td>\n",
       "      <td>16986990.0</td>\n",
       "    </tr>\n",
       "    <tr>\n",
       "      <th>Business</th>\n",
       "      <td>3876780</td>\n",
       "      <td>8143799.0</td>\n",
       "      <td>43785.714286</td>\n",
       "      <td>79157.142857</td>\n",
       "      <td>15080708.0</td>\n",
       "    </tr>\n",
       "    <tr>\n",
       "      <th>Education</th>\n",
       "      <td>303751</td>\n",
       "      <td>3457434.0</td>\n",
       "      <td>36566.666667</td>\n",
       "      <td>63233.333333</td>\n",
       "      <td>8749977.0</td>\n",
       "    </tr>\n",
       "    <tr>\n",
       "      <th>Sci_Eng_Related</th>\n",
       "      <td>1577977</td>\n",
       "      <td>5446758.0</td>\n",
       "      <td>44678.571429</td>\n",
       "      <td>71871.428571</td>\n",
       "      <td>7311745.0</td>\n",
       "    </tr>\n",
       "    <tr>\n",
       "      <th>Science and Engineering</th>\n",
       "      <td>2402102</td>\n",
       "      <td>11943074.0</td>\n",
       "      <td>50962.500000</td>\n",
       "      <td>87806.250000</td>\n",
       "      <td>26372231.0</td>\n",
       "    </tr>\n",
       "  </tbody>\n",
       "</table>\n",
       "</div>"
      ],
      "text/plain": [
       "                             Demand_Count  Degree_Fill_Count  start_salary  \\\n",
       "Field                                                                        \n",
       "Arts, Humanities and Others        800980          6837695.0  35840.000000   \n",
       "Business                          3876780          8143799.0  43785.714286   \n",
       "Education                          303751          3457434.0  36566.666667   \n",
       "Sci_Eng_Related                   1577977          5446758.0  44678.571429   \n",
       "Science and Engineering           2402102         11943074.0  50962.500000   \n",
       "\n",
       "                               mid_salary  bachelor_count  \n",
       "Field                                                      \n",
       "Arts, Humanities and Others  58440.000000      16986990.0  \n",
       "Business                     79157.142857      15080708.0  \n",
       "Education                    63233.333333       8749977.0  \n",
       "Sci_Eng_Related              71871.428571       7311745.0  \n",
       "Science and Engineering      87806.250000      26372231.0  "
      ]
     },
     "execution_count": 5,
     "metadata": {},
     "output_type": "execute_result"
    }
   ],
   "source": [
    "field"
   ]
  },
  {
   "cell_type": "code",
   "execution_count": 6,
   "id": "92399233-d07c-46c3-809a-eb5b62308b79",
   "metadata": {
    "jupyter": {
     "source_hidden": true
    }
   },
   "outputs": [
    {
     "data": {
      "text/plain": [
       "Field\n",
       "Arts, Humanities and Others    11.0\n",
       "Business                       19.0\n",
       "Education                       8.0\n",
       "Sci_Eng_Related                13.0\n",
       "Science and Engineering        24.0\n",
       "dtype: float64"
      ]
     },
     "execution_count": 6,
     "metadata": {},
     "output_type": "execute_result"
    }
   ],
   "source": [
    "ranked_fields = field.rank(numeric_only = True)\n",
    "ranked_fields.sum(axis=1)"
   ]
  },
  {
   "cell_type": "markdown",
   "id": "fe68012f-821c-410c-a6d8-71e3445a9532",
   "metadata": {},
   "source": [
    "First pass, Science/Engineering and Business are the top 2 positions."
   ]
  },
  {
   "cell_type": "code",
   "execution_count": 7,
   "id": "9d2203c0-e9bb-4572-925c-a54706cb7c99",
   "metadata": {
    "jupyter": {
     "source_hidden": true
    }
   },
   "outputs": [],
   "source": [
    "field_log = np.log(field) # To reduce the individual weights"
   ]
  },
  {
   "cell_type": "code",
   "execution_count": 8,
   "id": "981a5985-86b8-4d7d-a06a-843a5806591d",
   "metadata": {
    "jupyter": {
     "source_hidden": true
    }
   },
   "outputs": [
    {
     "data": {
      "text/plain": [
       "Field\n",
       "Arts, Humanities and Others    67.442087\n",
       "Business                       69.578463\n",
       "Education                      65.226042\n",
       "Sci_Eng_Related                67.477061\n",
       "Science and Engineering        70.297072\n",
       "dtype: float64"
      ]
     },
     "execution_count": 8,
     "metadata": {},
     "output_type": "execute_result"
    }
   ],
   "source": [
    "field_log.sum(axis=1)"
   ]
  },
  {
   "cell_type": "markdown",
   "id": "de390bc9-94bd-4a7d-9822-15df5e90855a",
   "metadata": {},
   "source": [
    "Even with the different factors more equally balanced, Science/Engineering and Business are still the two most prominent contendors \n",
    "\n",
    "The have High Demand, Are the two top types of degrees earned in the US, Have the highest starting and mid-career salaries"
   ]
  },
  {
   "cell_type": "markdown",
   "id": "e056e92f-2814-4458-82fa-3ef39cd3132c",
   "metadata": {},
   "source": [
    "#### Question 2: \n",
    "Which areas are the most focused on high-paying degrees, pay the best salaries in those fields and are offset by having the lowest Cost of Living"
   ]
  },
  {
   "cell_type": "markdown",
   "id": "27b0525e-8921-47be-a425-8bec8b12b9e0",
   "metadata": {},
   "source": [
    "###### 2.1\n",
    "Focused on high paying fields?\n"
   ]
  },
  {
   "cell_type": "code",
   "execution_count": 9,
   "id": "52f0e78d-948c-4337-a9a9-e936efcb23e6",
   "metadata": {
    "jupyter": {
     "source_hidden": true
    }
   },
   "outputs": [],
   "source": [
    "bachelor_counts = bachelor_counts.set_index(keys='State')"
   ]
  },
  {
   "cell_type": "code",
   "execution_count": 10,
   "id": "0ff65d19-890a-444e-8b65-701f96d483d6",
   "metadata": {
    "jupyter": {
     "source_hidden": true
    }
   },
   "outputs": [
    {
     "data": {
      "text/html": [
       "<div>\n",
       "<style scoped>\n",
       "    .dataframe tbody tr th:only-of-type {\n",
       "        vertical-align: middle;\n",
       "    }\n",
       "\n",
       "    .dataframe tbody tr th {\n",
       "        vertical-align: top;\n",
       "    }\n",
       "\n",
       "    .dataframe thead th {\n",
       "        text-align: right;\n",
       "    }\n",
       "</style>\n",
       "<table border=\"1\" class=\"dataframe\">\n",
       "  <thead>\n",
       "    <tr style=\"text-align: right;\">\n",
       "      <th></th>\n",
       "      <th>Arts, Humanities and Others</th>\n",
       "      <th>Business</th>\n",
       "      <th>Education</th>\n",
       "      <th>Sci_Eng_Related</th>\n",
       "      <th>Science and Engineering</th>\n",
       "      <th>Total</th>\n",
       "      <th>Total_z</th>\n",
       "      <th>Region</th>\n",
       "    </tr>\n",
       "    <tr>\n",
       "      <th>State</th>\n",
       "      <th></th>\n",
       "      <th></th>\n",
       "      <th></th>\n",
       "      <th></th>\n",
       "      <th></th>\n",
       "      <th></th>\n",
       "      <th></th>\n",
       "      <th></th>\n",
       "    </tr>\n",
       "  </thead>\n",
       "  <tbody>\n",
       "    <tr>\n",
       "      <th>District of Columbia</th>\n",
       "      <td>0.299384</td>\n",
       "      <td>0.129762</td>\n",
       "      <td>0.034008</td>\n",
       "      <td>0.051793</td>\n",
       "      <td>0.485053</td>\n",
       "      <td>301429.0</td>\n",
       "      <td>-0.675340</td>\n",
       "      <td>Southern</td>\n",
       "    </tr>\n",
       "    <tr>\n",
       "      <th>Washington</th>\n",
       "      <td>0.237230</td>\n",
       "      <td>0.160159</td>\n",
       "      <td>0.096178</td>\n",
       "      <td>0.085141</td>\n",
       "      <td>0.421292</td>\n",
       "      <td>1955632.0</td>\n",
       "      <td>0.288228</td>\n",
       "      <td>Western</td>\n",
       "    </tr>\n",
       "    <tr>\n",
       "      <th>California</th>\n",
       "      <td>0.256252</td>\n",
       "      <td>0.182542</td>\n",
       "      <td>0.061555</td>\n",
       "      <td>0.082876</td>\n",
       "      <td>0.416775</td>\n",
       "      <td>9428484.0</td>\n",
       "      <td>4.641140</td>\n",
       "      <td>Western</td>\n",
       "    </tr>\n",
       "    <tr>\n",
       "      <th>Maryland</th>\n",
       "      <td>0.225970</td>\n",
       "      <td>0.185580</td>\n",
       "      <td>0.088840</td>\n",
       "      <td>0.090832</td>\n",
       "      <td>0.408777</td>\n",
       "      <td>1710230.0</td>\n",
       "      <td>0.145282</td>\n",
       "      <td>Southern</td>\n",
       "    </tr>\n",
       "    <tr>\n",
       "      <th>Massachusetts</th>\n",
       "      <td>0.242111</td>\n",
       "      <td>0.177689</td>\n",
       "      <td>0.084413</td>\n",
       "      <td>0.088397</td>\n",
       "      <td>0.407389</td>\n",
       "      <td>2181743.0</td>\n",
       "      <td>0.419937</td>\n",
       "      <td>Northeastern</td>\n",
       "    </tr>\n",
       "  </tbody>\n",
       "</table>\n",
       "</div>"
      ],
      "text/plain": [
       "                      Arts, Humanities and Others  Business  Education  \\\n",
       "State                                                                    \n",
       "District of Columbia                     0.299384  0.129762   0.034008   \n",
       "Washington                               0.237230  0.160159   0.096178   \n",
       "California                               0.256252  0.182542   0.061555   \n",
       "Maryland                                 0.225970  0.185580   0.088840   \n",
       "Massachusetts                            0.242111  0.177689   0.084413   \n",
       "\n",
       "                      Sci_Eng_Related  Science and Engineering      Total  \\\n",
       "State                                                                       \n",
       "District of Columbia         0.051793                 0.485053   301429.0   \n",
       "Washington                   0.085141                 0.421292  1955632.0   \n",
       "California                   0.082876                 0.416775  9428484.0   \n",
       "Maryland                     0.090832                 0.408777  1710230.0   \n",
       "Massachusetts                0.088397                 0.407389  2181743.0   \n",
       "\n",
       "                       Total_z        Region  \n",
       "State                                         \n",
       "District of Columbia -0.675340      Southern  \n",
       "Washington            0.288228       Western  \n",
       "California            4.641140       Western  \n",
       "Maryland              0.145282      Southern  \n",
       "Massachusetts         0.419937  Northeastern  "
      ]
     },
     "execution_count": 10,
     "metadata": {},
     "output_type": "execute_result"
    }
   ],
   "source": [
    "bachelor_ratio = tfd.get_bachelor_ratios(bachelor_counts)\n",
    "\n",
    "top_5_sci_eng_states = bachelor_ratio.sort_values(by=['Science and Engineering'], ascending = False).head(5)   \n",
    "top_5_sci_eng_states"
   ]
  },
  {
   "cell_type": "code",
   "execution_count": 11,
   "id": "aef9051c-f3b3-4f2b-84bd-25722b22c3a8",
   "metadata": {
    "tags": []
   },
   "outputs": [
    {
     "data": {
      "text/html": [
       "<div>\n",
       "<style scoped>\n",
       "    .dataframe tbody tr th:only-of-type {\n",
       "        vertical-align: middle;\n",
       "    }\n",
       "\n",
       "    .dataframe tbody tr th {\n",
       "        vertical-align: top;\n",
       "    }\n",
       "\n",
       "    .dataframe thead th {\n",
       "        text-align: right;\n",
       "    }\n",
       "</style>\n",
       "<table border=\"1\" class=\"dataframe\">\n",
       "  <thead>\n",
       "    <tr style=\"text-align: right;\">\n",
       "      <th></th>\n",
       "      <th>Arts, Humanities and Others</th>\n",
       "      <th>Business</th>\n",
       "      <th>Education</th>\n",
       "      <th>Sci_Eng_Related</th>\n",
       "      <th>Science and Engineering</th>\n",
       "      <th>Total</th>\n",
       "      <th>Total_z</th>\n",
       "      <th>Region</th>\n",
       "    </tr>\n",
       "    <tr>\n",
       "      <th>State</th>\n",
       "      <th></th>\n",
       "      <th></th>\n",
       "      <th></th>\n",
       "      <th></th>\n",
       "      <th></th>\n",
       "      <th></th>\n",
       "      <th></th>\n",
       "      <th></th>\n",
       "    </tr>\n",
       "  </thead>\n",
       "  <tbody>\n",
       "    <tr>\n",
       "      <th>Florida</th>\n",
       "      <td>0.200580</td>\n",
       "      <td>0.243118</td>\n",
       "      <td>0.129059</td>\n",
       "      <td>0.107355</td>\n",
       "      <td>0.319888</td>\n",
       "      <td>4753637.0</td>\n",
       "      <td>1.918057</td>\n",
       "      <td>Southern</td>\n",
       "    </tr>\n",
       "    <tr>\n",
       "      <th>Alabama</th>\n",
       "      <td>0.194429</td>\n",
       "      <td>0.237358</td>\n",
       "      <td>0.159338</td>\n",
       "      <td>0.111192</td>\n",
       "      <td>0.297682</td>\n",
       "      <td>885357.0</td>\n",
       "      <td>-0.335203</td>\n",
       "      <td>Southern</td>\n",
       "    </tr>\n",
       "    <tr>\n",
       "      <th>Georgia</th>\n",
       "      <td>0.212615</td>\n",
       "      <td>0.236904</td>\n",
       "      <td>0.129480</td>\n",
       "      <td>0.093616</td>\n",
       "      <td>0.327385</td>\n",
       "      <td>2301568.0</td>\n",
       "      <td>0.489735</td>\n",
       "      <td>Southern</td>\n",
       "    </tr>\n",
       "    <tr>\n",
       "      <th>Texas</th>\n",
       "      <td>0.201157</td>\n",
       "      <td>0.232093</td>\n",
       "      <td>0.118903</td>\n",
       "      <td>0.095630</td>\n",
       "      <td>0.352218</td>\n",
       "      <td>5776533.0</td>\n",
       "      <td>2.513891</td>\n",
       "      <td>Southern</td>\n",
       "    </tr>\n",
       "    <tr>\n",
       "      <th>South Carolina</th>\n",
       "      <td>0.206144</td>\n",
       "      <td>0.231953</td>\n",
       "      <td>0.150337</td>\n",
       "      <td>0.100857</td>\n",
       "      <td>0.310709</td>\n",
       "      <td>1054559.0</td>\n",
       "      <td>-0.236644</td>\n",
       "      <td>Southern</td>\n",
       "    </tr>\n",
       "  </tbody>\n",
       "</table>\n",
       "</div>"
      ],
      "text/plain": [
       "                Arts, Humanities and Others  Business  Education  \\\n",
       "State                                                              \n",
       "Florida                            0.200580  0.243118   0.129059   \n",
       "Alabama                            0.194429  0.237358   0.159338   \n",
       "Georgia                            0.212615  0.236904   0.129480   \n",
       "Texas                              0.201157  0.232093   0.118903   \n",
       "South Carolina                     0.206144  0.231953   0.150337   \n",
       "\n",
       "                Sci_Eng_Related  Science and Engineering      Total   Total_z  \\\n",
       "State                                                                           \n",
       "Florida                0.107355                 0.319888  4753637.0  1.918057   \n",
       "Alabama                0.111192                 0.297682   885357.0 -0.335203   \n",
       "Georgia                0.093616                 0.327385  2301568.0  0.489735   \n",
       "Texas                  0.095630                 0.352218  5776533.0  2.513891   \n",
       "South Carolina         0.100857                 0.310709  1054559.0 -0.236644   \n",
       "\n",
       "                  Region  \n",
       "State                     \n",
       "Florida         Southern  \n",
       "Alabama         Southern  \n",
       "Georgia         Southern  \n",
       "Texas           Southern  \n",
       "South Carolina  Southern  "
      ]
     },
     "execution_count": 11,
     "metadata": {},
     "output_type": "execute_result"
    }
   ],
   "source": [
    "top_5_bus_states = bachelor_ratio.sort_values(by=['Business'], ascending = False).head(5)   \n",
    "top_5_bus_states"
   ]
  },
  {
   "cell_type": "markdown",
   "id": "b3927517-f1d4-4020-96ab-a8d2b20e8117",
   "metadata": {},
   "source": [
    "The top 5 states, sorted by **sci/eng** and **business** are listed above. Remarkably, there is no overlap between them. Tofind the ideal for both/either I'll need to create a combine dcolumn"
   ]
  },
  {
   "cell_type": "code",
   "execution_count": 12,
   "id": "f5726921-f364-45ae-9406-e767df94e851",
   "metadata": {
    "jupyter": {
     "source_hidden": true
    },
    "tags": []
   },
   "outputs": [],
   "source": [
    "bachelor_ratio['ideal_degree'] = bachelor_ratio['Science and Engineering']  + bachelor_ratio['Business'] "
   ]
  },
  {
   "cell_type": "code",
   "execution_count": 13,
   "id": "cbc0e755-072d-43f7-aa4e-d4d9a29aad4e",
   "metadata": {
    "jupyter": {
     "source_hidden": true
    },
    "tags": []
   },
   "outputs": [],
   "source": [
    "ideal_zscores= tfd.append_zscores(bachelor_ratio, 'ideal_degree',  'ideal_degree_z')"
   ]
  },
  {
   "cell_type": "code",
   "execution_count": 14,
   "id": "36e82499-d21f-4e0e-90c8-415cc81b69fa",
   "metadata": {
    "jupyter": {
     "source_hidden": true
    },
    "tags": []
   },
   "outputs": [
    {
     "data": {
      "text/html": [
       "<div>\n",
       "<style scoped>\n",
       "    .dataframe tbody tr th:only-of-type {\n",
       "        vertical-align: middle;\n",
       "    }\n",
       "\n",
       "    .dataframe tbody tr th {\n",
       "        vertical-align: top;\n",
       "    }\n",
       "\n",
       "    .dataframe thead th {\n",
       "        text-align: right;\n",
       "    }\n",
       "</style>\n",
       "<table border=\"1\" class=\"dataframe\">\n",
       "  <thead>\n",
       "    <tr style=\"text-align: right;\">\n",
       "      <th></th>\n",
       "      <th>Arts, Humanities and Others</th>\n",
       "      <th>Business</th>\n",
       "      <th>Education</th>\n",
       "      <th>Sci_Eng_Related</th>\n",
       "      <th>Science and Engineering</th>\n",
       "      <th>Total</th>\n",
       "      <th>Total_z</th>\n",
       "      <th>Region</th>\n",
       "      <th>ideal_degree</th>\n",
       "      <th>ideal_degree_z</th>\n",
       "    </tr>\n",
       "    <tr>\n",
       "      <th>State</th>\n",
       "      <th></th>\n",
       "      <th></th>\n",
       "      <th></th>\n",
       "      <th></th>\n",
       "      <th></th>\n",
       "      <th></th>\n",
       "      <th></th>\n",
       "      <th></th>\n",
       "      <th></th>\n",
       "      <th></th>\n",
       "    </tr>\n",
       "  </thead>\n",
       "  <tbody>\n",
       "    <tr>\n",
       "      <th>District of Columbia</th>\n",
       "      <td>0.299384</td>\n",
       "      <td>0.129762</td>\n",
       "      <td>0.034008</td>\n",
       "      <td>0.051793</td>\n",
       "      <td>0.485053</td>\n",
       "      <td>301429.0</td>\n",
       "      <td>-0.675340</td>\n",
       "      <td>Southern</td>\n",
       "      <td>0.614815</td>\n",
       "      <td>2.129830</td>\n",
       "    </tr>\n",
       "    <tr>\n",
       "      <th>California</th>\n",
       "      <td>0.256252</td>\n",
       "      <td>0.182542</td>\n",
       "      <td>0.061555</td>\n",
       "      <td>0.082876</td>\n",
       "      <td>0.416775</td>\n",
       "      <td>9428484.0</td>\n",
       "      <td>4.641140</td>\n",
       "      <td>Western</td>\n",
       "      <td>0.599317</td>\n",
       "      <td>1.712451</td>\n",
       "    </tr>\n",
       "    <tr>\n",
       "      <th>Colorado</th>\n",
       "      <td>0.232056</td>\n",
       "      <td>0.204843</td>\n",
       "      <td>0.087637</td>\n",
       "      <td>0.084549</td>\n",
       "      <td>0.390915</td>\n",
       "      <td>1695602.0</td>\n",
       "      <td>0.136762</td>\n",
       "      <td>Western</td>\n",
       "      <td>0.595758</td>\n",
       "      <td>1.616595</td>\n",
       "    </tr>\n",
       "    <tr>\n",
       "      <th>New Jersey</th>\n",
       "      <td>0.212099</td>\n",
       "      <td>0.216115</td>\n",
       "      <td>0.105105</td>\n",
       "      <td>0.088412</td>\n",
       "      <td>0.378269</td>\n",
       "      <td>2551765.0</td>\n",
       "      <td>0.635474</td>\n",
       "      <td>Northeastern</td>\n",
       "      <td>0.594384</td>\n",
       "      <td>1.579578</td>\n",
       "    </tr>\n",
       "    <tr>\n",
       "      <th>Maryland</th>\n",
       "      <td>0.225970</td>\n",
       "      <td>0.185580</td>\n",
       "      <td>0.088840</td>\n",
       "      <td>0.090832</td>\n",
       "      <td>0.408777</td>\n",
       "      <td>1710230.0</td>\n",
       "      <td>0.145282</td>\n",
       "      <td>Southern</td>\n",
       "      <td>0.594357</td>\n",
       "      <td>1.578867</td>\n",
       "    </tr>\n",
       "    <tr>\n",
       "      <th>Virginia</th>\n",
       "      <td>0.239727</td>\n",
       "      <td>0.183816</td>\n",
       "      <td>0.090535</td>\n",
       "      <td>0.079575</td>\n",
       "      <td>0.406347</td>\n",
       "      <td>2325070.0</td>\n",
       "      <td>0.503425</td>\n",
       "      <td>Southern</td>\n",
       "      <td>0.590163</td>\n",
       "      <td>1.465908</td>\n",
       "    </tr>\n",
       "    <tr>\n",
       "      <th>Massachusetts</th>\n",
       "      <td>0.242111</td>\n",
       "      <td>0.177689</td>\n",
       "      <td>0.084413</td>\n",
       "      <td>0.088397</td>\n",
       "      <td>0.407389</td>\n",
       "      <td>2181743.0</td>\n",
       "      <td>0.419937</td>\n",
       "      <td>Northeastern</td>\n",
       "      <td>0.585078</td>\n",
       "      <td>1.328951</td>\n",
       "    </tr>\n",
       "    <tr>\n",
       "      <th>Texas</th>\n",
       "      <td>0.201157</td>\n",
       "      <td>0.232093</td>\n",
       "      <td>0.118903</td>\n",
       "      <td>0.095630</td>\n",
       "      <td>0.352218</td>\n",
       "      <td>5776533.0</td>\n",
       "      <td>2.513891</td>\n",
       "      <td>Southern</td>\n",
       "      <td>0.584310</td>\n",
       "      <td>1.308274</td>\n",
       "    </tr>\n",
       "    <tr>\n",
       "      <th>Washington</th>\n",
       "      <td>0.237230</td>\n",
       "      <td>0.160159</td>\n",
       "      <td>0.096178</td>\n",
       "      <td>0.085141</td>\n",
       "      <td>0.421292</td>\n",
       "      <td>1955632.0</td>\n",
       "      <td>0.288228</td>\n",
       "      <td>Western</td>\n",
       "      <td>0.581451</td>\n",
       "      <td>1.231262</td>\n",
       "    </tr>\n",
       "    <tr>\n",
       "      <th>Hawaii</th>\n",
       "      <td>0.212802</td>\n",
       "      <td>0.201513</td>\n",
       "      <td>0.114296</td>\n",
       "      <td>0.103479</td>\n",
       "      <td>0.367911</td>\n",
       "      <td>335209.0</td>\n",
       "      <td>-0.655663</td>\n",
       "      <td>Western</td>\n",
       "      <td>0.569424</td>\n",
       "      <td>0.907345</td>\n",
       "    </tr>\n",
       "  </tbody>\n",
       "</table>\n",
       "</div>"
      ],
      "text/plain": [
       "                      Arts, Humanities and Others  Business  Education  \\\n",
       "State                                                                    \n",
       "District of Columbia                     0.299384  0.129762   0.034008   \n",
       "California                               0.256252  0.182542   0.061555   \n",
       "Colorado                                 0.232056  0.204843   0.087637   \n",
       "New Jersey                               0.212099  0.216115   0.105105   \n",
       "Maryland                                 0.225970  0.185580   0.088840   \n",
       "Virginia                                 0.239727  0.183816   0.090535   \n",
       "Massachusetts                            0.242111  0.177689   0.084413   \n",
       "Texas                                    0.201157  0.232093   0.118903   \n",
       "Washington                               0.237230  0.160159   0.096178   \n",
       "Hawaii                                   0.212802  0.201513   0.114296   \n",
       "\n",
       "                      Sci_Eng_Related  Science and Engineering      Total  \\\n",
       "State                                                                       \n",
       "District of Columbia         0.051793                 0.485053   301429.0   \n",
       "California                   0.082876                 0.416775  9428484.0   \n",
       "Colorado                     0.084549                 0.390915  1695602.0   \n",
       "New Jersey                   0.088412                 0.378269  2551765.0   \n",
       "Maryland                     0.090832                 0.408777  1710230.0   \n",
       "Virginia                     0.079575                 0.406347  2325070.0   \n",
       "Massachusetts                0.088397                 0.407389  2181743.0   \n",
       "Texas                        0.095630                 0.352218  5776533.0   \n",
       "Washington                   0.085141                 0.421292  1955632.0   \n",
       "Hawaii                       0.103479                 0.367911   335209.0   \n",
       "\n",
       "                       Total_z        Region  ideal_degree  ideal_degree_z  \n",
       "State                                                                       \n",
       "District of Columbia -0.675340      Southern      0.614815        2.129830  \n",
       "California            4.641140       Western      0.599317        1.712451  \n",
       "Colorado              0.136762       Western      0.595758        1.616595  \n",
       "New Jersey            0.635474  Northeastern      0.594384        1.579578  \n",
       "Maryland              0.145282      Southern      0.594357        1.578867  \n",
       "Virginia              0.503425      Southern      0.590163        1.465908  \n",
       "Massachusetts         0.419937  Northeastern      0.585078        1.328951  \n",
       "Texas                 2.513891      Southern      0.584310        1.308274  \n",
       "Washington            0.288228       Western      0.581451        1.231262  \n",
       "Hawaii               -0.655663       Western      0.569424        0.907345  "
      ]
     },
     "execution_count": 14,
     "metadata": {},
     "output_type": "execute_result"
    }
   ],
   "source": [
    "ideal_zscores.sort_values(by='ideal_degree',ascending = False).head(10)"
   ]
  },
  {
   "cell_type": "markdown",
   "id": "30b23f1e-c708-4b8d-bc0d-3540a4d074a9",
   "metadata": {},
   "source": [
    "I've applied deviations to the ideal degrees (Sci/eng and Business)"
   ]
  },
  {
   "cell_type": "code",
   "execution_count": 15,
   "id": "4c2a48f9-fa65-4ec4-af0a-a95f657041fc",
   "metadata": {
    "jupyter": {
     "source_hidden": true
    }
   },
   "outputs": [],
   "source": [
    "# Hold onto this for a little later\n",
    "ideal_zscores = ideal_zscores[['Business','Science and Engineering', 'Total',\n",
    "       'Region', 'ideal_degree', 'ideal_degree_z']]"
   ]
  },
  {
   "cell_type": "markdown",
   "id": "4f6927e4-8505-4aee-ae07-7d238f6798b3",
   "metadata": {},
   "source": [
    "##### Results\n",
    "Your best location, currently, is Washington DC.  And by a pretty large deviation from the norm, too.\n",
    "\n",
    "9 of the top 10 States are Statistically sound choices, having a more pronounced focus on ideal degrees."
   ]
  },
  {
   "cell_type": "markdown",
   "id": "72797ee3-f74e-4a9b-a58c-866836b19e21",
   "metadata": {},
   "source": [
    "###### 2.2 Pay well, regionally?"
   ]
  },
  {
   "cell_type": "code",
   "execution_count": 16,
   "id": "687f2806-a20b-42e4-8291-04ec7633b9c2",
   "metadata": {
    "jupyter": {
     "source_hidden": true
    }
   },
   "outputs": [],
   "source": [
    "\n",
    "reg_salaries = reg_salaries[['Region', 'Starting Median Salary', 'Mid-Career Median Salary']]"
   ]
  },
  {
   "cell_type": "code",
   "execution_count": 17,
   "id": "052db7e9-54e7-40c3-81f3-82fd937f21e0",
   "metadata": {
    "jupyter": {
     "source_hidden": true
    }
   },
   "outputs": [
    {
     "data": {
      "text/html": [
       "<div>\n",
       "<style scoped>\n",
       "    .dataframe tbody tr th:only-of-type {\n",
       "        vertical-align: middle;\n",
       "    }\n",
       "\n",
       "    .dataframe tbody tr th {\n",
       "        vertical-align: top;\n",
       "    }\n",
       "\n",
       "    .dataframe thead th {\n",
       "        text-align: right;\n",
       "    }\n",
       "</style>\n",
       "<table border=\"1\" class=\"dataframe\">\n",
       "  <thead>\n",
       "    <tr style=\"text-align: right;\">\n",
       "      <th></th>\n",
       "      <th>Region</th>\n",
       "      <th>Starting Median Salary</th>\n",
       "      <th>Mid-Career Median Salary</th>\n",
       "    </tr>\n",
       "  </thead>\n",
       "  <tbody>\n",
       "    <tr>\n",
       "      <th>0</th>\n",
       "      <td>Midwestern</td>\n",
       "      <td>44225.352113</td>\n",
       "      <td>78180.281690</td>\n",
       "    </tr>\n",
       "    <tr>\n",
       "      <th>1</th>\n",
       "      <td>Northeastern</td>\n",
       "      <td>48496.000000</td>\n",
       "      <td>91352.000000</td>\n",
       "    </tr>\n",
       "    <tr>\n",
       "      <th>2</th>\n",
       "      <td>Southern</td>\n",
       "      <td>44521.518987</td>\n",
       "      <td>79505.063291</td>\n",
       "    </tr>\n",
       "    <tr>\n",
       "      <th>3</th>\n",
       "      <td>Western</td>\n",
       "      <td>47061.428571</td>\n",
       "      <td>84172.857143</td>\n",
       "    </tr>\n",
       "  </tbody>\n",
       "</table>\n",
       "</div>"
      ],
      "text/plain": [
       "         Region  Starting Median Salary  Mid-Career Median Salary\n",
       "0    Midwestern            44225.352113              78180.281690\n",
       "1  Northeastern            48496.000000              91352.000000\n",
       "2      Southern            44521.518987              79505.063291\n",
       "3       Western            47061.428571              84172.857143"
      ]
     },
     "execution_count": 17,
     "metadata": {},
     "output_type": "execute_result"
    }
   ],
   "source": [
    "reg_salaries"
   ]
  },
  {
   "cell_type": "code",
   "execution_count": 18,
   "id": "9a6cc6b9-3fd4-4335-b8e1-872dcc34f831",
   "metadata": {
    "jupyter": {
     "source_hidden": true
    }
   },
   "outputs": [
    {
     "name": "stdout",
     "output_type": "stream",
     "text": [
      "Annual wage at Federal Minimum 15080.0\n"
     ]
    }
   ],
   "source": [
    "print('Annual wage at Federal Minimum',annual_min)"
   ]
  },
  {
   "cell_type": "markdown",
   "id": "5207064a-b759-45d9-a8cf-dbe05d4506ac",
   "metadata": {},
   "source": [
    "A college degree is on average three times what you would earn at the federal minimum wage. "
   ]
  },
  {
   "cell_type": "code",
   "execution_count": 19,
   "id": "64e31eb3-a219-482c-a336-0f71d865a0e9",
   "metadata": {
    "jupyter": {
     "source_hidden": true
    }
   },
   "outputs": [],
   "source": [
    "reg_salaries['start_over_min'] = reg_salaries['Starting Median Salary'] /annual_min\n",
    "reg_salaries['mid_over_min'] = reg_salaries['Mid-Career Median Salary'] /annual_min"
   ]
  },
  {
   "cell_type": "code",
   "execution_count": 20,
   "id": "1ff37871-6181-40b7-a82b-5b903afab5f6",
   "metadata": {
    "jupyter": {
     "source_hidden": true
    }
   },
   "outputs": [
    {
     "data": {
      "text/html": [
       "<div>\n",
       "<style scoped>\n",
       "    .dataframe tbody tr th:only-of-type {\n",
       "        vertical-align: middle;\n",
       "    }\n",
       "\n",
       "    .dataframe tbody tr th {\n",
       "        vertical-align: top;\n",
       "    }\n",
       "\n",
       "    .dataframe thead th {\n",
       "        text-align: right;\n",
       "    }\n",
       "</style>\n",
       "<table border=\"1\" class=\"dataframe\">\n",
       "  <thead>\n",
       "    <tr style=\"text-align: right;\">\n",
       "      <th></th>\n",
       "      <th>Region</th>\n",
       "      <th>Starting Median Salary</th>\n",
       "      <th>Mid-Career Median Salary</th>\n",
       "      <th>start_over_min</th>\n",
       "      <th>mid_over_min</th>\n",
       "    </tr>\n",
       "  </thead>\n",
       "  <tbody>\n",
       "    <tr>\n",
       "      <th>1</th>\n",
       "      <td>Northeastern</td>\n",
       "      <td>48496.000000</td>\n",
       "      <td>91352.000000</td>\n",
       "      <td>3.215915</td>\n",
       "      <td>6.057825</td>\n",
       "    </tr>\n",
       "    <tr>\n",
       "      <th>3</th>\n",
       "      <td>Western</td>\n",
       "      <td>47061.428571</td>\n",
       "      <td>84172.857143</td>\n",
       "      <td>3.120784</td>\n",
       "      <td>5.581754</td>\n",
       "    </tr>\n",
       "    <tr>\n",
       "      <th>2</th>\n",
       "      <td>Southern</td>\n",
       "      <td>44521.518987</td>\n",
       "      <td>79505.063291</td>\n",
       "      <td>2.952355</td>\n",
       "      <td>5.272219</td>\n",
       "    </tr>\n",
       "    <tr>\n",
       "      <th>0</th>\n",
       "      <td>Midwestern</td>\n",
       "      <td>44225.352113</td>\n",
       "      <td>78180.281690</td>\n",
       "      <td>2.932716</td>\n",
       "      <td>5.184369</td>\n",
       "    </tr>\n",
       "  </tbody>\n",
       "</table>\n",
       "</div>"
      ],
      "text/plain": [
       "         Region  Starting Median Salary  Mid-Career Median Salary  \\\n",
       "1  Northeastern            48496.000000              91352.000000   \n",
       "3       Western            47061.428571              84172.857143   \n",
       "2      Southern            44521.518987              79505.063291   \n",
       "0    Midwestern            44225.352113              78180.281690   \n",
       "\n",
       "   start_over_min  mid_over_min  \n",
       "1        3.215915      6.057825  \n",
       "3        3.120784      5.581754  \n",
       "2        2.952355      5.272219  \n",
       "0        2.932716      5.184369  "
      ]
     },
     "execution_count": 20,
     "metadata": {},
     "output_type": "execute_result"
    }
   ],
   "source": [
    "reg_salaries.sort_values('mid_over_min', ascending = False)"
   ]
  },
  {
   "cell_type": "markdown",
   "id": "f49a8f1c-2951-45f9-800b-41fd3ae707a5",
   "metadata": {},
   "source": [
    "##### Results\n",
    "Mid-Career though, you will earn between 5 and 6 times the minimum wage, depending on your region, with the Northeastern Region at the top with a mid-career salary averaging at 91k"
   ]
  },
  {
   "cell_type": "markdown",
   "id": "e17db7b3-072c-43c4-a036-77aeba147300",
   "metadata": {},
   "source": [
    "###### 2.3 Low cost of living? Hot Selling Market?"
   ]
  },
  {
   "cell_type": "code",
   "execution_count": 21,
   "id": "f007bd95-2f9e-475f-a82d-1fd031a3ca44",
   "metadata": {
    "jupyter": {
     "source_hidden": true
    }
   },
   "outputs": [],
   "source": [
    "rent_sale_Growth = rent_sale_Growth[['state', 'sell_value_20_1', \n",
    "       'rent_value_20_1', 'sale_growth', 'rent_growth']]\n",
    "rent_sale_Growth.columns = ['State', 'sell_value_2020', \n",
    "       'rent_value_2020', 'sale_growth', 'rent_growth']\n",
    "rent_sale_Growth = tfd.add_state_region(rent_sale_Growth, 'State')\n",
    "\n",
    "## Rank\n",
    "rent_sale_Growth = rent_sale_Growth.set_index('State')\n",
    "rent_sale_Growth_rank = rent_sale_Growth.rank(numeric_only=True).reset_index() ### Region wasn't returning right\n",
    "rent_sale_Growth_rank = tfd.add_state_region(rent_sale_Growth_rank, 'State')"
   ]
  },
  {
   "cell_type": "code",
   "execution_count": 22,
   "id": "e33b93ab-c4bd-49da-8cb2-60624add0de2",
   "metadata": {
    "jupyter": {
     "source_hidden": true
    }
   },
   "outputs": [
    {
     "data": {
      "text/html": [
       "<div>\n",
       "<style scoped>\n",
       "    .dataframe tbody tr th:only-of-type {\n",
       "        vertical-align: middle;\n",
       "    }\n",
       "\n",
       "    .dataframe tbody tr th {\n",
       "        vertical-align: top;\n",
       "    }\n",
       "\n",
       "    .dataframe thead th {\n",
       "        text-align: right;\n",
       "    }\n",
       "</style>\n",
       "<table border=\"1\" class=\"dataframe\">\n",
       "  <thead>\n",
       "    <tr style=\"text-align: right;\">\n",
       "      <th></th>\n",
       "      <th>sell_value_2020</th>\n",
       "      <th>rent_value_2020</th>\n",
       "      <th>sale_growth</th>\n",
       "      <th>rent_growth</th>\n",
       "      <th>Region</th>\n",
       "    </tr>\n",
       "    <tr>\n",
       "      <th>State</th>\n",
       "      <th></th>\n",
       "      <th></th>\n",
       "      <th></th>\n",
       "      <th></th>\n",
       "      <th></th>\n",
       "    </tr>\n",
       "  </thead>\n",
       "  <tbody>\n",
       "    <tr>\n",
       "      <th>California</th>\n",
       "      <td>408468.0</td>\n",
       "      <td>2100.0</td>\n",
       "      <td>1.173887</td>\n",
       "      <td>1.105263</td>\n",
       "      <td>Western</td>\n",
       "    </tr>\n",
       "    <tr>\n",
       "      <th>Texas</th>\n",
       "      <td>116946.0</td>\n",
       "      <td>1200.0</td>\n",
       "      <td>1.208182</td>\n",
       "      <td>1.148325</td>\n",
       "      <td>Southern</td>\n",
       "    </tr>\n",
       "    <tr>\n",
       "      <th>New York</th>\n",
       "      <td>369933.0</td>\n",
       "      <td>2100.0</td>\n",
       "      <td>1.124024</td>\n",
       "      <td>0.976744</td>\n",
       "      <td>Northeastern</td>\n",
       "    </tr>\n",
       "  </tbody>\n",
       "</table>\n",
       "</div>"
      ],
      "text/plain": [
       "            sell_value_2020  rent_value_2020  sale_growth  rent_growth  \\\n",
       "State                                                                    \n",
       "California         408468.0           2100.0     1.173887     1.105263   \n",
       "Texas              116946.0           1200.0     1.208182     1.148325   \n",
       "New York           369933.0           2100.0     1.124024     0.976744   \n",
       "\n",
       "                  Region  \n",
       "State                     \n",
       "California       Western  \n",
       "Texas           Southern  \n",
       "New York    Northeastern  "
      ]
     },
     "execution_count": 22,
     "metadata": {},
     "output_type": "execute_result"
    }
   ],
   "source": [
    "rent_sale_Growth.head(3)"
   ]
  },
  {
   "cell_type": "code",
   "execution_count": 23,
   "id": "0f7d84e3-79f7-425f-b0ad-4d68223b283e",
   "metadata": {
    "jupyter": {
     "source_hidden": true
    }
   },
   "outputs": [
    {
     "data": {
      "text/html": [
       "<div>\n",
       "<style scoped>\n",
       "    .dataframe tbody tr th:only-of-type {\n",
       "        vertical-align: middle;\n",
       "    }\n",
       "\n",
       "    .dataframe tbody tr th {\n",
       "        vertical-align: top;\n",
       "    }\n",
       "\n",
       "    .dataframe thead th {\n",
       "        text-align: right;\n",
       "    }\n",
       "</style>\n",
       "<table border=\"1\" class=\"dataframe\">\n",
       "  <thead>\n",
       "    <tr style=\"text-align: right;\">\n",
       "      <th></th>\n",
       "      <th>sell_value_2020</th>\n",
       "      <th>rent_value_2020</th>\n",
       "      <th>sale_growth</th>\n",
       "      <th>rent_growth</th>\n",
       "    </tr>\n",
       "  </thead>\n",
       "  <tbody>\n",
       "    <tr>\n",
       "      <th>sell_value_2020</th>\n",
       "      <td>1.000000</td>\n",
       "      <td>0.841705</td>\n",
       "      <td>-0.067872</td>\n",
       "      <td>-0.155105</td>\n",
       "    </tr>\n",
       "    <tr>\n",
       "      <th>rent_value_2020</th>\n",
       "      <td>0.841705</td>\n",
       "      <td>1.000000</td>\n",
       "      <td>-0.103592</td>\n",
       "      <td>-0.114423</td>\n",
       "    </tr>\n",
       "    <tr>\n",
       "      <th>sale_growth</th>\n",
       "      <td>-0.067872</td>\n",
       "      <td>-0.103592</td>\n",
       "      <td>1.000000</td>\n",
       "      <td>0.579879</td>\n",
       "    </tr>\n",
       "    <tr>\n",
       "      <th>rent_growth</th>\n",
       "      <td>-0.155105</td>\n",
       "      <td>-0.114423</td>\n",
       "      <td>0.579879</td>\n",
       "      <td>1.000000</td>\n",
       "    </tr>\n",
       "  </tbody>\n",
       "</table>\n",
       "</div>"
      ],
      "text/plain": [
       "                 sell_value_2020  rent_value_2020  sale_growth  rent_growth\n",
       "sell_value_2020         1.000000         0.841705    -0.067872    -0.155105\n",
       "rent_value_2020         0.841705         1.000000    -0.103592    -0.114423\n",
       "sale_growth            -0.067872        -0.103592     1.000000     0.579879\n",
       "rent_growth            -0.155105        -0.114423     0.579879     1.000000"
      ]
     },
     "execution_count": 23,
     "metadata": {},
     "output_type": "execute_result"
    }
   ],
   "source": [
    "rent_sale_Growth.corr()"
   ]
  },
  {
   "cell_type": "markdown",
   "id": "0d25c281-07c7-41ad-bb86-e325ae77ced5",
   "metadata": {},
   "source": [
    "These aren't the strongest signals, but I do find it valuable to note that as sell value increases, sale growth does not see much of a drop (the market stays relatively stable, regardless of cost increases) but the rental_growth *relative* to sale_growth plummets, with a nearly 3x decrease as sale_growth increases.\n",
    "\n",
    "Those signals are much more stable when rent_value  to growth is assessed at a fairly steady -10%."
   ]
  },
  {
   "cell_type": "code",
   "execution_count": 24,
   "id": "9c072b05-b759-4ab7-ad58-fcae629f063e",
   "metadata": {
    "jupyter": {
     "source_hidden": true
    }
   },
   "outputs": [
    {
     "data": {
      "application/vnd.jupyter.widget-view+json": {
       "model_id": "3da5372c466b453791a43ba0f9476947",
       "version_major": 2,
       "version_minor": 0
      },
      "text/plain": [
       "FigureWidget({\n",
       "    'data': [{'customdata': array([[408468.0, 1.1738868037314418, 'California'],\n",
       "              …"
      ]
     },
     "metadata": {},
     "output_type": "display_data"
    }
   ],
   "source": [
    "fig = px.scatter(rent_sale_Growth.rank(), x = 'sell_value_2020',\n",
    "                 y='sale_growth',\n",
    "                 color =rent_sale_Growth['Region'],\n",
    "                 title = 'Ranked Growth and Sell Values',\n",
    "                 trendline = 'ols',\n",
    "                 hover_data = {'sell value raw': rent_sale_Growth['sell_value_2020'], 'sell growth raw': rent_sale_Growth['sale_growth'],'state': rent_sale_Growth.index}\n",
    "            )\n",
    "fig['layout'].update(height=600)\n",
    "fig.update_traces(marker={'size': 30})\n",
    "fig_widget = go.FigureWidget(fig)\n",
    "fig_widget"
   ]
  },
  {
   "cell_type": "markdown",
   "id": "449bf039-e207-4547-9e5e-b8330c6cb2f7",
   "metadata": {},
   "source": [
    "This graph helps highlight some of the macro-trends at play here.\n",
    "* Southern States snag both the cheapest, and most expensive slots for sales, while also seeing some of the largest and smallest growth numbers.\n",
    "* Western States were all on the highesr end of sale value, with their lowest ranked (Nevada) also being the number one for growth\n",
    "* Northeastern States also trended towards the top of sales, though their sales growth never got quite as high in the rankings.\n",
    "* MidWestern States were predominantely the lower valued sector, though frowth was still well dispersed."
   ]
  },
  {
   "cell_type": "code",
   "execution_count": 25,
   "id": "479f906f-dc9a-4394-a768-31f4f94ff5b1",
   "metadata": {
    "jupyter": {
     "source_hidden": true
    }
   },
   "outputs": [
    {
     "data": {
      "text/html": [
       "<div>\n",
       "<style scoped>\n",
       "    .dataframe tbody tr th:only-of-type {\n",
       "        vertical-align: middle;\n",
       "    }\n",
       "\n",
       "    .dataframe tbody tr th {\n",
       "        vertical-align: top;\n",
       "    }\n",
       "\n",
       "    .dataframe thead th {\n",
       "        text-align: right;\n",
       "    }\n",
       "</style>\n",
       "<table border=\"1\" class=\"dataframe\">\n",
       "  <thead>\n",
       "    <tr style=\"text-align: right;\">\n",
       "      <th></th>\n",
       "      <th>sell_value_2020</th>\n",
       "      <th>rent_value_2020</th>\n",
       "      <th>sale_growth</th>\n",
       "      <th>rent_growth</th>\n",
       "    </tr>\n",
       "    <tr>\n",
       "      <th>Region</th>\n",
       "      <th></th>\n",
       "      <th></th>\n",
       "      <th></th>\n",
       "      <th></th>\n",
       "    </tr>\n",
       "  </thead>\n",
       "  <tbody>\n",
       "    <tr>\n",
       "      <th>Midwestern</th>\n",
       "      <td>103056.083333</td>\n",
       "      <td>884.541667</td>\n",
       "      <td>1.172080</td>\n",
       "      <td>1.111737</td>\n",
       "    </tr>\n",
       "    <tr>\n",
       "      <th>Northeastern</th>\n",
       "      <td>205742.222222</td>\n",
       "      <td>1493.222222</td>\n",
       "      <td>1.148229</td>\n",
       "      <td>1.164021</td>\n",
       "    </tr>\n",
       "    <tr>\n",
       "      <th>Southern</th>\n",
       "      <td>144647.000000</td>\n",
       "      <td>1148.705882</td>\n",
       "      <td>1.154743</td>\n",
       "      <td>1.129414</td>\n",
       "    </tr>\n",
       "    <tr>\n",
       "      <th>Western</th>\n",
       "      <td>235744.923077</td>\n",
       "      <td>1213.615385</td>\n",
       "      <td>1.222027</td>\n",
       "      <td>1.168555</td>\n",
       "    </tr>\n",
       "  </tbody>\n",
       "</table>\n",
       "</div>"
      ],
      "text/plain": [
       "              sell_value_2020  rent_value_2020  sale_growth  rent_growth\n",
       "Region                                                                  \n",
       "Midwestern      103056.083333       884.541667     1.172080     1.111737\n",
       "Northeastern    205742.222222      1493.222222     1.148229     1.164021\n",
       "Southern        144647.000000      1148.705882     1.154743     1.129414\n",
       "Western         235744.923077      1213.615385     1.222027     1.168555"
      ]
     },
     "execution_count": 25,
     "metadata": {},
     "output_type": "execute_result"
    }
   ],
   "source": [
    "regional_growth = rent_sale_Growth.groupby('Region').mean()\n",
    "regional_growth"
   ]
  },
  {
   "cell_type": "markdown",
   "id": "3d559b1a-a51e-4456-9e0a-ba7503c31a56",
   "metadata": {},
   "source": [
    "Looking at the raw data, I was abloe to see some regional trends\n",
    "* The cheapest homes are located in the midwest, and by a large margin\n",
    "* despite Western State having the highest Sell value, their rent is still 200 dollars lower than Northeastern States\n",
    "* sale growth was most pronounced in Western States "
   ]
  },
  {
   "cell_type": "code",
   "execution_count": 26,
   "id": "dd0288ae-9f62-4582-be68-22a349226735",
   "metadata": {
    "jupyter": {
     "source_hidden": true
    }
   },
   "outputs": [
    {
     "data": {
      "text/html": [
       "<div>\n",
       "<style scoped>\n",
       "    .dataframe tbody tr th:only-of-type {\n",
       "        vertical-align: middle;\n",
       "    }\n",
       "\n",
       "    .dataframe tbody tr th {\n",
       "        vertical-align: top;\n",
       "    }\n",
       "\n",
       "    .dataframe thead th {\n",
       "        text-align: right;\n",
       "    }\n",
       "</style>\n",
       "<table border=\"1\" class=\"dataframe\">\n",
       "  <thead>\n",
       "    <tr style=\"text-align: right;\">\n",
       "      <th></th>\n",
       "      <th>sell_value_2020</th>\n",
       "      <th>rent_value_2020</th>\n",
       "      <th>sale_growth</th>\n",
       "      <th>rent_growth</th>\n",
       "    </tr>\n",
       "    <tr>\n",
       "      <th>Region</th>\n",
       "      <th></th>\n",
       "      <th></th>\n",
       "      <th></th>\n",
       "      <th></th>\n",
       "    </tr>\n",
       "  </thead>\n",
       "  <tbody>\n",
       "    <tr>\n",
       "      <th>Midwestern</th>\n",
       "      <td>12.916667</td>\n",
       "      <td>15.791667</td>\n",
       "      <td>26.916667</td>\n",
       "      <td>23.583333</td>\n",
       "    </tr>\n",
       "    <tr>\n",
       "      <th>Northeastern</th>\n",
       "      <td>33.666667</td>\n",
       "      <td>37.666667</td>\n",
       "      <td>21.333333</td>\n",
       "      <td>30.222222</td>\n",
       "    </tr>\n",
       "    <tr>\n",
       "      <th>Southern</th>\n",
       "      <td>21.823529</td>\n",
       "      <td>25.529412</td>\n",
       "      <td>23.647059</td>\n",
       "      <td>24.941176</td>\n",
       "    </tr>\n",
       "    <tr>\n",
       "      <th>Western</th>\n",
       "      <td>38.230769</td>\n",
       "      <td>27.961538</td>\n",
       "      <td>31.461538</td>\n",
       "      <td>26.692308</td>\n",
       "    </tr>\n",
       "  </tbody>\n",
       "</table>\n",
       "</div>"
      ],
      "text/plain": [
       "              sell_value_2020  rent_value_2020  sale_growth  rent_growth\n",
       "Region                                                                  \n",
       "Midwestern          12.916667        15.791667    26.916667    23.583333\n",
       "Northeastern        33.666667        37.666667    21.333333    30.222222\n",
       "Southern            21.823529        25.529412    23.647059    24.941176\n",
       "Western             38.230769        27.961538    31.461538    26.692308"
      ]
     },
     "execution_count": 26,
     "metadata": {},
     "output_type": "execute_result"
    }
   ],
   "source": [
    "rent_sale_Growth_rank.groupby('Region').mean()"
   ]
  },
  {
   "cell_type": "markdown",
   "id": "421c39b8-70b1-4999-9f20-490b29cc7835",
   "metadata": {},
   "source": [
    "To verify what I was seeing in the above chart and my ranked graph, I used a state-ranked, and then region-grouped chart to see the mean rank in each of the 4 regions. \n",
    "* Sales: Top Sell value was Western, Cheapest was Midwestern.\n",
    "* Rent:  Top Rent was Northeastern, Cheapest was Midwestern.\n",
    "* Sale Growth: Top growth was Western, Lowest Growth was Northeastern\n",
    "* Rent Growth: Top growth was Northeastern, Lowest was Midwestern.\n"
   ]
  },
  {
   "cell_type": "code",
   "execution_count": 27,
   "id": "350116aa-460e-431b-85ef-a20e48e2982d",
   "metadata": {
    "jupyter": {
     "source_hidden": true
    }
   },
   "outputs": [],
   "source": [
    "location_growth.columns = ['State', 'sell_time_change', 'pop_growth', 'sell_z', 'pop_growth_z']\n",
    "location_growth = tfd.add_state_region(location_growth, 'State')"
   ]
  },
  {
   "cell_type": "markdown",
   "id": "939f9c33-2a93-40af-af91-c24352da79ed",
   "metadata": {},
   "source": [
    "Location growth, to be clear, tracks the population change in an area, as well as the rapidity of the housing market. Lower time on market should indicate more interest in an area "
   ]
  },
  {
   "cell_type": "code",
   "execution_count": 28,
   "id": "46497028-9ce1-4673-9070-bcc3607b0038",
   "metadata": {
    "jupyter": {
     "source_hidden": true
    }
   },
   "outputs": [
    {
     "data": {
      "text/html": [
       "<div>\n",
       "<style scoped>\n",
       "    .dataframe tbody tr th:only-of-type {\n",
       "        vertical-align: middle;\n",
       "    }\n",
       "\n",
       "    .dataframe tbody tr th {\n",
       "        vertical-align: top;\n",
       "    }\n",
       "\n",
       "    .dataframe thead th {\n",
       "        text-align: right;\n",
       "    }\n",
       "</style>\n",
       "<table border=\"1\" class=\"dataframe\">\n",
       "  <thead>\n",
       "    <tr style=\"text-align: right;\">\n",
       "      <th></th>\n",
       "      <th>sell_time_change</th>\n",
       "      <th>pop_growth</th>\n",
       "      <th>sell_z</th>\n",
       "      <th>pop_growth_z</th>\n",
       "    </tr>\n",
       "  </thead>\n",
       "  <tbody>\n",
       "    <tr>\n",
       "      <th>sell_time_change</th>\n",
       "      <td>1.000000</td>\n",
       "      <td>0.101559</td>\n",
       "      <td>1.000000</td>\n",
       "      <td>0.101559</td>\n",
       "    </tr>\n",
       "    <tr>\n",
       "      <th>pop_growth</th>\n",
       "      <td>0.101559</td>\n",
       "      <td>1.000000</td>\n",
       "      <td>0.101559</td>\n",
       "      <td>1.000000</td>\n",
       "    </tr>\n",
       "    <tr>\n",
       "      <th>sell_z</th>\n",
       "      <td>1.000000</td>\n",
       "      <td>0.101559</td>\n",
       "      <td>1.000000</td>\n",
       "      <td>0.101559</td>\n",
       "    </tr>\n",
       "    <tr>\n",
       "      <th>pop_growth_z</th>\n",
       "      <td>0.101559</td>\n",
       "      <td>1.000000</td>\n",
       "      <td>0.101559</td>\n",
       "      <td>1.000000</td>\n",
       "    </tr>\n",
       "  </tbody>\n",
       "</table>\n",
       "</div>"
      ],
      "text/plain": [
       "                  sell_time_change  pop_growth    sell_z  pop_growth_z\n",
       "sell_time_change          1.000000    0.101559  1.000000      0.101559\n",
       "pop_growth                0.101559    1.000000  0.101559      1.000000\n",
       "sell_z                    1.000000    0.101559  1.000000      0.101559\n",
       "pop_growth_z              0.101559    1.000000  0.101559      1.000000"
      ]
     },
     "execution_count": 28,
     "metadata": {},
     "output_type": "execute_result"
    }
   ],
   "source": [
    "location_growth.corr()"
   ]
  },
  {
   "cell_type": "markdown",
   "id": "59e15a7a-f905-4233-9a7d-040b44b6ac73",
   "metadata": {},
   "source": [
    "Similar to sell/rent values, there is not much correlation (10%) between sell time and pop growth"
   ]
  },
  {
   "cell_type": "code",
   "execution_count": 29,
   "id": "ace55ccf-3afb-4951-89a6-29f93fba32de",
   "metadata": {
    "jupyter": {
     "source_hidden": true
    }
   },
   "outputs": [
    {
     "data": {
      "application/vnd.jupyter.widget-view+json": {
       "model_id": "79a4d560ad4a47159a3b547049d3910a",
       "version_major": 2,
       "version_minor": 0
      },
      "text/plain": [
       "FigureWidget({\n",
       "    'data': [{'customdata': array([[0.9404761904761904, 1.0008489347047242, 'California'],\n",
       "    …"
      ]
     },
     "metadata": {},
     "output_type": "display_data"
    }
   ],
   "source": [
    "fig = px.scatter(location_growth.rank(), x = 'sell_time_change',\n",
    "                 y='pop_growth',\n",
    "                 color =rent_sale_Growth['Region'],\n",
    "                 title = 'Ranked Pop Growth and Sell Times',\n",
    "                 trendline = 'ols',\n",
    "                 hover_data = {'sell time raw': location_growth['sell_time_change'], 'pop growth raw': location_growth['pop_growth'],'state': location_growth['State']}\n",
    "            )\n",
    "fig['layout'].update(height=600)\n",
    "fig.update_traces(marker={'size': 30})\n",
    "fig_widget = go.FigureWidget(fig)\n",
    "fig_widget"
   ]
  },
  {
   "cell_type": "code",
   "execution_count": 30,
   "id": "95baf696-ba6f-40df-b55f-41feb7284970",
   "metadata": {
    "jupyter": {
     "source_hidden": true
    }
   },
   "outputs": [],
   "source": [
    "location_growth = location_growth.set_index('State')\n",
    "location_growth_rank = location_growth.rank(numeric_only=True).reset_index() ### Region wasn't returning right\n",
    "location_growth_rank = tfd.add_state_region(location_growth_rank, 'State')"
   ]
  },
  {
   "cell_type": "code",
   "execution_count": 31,
   "id": "9b39cf45-55a4-4434-89ea-5d21caa85e09",
   "metadata": {
    "jupyter": {
     "source_hidden": true
    }
   },
   "outputs": [
    {
     "data": {
      "text/html": [
       "<div>\n",
       "<style scoped>\n",
       "    .dataframe tbody tr th:only-of-type {\n",
       "        vertical-align: middle;\n",
       "    }\n",
       "\n",
       "    .dataframe tbody tr th {\n",
       "        vertical-align: top;\n",
       "    }\n",
       "\n",
       "    .dataframe thead th {\n",
       "        text-align: right;\n",
       "    }\n",
       "</style>\n",
       "<table border=\"1\" class=\"dataframe\">\n",
       "  <thead>\n",
       "    <tr style=\"text-align: right;\">\n",
       "      <th></th>\n",
       "      <th>sell_time_change</th>\n",
       "      <th>pop_growth</th>\n",
       "      <th>sell_z</th>\n",
       "      <th>pop_growth_z</th>\n",
       "    </tr>\n",
       "    <tr>\n",
       "      <th>Region</th>\n",
       "      <th></th>\n",
       "      <th></th>\n",
       "      <th></th>\n",
       "      <th></th>\n",
       "    </tr>\n",
       "  </thead>\n",
       "  <tbody>\n",
       "    <tr>\n",
       "      <th>Midwestern</th>\n",
       "      <td>30.041667</td>\n",
       "      <td>22.500000</td>\n",
       "      <td>30.041667</td>\n",
       "      <td>22.500000</td>\n",
       "    </tr>\n",
       "    <tr>\n",
       "      <th>Northeastern</th>\n",
       "      <td>17.444444</td>\n",
       "      <td>14.888889</td>\n",
       "      <td>17.444444</td>\n",
       "      <td>14.888889</td>\n",
       "    </tr>\n",
       "    <tr>\n",
       "      <th>Southern</th>\n",
       "      <td>21.882353</td>\n",
       "      <td>29.411765</td>\n",
       "      <td>21.882353</td>\n",
       "      <td>29.411765</td>\n",
       "    </tr>\n",
       "    <tr>\n",
       "      <th>Western</th>\n",
       "      <td>33.576923</td>\n",
       "      <td>32.461538</td>\n",
       "      <td>33.576923</td>\n",
       "      <td>32.461538</td>\n",
       "    </tr>\n",
       "  </tbody>\n",
       "</table>\n",
       "</div>"
      ],
      "text/plain": [
       "              sell_time_change  pop_growth     sell_z  pop_growth_z\n",
       "Region                                                             \n",
       "Midwestern           30.041667   22.500000  30.041667     22.500000\n",
       "Northeastern         17.444444   14.888889  17.444444     14.888889\n",
       "Southern             21.882353   29.411765  21.882353     29.411765\n",
       "Western              33.576923   32.461538  33.576923     32.461538"
      ]
     },
     "execution_count": 31,
     "metadata": {},
     "output_type": "execute_result"
    }
   ],
   "source": [
    "location_growth_rank.groupby('Region').mean()"
   ]
  },
  {
   "cell_type": "markdown",
   "id": "a1e45ad0-9938-43b7-9e4c-c2ea2850eb5f",
   "metadata": {},
   "source": [
    "Compared to rent and house sales :\n",
    "* Southern States are once again all over the board.\n",
    "* Western States saw the highest ranked sell time uptick, and population growth\n",
    "* Northeastern States saw the lowest population growth, and a wide spread of sell_time changes\n",
    "* MidWestern States were relatively middle of the pack for both population growth and sell time"
   ]
  },
  {
   "cell_type": "code",
   "execution_count": 32,
   "id": "2b1874ef-1064-4106-b87f-e2dec8dd49e7",
   "metadata": {
    "jupyter": {
     "source_hidden": true
    }
   },
   "outputs": [],
   "source": [
    "location_growth_rank = location_growth_rank[['State', 'sell_time_change', 'pop_growth',\n",
    "       'Region']]\n",
    "rent_sale_Growth_rank = rent_sale_Growth_rank[['State', 'sell_value_2020', 'rent_value_2020', 'sale_growth',\n",
    "       'rent_growth']]\n",
    "merg_rank_df = location_growth_rank.merge(rent_sale_Growth_rank, on='State')"
   ]
  },
  {
   "cell_type": "code",
   "execution_count": 33,
   "id": "102fd4a3-6c13-4cf2-b540-d712a242c19d",
   "metadata": {
    "jupyter": {
     "source_hidden": true
    }
   },
   "outputs": [
    {
     "data": {
      "text/html": [
       "<div>\n",
       "<style scoped>\n",
       "    .dataframe tbody tr th:only-of-type {\n",
       "        vertical-align: middle;\n",
       "    }\n",
       "\n",
       "    .dataframe tbody tr th {\n",
       "        vertical-align: top;\n",
       "    }\n",
       "\n",
       "    .dataframe thead th {\n",
       "        text-align: right;\n",
       "    }\n",
       "</style>\n",
       "<table border=\"1\" class=\"dataframe\">\n",
       "  <thead>\n",
       "    <tr style=\"text-align: right;\">\n",
       "      <th></th>\n",
       "      <th>sell_time_change</th>\n",
       "      <th>pop_growth</th>\n",
       "      <th>sell_value_2020</th>\n",
       "      <th>rent_value_2020</th>\n",
       "      <th>sale_growth</th>\n",
       "      <th>rent_growth</th>\n",
       "    </tr>\n",
       "  </thead>\n",
       "  <tbody>\n",
       "    <tr>\n",
       "      <th>sell_time_change</th>\n",
       "      <td>1.000000</td>\n",
       "      <td>0.045251</td>\n",
       "      <td>0.209693</td>\n",
       "      <td>0.084614</td>\n",
       "      <td>-0.190416</td>\n",
       "      <td>-0.338975</td>\n",
       "    </tr>\n",
       "    <tr>\n",
       "      <th>pop_growth</th>\n",
       "      <td>0.045251</td>\n",
       "      <td>1.000000</td>\n",
       "      <td>0.130588</td>\n",
       "      <td>0.028784</td>\n",
       "      <td>0.556742</td>\n",
       "      <td>0.308145</td>\n",
       "    </tr>\n",
       "    <tr>\n",
       "      <th>sell_value_2020</th>\n",
       "      <td>0.209693</td>\n",
       "      <td>0.130588</td>\n",
       "      <td>1.000000</td>\n",
       "      <td>0.737209</td>\n",
       "      <td>-0.047602</td>\n",
       "      <td>-0.127964</td>\n",
       "    </tr>\n",
       "    <tr>\n",
       "      <th>rent_value_2020</th>\n",
       "      <td>0.084614</td>\n",
       "      <td>0.028784</td>\n",
       "      <td>0.737209</td>\n",
       "      <td>1.000000</td>\n",
       "      <td>-0.052680</td>\n",
       "      <td>-0.030775</td>\n",
       "    </tr>\n",
       "    <tr>\n",
       "      <th>sale_growth</th>\n",
       "      <td>-0.190416</td>\n",
       "      <td>0.556742</td>\n",
       "      <td>-0.047602</td>\n",
       "      <td>-0.052680</td>\n",
       "      <td>1.000000</td>\n",
       "      <td>0.538552</td>\n",
       "    </tr>\n",
       "    <tr>\n",
       "      <th>rent_growth</th>\n",
       "      <td>-0.338975</td>\n",
       "      <td>0.308145</td>\n",
       "      <td>-0.127964</td>\n",
       "      <td>-0.030775</td>\n",
       "      <td>0.538552</td>\n",
       "      <td>1.000000</td>\n",
       "    </tr>\n",
       "  </tbody>\n",
       "</table>\n",
       "</div>"
      ],
      "text/plain": [
       "                  sell_time_change  pop_growth  sell_value_2020  \\\n",
       "sell_time_change          1.000000    0.045251         0.209693   \n",
       "pop_growth                0.045251    1.000000         0.130588   \n",
       "sell_value_2020           0.209693    0.130588         1.000000   \n",
       "rent_value_2020           0.084614    0.028784         0.737209   \n",
       "sale_growth              -0.190416    0.556742        -0.047602   \n",
       "rent_growth              -0.338975    0.308145        -0.127964   \n",
       "\n",
       "                  rent_value_2020  sale_growth  rent_growth  \n",
       "sell_time_change         0.084614    -0.190416    -0.338975  \n",
       "pop_growth               0.028784     0.556742     0.308145  \n",
       "sell_value_2020          0.737209    -0.047602    -0.127964  \n",
       "rent_value_2020          1.000000    -0.052680    -0.030775  \n",
       "sale_growth             -0.052680     1.000000     0.538552  \n",
       "rent_growth             -0.030775     0.538552     1.000000  "
      ]
     },
     "execution_count": 33,
     "metadata": {},
     "output_type": "execute_result"
    }
   ],
   "source": [
    "merg_rank_df.corr()"
   ]
  },
  {
   "cell_type": "code",
   "execution_count": 34,
   "id": "6406c82b-3b65-44f2-9deb-5897bd52e1e9",
   "metadata": {
    "jupyter": {
     "source_hidden": true
    }
   },
   "outputs": [
    {
     "data": {
      "application/vnd.jupyter.widget-view+json": {
       "model_id": "c3872fb6e51d44d5b8f0325710027036",
       "version_major": 2,
       "version_minor": 0
      },
      "text/plain": [
       "FigureWidget({\n",
       "    'data': [{'customdata': array([[41.0, 14.0, 'California'],\n",
       "                                …"
      ]
     },
     "metadata": {},
     "output_type": "display_data"
    }
   ],
   "source": [
    "fig = px.scatter(merg_rank_df.rank(), x = 'sale_growth',\n",
    "                 y='pop_growth',\n",
    "                 color =rent_sale_Growth['Region'],\n",
    "                 title = 'Ranked Pop Growth and Sell Times',\n",
    "                 trendline = 'ols',\n",
    "                 hover_data = {'sell time raw': merg_rank_df['sell_time_change'], 'pop growth raw': merg_rank_df['pop_growth'],'state': merg_rank_df['State']}\n",
    "            )\n",
    "fig['layout'].update(height=600)\n",
    "fig.update_traces(marker={'size': 30})\n",
    "fig_widget = go.FigureWidget(fig)\n",
    "fig_widget"
   ]
  },
  {
   "cell_type": "markdown",
   "id": "430a7c39-dffa-4f6b-a9ef-f961090306d8",
   "metadata": {},
   "source": [
    "pronounced population growth was correlated with:\n",
    "* a minimal possitive impact on sale time\n",
    "* a 13% correlation with sell value\n",
    "* a minimal impact on rent value\n",
    "* a 55% correlation to sale growth (price of houses jumped drastically)\n",
    "* a 30% correaltion to rent growth\n",
    "\n",
    "To answer my hot selling market question (2.3) (Does the price of homes/rent severely impact peoples willingness to move there):\n",
    "* Sell value was not a deciding factor on whether population increased in an area, however the areas that did see a population boom also saw a measured increase in rent and house costs; Houses did not sell remarkably faster, though, because of the population growth. \n",
    "\n",
    "In conclusion, based on 2017 vs 2020 the time to sell hardly altered, but the more populated a city became, the more sellers were able to charge the population influx.\n",
    "\n",
    "This lines up with **Supply and Demand**. In areas of rapid growth, as population began to see an uptick, there was more competition (demand) for houses (the limited supply)."
   ]
  },
  {
   "cell_type": "markdown",
   "id": "daa6ae77-5594-4254-a57a-fd2ab4772ee2",
   "metadata": {},
   "source": [
    "##### Results"
   ]
  },
  {
   "cell_type": "markdown",
   "id": "af8ec430-50bb-41e5-9f28-a44a08276225",
   "metadata": {},
   "source": [
    "In conclusion\n",
    "* Areas of lower population, with high potential growth make for good investments, areas that are already well populated/plateaued will likely not see a drastic increase in sales value (13% correlation), but the houses there will still sell at roughly the same speed (10% correlation).\n",
    "* The cheapest place to live regionally is the midwest, hands down, however, on a state level the data is much more obtuse."
   ]
  },
  {
   "cell_type": "markdown",
   "id": "64bd51e6-4abb-4aed-9115-0d0bc05d3070",
   "metadata": {},
   "source": [
    "#### Question 3: \n",
    "On a regional Level, does the data provided by aggregating states indicate the best starting point to choose a long-term living location.furthermore Do any states offer a respectable trinity of Affordability, Opportunity, and Education."
   ]
  },
  {
   "cell_type": "markdown",
   "id": "b3c4c190-9411-4be2-9000-8ea4c3b401eb",
   "metadata": {},
   "source": [
    "For this section, I am going to create a table, merged from many other tables, to help visually pair information about each degree category, job category, as well as state (and region). I will then divide that one table into 3 more informative ones which I will sum z-scores to programatically to address my hypothesis with the 3 overarching themes:\n",
    "* Education: How much weight does any particular degree lend to securing a good salary, regardless of location\n",
    "* Salary: Whether the worker is able to get a remote position or not does a degree have a statistically significant likelihood of a good average salary.\n",
    "* Affordable Location: Which Areas are Affordable, or said another way, offer salaries to offset the rent; additionally, which areas are likely to appreciate in value significantly over time. \n"
   ]
  },
  {
   "cell_type": "markdown",
   "id": "35ada7fa-8721-489c-884c-e72bb40ec809",
   "metadata": {},
   "source": [
    "#### Education"
   ]
  },
  {
   "cell_type": "markdown",
   "id": "6f168308-310a-44f0-8f71-b7936618bd00",
   "metadata": {},
   "source": [
    "Datasets and topical metrics\n",
    "* education_deg_to_job [category, count]\n",
    "* salary_glassdoor_df [category, satisfaction]\n",
    "* education_industry_counts [category, count]\n",
    "* location_state_age_deg [ field, value]\n"
   ]
  },
  {
   "cell_type": "code",
   "execution_count": 35,
   "id": "b0176d12-17ef-413f-9998-aed4ab97c8bc",
   "metadata": {
    "jupyter": {
     "source_hidden": true
    }
   },
   "outputs": [],
   "source": [
    "edu_cat_ct = education_deg_to_job.groupby('category')['count'].sum().reset_index()\n",
    "edu_cat_ct = tfd.append_zscores(edu_cat_ct, 'count', 'd2j_score')\n",
    "    "
   ]
  },
  {
   "cell_type": "code",
   "execution_count": 36,
   "id": "b41d90dd-3fc4-4089-a8e7-b5e2914aef65",
   "metadata": {
    "jupyter": {
     "source_hidden": true
    }
   },
   "outputs": [
    {
     "data": {
      "text/html": [
       "<div>\n",
       "<style scoped>\n",
       "    .dataframe tbody tr th:only-of-type {\n",
       "        vertical-align: middle;\n",
       "    }\n",
       "\n",
       "    .dataframe tbody tr th {\n",
       "        vertical-align: top;\n",
       "    }\n",
       "\n",
       "    .dataframe thead th {\n",
       "        text-align: right;\n",
       "    }\n",
       "</style>\n",
       "<table border=\"1\" class=\"dataframe\">\n",
       "  <thead>\n",
       "    <tr style=\"text-align: right;\">\n",
       "      <th></th>\n",
       "      <th>category</th>\n",
       "      <th>count</th>\n",
       "      <th>d2j_score</th>\n",
       "    </tr>\n",
       "  </thead>\n",
       "  <tbody>\n",
       "    <tr>\n",
       "      <th>0</th>\n",
       "      <td>Arts, Humanities and Others</td>\n",
       "      <td>6837695.0</td>\n",
       "      <td>-0.102979</td>\n",
       "    </tr>\n",
       "    <tr>\n",
       "      <th>1</th>\n",
       "      <td>Business</td>\n",
       "      <td>8143799.0</td>\n",
       "      <td>0.307016</td>\n",
       "    </tr>\n",
       "    <tr>\n",
       "      <th>2</th>\n",
       "      <td>Education</td>\n",
       "      <td>3457434.0</td>\n",
       "      <td>-1.164068</td>\n",
       "    </tr>\n",
       "    <tr>\n",
       "      <th>3</th>\n",
       "      <td>Sci_Eng_Related</td>\n",
       "      <td>5446758.0</td>\n",
       "      <td>-0.539605</td>\n",
       "    </tr>\n",
       "    <tr>\n",
       "      <th>4</th>\n",
       "      <td>Science and Engineering</td>\n",
       "      <td>11943074.0</td>\n",
       "      <td>1.499636</td>\n",
       "    </tr>\n",
       "  </tbody>\n",
       "</table>\n",
       "</div>"
      ],
      "text/plain": [
       "                      category       count  d2j_score\n",
       "0  Arts, Humanities and Others   6837695.0  -0.102979\n",
       "1                     Business   8143799.0   0.307016\n",
       "2                    Education   3457434.0  -1.164068\n",
       "3              Sci_Eng_Related   5446758.0  -0.539605\n",
       "4      Science and Engineering  11943074.0   1.499636"
      ]
     },
     "execution_count": 36,
     "metadata": {},
     "output_type": "execute_result"
    }
   ],
   "source": [
    "edu_cat_ct"
   ]
  },
  {
   "cell_type": "code",
   "execution_count": 37,
   "id": "cb53960b-408f-4e00-a537-edb3cb62e5b9",
   "metadata": {
    "jupyter": {
     "source_hidden": true
    }
   },
   "outputs": [],
   "source": [
    "edu_gd_sat = salary_glassdoor_df.groupby('category')['satisfaction'].mean().reset_index()\n",
    "edu_gd_sat = tfd.append_zscores(edu_gd_sat, 'satisfaction', 'sat_score')"
   ]
  },
  {
   "cell_type": "code",
   "execution_count": 38,
   "id": "428ac4c3-701b-4d98-aeac-5a19812b4135",
   "metadata": {
    "jupyter": {
     "source_hidden": true
    }
   },
   "outputs": [
    {
     "data": {
      "text/html": [
       "<div>\n",
       "<style scoped>\n",
       "    .dataframe tbody tr th:only-of-type {\n",
       "        vertical-align: middle;\n",
       "    }\n",
       "\n",
       "    .dataframe tbody tr th {\n",
       "        vertical-align: top;\n",
       "    }\n",
       "\n",
       "    .dataframe thead th {\n",
       "        text-align: right;\n",
       "    }\n",
       "</style>\n",
       "<table border=\"1\" class=\"dataframe\">\n",
       "  <thead>\n",
       "    <tr style=\"text-align: right;\">\n",
       "      <th></th>\n",
       "      <th>category</th>\n",
       "      <th>satisfaction</th>\n",
       "      <th>sat_score</th>\n",
       "    </tr>\n",
       "  </thead>\n",
       "  <tbody>\n",
       "    <tr>\n",
       "      <th>0</th>\n",
       "      <td>Arts, Humanities and Others</td>\n",
       "      <td>3.933333</td>\n",
       "      <td>1.296194</td>\n",
       "    </tr>\n",
       "    <tr>\n",
       "      <th>1</th>\n",
       "      <td>Business</td>\n",
       "      <td>3.889655</td>\n",
       "      <td>0.720981</td>\n",
       "    </tr>\n",
       "    <tr>\n",
       "      <th>2</th>\n",
       "      <td>Education</td>\n",
       "      <td>3.800000</td>\n",
       "      <td>-0.459719</td>\n",
       "    </tr>\n",
       "    <tr>\n",
       "      <th>3</th>\n",
       "      <td>Sci_Eng_Related</td>\n",
       "      <td>3.742857</td>\n",
       "      <td>-1.212254</td>\n",
       "    </tr>\n",
       "    <tr>\n",
       "      <th>4</th>\n",
       "      <td>Science and Engineering</td>\n",
       "      <td>3.808696</td>\n",
       "      <td>-0.345203</td>\n",
       "    </tr>\n",
       "  </tbody>\n",
       "</table>\n",
       "</div>"
      ],
      "text/plain": [
       "                      category  satisfaction  sat_score\n",
       "0  Arts, Humanities and Others      3.933333   1.296194\n",
       "1                     Business      3.889655   0.720981\n",
       "2                    Education      3.800000  -0.459719\n",
       "3              Sci_Eng_Related      3.742857  -1.212254\n",
       "4      Science and Engineering      3.808696  -0.345203"
      ]
     },
     "execution_count": 38,
     "metadata": {},
     "output_type": "execute_result"
    }
   ],
   "source": [
    "edu_gd_sat"
   ]
  },
  {
   "cell_type": "code",
   "execution_count": 39,
   "id": "bd426984-1c7d-46ef-85a5-b31e3e26fb3e",
   "metadata": {
    "jupyter": {
     "source_hidden": true
    }
   },
   "outputs": [],
   "source": [
    "edu_ind_ct = education_industry_counts.groupby('category').sum().reset_index()\n",
    "edu_ind_ct = tfd.append_zscores(edu_ind_ct, 'Count', 'indus_score')"
   ]
  },
  {
   "cell_type": "code",
   "execution_count": 40,
   "id": "e67e44d9-8cf1-43cf-b0bb-f21524653133",
   "metadata": {
    "jupyter": {
     "source_hidden": true
    }
   },
   "outputs": [
    {
     "data": {
      "text/html": [
       "<div>\n",
       "<style scoped>\n",
       "    .dataframe tbody tr th:only-of-type {\n",
       "        vertical-align: middle;\n",
       "    }\n",
       "\n",
       "    .dataframe tbody tr th {\n",
       "        vertical-align: top;\n",
       "    }\n",
       "\n",
       "    .dataframe thead th {\n",
       "        text-align: right;\n",
       "    }\n",
       "</style>\n",
       "<table border=\"1\" class=\"dataframe\">\n",
       "  <thead>\n",
       "    <tr style=\"text-align: right;\">\n",
       "      <th></th>\n",
       "      <th>category</th>\n",
       "      <th>Count</th>\n",
       "      <th>indus_score</th>\n",
       "    </tr>\n",
       "  </thead>\n",
       "  <tbody>\n",
       "    <tr>\n",
       "      <th>0</th>\n",
       "      <td>Arts, Humanities and Others</td>\n",
       "      <td>800980</td>\n",
       "      <td>-0.702682</td>\n",
       "    </tr>\n",
       "    <tr>\n",
       "      <th>1</th>\n",
       "      <td>Business</td>\n",
       "      <td>3876780</td>\n",
       "      <td>1.477511</td>\n",
       "    </tr>\n",
       "    <tr>\n",
       "      <th>2</th>\n",
       "      <td>Education</td>\n",
       "      <td>303751</td>\n",
       "      <td>-1.055128</td>\n",
       "    </tr>\n",
       "    <tr>\n",
       "      <th>3</th>\n",
       "      <td>Sci_Eng_Related</td>\n",
       "      <td>1577977</td>\n",
       "      <td>-0.151929</td>\n",
       "    </tr>\n",
       "    <tr>\n",
       "      <th>4</th>\n",
       "      <td>Science and Engineering</td>\n",
       "      <td>2402102</td>\n",
       "      <td>0.432228</td>\n",
       "    </tr>\n",
       "  </tbody>\n",
       "</table>\n",
       "</div>"
      ],
      "text/plain": [
       "                      category    Count  indus_score\n",
       "0  Arts, Humanities and Others   800980    -0.702682\n",
       "1                     Business  3876780     1.477511\n",
       "2                    Education   303751    -1.055128\n",
       "3              Sci_Eng_Related  1577977    -0.151929\n",
       "4      Science and Engineering  2402102     0.432228"
      ]
     },
     "execution_count": 40,
     "metadata": {},
     "output_type": "execute_result"
    }
   ],
   "source": [
    "edu_ind_ct"
   ]
  },
  {
   "cell_type": "code",
   "execution_count": 41,
   "id": "bb961310-a7d0-491e-8ece-81d4591a1164",
   "metadata": {
    "jupyter": {
     "source_hidden": true
    }
   },
   "outputs": [],
   "source": [
    "edu_field_ct = location_state_age_deg.groupby('Field').sum().reset_index()\n",
    "edu_field_ct = tfd.append_zscores(edu_field_ct, 'value', 'field_score')"
   ]
  },
  {
   "cell_type": "code",
   "execution_count": 42,
   "id": "23134fe3-4bf6-4551-b3b6-4cc640c685e6",
   "metadata": {
    "jupyter": {
     "source_hidden": true
    }
   },
   "outputs": [
    {
     "data": {
      "text/html": [
       "<div>\n",
       "<style scoped>\n",
       "    .dataframe tbody tr th:only-of-type {\n",
       "        vertical-align: middle;\n",
       "    }\n",
       "\n",
       "    .dataframe tbody tr th {\n",
       "        vertical-align: top;\n",
       "    }\n",
       "\n",
       "    .dataframe thead th {\n",
       "        text-align: right;\n",
       "    }\n",
       "</style>\n",
       "<table border=\"1\" class=\"dataframe\">\n",
       "  <thead>\n",
       "    <tr style=\"text-align: right;\">\n",
       "      <th></th>\n",
       "      <th>Field</th>\n",
       "      <th>value</th>\n",
       "      <th>field_score</th>\n",
       "    </tr>\n",
       "  </thead>\n",
       "  <tbody>\n",
       "    <tr>\n",
       "      <th>0</th>\n",
       "      <td>Arts, Humanities and Others</td>\n",
       "      <td>16986990.0</td>\n",
       "      <td>0.274344</td>\n",
       "    </tr>\n",
       "    <tr>\n",
       "      <th>1</th>\n",
       "      <td>Business</td>\n",
       "      <td>15080708.0</td>\n",
       "      <td>0.023715</td>\n",
       "    </tr>\n",
       "    <tr>\n",
       "      <th>2</th>\n",
       "      <td>Education</td>\n",
       "      <td>8749977.0</td>\n",
       "      <td>-0.808619</td>\n",
       "    </tr>\n",
       "    <tr>\n",
       "      <th>3</th>\n",
       "      <td>Sci_Eng_Related</td>\n",
       "      <td>7311745.0</td>\n",
       "      <td>-0.997711</td>\n",
       "    </tr>\n",
       "    <tr>\n",
       "      <th>4</th>\n",
       "      <td>Science and Engineering</td>\n",
       "      <td>26372231.0</td>\n",
       "      <td>1.508271</td>\n",
       "    </tr>\n",
       "  </tbody>\n",
       "</table>\n",
       "</div>"
      ],
      "text/plain": [
       "                         Field       value  field_score\n",
       "0  Arts, Humanities and Others  16986990.0     0.274344\n",
       "1                     Business  15080708.0     0.023715\n",
       "2                    Education   8749977.0    -0.808619\n",
       "3              Sci_Eng_Related   7311745.0    -0.997711\n",
       "4      Science and Engineering  26372231.0     1.508271"
      ]
     },
     "execution_count": 42,
     "metadata": {},
     "output_type": "execute_result"
    }
   ],
   "source": [
    "edu_field_ct"
   ]
  },
  {
   "cell_type": "code",
   "execution_count": 43,
   "id": "e7b9655f-6025-4d9d-98eb-2f1dad73dc8c",
   "metadata": {
    "jupyter": {
     "source_hidden": true
    }
   },
   "outputs": [],
   "source": [
    "grp_df = edu_cat_ct.merge(edu_gd_sat, left_on = 'category', right_on = 'category', how='outer')\n",
    "grp_df = grp_df.merge(edu_ind_ct, left_on = 'category', right_on = 'category', how='outer')\n",
    "grp_df = grp_df.merge(edu_field_ct, left_on = 'category', right_on = 'Field', how='outer')"
   ]
  },
  {
   "cell_type": "code",
   "execution_count": 44,
   "id": "addbc37b-60ae-48a7-8de1-b431076750ae",
   "metadata": {
    "jupyter": {
     "source_hidden": true
    }
   },
   "outputs": [],
   "source": [
    "grp_df = grp_df[['category', 'd2j_score', 'sat_score',  'indus_score', 'field_score']]"
   ]
  },
  {
   "cell_type": "code",
   "execution_count": 45,
   "id": "5afa7ed5-da9f-420a-94f1-fb968bb6a7a3",
   "metadata": {
    "jupyter": {
     "source_hidden": true
    }
   },
   "outputs": [
    {
     "data": {
      "text/html": [
       "<div>\n",
       "<style scoped>\n",
       "    .dataframe tbody tr th:only-of-type {\n",
       "        vertical-align: middle;\n",
       "    }\n",
       "\n",
       "    .dataframe tbody tr th {\n",
       "        vertical-align: top;\n",
       "    }\n",
       "\n",
       "    .dataframe thead th {\n",
       "        text-align: right;\n",
       "    }\n",
       "</style>\n",
       "<table border=\"1\" class=\"dataframe\">\n",
       "  <thead>\n",
       "    <tr style=\"text-align: right;\">\n",
       "      <th></th>\n",
       "      <th>d2j_score</th>\n",
       "      <th>sat_score</th>\n",
       "      <th>indus_score</th>\n",
       "      <th>field_score</th>\n",
       "    </tr>\n",
       "    <tr>\n",
       "      <th>category</th>\n",
       "      <th></th>\n",
       "      <th></th>\n",
       "      <th></th>\n",
       "      <th></th>\n",
       "    </tr>\n",
       "  </thead>\n",
       "  <tbody>\n",
       "    <tr>\n",
       "      <th>Arts, Humanities and Others</th>\n",
       "      <td>-0.102979</td>\n",
       "      <td>1.296194</td>\n",
       "      <td>-0.702682</td>\n",
       "      <td>0.274344</td>\n",
       "    </tr>\n",
       "    <tr>\n",
       "      <th>Business</th>\n",
       "      <td>0.307016</td>\n",
       "      <td>0.720981</td>\n",
       "      <td>1.477511</td>\n",
       "      <td>0.023715</td>\n",
       "    </tr>\n",
       "    <tr>\n",
       "      <th>Education</th>\n",
       "      <td>-1.164068</td>\n",
       "      <td>-0.459719</td>\n",
       "      <td>-1.055128</td>\n",
       "      <td>-0.808619</td>\n",
       "    </tr>\n",
       "    <tr>\n",
       "      <th>Sci_Eng_Related</th>\n",
       "      <td>-0.539605</td>\n",
       "      <td>-1.212254</td>\n",
       "      <td>-0.151929</td>\n",
       "      <td>-0.997711</td>\n",
       "    </tr>\n",
       "    <tr>\n",
       "      <th>Science and Engineering</th>\n",
       "      <td>1.499636</td>\n",
       "      <td>-0.345203</td>\n",
       "      <td>0.432228</td>\n",
       "      <td>1.508271</td>\n",
       "    </tr>\n",
       "  </tbody>\n",
       "</table>\n",
       "</div>"
      ],
      "text/plain": [
       "                             d2j_score  sat_score  indus_score  field_score\n",
       "category                                                                   \n",
       "Arts, Humanities and Others  -0.102979   1.296194    -0.702682     0.274344\n",
       "Business                      0.307016   0.720981     1.477511     0.023715\n",
       "Education                    -1.164068  -0.459719    -1.055128    -0.808619\n",
       "Sci_Eng_Related              -0.539605  -1.212254    -0.151929    -0.997711\n",
       "Science and Engineering       1.499636  -0.345203     0.432228     1.508271"
      ]
     },
     "execution_count": 45,
     "metadata": {},
     "output_type": "execute_result"
    }
   ],
   "source": [
    "grp_df = grp_df.set_index('category')\n",
    "grp_df"
   ]
  },
  {
   "cell_type": "code",
   "execution_count": 46,
   "id": "5a4f920a-2d65-4c6b-a689-1792c8f21c3d",
   "metadata": {
    "jupyter": {
     "source_hidden": true
    }
   },
   "outputs": [
    {
     "data": {
      "application/vnd.jupyter.widget-view+json": {
       "model_id": "446c1aa6c5bd4497a2bca392248a9c69",
       "version_major": 2,
       "version_minor": 0
      },
      "text/plain": [
       "FigureWidget({\n",
       "    'data': [{'alignmentgroup': 'True',\n",
       "              'hovertemplate': 'variable=d2j_score<br>c…"
      ]
     },
     "metadata": {},
     "output_type": "display_data"
    }
   ],
   "source": [
    "fig = px.bar(grp_df, x = grp_df.index,\n",
    "                 y=['d2j_score', 'sat_score', 'indus_score', 'field_score'],\n",
    "                 title = 'Education Scores (z-Score sum)' ,  \n",
    "             barmode='group'\n",
    "            )\n",
    "fig['layout'].update(height=600)\n",
    "fig_widget = go.FigureWidget(fig)\n",
    "fig_widget"
   ]
  },
  {
   "cell_type": "markdown",
   "id": "7f99f3cb-8f05-473a-a1bf-e373161da363",
   "metadata": {},
   "source": [
    "Now, with z-scores, I should be able to sum ratios, and have the result reflect a fair score for each Degree category"
   ]
  },
  {
   "cell_type": "code",
   "execution_count": 47,
   "id": "6ac3932e-daf4-4fc6-96e3-f6540a41f99e",
   "metadata": {
    "jupyter": {
     "source_hidden": true
    }
   },
   "outputs": [],
   "source": [
    "Education_Scores = grp_df.sum(axis=1)"
   ]
  },
  {
   "cell_type": "code",
   "execution_count": 48,
   "id": "a30c6149-cc00-4826-9181-cd0c28cfdb5b",
   "metadata": {
    "jupyter": {
     "source_hidden": true
    }
   },
   "outputs": [
    {
     "data": {
      "text/plain": [
       "category\n",
       "Science and Engineering        3.094932\n",
       "Business                       2.529224\n",
       "Arts, Humanities and Others    0.764877\n",
       "Sci_Eng_Related               -2.901499\n",
       "Education                     -3.487534\n",
       "dtype: float64"
      ]
     },
     "execution_count": 48,
     "metadata": {},
     "output_type": "execute_result"
    }
   ],
   "source": [
    "Education_Scores.sort_values(ascending = False)"
   ]
  },
  {
   "cell_type": "markdown",
   "id": "cc8cfe20-3744-4b4b-b62d-2c6bc61fdcb2",
   "metadata": {},
   "source": [
    "Science and Engineering Degrees (top score) carry over 6 times the weight of Education Degrees (bottom score) based on\n",
    "* Degrees To Job Counts\n",
    "* Satisfaction (Glassdoor)\n",
    "* Categorical Industry Counts\n",
    "* Degrees (count) being offered in the field\n"
   ]
  },
  {
   "cell_type": "markdown",
   "id": "defefa85-00b2-4665-8186-858447ef9158",
   "metadata": {},
   "source": [
    "#### Salary"
   ]
  },
  {
   "cell_type": "code",
   "execution_count": 49,
   "id": "5e9b7362-9a81-47ed-bc1c-a3500f3a9123",
   "metadata": {
    "jupyter": {
     "source_hidden": true
    },
    "tags": []
   },
   "outputs": [
    {
     "data": {
      "text/html": [
       "<div>\n",
       "<style scoped>\n",
       "    .dataframe tbody tr th:only-of-type {\n",
       "        vertical-align: middle;\n",
       "    }\n",
       "\n",
       "    .dataframe tbody tr th {\n",
       "        vertical-align: top;\n",
       "    }\n",
       "\n",
       "    .dataframe thead th {\n",
       "        text-align: right;\n",
       "    }\n",
       "</style>\n",
       "<table border=\"1\" class=\"dataframe\">\n",
       "  <thead>\n",
       "    <tr style=\"text-align: right;\">\n",
       "      <th></th>\n",
       "      <th>category</th>\n",
       "      <th>salary</th>\n",
       "      <th>salary_score</th>\n",
       "    </tr>\n",
       "  </thead>\n",
       "  <tbody>\n",
       "    <tr>\n",
       "      <th>0</th>\n",
       "      <td>Arts, Humanities and Others</td>\n",
       "      <td>87659.333333</td>\n",
       "      <td>0.402144</td>\n",
       "    </tr>\n",
       "    <tr>\n",
       "      <th>1</th>\n",
       "      <td>Business</td>\n",
       "      <td>89505.206897</td>\n",
       "      <td>0.623775</td>\n",
       "    </tr>\n",
       "    <tr>\n",
       "      <th>2</th>\n",
       "      <td>Education</td>\n",
       "      <td>70000.000000</td>\n",
       "      <td>-1.718179</td>\n",
       "    </tr>\n",
       "    <tr>\n",
       "      <th>3</th>\n",
       "      <td>Sci_Eng_Related</td>\n",
       "      <td>84204.761905</td>\n",
       "      <td>-0.012640</td>\n",
       "    </tr>\n",
       "    <tr>\n",
       "      <th>4</th>\n",
       "      <td>Science and Engineering</td>\n",
       "      <td>90180.869565</td>\n",
       "      <td>0.704900</td>\n",
       "    </tr>\n",
       "  </tbody>\n",
       "</table>\n",
       "</div>"
      ],
      "text/plain": [
       "                      category        salary  salary_score\n",
       "0  Arts, Humanities and Others  87659.333333      0.402144\n",
       "1                     Business  89505.206897      0.623775\n",
       "2                    Education  70000.000000     -1.718179\n",
       "3              Sci_Eng_Related  84204.761905     -0.012640\n",
       "4      Science and Engineering  90180.869565      0.704900"
      ]
     },
     "execution_count": 49,
     "metadata": {},
     "output_type": "execute_result"
    }
   ],
   "source": [
    "salary_gd_df = salary_glassdoor_df.groupby('category')['salary'].mean().reset_index()\n",
    "salary_gd_df = tfd.append_zscores(salary_gd_df, 'salary', 'salary_score')\n",
    "salary_gd_df"
   ]
  },
  {
   "cell_type": "code",
   "execution_count": 50,
   "id": "d500c332-14cb-43c0-a41c-c5432c0ba867",
   "metadata": {
    "jupyter": {
     "source_hidden": true
    }
   },
   "outputs": [
    {
     "data": {
      "text/html": [
       "<div>\n",
       "<style scoped>\n",
       "    .dataframe tbody tr th:only-of-type {\n",
       "        vertical-align: middle;\n",
       "    }\n",
       "\n",
       "    .dataframe tbody tr th {\n",
       "        vertical-align: top;\n",
       "    }\n",
       "\n",
       "    .dataframe thead th {\n",
       "        text-align: right;\n",
       "    }\n",
       "</style>\n",
       "<table border=\"1\" class=\"dataframe\">\n",
       "  <thead>\n",
       "    <tr style=\"text-align: right;\">\n",
       "      <th></th>\n",
       "      <th>Category</th>\n",
       "      <th>Starting Median Salary</th>\n",
       "      <th>Mid-Career Median Salary</th>\n",
       "      <th>start_salary</th>\n",
       "      <th>mid_salary</th>\n",
       "    </tr>\n",
       "  </thead>\n",
       "  <tbody>\n",
       "    <tr>\n",
       "      <th>0</th>\n",
       "      <td>Arts, Humanities and Others</td>\n",
       "      <td>35840.000000</td>\n",
       "      <td>58440.000000</td>\n",
       "      <td>-1.040170</td>\n",
       "      <td>-1.152813</td>\n",
       "    </tr>\n",
       "    <tr>\n",
       "      <th>1</th>\n",
       "      <td>Business</td>\n",
       "      <td>43785.714286</td>\n",
       "      <td>79157.142857</td>\n",
       "      <td>0.226152</td>\n",
       "      <td>0.595367</td>\n",
       "    </tr>\n",
       "    <tr>\n",
       "      <th>2</th>\n",
       "      <td>Education</td>\n",
       "      <td>36566.666667</td>\n",
       "      <td>63233.333333</td>\n",
       "      <td>-0.924360</td>\n",
       "      <td>-0.748336</td>\n",
       "    </tr>\n",
       "    <tr>\n",
       "      <th>3</th>\n",
       "      <td>Sci_Eng_Related</td>\n",
       "      <td>44678.571429</td>\n",
       "      <td>71871.428571</td>\n",
       "      <td>0.368448</td>\n",
       "      <td>-0.019425</td>\n",
       "    </tr>\n",
       "    <tr>\n",
       "      <th>4</th>\n",
       "      <td>Science and Engineering</td>\n",
       "      <td>50962.500000</td>\n",
       "      <td>87806.250000</td>\n",
       "      <td>1.369929</td>\n",
       "      <td>1.325207</td>\n",
       "    </tr>\n",
       "  </tbody>\n",
       "</table>\n",
       "</div>"
      ],
      "text/plain": [
       "                      Category  Starting Median Salary  \\\n",
       "0  Arts, Humanities and Others            35840.000000   \n",
       "1                     Business            43785.714286   \n",
       "2                    Education            36566.666667   \n",
       "3              Sci_Eng_Related            44678.571429   \n",
       "4      Science and Engineering            50962.500000   \n",
       "\n",
       "   Mid-Career Median Salary  start_salary  mid_salary  \n",
       "0              58440.000000     -1.040170   -1.152813  \n",
       "1              79157.142857      0.226152    0.595367  \n",
       "2              63233.333333     -0.924360   -0.748336  \n",
       "3              71871.428571      0.368448   -0.019425  \n",
       "4              87806.250000      1.369929    1.325207  "
      ]
     },
     "execution_count": 50,
     "metadata": {},
     "output_type": "execute_result"
    }
   ],
   "source": [
    "edu_deg_pb = education_deg_payback.groupby('Category').mean().reset_index()\n",
    "edu_deg_pb= tfd.append_zscores(edu_deg_pb, 'Starting Median Salary', 'start_salary')\n",
    "edu_deg_pb= tfd.append_zscores(edu_deg_pb, 'Mid-Career Median Salary', 'mid_salary')\n",
    "edu_deg_pb"
   ]
  },
  {
   "cell_type": "code",
   "execution_count": 51,
   "id": "68e9d260-8f7b-4445-a07a-50e6c53d54a5",
   "metadata": {
    "jupyter": {
     "source_hidden": true
    }
   },
   "outputs": [],
   "source": [
    "grp_df = salary_gd_df.merge(edu_deg_pb, left_on='category', right_on='Category')"
   ]
  },
  {
   "cell_type": "code",
   "execution_count": 52,
   "id": "57dbc2de-2082-46c4-8e4e-a963f38e2b83",
   "metadata": {
    "tags": []
   },
   "outputs": [],
   "source": [
    "Salary_Scores = grp_df[['category', 'salary_score', 'start_salary','mid_salary']]\n",
    "Salary_Scores = Salary_Scores.set_index('category').sum(axis=1)\n"
   ]
  },
  {
   "cell_type": "markdown",
   "id": "9c385498-5134-47ba-aaa9-3f816798e680",
   "metadata": {},
   "source": [
    "#### Location"
   ]
  },
  {
   "cell_type": "markdown",
   "id": "2a510f4f-0810-4fcd-9c98-1d6cfaff7b9d",
   "metadata": {},
   "source": [
    "Datasets and topical metrics\n",
    "* location_growth [sell_time_change, pop_growth]\n",
    "* rent_sale_Growth [state, sell_value_2020, rent_value_2020, sale_growth, rent_growth]\n",
    "* salary_demographics [state, hs_degree, debt, rent_gt_25, rent_gt_50, home_equity]\n",
    "* location_state_age_deg [state, value(groupby state)]\n",
    "* location_state_pop [State, year(2020), value]\n",
    "* bachelor_ratio [ state, degree_ratios]"
   ]
  },
  {
   "cell_type": "code",
   "execution_count": 53,
   "id": "85fab820-1e0f-4baf-85b9-72fb74f434b0",
   "metadata": {
    "jupyter": {
     "source_hidden": true
    }
   },
   "outputs": [],
   "source": [
    "location_growth = location_growth[['sell_time_change', 'pop_growth']]\n",
    "location_growth = tfd.append_zscores(location_growth, 'sell_time_change', 'sell_time_score')\n",
    "location_growth = tfd.append_zscores(location_growth, 'pop_growth', 'pop_gr_score')\n",
    "location_growth = location_growth.reset_index()"
   ]
  },
  {
   "cell_type": "code",
   "execution_count": 54,
   "id": "74ff908e-5709-4415-8a9c-a73f204d4685",
   "metadata": {
    "jupyter": {
     "source_hidden": true
    }
   },
   "outputs": [],
   "source": [
    "rent_sale_Growth = rent_sale_Growth[['sell_value_2020', 'rent_value_2020', 'sale_growth', 'rent_growth']]\n",
    "rent_sale_Growth = tfd.append_zscores(rent_sale_Growth, 'sell_value_2020', 'sell_v_score')\n",
    "rent_sale_Growth = tfd.append_zscores(rent_sale_Growth, 'rent_value_2020', 'rent_v_score')\n",
    "rent_sale_Growth = tfd.append_zscores(rent_sale_Growth, 'sale_growth', 'sale_g_score')\n",
    "rent_sale_Growth = tfd.append_zscores(rent_sale_Growth, 'rent_growth', 'rent_g_score')\n",
    "rent_sale_Growth = rent_sale_Growth.reset_index()"
   ]
  },
  {
   "cell_type": "code",
   "execution_count": 55,
   "id": "c9ea1b31-68da-4ac9-bce3-5f13439a2b92",
   "metadata": {
    "jupyter": {
     "source_hidden": true
    },
    "tags": []
   },
   "outputs": [],
   "source": [
    "salary_demographics = salary_demographics[['state', 'hs_degree', 'debt', 'rent_gt_25', 'rent_gt_50', 'home_equity']]\n",
    "\n",
    "salary_demographics['debt'] = 1 - salary_demographics['debt'] #reversing polarity so low debt locations get a higher z-rank\n",
    "salary_demographics['rent_gt_25'] = 1 - salary_demographics['rent_gt_25'] #reversing polarity so areas with rent less than 25% of income  get a higher z-rank\n",
    "salary_demographics['rent_gt_50'] = 1 - salary_demographics['rent_gt_50'] #reversing polarity so areas with rent less than 50% of income get a higher z-rank\n",
    "\n",
    "salary_demographics = tfd.append_zscores(salary_demographics, 'hs_degree', 'highs_score')\n",
    "salary_demographics = tfd.append_zscores(salary_demographics, 'rent_gt_25', 'rent_u25_score')\n",
    "salary_demographics = tfd.append_zscores(salary_demographics, 'rent_gt_50', 'rent_u50_score')\n",
    "salary_demographics = tfd.append_zscores(salary_demographics, 'home_equity', 'h_eq_score')"
   ]
  },
  {
   "cell_type": "code",
   "execution_count": 56,
   "id": "83af1678-a565-4b7e-aa58-aef4147836b4",
   "metadata": {
    "jupyter": {
     "source_hidden": true
    }
   },
   "outputs": [],
   "source": [
    "location_state_age_deg  = location_state_age_deg.groupby('State')['value'].mean().reset_index()\n",
    "location_state_age_deg =  tfd.append_zscores(location_state_age_deg, 'value', 'avg_salary_score')"
   ]
  },
  {
   "cell_type": "code",
   "execution_count": 57,
   "id": "2ca5892b-890d-433b-9d7f-bc8c6e4ef270",
   "metadata": {
    "jupyter": {
     "source_hidden": true
    }
   },
   "outputs": [],
   "source": [
    "location_state_pop = location_state_pop[location_state_pop['Year'] == 2020]\n",
    "location_state_pop =location_state_pop[['State', 'value']]\n",
    "location_state_pop['rev_value'] = max(location_state_pop['value']) - location_state_pop['value'] # reversing polarity so smaller populations are the dominant factor (based on my Location exploration findings)\n",
    "location_state_pop =  tfd.append_zscores(location_state_pop, 'rev_value', 'overpop_score')"
   ]
  },
  {
   "cell_type": "code",
   "execution_count": 58,
   "id": "54bea880-34af-4698-98a3-0a637e69400a",
   "metadata": {
    "jupyter": {
     "source_hidden": true
    }
   },
   "outputs": [],
   "source": [
    "bachelor_ratio= bachelor_ratio[['Arts, Humanities and Others', 'Business', 'Education',\n",
    "       'Sci_Eng_Related', 'Science and Engineering']]"
   ]
  },
  {
   "cell_type": "code",
   "execution_count": 59,
   "id": "846e0f66-1dc3-499b-a02f-600ccfac0eb4",
   "metadata": {
    "jupyter": {
     "source_hidden": true
    }
   },
   "outputs": [],
   "source": [
    "bachelor_ratio = tfd.append_zscores(bachelor_ratio, 'Arts, Humanities and Others', 'AHO_score')\n",
    "bachelor_ratio = tfd.append_zscores(bachelor_ratio, 'Business', 'BUS_score')\n",
    "bachelor_ratio = tfd.append_zscores(bachelor_ratio, 'Education', 'EDU_score')\n",
    "bachelor_ratio = tfd.append_zscores(bachelor_ratio, 'Sci_Eng_Related', 'SER_score')\n",
    "bachelor_ratio = tfd.append_zscores(bachelor_ratio, 'Science and Engineering', 'SCE_score')\n"
   ]
  },
  {
   "cell_type": "code",
   "execution_count": 60,
   "id": "6498cc5b-ea1d-4bb5-ac89-40007663287e",
   "metadata": {
    "jupyter": {
     "source_hidden": true
    }
   },
   "outputs": [
    {
     "data": {
      "text/plain": [
       "category\n",
       "Arts, Humanities and Others    1.125504\n",
       "Business                       1.415005\n",
       "Education                      0.427752\n",
       "Sci_Eng_Related                0.523911\n",
       "Science and Engineering        1.507829\n",
       "dtype: float64"
      ]
     },
     "execution_count": 60,
     "metadata": {},
     "output_type": "execute_result"
    }
   ],
   "source": [
    "norm = np.linalg.norm(Education_Scores)\n",
    "Education_Scores_n = 1 + (Education_Scores/norm)\n",
    "Education_Scores_n\n",
    "#All scores positive, and weights softened\n"
   ]
  },
  {
   "cell_type": "code",
   "execution_count": 61,
   "id": "bf48bd17-a438-40f0-a005-9e110abcc13d",
   "metadata": {
    "jupyter": {
     "source_hidden": true
    }
   },
   "outputs": [
    {
     "data": {
      "text/plain": [
       "category\n",
       "Arts, Humanities and Others    0.664353\n",
       "Business                       1.270883\n",
       "Education                      0.364467\n",
       "Sci_Eng_Related                1.063046\n",
       "Science and Engineering        1.637250\n",
       "dtype: float64"
      ]
     },
     "execution_count": 61,
     "metadata": {},
     "output_type": "execute_result"
    }
   ],
   "source": [
    "norm = np.linalg.norm(Salary_Scores)\n",
    "Salary_Scores_n = 1 + (Salary_Scores/norm)\n",
    "Salary_Scores_n\n",
    "#Ditto for Salary"
   ]
  },
  {
   "cell_type": "code",
   "execution_count": 62,
   "id": "366e3888-88f9-43fa-9cc0-e77feb3be3f8",
   "metadata": {
    "jupyter": {
     "source_hidden": true
    }
   },
   "outputs": [],
   "source": [
    "def weight_degrees(df, bachelor_col, edu_score, sal_score):\n",
    "    norm = np.linalg.norm(df[bachelor_col])\n",
    "    df[bachelor_col] = sal_score + edu_score + (df[bachelor_col]/norm)\n",
    "    ## adding together two normalized weights\n",
    "    return df"
   ]
  },
  {
   "cell_type": "code",
   "execution_count": 63,
   "id": "b64d9b88-6d2d-41e1-8f6d-085873b20c01",
   "metadata": {
    "jupyter": {
     "source_hidden": true
    }
   },
   "outputs": [],
   "source": [
    "\n",
    "bachelor_ratio = weight_degrees(bachelor_ratio, 'AHO_score', Education_Scores_n[0], Salary_Scores_n[0])\n",
    "bachelor_ratio = weight_degrees(bachelor_ratio, 'BUS_score', Education_Scores_n[1], Salary_Scores_n[1])\n",
    "bachelor_ratio = weight_degrees(bachelor_ratio, 'EDU_score', Education_Scores_n[2], Salary_Scores_n[2])\n",
    "bachelor_ratio = weight_degrees(bachelor_ratio, 'SER_score', Education_Scores_n[3], Salary_Scores_n[3])\n",
    "bachelor_ratio = weight_degrees(bachelor_ratio, 'SCE_score', Education_Scores_n[4], Salary_Scores_n[4])\n",
    "\n",
    "bachelor_ratio = bachelor_ratio.reset_index()"
   ]
  },
  {
   "cell_type": "code",
   "execution_count": 64,
   "id": "4bdcb63c-a31d-4b17-a783-27764be73ad0",
   "metadata": {
    "jupyter": {
     "source_hidden": true
    }
   },
   "outputs": [
    {
     "data": {
      "application/vnd.jupyter.widget-view+json": {
       "model_id": "18bc07810412442ab67960e3314a3023",
       "version_major": 2,
       "version_minor": 0
      },
      "text/plain": [
       "FigureWidget({\n",
       "    'data': [{'alignmentgroup': 'True',\n",
       "              'hovertemplate': 'variable=AHO_score<br>S…"
      ]
     },
     "metadata": {},
     "output_type": "display_data"
    }
   ],
   "source": [
    "fig = px.bar(bachelor_ratio, x = 'State',\n",
    "                 y=['AHO_score', 'BUS_score', 'EDU_score', 'SER_score', 'SCE_score'],\n",
    "                 title = 'Degree-Focus Scores (z-Score)',\n",
    "                 barmode='group'\n",
    "            )\n",
    "fig['layout'].update(height=600)\n",
    "fig_widget = go.FigureWidget(fig)\n",
    "fig_widget"
   ]
  },
  {
   "cell_type": "code",
   "execution_count": 65,
   "id": "0458a02e-e092-4932-8fc7-c749c9d0475b",
   "metadata": {
    "jupyter": {
     "source_hidden": true
    }
   },
   "outputs": [],
   "source": [
    "grp_df = location_growth.merge(rent_sale_Growth, on= 'State', how='inner')\n",
    "grp_df = grp_df.merge(salary_demographics ,left_on= 'State', right_on='state', how='inner')\n",
    "grp_df = grp_df.merge(location_state_age_deg ,on= 'State', how='inner')\n",
    "grp_df = grp_df.merge(location_state_pop ,on= 'State', how='inner')\n",
    "grp_df = grp_df.merge(bachelor_ratio ,on= 'State', how='inner')"
   ]
  },
  {
   "cell_type": "code",
   "execution_count": 66,
   "id": "1903388d-d480-475f-9dea-159aadd7e461",
   "metadata": {
    "tags": []
   },
   "outputs": [
    {
     "data": {
      "text/html": [
       "<div>\n",
       "<style scoped>\n",
       "    .dataframe tbody tr th:only-of-type {\n",
       "        vertical-align: middle;\n",
       "    }\n",
       "\n",
       "    .dataframe tbody tr th {\n",
       "        vertical-align: top;\n",
       "    }\n",
       "\n",
       "    .dataframe thead th {\n",
       "        text-align: right;\n",
       "    }\n",
       "</style>\n",
       "<table border=\"1\" class=\"dataframe\">\n",
       "  <thead>\n",
       "    <tr style=\"text-align: right;\">\n",
       "      <th></th>\n",
       "      <th>sell_time_score</th>\n",
       "      <th>pop_gr_score</th>\n",
       "      <th>sell_v_score</th>\n",
       "      <th>rent_v_score</th>\n",
       "      <th>sale_g_score</th>\n",
       "      <th>rent_g_score</th>\n",
       "      <th>highs_score</th>\n",
       "      <th>rent_u25_score</th>\n",
       "      <th>rent_u50_score</th>\n",
       "      <th>h_eq_score</th>\n",
       "      <th>avg_salary_score</th>\n",
       "      <th>overpop_score</th>\n",
       "      <th>AHO_score</th>\n",
       "      <th>BUS_score</th>\n",
       "      <th>EDU_score</th>\n",
       "      <th>SER_score</th>\n",
       "      <th>SCE_score</th>\n",
       "    </tr>\n",
       "    <tr>\n",
       "      <th>State</th>\n",
       "      <th></th>\n",
       "      <th></th>\n",
       "      <th></th>\n",
       "      <th></th>\n",
       "      <th></th>\n",
       "      <th></th>\n",
       "      <th></th>\n",
       "      <th></th>\n",
       "      <th></th>\n",
       "      <th></th>\n",
       "      <th></th>\n",
       "      <th></th>\n",
       "      <th></th>\n",
       "      <th></th>\n",
       "      <th></th>\n",
       "      <th></th>\n",
       "      <th></th>\n",
       "    </tr>\n",
       "  </thead>\n",
       "  <tbody>\n",
       "    <tr>\n",
       "      <th>California</th>\n",
       "      <td>0.547836</td>\n",
       "      <td>-0.630217</td>\n",
       "      <td>2.617332</td>\n",
       "      <td>2.225856</td>\n",
       "      <td>-0.010723</td>\n",
       "      <td>-0.337100</td>\n",
       "      <td>-1.570775</td>\n",
       "      <td>-1.638142</td>\n",
       "      <td>-1.482109</td>\n",
       "      <td>1.006875</td>\n",
       "      <td>4.641140</td>\n",
       "      <td>-4.154968</td>\n",
       "      <td>1.959596</td>\n",
       "      <td>2.632341</td>\n",
       "      <td>0.506130</td>\n",
       "      <td>1.408413</td>\n",
       "      <td>3.376081</td>\n",
       "    </tr>\n",
       "    <tr>\n",
       "      <th>Texas</th>\n",
       "      <td>2.085824</td>\n",
       "      <td>1.240328</td>\n",
       "      <td>-0.567123</td>\n",
       "      <td>0.085856</td>\n",
       "      <td>0.381749</td>\n",
       "      <td>0.065284</td>\n",
       "      <td>-1.767097</td>\n",
       "      <td>0.285358</td>\n",
       "      <td>0.364697</td>\n",
       "      <td>-1.714298</td>\n",
       "      <td>2.513891</td>\n",
       "      <td>-2.773040</td>\n",
       "      <td>1.665336</td>\n",
       "      <td>2.865215</td>\n",
       "      <td>0.725641</td>\n",
       "      <td>1.518837</td>\n",
       "      <td>3.177180</td>\n",
       "    </tr>\n",
       "    <tr>\n",
       "      <th>New York</th>\n",
       "      <td>0.235937</td>\n",
       "      <td>-1.304683</td>\n",
       "      <td>2.196393</td>\n",
       "      <td>2.225856</td>\n",
       "      <td>-0.581351</td>\n",
       "      <td>-1.538014</td>\n",
       "      <td>-0.450317</td>\n",
       "      <td>-0.913737</td>\n",
       "      <td>-1.576520</td>\n",
       "      <td>0.150102</td>\n",
       "      <td>2.158384</td>\n",
       "      <td>-2.119508</td>\n",
       "      <td>2.024919</td>\n",
       "      <td>2.652205</td>\n",
       "      <td>0.674715</td>\n",
       "      <td>1.494744</td>\n",
       "      <td>3.158958</td>\n",
       "    </tr>\n",
       "    <tr>\n",
       "      <th>Florida</th>\n",
       "      <td>0.078055</td>\n",
       "      <td>1.132966</td>\n",
       "      <td>-0.355359</td>\n",
       "      <td>0.559034</td>\n",
       "      <td>-0.202363</td>\n",
       "      <td>-0.872742</td>\n",
       "      <td>-0.211771</td>\n",
       "      <td>-1.657454</td>\n",
       "      <td>-1.461272</td>\n",
       "      <td>0.004593</td>\n",
       "      <td>1.918057</td>\n",
       "      <td>-1.648871</td>\n",
       "      <td>1.662257</td>\n",
       "      <td>2.917033</td>\n",
       "      <td>0.764518</td>\n",
       "      <td>1.620343</td>\n",
       "      <td>3.077573</td>\n",
       "    </tr>\n",
       "    <tr>\n",
       "      <th>Illinois</th>\n",
       "      <td>0.350658</td>\n",
       "      <td>-1.441229</td>\n",
       "      <td>-0.270286</td>\n",
       "      <td>0.549523</td>\n",
       "      <td>-0.791744</td>\n",
       "      <td>-1.287093</td>\n",
       "      <td>-0.166482</td>\n",
       "      <td>-0.153863</td>\n",
       "      <td>-0.496319</td>\n",
       "      <td>0.329944</td>\n",
       "      <td>0.960045</td>\n",
       "      <td>-1.550732</td>\n",
       "      <td>1.820129</td>\n",
       "      <td>2.775345</td>\n",
       "      <td>0.733548</td>\n",
       "      <td>1.554301</td>\n",
       "      <td>3.127817</td>\n",
       "    </tr>\n",
       "    <tr>\n",
       "      <th>Pennsylvania</th>\n",
       "      <td>-0.255404</td>\n",
       "      <td>-0.772056</td>\n",
       "      <td>-0.467194</td>\n",
       "      <td>0.085856</td>\n",
       "      <td>-0.421622</td>\n",
       "      <td>0.835660</td>\n",
       "      <td>0.408666</td>\n",
       "      <td>-0.166077</td>\n",
       "      <td>-0.257531</td>\n",
       "      <td>0.471364</td>\n",
       "      <td>0.848456</td>\n",
       "      <td>-1.080888</td>\n",
       "      <td>1.798058</td>\n",
       "      <td>2.672195</td>\n",
       "      <td>0.799190</td>\n",
       "      <td>1.655846</td>\n",
       "      <td>3.119199</td>\n",
       "    </tr>\n",
       "    <tr>\n",
       "      <th>Ohio</th>\n",
       "      <td>-0.500844</td>\n",
       "      <td>-0.554095</td>\n",
       "      <td>-1.022438</td>\n",
       "      <td>-0.867632</td>\n",
       "      <td>0.713391</td>\n",
       "      <td>0.016097</td>\n",
       "      <td>0.189765</td>\n",
       "      <td>0.134771</td>\n",
       "      <td>-0.155745</td>\n",
       "      <td>0.709359</td>\n",
       "      <td>0.521782</td>\n",
       "      <td>-1.250324</td>\n",
       "      <td>1.719963</td>\n",
       "      <td>2.778127</td>\n",
       "      <td>0.840960</td>\n",
       "      <td>1.709330</td>\n",
       "      <td>3.042149</td>\n",
       "    </tr>\n",
       "    <tr>\n",
       "      <th>Michigan</th>\n",
       "      <td>0.098271</td>\n",
       "      <td>-0.803399</td>\n",
       "      <td>-0.612183</td>\n",
       "      <td>-0.641744</td>\n",
       "      <td>1.306613</td>\n",
       "      <td>0.700704</td>\n",
       "      <td>0.297244</td>\n",
       "      <td>-0.759119</td>\n",
       "      <td>-1.325327</td>\n",
       "      <td>0.250224</td>\n",
       "      <td>0.355310</td>\n",
       "      <td>-0.798994</td>\n",
       "      <td>1.706607</td>\n",
       "      <td>2.769693</td>\n",
       "      <td>0.777251</td>\n",
       "      <td>1.658835</td>\n",
       "      <td>3.124632</td>\n",
       "    </tr>\n",
       "    <tr>\n",
       "      <th>Georgia</th>\n",
       "      <td>-0.240875</td>\n",
       "      <td>0.763958</td>\n",
       "      <td>0.191889</td>\n",
       "      <td>0.478190</td>\n",
       "      <td>0.983843</td>\n",
       "      <td>0.378249</td>\n",
       "      <td>-0.784366</td>\n",
       "      <td>-0.533468</td>\n",
       "      <td>-0.680390</td>\n",
       "      <td>0.062113</td>\n",
       "      <td>0.489735</td>\n",
       "      <td>-0.357894</td>\n",
       "      <td>1.726535</td>\n",
       "      <td>2.887829</td>\n",
       "      <td>0.766128</td>\n",
       "      <td>1.501398</td>\n",
       "      <td>3.100670</td>\n",
       "    </tr>\n",
       "    <tr>\n",
       "      <th>North Carolina</th>\n",
       "      <td>-0.723961</td>\n",
       "      <td>0.998850</td>\n",
       "      <td>-0.434314</td>\n",
       "      <td>0.085856</td>\n",
       "      <td>0.534552</td>\n",
       "      <td>1.015358</td>\n",
       "      <td>-0.500923</td>\n",
       "      <td>-0.084656</td>\n",
       "      <td>-0.066645</td>\n",
       "      <td>0.527738</td>\n",
       "      <td>0.501162</td>\n",
       "      <td>-0.367519</td>\n",
       "      <td>1.820697</td>\n",
       "      <td>2.729494</td>\n",
       "      <td>0.733834</td>\n",
       "      <td>1.560560</td>\n",
       "      <td>3.155091</td>\n",
       "    </tr>\n",
       "    <tr>\n",
       "      <th>New Jersey</th>\n",
       "      <td>-0.405013</td>\n",
       "      <td>-0.727925</td>\n",
       "      <td>0.736100</td>\n",
       "      <td>1.143967</td>\n",
       "      <td>-0.502632</td>\n",
       "      <td>-0.064065</td>\n",
       "      <td>0.219446</td>\n",
       "      <td>-1.028018</td>\n",
       "      <td>-1.173102</td>\n",
       "      <td>0.790812</td>\n",
       "      <td>0.635474</td>\n",
       "      <td>-0.574387</td>\n",
       "      <td>1.723779</td>\n",
       "      <td>2.790124</td>\n",
       "      <td>0.672828</td>\n",
       "      <td>1.456343</td>\n",
       "      <td>3.257444</td>\n",
       "    </tr>\n",
       "    <tr>\n",
       "      <th>Virginia</th>\n",
       "      <td>-0.977006</td>\n",
       "      <td>-0.052448</td>\n",
       "      <td>0.581543</td>\n",
       "      <td>1.072634</td>\n",
       "      <td>-0.607362</td>\n",
       "      <td>-0.022527</td>\n",
       "      <td>0.198802</td>\n",
       "      <td>-0.253210</td>\n",
       "      <td>0.319530</td>\n",
       "      <td>1.181392</td>\n",
       "      <td>0.503425</td>\n",
       "      <td>-0.014262</td>\n",
       "      <td>1.871335</td>\n",
       "      <td>2.638331</td>\n",
       "      <td>0.617060</td>\n",
       "      <td>1.379831</td>\n",
       "      <td>3.343951</td>\n",
       "    </tr>\n",
       "    <tr>\n",
       "      <th>Washington</th>\n",
       "      <td>-0.498724</td>\n",
       "      <td>1.178633</td>\n",
       "      <td>1.673669</td>\n",
       "      <td>1.222434</td>\n",
       "      <td>1.131385</td>\n",
       "      <td>-0.865173</td>\n",
       "      <td>0.616239</td>\n",
       "      <td>-0.378548</td>\n",
       "      <td>0.276191</td>\n",
       "      <td>0.555569</td>\n",
       "      <td>0.288228</td>\n",
       "      <td>-0.042899</td>\n",
       "      <td>1.858000</td>\n",
       "      <td>2.527147</td>\n",
       "      <td>0.638659</td>\n",
       "      <td>1.428025</td>\n",
       "      <td>3.389996</td>\n",
       "    </tr>\n",
       "    <tr>\n",
       "      <th>Massachusetts</th>\n",
       "      <td>0.367505</td>\n",
       "      <td>-0.483692</td>\n",
       "      <td>1.533727</td>\n",
       "      <td>2.463634</td>\n",
       "      <td>-0.207513</td>\n",
       "      <td>-0.122725</td>\n",
       "      <td>0.404898</td>\n",
       "      <td>-0.362779</td>\n",
       "      <td>-0.042202</td>\n",
       "      <td>1.387433</td>\n",
       "      <td>0.419937</td>\n",
       "      <td>-0.267355</td>\n",
       "      <td>1.884073</td>\n",
       "      <td>2.609534</td>\n",
       "      <td>0.593626</td>\n",
       "      <td>1.456214</td>\n",
       "      <td>3.347161</td>\n",
       "    </tr>\n",
       "    <tr>\n",
       "      <th>Indiana</th>\n",
       "      <td>-0.584528</td>\n",
       "      <td>0.073680</td>\n",
       "      <td>-0.993873</td>\n",
       "      <td>-0.877144</td>\n",
       "      <td>0.473437</td>\n",
       "      <td>0.340495</td>\n",
       "      <td>-0.252375</td>\n",
       "      <td>0.359730</td>\n",
       "      <td>0.197036</td>\n",
       "      <td>0.052030</td>\n",
       "      <td>-0.144454</td>\n",
       "      <td>-0.425089</td>\n",
       "      <td>1.744228</td>\n",
       "      <td>2.762102</td>\n",
       "      <td>0.870685</td>\n",
       "      <td>1.747612</td>\n",
       "      <td>3.001108</td>\n",
       "    </tr>\n",
       "    <tr>\n",
       "      <th>Arizona</th>\n",
       "      <td>-0.965098</td>\n",
       "      <td>2.077010</td>\n",
       "      <td>-0.231825</td>\n",
       "      <td>0.064456</td>\n",
       "      <td>1.700403</td>\n",
       "      <td>1.451541</td>\n",
       "      <td>-0.583239</td>\n",
       "      <td>-0.093555</td>\n",
       "      <td>0.095260</td>\n",
       "      <td>-0.115697</td>\n",
       "      <td>0.018256</td>\n",
       "      <td>-0.044933</td>\n",
       "      <td>1.728187</td>\n",
       "      <td>2.758709</td>\n",
       "      <td>0.776723</td>\n",
       "      <td>1.572155</td>\n",
       "      <td>3.150655</td>\n",
       "    </tr>\n",
       "    <tr>\n",
       "      <th>Tennessee</th>\n",
       "      <td>-0.280311</td>\n",
       "      <td>0.599689</td>\n",
       "      <td>0.040915</td>\n",
       "      <td>-0.151921</td>\n",
       "      <td>0.951022</td>\n",
       "      <td>-0.229752</td>\n",
       "      <td>-0.634048</td>\n",
       "      <td>-0.096964</td>\n",
       "      <td>0.052802</td>\n",
       "      <td>-0.558740</td>\n",
       "      <td>-0.065585</td>\n",
       "      <td>0.021729</td>\n",
       "      <td>1.796242</td>\n",
       "      <td>2.828155</td>\n",
       "      <td>0.794726</td>\n",
       "      <td>1.603434</td>\n",
       "      <td>3.040249</td>\n",
       "    </tr>\n",
       "    <tr>\n",
       "      <th>Missouri</th>\n",
       "      <td>-0.325143</td>\n",
       "      <td>-0.367517</td>\n",
       "      <td>-0.875779</td>\n",
       "      <td>-0.805810</td>\n",
       "      <td>0.089309</td>\n",
       "      <td>0.523733</td>\n",
       "      <td>0.070871</td>\n",
       "      <td>0.246073</td>\n",
       "      <td>0.335179</td>\n",
       "      <td>-0.499477</td>\n",
       "      <td>-0.110404</td>\n",
       "      <td>0.126502</td>\n",
       "      <td>1.751845</td>\n",
       "      <td>2.801704</td>\n",
       "      <td>0.859733</td>\n",
       "      <td>1.627780</td>\n",
       "      <td>3.022211</td>\n",
       "    </tr>\n",
       "    <tr>\n",
       "      <th>Maryland</th>\n",
       "      <td>-0.530175</td>\n",
       "      <td>-0.507952</td>\n",
       "      <td>0.059474</td>\n",
       "      <td>0.787301</td>\n",
       "      <td>-1.159795</td>\n",
       "      <td>-0.430777</td>\n",
       "      <td>0.436031</td>\n",
       "      <td>-0.520346</td>\n",
       "      <td>-0.335184</td>\n",
       "      <td>1.529767</td>\n",
       "      <td>0.145282</td>\n",
       "      <td>0.277590</td>\n",
       "      <td>1.797864</td>\n",
       "      <td>2.646621</td>\n",
       "      <td>0.610571</td>\n",
       "      <td>1.477296</td>\n",
       "      <td>3.351438</td>\n",
       "    </tr>\n",
       "    <tr>\n",
       "      <th>Wisconsin</th>\n",
       "      <td>-0.916720</td>\n",
       "      <td>-0.344810</td>\n",
       "      <td>-0.503308</td>\n",
       "      <td>-0.639366</td>\n",
       "      <td>0.610118</td>\n",
       "      <td>-0.078748</td>\n",
       "      <td>0.609466</td>\n",
       "      <td>0.466792</td>\n",
       "      <td>0.447428</td>\n",
       "      <td>0.704357</td>\n",
       "      <td>-0.117919</td>\n",
       "      <td>-0.164414</td>\n",
       "      <td>1.724687</td>\n",
       "      <td>2.709875</td>\n",
       "      <td>0.846471</td>\n",
       "      <td>1.709056</td>\n",
       "      <td>3.079829</td>\n",
       "    </tr>\n",
       "    <tr>\n",
       "      <th>Minnesota</th>\n",
       "      <td>-0.266918</td>\n",
       "      <td>0.167958</td>\n",
       "      <td>-0.116789</td>\n",
       "      <td>0.321256</td>\n",
       "      <td>0.381573</td>\n",
       "      <td>-0.110015</td>\n",
       "      <td>1.154202</td>\n",
       "      <td>0.292842</td>\n",
       "      <td>0.606143</td>\n",
       "      <td>1.083154</td>\n",
       "      <td>-0.016071</td>\n",
       "      <td>-0.087441</td>\n",
       "      <td>1.785777</td>\n",
       "      <td>2.702492</td>\n",
       "      <td>0.789579</td>\n",
       "      <td>1.530532</td>\n",
       "      <td>3.158752</td>\n",
       "    </tr>\n",
       "    <tr>\n",
       "      <th>Colorado</th>\n",
       "      <td>0.887781</td>\n",
       "      <td>1.108304</td>\n",
       "      <td>1.013941</td>\n",
       "      <td>0.799190</td>\n",
       "      <td>0.663193</td>\n",
       "      <td>0.285338</td>\n",
       "      <td>0.908592</td>\n",
       "      <td>-0.266764</td>\n",
       "      <td>0.232567</td>\n",
       "      <td>0.950870</td>\n",
       "      <td>0.136762</td>\n",
       "      <td>0.170372</td>\n",
       "      <td>1.830366</td>\n",
       "      <td>2.737152</td>\n",
       "      <td>0.605965</td>\n",
       "      <td>1.422900</td>\n",
       "      <td>3.296405</td>\n",
       "    </tr>\n",
       "    <tr>\n",
       "      <th>Alabama</th>\n",
       "      <td>-0.784069</td>\n",
       "      <td>-0.199895</td>\n",
       "      <td>-0.790564</td>\n",
       "      <td>-0.508588</td>\n",
       "      <td>1.016127</td>\n",
       "      <td>1.379872</td>\n",
       "      <td>-1.196307</td>\n",
       "      <td>-0.346610</td>\n",
       "      <td>-0.659616</td>\n",
       "      <td>-0.750684</td>\n",
       "      <td>-0.335203</td>\n",
       "      <td>0.303138</td>\n",
       "      <td>1.629404</td>\n",
       "      <td>2.889964</td>\n",
       "      <td>0.880415</td>\n",
       "      <td>1.653570</td>\n",
       "      <td>3.009157</td>\n",
       "    </tr>\n",
       "    <tr>\n",
       "      <th>South Carolina</th>\n",
       "      <td>-0.614354</td>\n",
       "      <td>1.301762</td>\n",
       "      <td>-0.383848</td>\n",
       "      <td>0.202368</td>\n",
       "      <td>-0.383960</td>\n",
       "      <td>0.450253</td>\n",
       "      <td>-0.741111</td>\n",
       "      <td>-0.563967</td>\n",
       "      <td>-0.693017</td>\n",
       "      <td>-0.375257</td>\n",
       "      <td>-0.236644</td>\n",
       "      <td>0.310599</td>\n",
       "      <td>1.691973</td>\n",
       "      <td>2.864559</td>\n",
       "      <td>0.845962</td>\n",
       "      <td>1.564091</td>\n",
       "      <td>3.049293</td>\n",
       "    </tr>\n",
       "    <tr>\n",
       "      <th>Louisiana</th>\n",
       "      <td>1.420627</td>\n",
       "      <td>-1.040150</td>\n",
       "      <td>-0.227521</td>\n",
       "      <td>-0.344521</td>\n",
       "      <td>-2.155914</td>\n",
       "      <td>-0.481222</td>\n",
       "      <td>-1.317281</td>\n",
       "      <td>-0.551625</td>\n",
       "      <td>-1.332586</td>\n",
       "      <td>-1.201793</td>\n",
       "      <td>-0.394083</td>\n",
       "      <td>0.364794</td>\n",
       "      <td>1.798594</td>\n",
       "      <td>2.684601</td>\n",
       "      <td>0.885629</td>\n",
       "      <td>1.828161</td>\n",
       "      <td>2.979860</td>\n",
       "    </tr>\n",
       "    <tr>\n",
       "      <th>Kentucky</th>\n",
       "      <td>0.000667</td>\n",
       "      <td>-0.460908</td>\n",
       "      <td>-0.851998</td>\n",
       "      <td>-0.708321</td>\n",
       "      <td>0.642413</td>\n",
       "      <td>0.344733</td>\n",
       "      <td>-1.102700</td>\n",
       "      <td>0.294538</td>\n",
       "      <td>-0.179572</td>\n",
       "      <td>-0.149981</td>\n",
       "      <td>-0.404773</td>\n",
       "      <td>0.314748</td>\n",
       "      <td>1.870073</td>\n",
       "      <td>2.712821</td>\n",
       "      <td>0.885605</td>\n",
       "      <td>1.715120</td>\n",
       "      <td>2.960373</td>\n",
       "    </tr>\n",
       "    <tr>\n",
       "      <th>Oregon</th>\n",
       "      <td>0.832016</td>\n",
       "      <td>0.514973</td>\n",
       "      <td>1.141626</td>\n",
       "      <td>0.608968</td>\n",
       "      <td>-0.249303</td>\n",
       "      <td>-0.258026</td>\n",
       "      <td>0.642961</td>\n",
       "      <td>-0.922704</td>\n",
       "      <td>-1.068707</td>\n",
       "      <td>0.578818</td>\n",
       "      <td>-0.249600</td>\n",
       "      <td>0.372369</td>\n",
       "      <td>1.959053</td>\n",
       "      <td>2.457284</td>\n",
       "      <td>0.681532</td>\n",
       "      <td>1.420420</td>\n",
       "      <td>3.345698</td>\n",
       "    </tr>\n",
       "    <tr>\n",
       "      <th>Oklahoma</th>\n",
       "      <td>-0.454423</td>\n",
       "      <td>-0.034569</td>\n",
       "      <td>-1.237938</td>\n",
       "      <td>-1.067366</td>\n",
       "      <td>-0.078668</td>\n",
       "      <td>0.111075</td>\n",
       "      <td>-0.450228</td>\n",
       "      <td>0.977645</td>\n",
       "      <td>0.820332</td>\n",
       "      <td>-1.547171</td>\n",
       "      <td>-0.451032</td>\n",
       "      <td>0.395818</td>\n",
       "      <td>1.650734</td>\n",
       "      <td>2.831181</td>\n",
       "      <td>0.966358</td>\n",
       "      <td>1.584439</td>\n",
       "      <td>2.990813</td>\n",
       "    </tr>\n",
       "    <tr>\n",
       "      <th>Connecticut</th>\n",
       "      <td>-0.362019</td>\n",
       "      <td>-0.940700</td>\n",
       "      <td>-0.555686</td>\n",
       "      <td>0.387834</td>\n",
       "      <td>-0.863267</td>\n",
       "      <td>-0.331772</td>\n",
       "      <td>0.694200</td>\n",
       "      <td>-0.643522</td>\n",
       "      <td>-0.596496</td>\n",
       "      <td>1.430649</td>\n",
       "      <td>-0.271600</td>\n",
       "      <td>0.327392</td>\n",
       "      <td>1.915605</td>\n",
       "      <td>2.703622</td>\n",
       "      <td>0.661836</td>\n",
       "      <td>1.461052</td>\n",
       "      <td>3.210666</td>\n",
       "    </tr>\n",
       "    <tr>\n",
       "      <th>Iowa</th>\n",
       "      <td>1.344272</td>\n",
       "      <td>-0.317264</td>\n",
       "      <td>-0.966794</td>\n",
       "      <td>-1.103032</td>\n",
       "      <td>-0.589193</td>\n",
       "      <td>-1.704716</td>\n",
       "      <td>0.868768</td>\n",
       "      <td>1.528514</td>\n",
       "      <td>1.077437</td>\n",
       "      <td>-0.326141</td>\n",
       "      <td>-0.488461</td>\n",
       "      <td>0.495661</td>\n",
       "      <td>1.723751</td>\n",
       "      <td>2.715684</td>\n",
       "      <td>0.963917</td>\n",
       "      <td>1.544448</td>\n",
       "      <td>3.040605</td>\n",
       "    </tr>\n",
       "    <tr>\n",
       "      <th>Mississippi</th>\n",
       "      <td>-0.614354</td>\n",
       "      <td>-1.139171</td>\n",
       "      <td>-1.018659</td>\n",
       "      <td>-1.031699</td>\n",
       "      <td>-0.572687</td>\n",
       "      <td>-0.329649</td>\n",
       "      <td>-1.632043</td>\n",
       "      <td>-0.645220</td>\n",
       "      <td>-0.938336</td>\n",
       "      <td>-1.447231</td>\n",
       "      <td>-0.593602</td>\n",
       "      <td>0.550141</td>\n",
       "      <td>1.606285</td>\n",
       "      <td>2.733080</td>\n",
       "      <td>1.071070</td>\n",
       "      <td>1.778211</td>\n",
       "      <td>2.927525</td>\n",
       "    </tr>\n",
       "    <tr>\n",
       "      <th>Arkansas</th>\n",
       "      <td>-1.002390</td>\n",
       "      <td>-0.152686</td>\n",
       "      <td>-0.827125</td>\n",
       "      <td>-1.198144</td>\n",
       "      <td>0.048055</td>\n",
       "      <td>-1.439518</td>\n",
       "      <td>-0.900981</td>\n",
       "      <td>0.084569</td>\n",
       "      <td>0.237009</td>\n",
       "      <td>-1.634922</td>\n",
       "      <td>-0.574021</td>\n",
       "      <td>0.526414</td>\n",
       "      <td>1.664906</td>\n",
       "      <td>2.763294</td>\n",
       "      <td>0.965059</td>\n",
       "      <td>1.683544</td>\n",
       "      <td>2.992920</td>\n",
       "    </tr>\n",
       "    <tr>\n",
       "      <th>Kansas</th>\n",
       "      <td>0.461795</td>\n",
       "      <td>-0.601385</td>\n",
       "      <td>-1.237840</td>\n",
       "      <td>-0.853366</td>\n",
       "      <td>-0.752349</td>\n",
       "      <td>0.478928</td>\n",
       "      <td>0.345607</td>\n",
       "      <td>1.005723</td>\n",
       "      <td>1.083863</td>\n",
       "      <td>-0.868746</td>\n",
       "      <td>-0.470848</td>\n",
       "      <td>0.352520</td>\n",
       "      <td>1.738969</td>\n",
       "      <td>2.754762</td>\n",
       "      <td>0.935903</td>\n",
       "      <td>1.635752</td>\n",
       "      <td>2.996265</td>\n",
       "    </tr>\n",
       "    <tr>\n",
       "      <th>Utah</th>\n",
       "      <td>0.291024</td>\n",
       "      <td>1.762431</td>\n",
       "      <td>0.821020</td>\n",
       "      <td>-0.116255</td>\n",
       "      <td>1.634429</td>\n",
       "      <td>1.665032</td>\n",
       "      <td>0.970825</td>\n",
       "      <td>0.577427</td>\n",
       "      <td>0.993707</td>\n",
       "      <td>0.439621</td>\n",
       "      <td>-0.463758</td>\n",
       "      <td>0.470038</td>\n",
       "      <td>1.919172</td>\n",
       "      <td>2.679514</td>\n",
       "      <td>0.748504</td>\n",
       "      <td>1.589427</td>\n",
       "      <td>3.108968</td>\n",
       "    </tr>\n",
       "    <tr>\n",
       "      <th>Nevada</th>\n",
       "      <td>1.139370</td>\n",
       "      <td>2.249787</td>\n",
       "      <td>-0.357981</td>\n",
       "      <td>-0.175699</td>\n",
       "      <td>2.929182</td>\n",
       "      <td>0.843782</td>\n",
       "      <td>-0.727086</td>\n",
       "      <td>-0.221408</td>\n",
       "      <td>0.155007</td>\n",
       "      <td>-0.029614</td>\n",
       "      <td>-0.531177</td>\n",
       "      <td>0.527033</td>\n",
       "      <td>1.784404</td>\n",
       "      <td>2.846328</td>\n",
       "      <td>0.731946</td>\n",
       "      <td>1.604224</td>\n",
       "      <td>3.085416</td>\n",
       "    </tr>\n",
       "    <tr>\n",
       "      <th>New Mexico</th>\n",
       "      <td>-0.687753</td>\n",
       "      <td>-0.330495</td>\n",
       "      <td>-0.202997</td>\n",
       "      <td>-0.974632</td>\n",
       "      <td>-0.093719</td>\n",
       "      <td>-0.070121</td>\n",
       "      <td>-0.888162</td>\n",
       "      <td>0.018831</td>\n",
       "      <td>-0.402256</td>\n",
       "      <td>-1.129583</td>\n",
       "      <td>-0.621069</td>\n",
       "      <td>0.640255</td>\n",
       "      <td>1.852040</td>\n",
       "      <td>2.425834</td>\n",
       "      <td>0.825944</td>\n",
       "      <td>1.604876</td>\n",
       "      <td>3.246167</td>\n",
       "    </tr>\n",
       "    <tr>\n",
       "      <th>West Virginia</th>\n",
       "      <td>-0.777199</td>\n",
       "      <td>-1.680698</td>\n",
       "      <td>-1.169557</td>\n",
       "      <td>-1.293255</td>\n",
       "      <td>-0.848832</td>\n",
       "      <td>-0.589416</td>\n",
       "      <td>-0.489857</td>\n",
       "      <td>0.528926</td>\n",
       "      <td>0.040411</td>\n",
       "      <td>-1.192671</td>\n",
       "      <td>-0.693818</td>\n",
       "      <td>0.698801</td>\n",
       "      <td>1.599350</td>\n",
       "      <td>2.617274</td>\n",
       "      <td>1.063857</td>\n",
       "      <td>1.827515</td>\n",
       "      <td>2.995704</td>\n",
       "    </tr>\n",
       "    <tr>\n",
       "      <th>Nebraska</th>\n",
       "      <td>0.291024</td>\n",
       "      <td>-0.255893</td>\n",
       "      <td>-0.815055</td>\n",
       "      <td>-0.805810</td>\n",
       "      <td>0.117481</td>\n",
       "      <td>-0.717851</td>\n",
       "      <td>0.818288</td>\n",
       "      <td>1.550987</td>\n",
       "      <td>1.300347</td>\n",
       "      <td>-0.415027</td>\n",
       "      <td>-0.604765</td>\n",
       "      <td>0.636886</td>\n",
       "      <td>1.743656</td>\n",
       "      <td>2.802766</td>\n",
       "      <td>0.960322</td>\n",
       "      <td>1.597670</td>\n",
       "      <td>2.955989</td>\n",
       "    </tr>\n",
       "    <tr>\n",
       "      <th>Idaho</th>\n",
       "      <td>-0.142923</td>\n",
       "      <td>2.608605</td>\n",
       "      <td>0.387224</td>\n",
       "      <td>-0.556144</td>\n",
       "      <td>2.449796</td>\n",
       "      <td>3.940345</td>\n",
       "      <td>0.432231</td>\n",
       "      <td>0.361515</td>\n",
       "      <td>0.772795</td>\n",
       "      <td>0.239749</td>\n",
       "      <td>-0.654820</td>\n",
       "      <td>0.671620</td>\n",
       "      <td>1.776637</td>\n",
       "      <td>2.576101</td>\n",
       "      <td>0.811470</td>\n",
       "      <td>1.677886</td>\n",
       "      <td>3.176824</td>\n",
       "    </tr>\n",
       "    <tr>\n",
       "      <th>Hawaii</th>\n",
       "      <td>1.767018</td>\n",
       "      <td>-1.524498</td>\n",
       "      <td>2.498288</td>\n",
       "      <td>1.155856</td>\n",
       "      <td>-1.162906</td>\n",
       "      <td>-1.541871</td>\n",
       "      <td>1.120208</td>\n",
       "      <td>-1.378983</td>\n",
       "      <td>-0.903716</td>\n",
       "      <td>1.078069</td>\n",
       "      <td>-0.655663</td>\n",
       "      <td>0.760369</td>\n",
       "      <td>1.727531</td>\n",
       "      <td>2.721500</td>\n",
       "      <td>0.708008</td>\n",
       "      <td>1.586786</td>\n",
       "      <td>3.225530</td>\n",
       "    </tr>\n",
       "    <tr>\n",
       "      <th>Maine</th>\n",
       "      <td>-0.753538</td>\n",
       "      <td>-0.149911</td>\n",
       "      <td>0.128303</td>\n",
       "      <td>-0.151921</td>\n",
       "      <td>0.096878</td>\n",
       "      <td>0.183251</td>\n",
       "      <td>1.018798</td>\n",
       "      <td>-0.850148</td>\n",
       "      <td>-0.227558</td>\n",
       "      <td>0.570094</td>\n",
       "      <td>-0.659280</td>\n",
       "      <td>0.698562</td>\n",
       "      <td>2.081130</td>\n",
       "      <td>2.400838</td>\n",
       "      <td>0.803244</td>\n",
       "      <td>1.661117</td>\n",
       "      <td>3.128659</td>\n",
       "    </tr>\n",
       "    <tr>\n",
       "      <th>New Hampshire</th>\n",
       "      <td>-0.966089</td>\n",
       "      <td>-0.110929</td>\n",
       "      <td>-0.245435</td>\n",
       "      <td>0.251112</td>\n",
       "      <td>0.395642</td>\n",
       "      <td>1.501738</td>\n",
       "      <td>1.122388</td>\n",
       "      <td>-0.151710</td>\n",
       "      <td>0.312401</td>\n",
       "      <td>0.964159</td>\n",
       "      <td>-0.636424</td>\n",
       "      <td>0.688275</td>\n",
       "      <td>1.814709</td>\n",
       "      <td>2.666843</td>\n",
       "      <td>0.682968</td>\n",
       "      <td>1.552396</td>\n",
       "      <td>3.243465</td>\n",
       "    </tr>\n",
       "    <tr>\n",
       "      <th>Rhode Island</th>\n",
       "      <td>-1.284476</td>\n",
       "      <td>-0.635238</td>\n",
       "      <td>0.325156</td>\n",
       "      <td>0.323634</td>\n",
       "      <td>0.215736</td>\n",
       "      <td>-0.326636</td>\n",
       "      <td>-0.127554</td>\n",
       "      <td>-0.635170</td>\n",
       "      <td>-0.258789</td>\n",
       "      <td>1.581157</td>\n",
       "      <td>-0.699312</td>\n",
       "      <td>0.725976</td>\n",
       "      <td>1.981574</td>\n",
       "      <td>2.627644</td>\n",
       "      <td>0.706664</td>\n",
       "      <td>1.527612</td>\n",
       "      <td>3.162650</td>\n",
       "    </tr>\n",
       "    <tr>\n",
       "      <th>Montana</th>\n",
       "      <td>1.801888</td>\n",
       "      <td>0.608022</td>\n",
       "      <td>0.387574</td>\n",
       "      <td>-1.103032</td>\n",
       "      <td>0.152741</td>\n",
       "      <td>-0.791786</td>\n",
       "      <td>1.294795</td>\n",
       "      <td>1.119306</td>\n",
       "      <td>1.138098</td>\n",
       "      <td>-0.972351</td>\n",
       "      <td>-0.705793</td>\n",
       "      <td>0.767728</td>\n",
       "      <td>1.678739</td>\n",
       "      <td>2.512825</td>\n",
       "      <td>0.901959</td>\n",
       "      <td>1.623220</td>\n",
       "      <td>3.221397</td>\n",
       "    </tr>\n",
       "    <tr>\n",
       "      <th>Delaware</th>\n",
       "      <td>-0.599739</td>\n",
       "      <td>0.895029</td>\n",
       "      <td>-0.239853</td>\n",
       "      <td>-0.270810</td>\n",
       "      <td>-1.138069</td>\n",
       "      <td>-0.601917</td>\n",
       "      <td>0.088914</td>\n",
       "      <td>-0.401746</td>\n",
       "      <td>0.044746</td>\n",
       "      <td>0.794812</td>\n",
       "      <td>-0.717996</td>\n",
       "      <td>0.789789</td>\n",
       "      <td>1.832452</td>\n",
       "      <td>2.738634</td>\n",
       "      <td>0.768825</td>\n",
       "      <td>1.563767</td>\n",
       "      <td>3.113012</td>\n",
       "    </tr>\n",
       "    <tr>\n",
       "      <th>South Dakota</th>\n",
       "      <td>0.483578</td>\n",
       "      <td>0.553362</td>\n",
       "      <td>-0.658356</td>\n",
       "      <td>-1.043588</td>\n",
       "      <td>-0.243179</td>\n",
       "      <td>-1.055621</td>\n",
       "      <td>0.833695</td>\n",
       "      <td>2.233743</td>\n",
       "      <td>2.006068</td>\n",
       "      <td>-1.080081</td>\n",
       "      <td>-0.749110</td>\n",
       "      <td>0.739489</td>\n",
       "      <td>1.533360</td>\n",
       "      <td>2.708076</td>\n",
       "      <td>1.015191</td>\n",
       "      <td>1.799663</td>\n",
       "      <td>3.023328</td>\n",
       "    </tr>\n",
       "    <tr>\n",
       "      <th>Alaska</th>\n",
       "      <td>0.513369</td>\n",
       "      <td>-1.392583</td>\n",
       "      <td>-0.216160</td>\n",
       "      <td>-0.508588</td>\n",
       "      <td>-1.263374</td>\n",
       "      <td>-0.801581</td>\n",
       "      <td>1.114534</td>\n",
       "      <td>1.265778</td>\n",
       "      <td>1.772763</td>\n",
       "      <td>-1.227674</td>\n",
       "      <td>-0.765785</td>\n",
       "      <td>0.808481</td>\n",
       "      <td>1.861406</td>\n",
       "      <td>2.498164</td>\n",
       "      <td>0.723141</td>\n",
       "      <td>1.533584</td>\n",
       "      <td>3.301465</td>\n",
       "    </tr>\n",
       "    <tr>\n",
       "      <th>North Dakota</th>\n",
       "      <td>1.599452</td>\n",
       "      <td>-0.054592</td>\n",
       "      <td>-0.553501</td>\n",
       "      <td>-1.204088</td>\n",
       "      <td>-1.692215</td>\n",
       "      <td>-0.425215</td>\n",
       "      <td>0.850045</td>\n",
       "      <td>3.094624</td>\n",
       "      <td>2.260171</td>\n",
       "      <td>-1.206061</td>\n",
       "      <td>-0.761568</td>\n",
       "      <td>0.758683</td>\n",
       "      <td>1.535576</td>\n",
       "      <td>2.730584</td>\n",
       "      <td>0.994975</td>\n",
       "      <td>2.046418</td>\n",
       "      <td>2.935756</td>\n",
       "    </tr>\n",
       "    <tr>\n",
       "      <th>Vermont</th>\n",
       "      <td>-2.924888</td>\n",
       "      <td>-0.812043</td>\n",
       "      <td>-0.025741</td>\n",
       "      <td>0.317690</td>\n",
       "      <td>-0.870974</td>\n",
       "      <td>1.770086</td>\n",
       "      <td>1.055592</td>\n",
       "      <td>-0.539332</td>\n",
       "      <td>0.292223</td>\n",
       "      <td>0.642535</td>\n",
       "      <td>-0.750573</td>\n",
       "      <td>0.802488</td>\n",
       "      <td>2.144745</td>\n",
       "      <td>2.276466</td>\n",
       "      <td>0.783019</td>\n",
       "      <td>1.442928</td>\n",
       "      <td>3.267420</td>\n",
       "    </tr>\n",
       "    <tr>\n",
       "      <th>District of Columbia</th>\n",
       "      <td>2.795664</td>\n",
       "      <td>0.489940</td>\n",
       "      <td>2.733035</td>\n",
       "      <td>2.689523</td>\n",
       "      <td>-1.316645</td>\n",
       "      <td>-0.641560</td>\n",
       "      <td>0.337412</td>\n",
       "      <td>-0.465254</td>\n",
       "      <td>-0.782880</td>\n",
       "      <td>1.670878</td>\n",
       "      <td>-0.675340</td>\n",
       "      <td>0.802830</td>\n",
       "      <td>2.189962</td>\n",
       "      <td>2.384289</td>\n",
       "      <td>0.400690</td>\n",
       "      <td>1.139305</td>\n",
       "      <td>3.586442</td>\n",
       "    </tr>\n",
       "    <tr>\n",
       "      <th>Wyoming</th>\n",
       "      <td>0.045304</td>\n",
       "      <td>-0.501655</td>\n",
       "      <td>-0.034130</td>\n",
       "      <td>-1.105410</td>\n",
       "      <td>-0.858710</td>\n",
       "      <td>-0.214346</td>\n",
       "      <td>1.282113</td>\n",
       "      <td>2.632858</td>\n",
       "      <td>2.389724</td>\n",
       "      <td>-0.890476</td>\n",
       "      <td>-0.784774</td>\n",
       "      <td>0.826426</td>\n",
       "      <td>1.576455</td>\n",
       "      <td>2.464357</td>\n",
       "      <td>1.030617</td>\n",
       "      <td>1.593821</td>\n",
       "      <td>3.219077</td>\n",
       "    </tr>\n",
       "  </tbody>\n",
       "</table>\n",
       "</div>"
      ],
      "text/plain": [
       "                      sell_time_score  pop_gr_score  sell_v_score  \\\n",
       "State                                                               \n",
       "California                   0.547836     -0.630217      2.617332   \n",
       "Texas                        2.085824      1.240328     -0.567123   \n",
       "New York                     0.235937     -1.304683      2.196393   \n",
       "Florida                      0.078055      1.132966     -0.355359   \n",
       "Illinois                     0.350658     -1.441229     -0.270286   \n",
       "Pennsylvania                -0.255404     -0.772056     -0.467194   \n",
       "Ohio                        -0.500844     -0.554095     -1.022438   \n",
       "Michigan                     0.098271     -0.803399     -0.612183   \n",
       "Georgia                     -0.240875      0.763958      0.191889   \n",
       "North Carolina              -0.723961      0.998850     -0.434314   \n",
       "New Jersey                  -0.405013     -0.727925      0.736100   \n",
       "Virginia                    -0.977006     -0.052448      0.581543   \n",
       "Washington                  -0.498724      1.178633      1.673669   \n",
       "Massachusetts                0.367505     -0.483692      1.533727   \n",
       "Indiana                     -0.584528      0.073680     -0.993873   \n",
       "Arizona                     -0.965098      2.077010     -0.231825   \n",
       "Tennessee                   -0.280311      0.599689      0.040915   \n",
       "Missouri                    -0.325143     -0.367517     -0.875779   \n",
       "Maryland                    -0.530175     -0.507952      0.059474   \n",
       "Wisconsin                   -0.916720     -0.344810     -0.503308   \n",
       "Minnesota                   -0.266918      0.167958     -0.116789   \n",
       "Colorado                     0.887781      1.108304      1.013941   \n",
       "Alabama                     -0.784069     -0.199895     -0.790564   \n",
       "South Carolina              -0.614354      1.301762     -0.383848   \n",
       "Louisiana                    1.420627     -1.040150     -0.227521   \n",
       "Kentucky                     0.000667     -0.460908     -0.851998   \n",
       "Oregon                       0.832016      0.514973      1.141626   \n",
       "Oklahoma                    -0.454423     -0.034569     -1.237938   \n",
       "Connecticut                 -0.362019     -0.940700     -0.555686   \n",
       "Iowa                         1.344272     -0.317264     -0.966794   \n",
       "Mississippi                 -0.614354     -1.139171     -1.018659   \n",
       "Arkansas                    -1.002390     -0.152686     -0.827125   \n",
       "Kansas                       0.461795     -0.601385     -1.237840   \n",
       "Utah                         0.291024      1.762431      0.821020   \n",
       "Nevada                       1.139370      2.249787     -0.357981   \n",
       "New Mexico                  -0.687753     -0.330495     -0.202997   \n",
       "West Virginia               -0.777199     -1.680698     -1.169557   \n",
       "Nebraska                     0.291024     -0.255893     -0.815055   \n",
       "Idaho                       -0.142923      2.608605      0.387224   \n",
       "Hawaii                       1.767018     -1.524498      2.498288   \n",
       "Maine                       -0.753538     -0.149911      0.128303   \n",
       "New Hampshire               -0.966089     -0.110929     -0.245435   \n",
       "Rhode Island                -1.284476     -0.635238      0.325156   \n",
       "Montana                      1.801888      0.608022      0.387574   \n",
       "Delaware                    -0.599739      0.895029     -0.239853   \n",
       "South Dakota                 0.483578      0.553362     -0.658356   \n",
       "Alaska                       0.513369     -1.392583     -0.216160   \n",
       "North Dakota                 1.599452     -0.054592     -0.553501   \n",
       "Vermont                     -2.924888     -0.812043     -0.025741   \n",
       "District of Columbia         2.795664      0.489940      2.733035   \n",
       "Wyoming                      0.045304     -0.501655     -0.034130   \n",
       "\n",
       "                      rent_v_score  sale_g_score  rent_g_score  highs_score  \\\n",
       "State                                                                         \n",
       "California                2.225856     -0.010723     -0.337100    -1.570775   \n",
       "Texas                     0.085856      0.381749      0.065284    -1.767097   \n",
       "New York                  2.225856     -0.581351     -1.538014    -0.450317   \n",
       "Florida                   0.559034     -0.202363     -0.872742    -0.211771   \n",
       "Illinois                  0.549523     -0.791744     -1.287093    -0.166482   \n",
       "Pennsylvania              0.085856     -0.421622      0.835660     0.408666   \n",
       "Ohio                     -0.867632      0.713391      0.016097     0.189765   \n",
       "Michigan                 -0.641744      1.306613      0.700704     0.297244   \n",
       "Georgia                   0.478190      0.983843      0.378249    -0.784366   \n",
       "North Carolina            0.085856      0.534552      1.015358    -0.500923   \n",
       "New Jersey                1.143967     -0.502632     -0.064065     0.219446   \n",
       "Virginia                  1.072634     -0.607362     -0.022527     0.198802   \n",
       "Washington                1.222434      1.131385     -0.865173     0.616239   \n",
       "Massachusetts             2.463634     -0.207513     -0.122725     0.404898   \n",
       "Indiana                  -0.877144      0.473437      0.340495    -0.252375   \n",
       "Arizona                   0.064456      1.700403      1.451541    -0.583239   \n",
       "Tennessee                -0.151921      0.951022     -0.229752    -0.634048   \n",
       "Missouri                 -0.805810      0.089309      0.523733     0.070871   \n",
       "Maryland                  0.787301     -1.159795     -0.430777     0.436031   \n",
       "Wisconsin                -0.639366      0.610118     -0.078748     0.609466   \n",
       "Minnesota                 0.321256      0.381573     -0.110015     1.154202   \n",
       "Colorado                  0.799190      0.663193      0.285338     0.908592   \n",
       "Alabama                  -0.508588      1.016127      1.379872    -1.196307   \n",
       "South Carolina            0.202368     -0.383960      0.450253    -0.741111   \n",
       "Louisiana                -0.344521     -2.155914     -0.481222    -1.317281   \n",
       "Kentucky                 -0.708321      0.642413      0.344733    -1.102700   \n",
       "Oregon                    0.608968     -0.249303     -0.258026     0.642961   \n",
       "Oklahoma                 -1.067366     -0.078668      0.111075    -0.450228   \n",
       "Connecticut               0.387834     -0.863267     -0.331772     0.694200   \n",
       "Iowa                     -1.103032     -0.589193     -1.704716     0.868768   \n",
       "Mississippi              -1.031699     -0.572687     -0.329649    -1.632043   \n",
       "Arkansas                 -1.198144      0.048055     -1.439518    -0.900981   \n",
       "Kansas                   -0.853366     -0.752349      0.478928     0.345607   \n",
       "Utah                     -0.116255      1.634429      1.665032     0.970825   \n",
       "Nevada                   -0.175699      2.929182      0.843782    -0.727086   \n",
       "New Mexico               -0.974632     -0.093719     -0.070121    -0.888162   \n",
       "West Virginia            -1.293255     -0.848832     -0.589416    -0.489857   \n",
       "Nebraska                 -0.805810      0.117481     -0.717851     0.818288   \n",
       "Idaho                    -0.556144      2.449796      3.940345     0.432231   \n",
       "Hawaii                    1.155856     -1.162906     -1.541871     1.120208   \n",
       "Maine                    -0.151921      0.096878      0.183251     1.018798   \n",
       "New Hampshire             0.251112      0.395642      1.501738     1.122388   \n",
       "Rhode Island              0.323634      0.215736     -0.326636    -0.127554   \n",
       "Montana                  -1.103032      0.152741     -0.791786     1.294795   \n",
       "Delaware                 -0.270810     -1.138069     -0.601917     0.088914   \n",
       "South Dakota             -1.043588     -0.243179     -1.055621     0.833695   \n",
       "Alaska                   -0.508588     -1.263374     -0.801581     1.114534   \n",
       "North Dakota             -1.204088     -1.692215     -0.425215     0.850045   \n",
       "Vermont                   0.317690     -0.870974      1.770086     1.055592   \n",
       "District of Columbia      2.689523     -1.316645     -0.641560     0.337412   \n",
       "Wyoming                  -1.105410     -0.858710     -0.214346     1.282113   \n",
       "\n",
       "                      rent_u25_score  rent_u50_score  h_eq_score  \\\n",
       "State                                                              \n",
       "California                 -1.638142       -1.482109    1.006875   \n",
       "Texas                       0.285358        0.364697   -1.714298   \n",
       "New York                   -0.913737       -1.576520    0.150102   \n",
       "Florida                    -1.657454       -1.461272    0.004593   \n",
       "Illinois                   -0.153863       -0.496319    0.329944   \n",
       "Pennsylvania               -0.166077       -0.257531    0.471364   \n",
       "Ohio                        0.134771       -0.155745    0.709359   \n",
       "Michigan                   -0.759119       -1.325327    0.250224   \n",
       "Georgia                    -0.533468       -0.680390    0.062113   \n",
       "North Carolina             -0.084656       -0.066645    0.527738   \n",
       "New Jersey                 -1.028018       -1.173102    0.790812   \n",
       "Virginia                   -0.253210        0.319530    1.181392   \n",
       "Washington                 -0.378548        0.276191    0.555569   \n",
       "Massachusetts              -0.362779       -0.042202    1.387433   \n",
       "Indiana                     0.359730        0.197036    0.052030   \n",
       "Arizona                    -0.093555        0.095260   -0.115697   \n",
       "Tennessee                  -0.096964        0.052802   -0.558740   \n",
       "Missouri                    0.246073        0.335179   -0.499477   \n",
       "Maryland                   -0.520346       -0.335184    1.529767   \n",
       "Wisconsin                   0.466792        0.447428    0.704357   \n",
       "Minnesota                   0.292842        0.606143    1.083154   \n",
       "Colorado                   -0.266764        0.232567    0.950870   \n",
       "Alabama                    -0.346610       -0.659616   -0.750684   \n",
       "South Carolina             -0.563967       -0.693017   -0.375257   \n",
       "Louisiana                  -0.551625       -1.332586   -1.201793   \n",
       "Kentucky                    0.294538       -0.179572   -0.149981   \n",
       "Oregon                     -0.922704       -1.068707    0.578818   \n",
       "Oklahoma                    0.977645        0.820332   -1.547171   \n",
       "Connecticut                -0.643522       -0.596496    1.430649   \n",
       "Iowa                        1.528514        1.077437   -0.326141   \n",
       "Mississippi                -0.645220       -0.938336   -1.447231   \n",
       "Arkansas                    0.084569        0.237009   -1.634922   \n",
       "Kansas                      1.005723        1.083863   -0.868746   \n",
       "Utah                        0.577427        0.993707    0.439621   \n",
       "Nevada                     -0.221408        0.155007   -0.029614   \n",
       "New Mexico                  0.018831       -0.402256   -1.129583   \n",
       "West Virginia               0.528926        0.040411   -1.192671   \n",
       "Nebraska                    1.550987        1.300347   -0.415027   \n",
       "Idaho                       0.361515        0.772795    0.239749   \n",
       "Hawaii                     -1.378983       -0.903716    1.078069   \n",
       "Maine                      -0.850148       -0.227558    0.570094   \n",
       "New Hampshire              -0.151710        0.312401    0.964159   \n",
       "Rhode Island               -0.635170       -0.258789    1.581157   \n",
       "Montana                     1.119306        1.138098   -0.972351   \n",
       "Delaware                   -0.401746        0.044746    0.794812   \n",
       "South Dakota                2.233743        2.006068   -1.080081   \n",
       "Alaska                      1.265778        1.772763   -1.227674   \n",
       "North Dakota                3.094624        2.260171   -1.206061   \n",
       "Vermont                    -0.539332        0.292223    0.642535   \n",
       "District of Columbia       -0.465254       -0.782880    1.670878   \n",
       "Wyoming                     2.632858        2.389724   -0.890476   \n",
       "\n",
       "                      avg_salary_score  overpop_score  AHO_score  BUS_score  \\\n",
       "State                                                                         \n",
       "California                    4.641140      -4.154968   1.959596   2.632341   \n",
       "Texas                         2.513891      -2.773040   1.665336   2.865215   \n",
       "New York                      2.158384      -2.119508   2.024919   2.652205   \n",
       "Florida                       1.918057      -1.648871   1.662257   2.917033   \n",
       "Illinois                      0.960045      -1.550732   1.820129   2.775345   \n",
       "Pennsylvania                  0.848456      -1.080888   1.798058   2.672195   \n",
       "Ohio                          0.521782      -1.250324   1.719963   2.778127   \n",
       "Michigan                      0.355310      -0.798994   1.706607   2.769693   \n",
       "Georgia                       0.489735      -0.357894   1.726535   2.887829   \n",
       "North Carolina                0.501162      -0.367519   1.820697   2.729494   \n",
       "New Jersey                    0.635474      -0.574387   1.723779   2.790124   \n",
       "Virginia                      0.503425      -0.014262   1.871335   2.638331   \n",
       "Washington                    0.288228      -0.042899   1.858000   2.527147   \n",
       "Massachusetts                 0.419937      -0.267355   1.884073   2.609534   \n",
       "Indiana                      -0.144454      -0.425089   1.744228   2.762102   \n",
       "Arizona                       0.018256      -0.044933   1.728187   2.758709   \n",
       "Tennessee                    -0.065585       0.021729   1.796242   2.828155   \n",
       "Missouri                     -0.110404       0.126502   1.751845   2.801704   \n",
       "Maryland                      0.145282       0.277590   1.797864   2.646621   \n",
       "Wisconsin                    -0.117919      -0.164414   1.724687   2.709875   \n",
       "Minnesota                    -0.016071      -0.087441   1.785777   2.702492   \n",
       "Colorado                      0.136762       0.170372   1.830366   2.737152   \n",
       "Alabama                      -0.335203       0.303138   1.629404   2.889964   \n",
       "South Carolina               -0.236644       0.310599   1.691973   2.864559   \n",
       "Louisiana                    -0.394083       0.364794   1.798594   2.684601   \n",
       "Kentucky                     -0.404773       0.314748   1.870073   2.712821   \n",
       "Oregon                       -0.249600       0.372369   1.959053   2.457284   \n",
       "Oklahoma                     -0.451032       0.395818   1.650734   2.831181   \n",
       "Connecticut                  -0.271600       0.327392   1.915605   2.703622   \n",
       "Iowa                         -0.488461       0.495661   1.723751   2.715684   \n",
       "Mississippi                  -0.593602       0.550141   1.606285   2.733080   \n",
       "Arkansas                     -0.574021       0.526414   1.664906   2.763294   \n",
       "Kansas                       -0.470848       0.352520   1.738969   2.754762   \n",
       "Utah                         -0.463758       0.470038   1.919172   2.679514   \n",
       "Nevada                       -0.531177       0.527033   1.784404   2.846328   \n",
       "New Mexico                   -0.621069       0.640255   1.852040   2.425834   \n",
       "West Virginia                -0.693818       0.698801   1.599350   2.617274   \n",
       "Nebraska                     -0.604765       0.636886   1.743656   2.802766   \n",
       "Idaho                        -0.654820       0.671620   1.776637   2.576101   \n",
       "Hawaii                       -0.655663       0.760369   1.727531   2.721500   \n",
       "Maine                        -0.659280       0.698562   2.081130   2.400838   \n",
       "New Hampshire                -0.636424       0.688275   1.814709   2.666843   \n",
       "Rhode Island                 -0.699312       0.725976   1.981574   2.627644   \n",
       "Montana                      -0.705793       0.767728   1.678739   2.512825   \n",
       "Delaware                     -0.717996       0.789789   1.832452   2.738634   \n",
       "South Dakota                 -0.749110       0.739489   1.533360   2.708076   \n",
       "Alaska                       -0.765785       0.808481   1.861406   2.498164   \n",
       "North Dakota                 -0.761568       0.758683   1.535576   2.730584   \n",
       "Vermont                      -0.750573       0.802488   2.144745   2.276466   \n",
       "District of Columbia         -0.675340       0.802830   2.189962   2.384289   \n",
       "Wyoming                      -0.784774       0.826426   1.576455   2.464357   \n",
       "\n",
       "                      EDU_score  SER_score  SCE_score  \n",
       "State                                                  \n",
       "California             0.506130   1.408413   3.376081  \n",
       "Texas                  0.725641   1.518837   3.177180  \n",
       "New York               0.674715   1.494744   3.158958  \n",
       "Florida                0.764518   1.620343   3.077573  \n",
       "Illinois               0.733548   1.554301   3.127817  \n",
       "Pennsylvania           0.799190   1.655846   3.119199  \n",
       "Ohio                   0.840960   1.709330   3.042149  \n",
       "Michigan               0.777251   1.658835   3.124632  \n",
       "Georgia                0.766128   1.501398   3.100670  \n",
       "North Carolina         0.733834   1.560560   3.155091  \n",
       "New Jersey             0.672828   1.456343   3.257444  \n",
       "Virginia               0.617060   1.379831   3.343951  \n",
       "Washington             0.638659   1.428025   3.389996  \n",
       "Massachusetts          0.593626   1.456214   3.347161  \n",
       "Indiana                0.870685   1.747612   3.001108  \n",
       "Arizona                0.776723   1.572155   3.150655  \n",
       "Tennessee              0.794726   1.603434   3.040249  \n",
       "Missouri               0.859733   1.627780   3.022211  \n",
       "Maryland               0.610571   1.477296   3.351438  \n",
       "Wisconsin              0.846471   1.709056   3.079829  \n",
       "Minnesota              0.789579   1.530532   3.158752  \n",
       "Colorado               0.605965   1.422900   3.296405  \n",
       "Alabama                0.880415   1.653570   3.009157  \n",
       "South Carolina         0.845962   1.564091   3.049293  \n",
       "Louisiana              0.885629   1.828161   2.979860  \n",
       "Kentucky               0.885605   1.715120   2.960373  \n",
       "Oregon                 0.681532   1.420420   3.345698  \n",
       "Oklahoma               0.966358   1.584439   2.990813  \n",
       "Connecticut            0.661836   1.461052   3.210666  \n",
       "Iowa                   0.963917   1.544448   3.040605  \n",
       "Mississippi            1.071070   1.778211   2.927525  \n",
       "Arkansas               0.965059   1.683544   2.992920  \n",
       "Kansas                 0.935903   1.635752   2.996265  \n",
       "Utah                   0.748504   1.589427   3.108968  \n",
       "Nevada                 0.731946   1.604224   3.085416  \n",
       "New Mexico             0.825944   1.604876   3.246167  \n",
       "West Virginia          1.063857   1.827515   2.995704  \n",
       "Nebraska               0.960322   1.597670   2.955989  \n",
       "Idaho                  0.811470   1.677886   3.176824  \n",
       "Hawaii                 0.708008   1.586786   3.225530  \n",
       "Maine                  0.803244   1.661117   3.128659  \n",
       "New Hampshire          0.682968   1.552396   3.243465  \n",
       "Rhode Island           0.706664   1.527612   3.162650  \n",
       "Montana                0.901959   1.623220   3.221397  \n",
       "Delaware               0.768825   1.563767   3.113012  \n",
       "South Dakota           1.015191   1.799663   3.023328  \n",
       "Alaska                 0.723141   1.533584   3.301465  \n",
       "North Dakota           0.994975   2.046418   2.935756  \n",
       "Vermont                0.783019   1.442928   3.267420  \n",
       "District of Columbia   0.400690   1.139305   3.586442  \n",
       "Wyoming                1.030617   1.593821   3.219077  "
      ]
     },
     "execution_count": 66,
     "metadata": {},
     "output_type": "execute_result"
    }
   ],
   "source": [
    "grp_df = grp_df[['State',  'sell_time_score',\n",
    "       'pop_gr_score','sell_v_score', 'rent_v_score', 'sale_g_score',\n",
    "       'rent_g_score', 'highs_score', 'rent_u25_score',\n",
    "       'rent_u50_score', 'h_eq_score', 'avg_salary_score',\n",
    "       'overpop_score', 'AHO_score', 'BUS_score', 'EDU_score', 'SER_score', 'SCE_score']]\n",
    "grp_df = grp_df.set_index('State')\n",
    "grp_df"
   ]
  },
  {
   "cell_type": "code",
   "execution_count": 67,
   "id": "8dbf6790-a548-45fe-b897-e07aa79801e0",
   "metadata": {
    "jupyter": {
     "source_hidden": true
    },
    "tags": []
   },
   "outputs": [],
   "source": [
    "Location_Scores = grp_df.sum(axis=1)"
   ]
  },
  {
   "cell_type": "code",
   "execution_count": 68,
   "id": "f98509f7-def1-40ce-8480-0e3a37b821d3",
   "metadata": {
    "jupyter": {
     "source_hidden": true
    },
    "tags": []
   },
   "outputs": [
    {
     "data": {
      "text/plain": [
       "State\n",
       "Idaho                   20.528911\n",
       "Utah                    19.091127\n",
       "District of Columbia    17.338292\n",
       "Colorado                16.782932\n",
       "Nevada                  15.853514\n",
       "Washington              14.998831\n",
       "Massachusetts           14.981476\n",
       "Montana                 13.635328\n",
       "Minnesota               13.377026\n",
       "Arizona                 13.359010\n",
       "New Hampshire           13.085507\n",
       "North Dakota            12.909043\n",
       "Wyoming                 12.671249\n",
       "South Dakota            12.099619\n",
       "Oregon                  11.807379\n",
       "Virginia                11.781018\n",
       "North Carolina          11.485173\n",
       "Hawaii                  11.181527\n",
       "Nebraska                11.161013\n",
       "California              11.097566\n",
       "Georgia                 10.733544\n",
       "Texas                   10.153638\n",
       "Wisconsin               10.142796\n",
       "Maine                    9.978517\n",
       "Iowa                     9.807456\n",
       "Tennessee                9.711642\n",
       "Maryland                 9.635004\n",
       "Pennsylvania             9.273718\n",
       "Alaska                   9.216940\n",
       "Rhode Island             9.210630\n",
       "Kansas                   9.005553\n",
       "New Jersey               8.951176\n",
       "Vermont                  8.871640\n",
       "Delaware                 8.659850\n",
       "New York                 8.488085\n",
       "Missouri                 8.470811\n",
       "Indiana                  8.344680\n",
       "South Carolina           8.288701\n",
       "Connecticut              8.227795\n",
       "Michigan                 8.104619\n",
       "Ohio                     8.024616\n",
       "Kentucky                 7.882838\n",
       "Florida                  7.324596\n",
       "Alabama                  7.190111\n",
       "Oklahoma                 7.007001\n",
       "Illinois                 6.043562\n",
       "New Mexico               5.213159\n",
       "Arkansas                 3.235983\n",
       "Louisiana                2.915569\n",
       "West Virginia            2.636536\n",
       "Mississippi              0.703662\n",
       "dtype: float64"
      ]
     },
     "execution_count": 68,
     "metadata": {},
     "output_type": "execute_result"
    }
   ],
   "source": [
    "Location_Scores.sort_values(ascending = False)"
   ]
  },
  {
   "cell_type": "markdown",
   "id": "d6f408cb-e128-49bc-9d1c-3140ac288801",
   "metadata": {},
   "source": [
    "only 4 states actually had a negative score\n",
    "I'm glad to see the range of 20, programatically generated weights were able to stay relatively tight, with no outliers."
   ]
  },
  {
   "cell_type": "markdown",
   "id": "a776f89c-72db-4dbd-a6b3-bdf1ffb320bf",
   "metadata": {},
   "source": [
    "## Final Assessements"
   ]
  },
  {
   "cell_type": "code",
   "execution_count": 69,
   "id": "7772e206-f89e-4a4f-a1af-641df13c4823",
   "metadata": {
    "tags": []
   },
   "outputs": [
    {
     "data": {
      "application/vnd.jupyter.widget-view+json": {
       "model_id": "8ac633f8ce5146a785469ec70b060ac3",
       "version_major": 2,
       "version_minor": 0
      },
      "text/plain": [
       "FigureWidget({\n",
       "    'data': [{'alignmentgroup': 'True',\n",
       "              'hovertemplate': 'category=%{x}<br>value=…"
      ]
     },
     "metadata": {},
     "output_type": "display_data"
    }
   ],
   "source": [
    "Salary_Scores = Salary_Scores.sort_values(ascending = False)\n",
    "fig = px.bar(Salary_Scores,\n",
    "                 title = 'Salary Scores',\n",
    "             color = Salary_Scores.index\n",
    "            )\n",
    "fig['layout'].update(height=600)\n",
    "fig_widget = go.FigureWidget(fig)\n",
    "fig_widget"
   ]
  },
  {
   "cell_type": "code",
   "execution_count": 70,
   "id": "93387311-218a-40e2-940b-dfdf5629a6d4",
   "metadata": {
    "jupyter": {
     "source_hidden": true
    }
   },
   "outputs": [
    {
     "data": {
      "application/vnd.jupyter.widget-view+json": {
       "model_id": "055fe0c1940b4a5b922771193847be03",
       "version_major": 2,
       "version_minor": 0
      },
      "text/plain": [
       "FigureWidget({\n",
       "    'data': [{'alignmentgroup': 'True',\n",
       "              'hovertemplate': 'category=%{x}<br>value=…"
      ]
     },
     "metadata": {},
     "output_type": "display_data"
    }
   ],
   "source": [
    "Education_Scores = Education_Scores.sort_values(ascending = False)\n",
    "fig = px.bar(Education_Scores,\n",
    "                 title = 'Education Scores',\n",
    "             color = Education_Scores.index\n",
    "            )\n",
    "fig['layout'].update(height=600)\n",
    "fig_widget = go.FigureWidget(fig)\n",
    "fig_widget"
   ]
  },
  {
   "cell_type": "code",
   "execution_count": 71,
   "id": "ac7d11d7-9f57-455e-aab8-8ec90e05562f",
   "metadata": {
    "jupyter": {
     "source_hidden": true
    }
   },
   "outputs": [
    {
     "data": {
      "application/vnd.jupyter.widget-view+json": {
       "model_id": "a80fd7e65ff84b8da26cecb9a2a05c03",
       "version_major": 2,
       "version_minor": 0
      },
      "text/plain": [
       "FigureWidget({\n",
       "    'data': [{'alignmentgroup': 'True',\n",
       "              'hovertemplate': 'State=%{x}<br>value=%{y…"
      ]
     },
     "metadata": {},
     "output_type": "display_data"
    }
   ],
   "source": [
    "Location_Scores = Location_Scores.sort_values(ascending = False)\n",
    "fig = px.bar(Location_Scores,\n",
    "                 title = 'Location Scores',\n",
    "             color = Location_Scores.index\n",
    "            )\n",
    "fig['layout'].update(height=600)\n",
    "fig_widget = go.FigureWidget(fig)\n",
    "fig_widget"
   ]
  },
  {
   "cell_type": "code",
   "execution_count": 72,
   "id": "8ef9ad0e-a1c7-45d5-8e7a-acaa4432fb80",
   "metadata": {
    "jupyter": {
     "source_hidden": true
    }
   },
   "outputs": [],
   "source": [
    "Location_Scores = Location_Scores.reset_index()\n",
    "Location_Scores = tfd.add_state_region(Location_Scores, 'State')\n",
    "Location_Scores = Location_Scores.set_index('State')\n",
    "Location_Scores.columns = [ 'score', 'region']\n",
    "Location_Scores = Location_Scores[['score','region']].sort_values('score', ascending = False)"
   ]
  },
  {
   "cell_type": "code",
   "execution_count": 73,
   "id": "42a4ed61-1a24-467b-8336-fd5302667c69",
   "metadata": {
    "jupyter": {
     "source_hidden": true
    }
   },
   "outputs": [
    {
     "data": {
      "application/vnd.jupyter.widget-view+json": {
       "model_id": "01fc950dc5704284af72e9499c0ccb14",
       "version_major": 2,
       "version_minor": 0
      },
      "text/plain": [
       "FigureWidget({\n",
       "    'data': [{'alignmentgroup': 'True',\n",
       "              'hovertemplate': 'region=Western<br>State…"
      ]
     },
     "metadata": {},
     "output_type": "display_data"
    }
   ],
   "source": [
    "fig = px.bar(Location_Scores, x= Location_Scores.index,\n",
    "             y= Location_Scores['score'],\n",
    "             title = 'Location Scores',\n",
    "             color = 'region'\n",
    "            )\n",
    "fig['layout'].update(height=600)\n",
    "fig_widget = go.FigureWidget(fig)\n",
    "fig_widget"
   ]
  },
  {
   "cell_type": "code",
   "execution_count": 74,
   "id": "53c2d9cc-0e75-4020-94a7-a1ca1db60a34",
   "metadata": {
    "jupyter": {
     "source_hidden": true
    }
   },
   "outputs": [
    {
     "data": {
      "text/html": [
       "<div>\n",
       "<style scoped>\n",
       "    .dataframe tbody tr th:only-of-type {\n",
       "        vertical-align: middle;\n",
       "    }\n",
       "\n",
       "    .dataframe tbody tr th {\n",
       "        vertical-align: top;\n",
       "    }\n",
       "\n",
       "    .dataframe thead th {\n",
       "        text-align: right;\n",
       "    }\n",
       "</style>\n",
       "<table border=\"1\" class=\"dataframe\">\n",
       "  <thead>\n",
       "    <tr style=\"text-align: right;\">\n",
       "      <th></th>\n",
       "      <th>score</th>\n",
       "    </tr>\n",
       "    <tr>\n",
       "      <th>region</th>\n",
       "      <th></th>\n",
       "    </tr>\n",
       "  </thead>\n",
       "  <tbody>\n",
       "    <tr>\n",
       "      <th>Midwestern</th>\n",
       "      <td>9.790900</td>\n",
       "    </tr>\n",
       "    <tr>\n",
       "      <th>Northeastern</th>\n",
       "      <td>10.118727</td>\n",
       "    </tr>\n",
       "    <tr>\n",
       "      <th>Southern</th>\n",
       "      <td>8.040186</td>\n",
       "    </tr>\n",
       "    <tr>\n",
       "      <th>Western</th>\n",
       "      <td>13.495190</td>\n",
       "    </tr>\n",
       "  </tbody>\n",
       "</table>\n",
       "</div>"
      ],
      "text/plain": [
       "                  score\n",
       "region                 \n",
       "Midwestern     9.790900\n",
       "Northeastern  10.118727\n",
       "Southern       8.040186\n",
       "Western       13.495190"
      ]
     },
     "execution_count": 74,
     "metadata": {},
     "output_type": "execute_result"
    }
   ],
   "source": [
    "Location_Scores.groupby('region').mean()"
   ]
  },
  {
   "cell_type": "markdown",
   "id": "7cfa7b34-26b3-4861-8ada-5ccd8f7e06f1",
   "metadata": {},
   "source": [
    "Regionally, you're likely to find your happy trifecta in a Western state, they had the highest average score by almost 5 and a half points over the Southern States.\n",
    "\n",
    "The top 10 States, regardless of region, are:\n",
    "* Idaho                   20.5\n",
    "* Utah                    19.0\n",
    "* District of Columbia    17.3\n",
    "* Colorado                16.7\n",
    "* Nevada                  15.8\n",
    "* Washington              14.9\n",
    "* Massachusetts           14.9\n",
    "* Montana                 13.6\n",
    "* Minnesota               13.3\n",
    "* Arizona                 13.3"
   ]
  }
 ],
 "metadata": {
  "kernelspec": {
   "display_name": "Python 3 (ipykernel)",
   "language": "python",
   "name": "python3"
  },
  "language_info": {
   "codemirror_mode": {
    "name": "ipython",
    "version": 3
   },
   "file_extension": ".py",
   "mimetype": "text/x-python",
   "name": "python",
   "nbconvert_exporter": "python",
   "pygments_lexer": "ipython3",
   "version": "3.9.7"
  }
 },
 "nbformat": 4,
 "nbformat_minor": 5
}
