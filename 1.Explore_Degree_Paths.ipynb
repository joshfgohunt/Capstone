{
 "cells": [
  {
   "cell_type": "code",
   "execution_count": 1,
   "id": "52e47c05-5ba0-4ae0-b185-6b63ff2f5425",
   "metadata": {},
   "outputs": [],
   "source": [
    "import pandas as pd\n",
    "\n",
    "import Clean_data as cld\n",
    "import Transform_Data as tfd\n",
    "import Visualize_Data as vld"
   ]
  },
  {
   "cell_type": "markdown",
   "id": "94ac09a8-0d31-404c-8f48-49954cdd4aba",
   "metadata": {},
   "source": [
    "# Dataset:  Job Titles By Major"
   ]
  },
  {
   "cell_type": "markdown",
   "id": "57ea4ef3-2537-4b20-ba5b-c4a61bfae066",
   "metadata": {},
   "source": [
    "I'm going to manually categorize all of these majors to give them an opportunity to be useful for analysis."
   ]
  },
  {
   "cell_type": "code",
   "execution_count": 2,
   "id": "5dc6c13b-f874-4f16-a7d4-20acdd9b97ac",
   "metadata": {},
   "outputs": [],
   "source": [
    "merge = cld.get_degree_counts()"
   ]
  },
  {
   "cell_type": "code",
   "execution_count": 3,
   "id": "229b8158-b9d2-4765-8629-74f181d2ceb4",
   "metadata": {},
   "outputs": [
    {
     "name": "stderr",
     "output_type": "stream",
     "text": [
      "C:\\Users\\joshf\\Documents\\Jupyter_Notebooks\\WGUProjects\\Capstone\\Transform_Data.py:92: SettingWithCopyWarning: \n",
      "A value is trying to be set on a copy of a slice from a DataFrame.\n",
      "Try using .loc[row_indexer,col_indexer] = value instead\n",
      "\n",
      "See the caveats in the documentation: https://pandas.pydata.org/pandas-docs/stable/user_guide/indexing.html#returning-a-view-versus-a-copy\n",
      "  totals['title'] = 'total'\n"
     ]
    }
   ],
   "source": [
    "transformed_merge =  tfd.get_degree_count(merge)"
   ]
  },
  {
   "cell_type": "code",
   "execution_count": 4,
   "id": "6ccb380e-0af5-4b38-9d80-9411220db768",
   "metadata": {},
   "outputs": [
    {
     "data": {
      "text/html": [
       "<div>\n",
       "<style scoped>\n",
       "    .dataframe tbody tr th:only-of-type {\n",
       "        vertical-align: middle;\n",
       "    }\n",
       "\n",
       "    .dataframe tbody tr th {\n",
       "        vertical-align: top;\n",
       "    }\n",
       "\n",
       "    .dataframe thead th {\n",
       "        text-align: right;\n",
       "    }\n",
       "</style>\n",
       "<table border=\"1\" class=\"dataframe\">\n",
       "  <thead>\n",
       "    <tr style=\"text-align: right;\">\n",
       "      <th></th>\n",
       "      <th>major</th>\n",
       "      <th>title</th>\n",
       "      <th>count</th>\n",
       "    </tr>\n",
       "  </thead>\n",
       "  <tbody>\n",
       "    <tr>\n",
       "      <th>0</th>\n",
       "      <td>3d modelling</td>\n",
       "      <td>3d artist</td>\n",
       "      <td>18.0</td>\n",
       "    </tr>\n",
       "    <tr>\n",
       "      <th>1</th>\n",
       "      <td>3d modelling</td>\n",
       "      <td>3d modeler</td>\n",
       "      <td>4.0</td>\n",
       "    </tr>\n",
       "    <tr>\n",
       "      <th>2</th>\n",
       "      <td>3d modelling</td>\n",
       "      <td>architect</td>\n",
       "      <td>9.0</td>\n",
       "    </tr>\n",
       "    <tr>\n",
       "      <th>3</th>\n",
       "      <td>3d modelling</td>\n",
       "      <td>creative director</td>\n",
       "      <td>10.0</td>\n",
       "    </tr>\n",
       "    <tr>\n",
       "      <th>4</th>\n",
       "      <td>3d modelling</td>\n",
       "      <td>designer</td>\n",
       "      <td>5.0</td>\n",
       "    </tr>\n",
       "    <tr>\n",
       "      <th>...</th>\n",
       "      <td>...</td>\n",
       "      <td>...</td>\n",
       "      <td>...</td>\n",
       "    </tr>\n",
       "    <tr>\n",
       "      <th>2886</th>\n",
       "      <td>welding engineering</td>\n",
       "      <td>total</td>\n",
       "      <td>8345.0</td>\n",
       "    </tr>\n",
       "    <tr>\n",
       "      <th>2887</th>\n",
       "      <td>welding engineering</td>\n",
       "      <td>welder</td>\n",
       "      <td>564.0</td>\n",
       "    </tr>\n",
       "    <tr>\n",
       "      <th>2888</th>\n",
       "      <td>welding engineering</td>\n",
       "      <td>welding engineer</td>\n",
       "      <td>1090.0</td>\n",
       "    </tr>\n",
       "    <tr>\n",
       "      <th>2889</th>\n",
       "      <td>welding engineering</td>\n",
       "      <td>welding engineer intern</td>\n",
       "      <td>150.0</td>\n",
       "    </tr>\n",
       "    <tr>\n",
       "      <th>2890</th>\n",
       "      <td>welding engineering</td>\n",
       "      <td>welding engineering intern</td>\n",
       "      <td>91.0</td>\n",
       "    </tr>\n",
       "  </tbody>\n",
       "</table>\n",
       "<p>2891 rows × 3 columns</p>\n",
       "</div>"
      ],
      "text/plain": [
       "                    major                       title   count\n",
       "0            3d modelling                   3d artist    18.0\n",
       "1            3d modelling                  3d modeler     4.0\n",
       "2            3d modelling                   architect     9.0\n",
       "3            3d modelling           creative director    10.0\n",
       "4            3d modelling                    designer     5.0\n",
       "...                   ...                         ...     ...\n",
       "2886  welding engineering                       total  8345.0\n",
       "2887  welding engineering                      welder   564.0\n",
       "2888  welding engineering            welding engineer  1090.0\n",
       "2889  welding engineering     welding engineer intern   150.0\n",
       "2890  welding engineering  welding engineering intern    91.0\n",
       "\n",
       "[2891 rows x 3 columns]"
      ]
     },
     "execution_count": 4,
     "metadata": {},
     "output_type": "execute_result"
    }
   ],
   "source": [
    "transformed_merge"
   ]
  },
  {
   "cell_type": "code",
   "execution_count": 5,
   "id": "9fccbf9d-1b46-47bd-9948-c933d12f1bc0",
   "metadata": {},
   "outputs": [],
   "source": [
    "transformed_merge_totals = transformed_merge[transformed_merge['title'] == 'total']"
   ]
  },
  {
   "cell_type": "code",
   "execution_count": 6,
   "id": "8beb54b8-c0c2-483d-b3f6-8be853bc8ae8",
   "metadata": {},
   "outputs": [],
   "source": [
    "transformed_merge_values = transformed_merge[transformed_merge['title'] != 'total']"
   ]
  },
  {
   "cell_type": "code",
   "execution_count": 7,
   "id": "8f9fc923-4165-4930-81a7-0ed243de2e82",
   "metadata": {},
   "outputs": [],
   "source": [
    "transformed_merge_totals = transformed_merge_totals[['major', 'count']]"
   ]
  },
  {
   "cell_type": "code",
   "execution_count": 9,
   "id": "650d3755-8a5d-4e48-8263-4ace886f44da",
   "metadata": {},
   "outputs": [],
   "source": [
    "merge_cat = merge[['major','category']]"
   ]
  },
  {
   "cell_type": "code",
   "execution_count": 10,
   "id": "834c066d-9ede-436c-9b05-6915f7bd079e",
   "metadata": {},
   "outputs": [],
   "source": [
    "df_totals = merge_cat.merge(transformed_merge_totals, left_on= 'major',right_on= 'major')"
   ]
  },
  {
   "cell_type": "code",
   "execution_count": 11,
   "id": "de1508d7-03d7-4ddb-97be-83b54e0e532f",
   "metadata": {
    "tags": []
   },
   "outputs": [],
   "source": [
    "df_totals.to_csv('Datasets/PeopleDataLabs/job_title_totals.csv')"
   ]
  },
  {
   "cell_type": "code",
   "execution_count": 12,
   "id": "cc9e7cb1-58af-42a8-90fe-b8618c1b3e6d",
   "metadata": {},
   "outputs": [],
   "source": [
    "df_values = merge_cat.merge(transformed_merge_values, left_on= 'major',right_on= 'major')"
   ]
  },
  {
   "cell_type": "code",
   "execution_count": 13,
   "id": "67e6bf0d-0f30-4022-8780-eae3dd80c955",
   "metadata": {},
   "outputs": [],
   "source": [
    "df_values.to_csv('Datasets/PeopleDataLabs/job_title_values.csv')"
   ]
  },
  {
   "cell_type": "code",
   "execution_count": 19,
   "id": "3d464683-43c8-4e43-895e-448b0c35d38c",
   "metadata": {},
   "outputs": [],
   "source": [
    "df_totals = df_totals.sort_values(by='count', ascending = False).reset_index(drop=True)"
   ]
  },
  {
   "cell_type": "code",
   "execution_count": 17,
   "id": "d0c513ff-580e-40b0-8830-b291706d66e2",
   "metadata": {},
   "outputs": [
    {
     "data": {
      "text/plain": [
       "technology    108\n",
       "science        67\n",
       "admin          58\n",
       "finance        34\n",
       "Name: category, dtype: int64"
      ]
     },
     "execution_count": 17,
     "metadata": {},
     "output_type": "execute_result"
    }
   ],
   "source": [
    "df_totals['category'].value_counts()"
   ]
  },
  {
   "cell_type": "markdown",
   "id": "0d404bad-70bf-4329-a214-81a23fd33035",
   "metadata": {},
   "source": [
    "The most common attributed category is technology."
   ]
  },
  {
   "cell_type": "code",
   "execution_count": 22,
   "id": "225d2633-d181-459e-90c7-e9c1267a5123",
   "metadata": {},
   "outputs": [
    {
     "data": {
      "text/plain": [
       "admin         5\n",
       "finance       5\n",
       "technology    4\n",
       "science       1\n",
       "Name: category, dtype: int64"
      ]
     },
     "execution_count": 22,
     "metadata": {},
     "output_type": "execute_result"
    }
   ],
   "source": [
    "df_totals['category'].head(15).value_counts()"
   ]
  },
  {
   "cell_type": "markdown",
   "id": "0216d543-8704-4828-8ab3-fd4f25a6216e",
   "metadata": {},
   "source": [
    "However out of the top 15, the narrative shifts, and admin/finance begin to take center field."
   ]
  }
 ],
 "metadata": {
  "kernelspec": {
   "display_name": "Python 3 (ipykernel)",
   "language": "python",
   "name": "python3"
  },
  "language_info": {
   "codemirror_mode": {
    "name": "ipython",
    "version": 3
   },
   "file_extension": ".py",
   "mimetype": "text/x-python",
   "name": "python",
   "nbconvert_exporter": "python",
   "pygments_lexer": "ipython3",
   "version": "3.9.7"
  }
 },
 "nbformat": 4,
 "nbformat_minor": 5
}
